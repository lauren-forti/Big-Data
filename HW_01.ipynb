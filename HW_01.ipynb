{
 "cells": [
  {
   "cell_type": "markdown",
   "metadata": {
    "application/vnd.databricks.v1+cell": {
     "cellMetadata": {},
     "inputWidgets": {},
     "nuid": "31d4756b-ced6-4495-b313-ac11bebd0ad6",
     "showTitle": false,
     "title": ""
    }
   },
   "source": [
    "# DSCI 417 – Homework 01\n",
    "\n",
    "**Lauren Forti**"
   ]
  },
  {
   "cell_type": "code",
   "execution_count": 0,
   "metadata": {
    "application/vnd.databricks.v1+cell": {
     "cellMetadata": {},
     "inputWidgets": {},
     "nuid": "c4d259f3-6ec5-48f4-8f9b-c654d6b5b579",
     "showTitle": false,
     "title": ""
    }
   },
   "outputs": [
    {
     "output_type": "display_data",
     "data": {
      "text/html": [
       "<style scoped>\n  .ansiout {\n    display: block;\n    unicode-bidi: embed;\n    white-space: pre-wrap;\n    word-wrap: break-word;\n    word-break: break-all;\n    font-family: \"Source Code Pro\", \"Menlo\", monospace;;\n    font-size: 13px;\n    color: #555;\n    margin-left: 4px;\n    line-height: 19px;\n  }\n</style>\n<div class=\"ansiout\"></div>"
      ]
     },
     "metadata": {
      "application/vnd.databricks.v1+output": {
       "addedWidgets": {},
       "arguments": {},
       "data": "<div class=\"ansiout\"></div>",
       "datasetInfos": [],
       "metadata": {},
       "removedWidgets": [],
       "type": "html"
      }
     },
     "output_type": "display_data"
    }
   ],
   "source": [
    "# imports\n",
    "import math\n",
    "from pyspark.sql import SparkSession\n",
    "from pyspark.mllib.random import RandomRDDs"
   ]
  },
  {
   "cell_type": "code",
   "execution_count": 0,
   "metadata": {
    "application/vnd.databricks.v1+cell": {
     "cellMetadata": {},
     "inputWidgets": {},
     "nuid": "5255e1ad-816d-4205-b773-a7599d93dff3",
     "showTitle": false,
     "title": ""
    }
   },
   "outputs": [
    {
     "output_type": "display_data",
     "data": {
      "text/html": [
       "<style scoped>\n  .ansiout {\n    display: block;\n    unicode-bidi: embed;\n    white-space: pre-wrap;\n    word-wrap: break-word;\n    word-break: break-all;\n    font-family: \"Source Code Pro\", \"Menlo\", monospace;;\n    font-size: 13px;\n    color: #555;\n    margin-left: 4px;\n    line-height: 19px;\n  }\n</style>\n<div class=\"ansiout\"></div>"
      ]
     },
     "metadata": {
      "application/vnd.databricks.v1+output": {
       "addedWidgets": {},
       "arguments": {},
       "data": "<div class=\"ansiout\"></div>",
       "datasetInfos": [],
       "metadata": {},
       "removedWidgets": [],
       "type": "html"
      }
     },
     "output_type": "display_data"
    }
   ],
   "source": [
    "# create objects\n",
    "spark = SparkSession.builder.getOrCreate()\n",
    "sc = spark.sparkContext"
   ]
  },
  {
   "cell_type": "markdown",
   "metadata": {
    "application/vnd.databricks.v1+cell": {
     "cellMetadata": {},
     "inputWidgets": {},
     "nuid": "fad43548-c122-4e0a-ac9a-17c1a5cd7bd5",
     "showTitle": false,
     "title": ""
    }
   },
   "source": [
    "## Problem 1: Terminology"
   ]
  },
  {
   "cell_type": "markdown",
   "metadata": {
    "application/vnd.databricks.v1+cell": {
     "cellMetadata": {},
     "inputWidgets": {},
     "nuid": "d213a9e0-3f3d-47e0-836a-fde475a6df11",
     "showTitle": false,
     "title": ""
    }
   },
   "source": [
    "1. Scala\n",
    "2. SparkSession\n",
    "3. SparkContext\n",
    "4. Resilient Distributed Dataset\n",
    "5. Partitions\n",
    "6. Transformation\n",
    "7. Action\n",
    "8. Transformation\n",
    "9. Action\n",
    "10. Transformation\n",
    "11. Action\n",
    "12. List\n",
    "13. Master node\n",
    "14. Workers\n",
    "15. Driver\n",
    "16. Executor"
   ]
  },
  {
   "cell_type": "markdown",
   "metadata": {
    "application/vnd.databricks.v1+cell": {
     "cellMetadata": {},
     "inputWidgets": {},
     "nuid": "c647ad45-0269-440f-bf98-05fa87ba6742",
     "showTitle": false,
     "title": ""
    }
   },
   "source": [
    "## Problem 2: Working with a Numerical RDD"
   ]
  },
  {
   "cell_type": "code",
   "execution_count": 0,
   "metadata": {
    "application/vnd.databricks.v1+cell": {
     "cellMetadata": {},
     "inputWidgets": {},
     "nuid": "89b272f1-39b3-469d-808a-eeb38dafc3c2",
     "showTitle": false,
     "title": ""
    }
   },
   "outputs": [
    {
     "output_type": "display_data",
     "data": {
      "text/html": [
       "<style scoped>\n  .ansiout {\n    display: block;\n    unicode-bidi: embed;\n    white-space: pre-wrap;\n    word-wrap: break-word;\n    word-break: break-all;\n    font-family: \"Source Code Pro\", \"Menlo\", monospace;;\n    font-size: 13px;\n    color: #555;\n    margin-left: 4px;\n    line-height: 19px;\n  }\n</style>\n<div class=\"ansiout\">Sum:      599731.0925959006\nMean:     0.4997759104965818\nStd Dev:  0.2887300658502359\nMinimum:  1.0351479373671424e-07\nMaximum:  0.9999990237273222\n</div>"
      ]
     },
     "metadata": {
      "application/vnd.databricks.v1+output": {
       "addedWidgets": {},
       "arguments": {},
       "data": "<div class=\"ansiout\">Sum:      599731.0925959006\nMean:     0.4997759104965818\nStd Dev:  0.2887300658502359\nMinimum:  1.0351479373671424e-07\nMaximum:  0.9999990237273222\n</div>",
       "datasetInfos": [],
       "metadata": {},
       "removedWidgets": [],
       "type": "html"
      }
     },
     "output_type": "display_data"
    }
   ],
   "source": [
    "# create RDD w/ 1.2 million elements selected from [0,1]\n",
    "random_rdd = RandomRDDs.uniformRDD(sc, size=1200000, seed=1)\n",
    "\n",
    "# get descriptive statistics\n",
    "print('Sum:     ', random_rdd.sum())\n",
    "print('Mean:    ', random_rdd.mean())\n",
    "print('Std Dev: ', random_rdd.stdev())\n",
    "print('Minimum: ', random_rdd.min())\n",
    "print('Maximum: ', random_rdd.max())"
   ]
  },
  {
   "cell_type": "code",
   "execution_count": 0,
   "metadata": {
    "application/vnd.databricks.v1+cell": {
     "cellMetadata": {},
     "inputWidgets": {},
     "nuid": "2057e34a-6b73-4942-85d0-1158a249b75e",
     "showTitle": false,
     "title": ""
    }
   },
   "outputs": [
    {
     "output_type": "display_data",
     "data": {
      "text/html": [
       "<style scoped>\n  .ansiout {\n    display: block;\n    unicode-bidi: embed;\n    white-space: pre-wrap;\n    word-wrap: break-word;\n    word-break: break-all;\n    font-family: \"Source Code Pro\", \"Menlo\", monospace;;\n    font-size: 13px;\n    color: #555;\n    margin-left: 4px;\n    line-height: 19px;\n  }\n</style>\n<div class=\"ansiout\">Number of Partitions:  8\nSize of Partitions:\n [150000, 150000, 150000, 150000, 150000, 150000, 150000, 150000]\n</div>"
      ]
     },
     "metadata": {
      "application/vnd.databricks.v1+output": {
       "addedWidgets": {},
       "arguments": {},
       "data": "<div class=\"ansiout\">Number of Partitions:  8\nSize of Partitions:\n [150000, 150000, 150000, 150000, 150000, 150000, 150000, 150000]\n</div>",
       "datasetInfos": [],
       "metadata": {},
       "removedWidgets": [],
       "type": "html"
      }
     },
     "output_type": "display_data"
    }
   ],
   "source": [
    "# determine the # of partitions\n",
    "partition_num = random_rdd.getNumPartitions()\n",
    "\n",
    "# create list w/ # of elements within each of the partitions\n",
    "partition_list = random_rdd.glom().map(len).collect()\n",
    "# output list\n",
    "print('Number of Partitions: ', partition_num)\n",
    "print('Size of Partitions:\\n', partition_list)"
   ]
  },
  {
   "cell_type": "markdown",
   "metadata": {
    "application/vnd.databricks.v1+cell": {
     "cellMetadata": {},
     "inputWidgets": {},
     "nuid": "f28f8bdf-b639-4e39-a3ae-ff99f445d03d",
     "showTitle": false,
     "title": ""
    }
   },
   "source": [
    "## Problem 3: Transformations"
   ]
  },
  {
   "cell_type": "code",
   "execution_count": 0,
   "metadata": {
    "application/vnd.databricks.v1+cell": {
     "cellMetadata": {},
     "inputWidgets": {},
     "nuid": "6ecdf753-e136-48d9-a4de-a818a6ade07c",
     "showTitle": false,
     "title": ""
    }
   },
   "outputs": [
    {
     "output_type": "display_data",
     "data": {
      "text/html": [
       "<style scoped>\n  .ansiout {\n    display: block;\n    unicode-bidi: embed;\n    white-space: pre-wrap;\n    word-wrap: break-word;\n    word-break: break-all;\n    font-family: \"Source Code Pro\", \"Menlo\", monospace;;\n    font-size: 13px;\n    color: #555;\n    margin-left: 4px;\n    line-height: 19px;\n  }\n</style>\n<div class=\"ansiout\">Sum:      5997310.925958995\nMean:     4.997759104965838\nStd Dev:  2.887300658502357\nMinimum:  1.0351479373671424e-06\nMaximum:  9.999990237273222\n</div>"
      ]
     },
     "metadata": {
      "application/vnd.databricks.v1+output": {
       "addedWidgets": {},
       "arguments": {},
       "data": "<div class=\"ansiout\">Sum:      5997310.925958995\nMean:     4.997759104965838\nStd Dev:  2.887300658502357\nMinimum:  1.0351479373671424e-06\nMaximum:  9.999990237273222\n</div>",
       "datasetInfos": [],
       "metadata": {},
       "removedWidgets": [],
       "type": "html"
      }
     },
     "output_type": "display_data"
    }
   ],
   "source": [
    "# scale random_rdd by 10\n",
    "scaled_rdd = random_rdd.map(lambda x : x*10)\n",
    "\n",
    "# get descriptive statistics\n",
    "print('Sum:     ', scaled_rdd.sum())\n",
    "print('Mean:    ', scaled_rdd.mean())\n",
    "print('Std Dev: ', scaled_rdd.stdev())\n",
    "print('Minimum: ', scaled_rdd.min())\n",
    "print('Maximum: ', scaled_rdd.max())"
   ]
  },
  {
   "cell_type": "code",
   "execution_count": 0,
   "metadata": {
    "application/vnd.databricks.v1+cell": {
     "cellMetadata": {},
     "inputWidgets": {},
     "nuid": "ab111bfd-3e4e-4dc7-a8d5-d7e2312a45ad",
     "showTitle": false,
     "title": ""
    }
   },
   "outputs": [
    {
     "output_type": "display_data",
     "data": {
      "text/html": [
       "<style scoped>\n  .ansiout {\n    display: block;\n    unicode-bidi: embed;\n    white-space: pre-wrap;\n    word-wrap: break-word;\n    word-break: break-all;\n    font-family: \"Source Code Pro\", \"Menlo\", monospace;;\n    font-size: 13px;\n    color: #555;\n    margin-left: 4px;\n    line-height: 19px;\n  }\n</style>\n<div class=\"ansiout\">Sum:      1561638.08183098\nMean:     1.3013650681924729\nStd Dev:  1.0021344727804842\nMinimum:  -13.780966206806882\nMaximum:  2.302584116720891\n</div>"
      ]
     },
     "metadata": {
      "application/vnd.databricks.v1+output": {
       "addedWidgets": {},
       "arguments": {},
       "data": "<div class=\"ansiout\">Sum:      1561638.08183098\nMean:     1.3013650681924729\nStd Dev:  1.0021344727804842\nMinimum:  -13.780966206806882\nMaximum:  2.302584116720891\n</div>",
       "datasetInfos": [],
       "metadata": {},
       "removedWidgets": [],
       "type": "html"
      }
     },
     "output_type": "display_data"
    }
   ],
   "source": [
    "# take the ln of each element\n",
    "log_rdd = scaled_rdd.map(lambda x : math.log(x))\n",
    "\n",
    "# get descriptive statistics\n",
    "print('Sum:     ', log_rdd.sum())\n",
    "print('Mean:    ', log_rdd.mean())\n",
    "print('Std Dev: ', log_rdd.stdev())\n",
    "print('Minimum: ', log_rdd.min())\n",
    "print('Maximum: ', log_rdd.max())"
   ]
  },
  {
   "cell_type": "markdown",
   "metadata": {
    "application/vnd.databricks.v1+cell": {
     "cellMetadata": {},
     "inputWidgets": {},
     "nuid": "ceb1c2ad-5ace-4b6e-82e6-00e8388538f3",
     "showTitle": false,
     "title": ""
    }
   },
   "source": [
    "## Problem 4: Calculating SSE"
   ]
  },
  {
   "cell_type": "code",
   "execution_count": 0,
   "metadata": {
    "application/vnd.databricks.v1+cell": {
     "cellMetadata": {},
     "inputWidgets": {},
     "nuid": "c9f8d4e0-3293-459a-b2b7-8b9cc1db3ebc",
     "showTitle": false,
     "title": ""
    }
   },
   "outputs": [
    {
     "output_type": "display_data",
     "data": {
      "text/html": [
       "<style scoped>\n  .ansiout {\n    display: block;\n    unicode-bidi: embed;\n    white-space: pre-wrap;\n    word-wrap: break-word;\n    word-break: break-all;\n    font-family: \"Source Code Pro\", \"Menlo\", monospace;;\n    font-size: 13px;\n    color: #555;\n    margin-left: 4px;\n    line-height: 19px;\n  }\n</style>\n<div class=\"ansiout\">12743548\n</div>"
      ]
     },
     "metadata": {
      "application/vnd.databricks.v1+output": {
       "addedWidgets": {},
       "arguments": {},
       "data": "<div class=\"ansiout\">12743548\n</div>",
       "datasetInfos": [],
       "metadata": {},
       "removedWidgets": [],
       "type": "html"
      }
     },
     "output_type": "display_data"
    }
   ],
   "source": [
    "# read data file into RDD\n",
    "pairs_raw = sc.textFile('/FileStore/tables/pairs_data.txt')\n",
    "# get # of elements\n",
    "print(pairs_raw.count())"
   ]
  },
  {
   "cell_type": "code",
   "execution_count": 0,
   "metadata": {
    "application/vnd.databricks.v1+cell": {
     "cellMetadata": {},
     "inputWidgets": {},
     "nuid": "e1379fef-6faf-4d22-a3a6-98d0c75fabc8",
     "showTitle": false,
     "title": ""
    }
   },
   "outputs": [
    {
     "output_type": "display_data",
     "data": {
      "text/html": [
       "<style scoped>\n  .ansiout {\n    display: block;\n    unicode-bidi: embed;\n    white-space: pre-wrap;\n    word-wrap: break-word;\n    word-break: break-all;\n    font-family: \"Source Code Pro\", \"Menlo\", monospace;;\n    font-size: 13px;\n    color: #555;\n    margin-left: 4px;\n    line-height: 19px;\n  }\n</style>\n<div class=\"ansiout\">12.3 12.1\n9.1 8.7\n9.3 9.9\n8.5 8.5\n11.2 10.8\n</div>"
      ]
     },
     "metadata": {
      "application/vnd.databricks.v1+output": {
       "addedWidgets": {},
       "arguments": {},
       "data": "<div class=\"ansiout\">12.3 12.1\n9.1 8.7\n9.3 9.9\n8.5 8.5\n11.2 10.8\n</div>",
       "datasetInfos": [],
       "metadata": {},
       "removedWidgets": [],
       "type": "html"
      }
     },
     "output_type": "display_data"
    }
   ],
   "source": [
    "# display first 5 elements\n",
    "for row in pairs_raw.take(5):\n",
    "  print(row)"
   ]
  },
  {
   "cell_type": "code",
   "execution_count": 0,
   "metadata": {
    "application/vnd.databricks.v1+cell": {
     "cellMetadata": {},
     "inputWidgets": {},
     "nuid": "9843ad86-785d-4949-8adb-127f7d4eb40a",
     "showTitle": false,
     "title": ""
    }
   },
   "outputs": [
    {
     "output_type": "display_data",
     "data": {
      "text/html": [
       "<style scoped>\n  .ansiout {\n    display: block;\n    unicode-bidi: embed;\n    white-space: pre-wrap;\n    word-wrap: break-word;\n    word-break: break-all;\n    font-family: \"Source Code Pro\", \"Menlo\", monospace;;\n    font-size: 13px;\n    color: #555;\n    margin-left: 4px;\n    line-height: 19px;\n  }\n</style>\n<div class=\"ansiout\">(12.3, 12.1)\n(9.1, 8.7)\n(9.3, 9.9)\n(8.5, 8.5)\n(11.2, 10.8)\n</div>"
      ]
     },
     "metadata": {
      "application/vnd.databricks.v1+output": {
       "addedWidgets": {},
       "arguments": {},
       "data": "<div class=\"ansiout\">(12.3, 12.1)\n(9.1, 8.7)\n(9.3, 9.9)\n(8.5, 8.5)\n(11.2, 10.8)\n</div>",
       "datasetInfos": [],
       "metadata": {},
       "removedWidgets": [],
       "type": "html"
      }
     },
     "output_type": "display_data"
    }
   ],
   "source": [
    "# function to split strings into float tuples\n",
    "def process_line(row):\n",
    "  items = row.split(' ')\n",
    "  return(float(items[0]), float(items[1]))\n",
    "\n",
    "# call process_line\n",
    "pairs = pairs_raw.map(process_line)\n",
    "\n",
    "# print first 5 elements\n",
    "for row in pairs.take(5):\n",
    "  print(row)"
   ]
  },
  {
   "cell_type": "code",
   "execution_count": 0,
   "metadata": {
    "application/vnd.databricks.v1+cell": {
     "cellMetadata": {},
     "inputWidgets": {},
     "nuid": "9fbc5b19-4c1c-44b9-b56b-05cd159e0aa3",
     "showTitle": false,
     "title": ""
    }
   },
   "outputs": [
    {
     "output_type": "display_data",
     "data": {
      "text/html": [
       "<style scoped>\n  .ansiout {\n    display: block;\n    unicode-bidi: embed;\n    white-space: pre-wrap;\n    word-wrap: break-word;\n    word-break: break-all;\n    font-family: \"Source Code Pro\", \"Menlo\", monospace;;\n    font-size: 13px;\n    color: #555;\n    margin-left: 4px;\n    line-height: 19px;\n  }\n</style>\n<div class=\"ansiout\">The value of SSE is 4597380.190042952\n</div>"
      ]
     },
     "metadata": {
      "application/vnd.databricks.v1+output": {
       "addedWidgets": {},
       "arguments": {},
       "data": "<div class=\"ansiout\">The value of SSE is 4597380.190042952\n</div>",
       "datasetInfos": [],
       "metadata": {},
       "removedWidgets": [],
       "type": "html"
      }
     },
     "output_type": "display_data"
    }
   ],
   "source": [
    "# calc SSE\n",
    "SSE = pairs.map(lambda x : (x[0] - x[1])**2).sum()\n",
    "#output results\n",
    "print(f'The value of SSE is {SSE}')"
   ]
  },
  {
   "cell_type": "markdown",
   "metadata": {
    "application/vnd.databricks.v1+cell": {
     "cellMetadata": {},
     "inputWidgets": {},
     "nuid": "56a720cd-50db-4346-b1db-dfd693c1a67c",
     "showTitle": false,
     "title": ""
    }
   },
   "source": [
    "## Problem 5: Calculating r-Squared"
   ]
  },
  {
   "cell_type": "code",
   "execution_count": 0,
   "metadata": {
    "application/vnd.databricks.v1+cell": {
     "cellMetadata": {},
     "inputWidgets": {},
     "nuid": "128de438-28ca-4e08-ba16-a8a61b20947d",
     "showTitle": false,
     "title": ""
    }
   },
   "outputs": [
    {
     "output_type": "display_data",
     "data": {
      "text/html": [
       "<style scoped>\n  .ansiout {\n    display: block;\n    unicode-bidi: embed;\n    white-space: pre-wrap;\n    word-wrap: break-word;\n    word-break: break-all;\n    font-family: \"Source Code Pro\", \"Menlo\", monospace;;\n    font-size: 13px;\n    color: #555;\n    margin-left: 4px;\n    line-height: 19px;\n  }\n</style>\n<div class=\"ansiout\">The mean is 10.00013136059118\n</div>"
      ]
     },
     "metadata": {
      "application/vnd.databricks.v1+output": {
       "addedWidgets": {},
       "arguments": {},
       "data": "<div class=\"ansiout\">The mean is 10.00013136059118\n</div>",
       "datasetInfos": [],
       "metadata": {},
       "removedWidgets": [],
       "type": "html"
      }
     },
     "output_type": "display_data"
    }
   ],
   "source": [
    "# get the mean of the first element in each tuple\n",
    "mean = pairs.map(lambda x : x[0]).mean()\n",
    "# output results\n",
    "print(f'The mean is {mean}')"
   ]
  },
  {
   "cell_type": "code",
   "execution_count": 0,
   "metadata": {
    "application/vnd.databricks.v1+cell": {
     "cellMetadata": {},
     "inputWidgets": {},
     "nuid": "707e637c-3878-4524-a263-e2645a7de9d0",
     "showTitle": false,
     "title": ""
    }
   },
   "outputs": [
    {
     "output_type": "display_data",
     "data": {
      "text/html": [
       "<style scoped>\n  .ansiout {\n    display: block;\n    unicode-bidi: embed;\n    white-space: pre-wrap;\n    word-wrap: break-word;\n    word-break: break-all;\n    font-family: \"Source Code Pro\", \"Menlo\", monospace;;\n    font-size: 13px;\n    color: #555;\n    margin-left: 4px;\n    line-height: 19px;\n  }\n</style>\n<div class=\"ansiout\">The value of SST is 24980514.859974924\n</div>"
      ]
     },
     "metadata": {
      "application/vnd.databricks.v1+output": {
       "addedWidgets": {},
       "arguments": {},
       "data": "<div class=\"ansiout\">The value of SST is 24980514.859974924\n</div>",
       "datasetInfos": [],
       "metadata": {},
       "removedWidgets": [],
       "type": "html"
      }
     },
     "output_type": "display_data"
    }
   ],
   "source": [
    "# calc SST\n",
    "SST = pairs.map(lambda x: (x[0] - mean)**2).sum()\n",
    "# output results\n",
    "print(f'The value of SST is {SST}')"
   ]
  },
  {
   "cell_type": "code",
   "execution_count": 0,
   "metadata": {
    "application/vnd.databricks.v1+cell": {
     "cellMetadata": {},
     "inputWidgets": {},
     "nuid": "b21f8850-6abe-4e61-9619-ccde00d540c3",
     "showTitle": false,
     "title": ""
    }
   },
   "outputs": [
    {
     "output_type": "display_data",
     "data": {
      "text/html": [
       "<style scoped>\n  .ansiout {\n    display: block;\n    unicode-bidi: embed;\n    white-space: pre-wrap;\n    word-wrap: break-word;\n    word-break: break-all;\n    font-family: \"Source Code Pro\", \"Menlo\", monospace;;\n    font-size: 13px;\n    color: #555;\n    margin-left: 4px;\n    line-height: 19px;\n  }\n</style>\n<div class=\"ansiout\">The r-Squared score is 0.815961351644953\n</div>"
      ]
     },
     "metadata": {
      "application/vnd.databricks.v1+output": {
       "addedWidgets": {},
       "arguments": {},
       "data": "<div class=\"ansiout\">The r-Squared score is 0.815961351644953\n</div>",
       "datasetInfos": [],
       "metadata": {},
       "removedWidgets": [],
       "type": "html"
      }
     },
     "output_type": "display_data"
    }
   ],
   "source": [
    "# calc r-squared score\n",
    "r2 = 1 - SSE/SST\n",
    "# output results\n",
    "print(f'The r-Squared score is {r2}')"
   ]
  },
  {
   "cell_type": "markdown",
   "metadata": {
    "application/vnd.databricks.v1+cell": {
     "cellMetadata": {},
     "inputWidgets": {},
     "nuid": "8baff59c-9cf5-4f7c-9c09-ec4d76a2bdc3",
     "showTitle": false,
     "title": ""
    }
   },
   "source": [
    "## Problem 6: NASA Server Logs"
   ]
  },
  {
   "cell_type": "code",
   "execution_count": 0,
   "metadata": {
    "application/vnd.databricks.v1+cell": {
     "cellMetadata": {},
     "inputWidgets": {},
     "nuid": "9652e078-193d-439c-a43d-a072d2558ee6",
     "showTitle": false,
     "title": ""
    }
   },
   "outputs": [
    {
     "output_type": "display_data",
     "data": {
      "text/html": [
       "<style scoped>\n  .ansiout {\n    display: block;\n    unicode-bidi: embed;\n    white-space: pre-wrap;\n    word-wrap: break-word;\n    word-break: break-all;\n    font-family: \"Source Code Pro\", \"Menlo\", monospace;;\n    font-size: 13px;\n    color: #555;\n    margin-left: 4px;\n    line-height: 19px;\n  }\n</style>\n<div class=\"ansiout\">1569888\n</div>"
      ]
     },
     "metadata": {
      "application/vnd.databricks.v1+output": {
       "addedWidgets": {},
       "arguments": {},
       "data": "<div class=\"ansiout\">1569888\n</div>",
       "datasetInfos": [],
       "metadata": {},
       "removedWidgets": [],
       "type": "html"
      }
     },
     "output_type": "display_data"
    }
   ],
   "source": [
    "# read data file into RDD\n",
    "nasa = sc.textFile('/FileStore/tables/NASA_server_logs_Aug_1995.txt')\n",
    "print(nasa.count())"
   ]
  },
  {
   "cell_type": "code",
   "execution_count": 0,
   "metadata": {
    "application/vnd.databricks.v1+cell": {
     "cellMetadata": {},
     "inputWidgets": {},
     "nuid": "ff5c66d8-dba1-41ce-859e-1ff7a625fad8",
     "showTitle": false,
     "title": ""
    }
   },
   "outputs": [
    {
     "output_type": "display_data",
     "data": {
      "text/html": [
       "<style scoped>\n  .ansiout {\n    display: block;\n    unicode-bidi: embed;\n    white-space: pre-wrap;\n    word-wrap: break-word;\n    word-break: break-all;\n    font-family: \"Source Code Pro\", \"Menlo\", monospace;;\n    font-size: 13px;\n    color: #555;\n    margin-left: 4px;\n    line-height: 19px;\n  }\n</style>\n<div class=\"ansiout\">in24.inetnebr.com [01/Aug/1995:00:00:01] &#34;GET /shuttle/missions/sts-68/news/sts-68-mcc-05.txt&#34; 200 1839\nuplherc.upl.com [01/Aug/1995:00:00:07] &#34;GET /&#34; 304 0\nuplherc.upl.com [01/Aug/1995:00:00:08] &#34;GET /images/ksclogo-medium.gif&#34; 304 0\nuplherc.upl.com [01/Aug/1995:00:00:08] &#34;GET /images/MOSAIC-logosmall.gif&#34; 304 0\nuplherc.upl.com [01/Aug/1995:00:00:08] &#34;GET /images/USA-logosmall.gif&#34; 304 0\n</div>"
      ]
     },
     "metadata": {
      "application/vnd.databricks.v1+output": {
       "addedWidgets": {},
       "arguments": {},
       "data": "<div class=\"ansiout\">in24.inetnebr.com [01/Aug/1995:00:00:01] &#34;GET /shuttle/missions/sts-68/news/sts-68-mcc-05.txt&#34; 200 1839\nuplherc.upl.com [01/Aug/1995:00:00:07] &#34;GET /&#34; 304 0\nuplherc.upl.com [01/Aug/1995:00:00:08] &#34;GET /images/ksclogo-medium.gif&#34; 304 0\nuplherc.upl.com [01/Aug/1995:00:00:08] &#34;GET /images/MOSAIC-logosmall.gif&#34; 304 0\nuplherc.upl.com [01/Aug/1995:00:00:08] &#34;GET /images/USA-logosmall.gif&#34; 304 0\n</div>",
       "datasetInfos": [],
       "metadata": {},
       "removedWidgets": [],
       "type": "html"
      }
     },
     "output_type": "display_data"
    }
   ],
   "source": [
    "# display first 5 elements\n",
    "for row in nasa.take(5):\n",
    "  print(row)"
   ]
  },
  {
   "cell_type": "code",
   "execution_count": 0,
   "metadata": {
    "application/vnd.databricks.v1+cell": {
     "cellMetadata": {},
     "inputWidgets": {},
     "nuid": "045e2a84-280f-45c2-af98-c511f8749279",
     "showTitle": false,
     "title": ""
    }
   },
   "outputs": [
    {
     "output_type": "display_data",
     "data": {
      "text/html": [
       "<style scoped>\n  .ansiout {\n    display: block;\n    unicode-bidi: embed;\n    white-space: pre-wrap;\n    word-wrap: break-word;\n    word-break: break-all;\n    font-family: \"Source Code Pro\", \"Menlo\", monospace;;\n    font-size: 13px;\n    color: #555;\n    margin-left: 4px;\n    line-height: 19px;\n  }\n</style>\n<div class=\"ansiout\">Number of GET requests:  1565812\nNumber of POST requests: 111\nNumber of HEAD requests: 3965\n</div>"
      ]
     },
     "metadata": {
      "application/vnd.databricks.v1+output": {
       "addedWidgets": {},
       "arguments": {},
       "data": "<div class=\"ansiout\">Number of GET requests:  1565812\nNumber of POST requests: 111\nNumber of HEAD requests: 3965\n</div>",
       "datasetInfos": [],
       "metadata": {},
       "removedWidgets": [],
       "type": "html"
      }
     },
     "output_type": "display_data"
    }
   ],
   "source": [
    "# convert each line to Boolean value if contains specific string and count\n",
    "num_get = nasa.map(lambda x: 'GET' in x).sum()\n",
    "num_post = nasa.map(lambda x: 'POST' in x).sum()\n",
    "num_head = nasa.map(lambda x: 'HEAD' in x).sum()\n",
    "\n",
    "# output results\n",
    "print(f'Number of GET requests:  {num_get}')\n",
    "print(f'Number of POST requests: {num_post}')\n",
    "print(f'Number of HEAD requests: {num_head}')"
   ]
  }
 ],
 "metadata": {
  "application/vnd.databricks.v1+notebook": {
   "dashboards": [],
   "language": "python",
   "notebookMetadata": {
    "pythonIndentUnit": 2
   },
   "notebookName": "HW_01",
   "notebookOrigID": 183957464224169,
   "widgets": {}
  }
 },
 "nbformat": 4,
 "nbformat_minor": 0
}
