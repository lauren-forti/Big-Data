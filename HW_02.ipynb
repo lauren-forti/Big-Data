{
 "cells": [
  {
   "cell_type": "markdown",
   "metadata": {
    "application/vnd.databricks.v1+cell": {
     "cellMetadata": {},
     "inputWidgets": {},
     "nuid": "9670a657-bf43-448f-b4a2-2fdbca7c30de",
     "showTitle": false,
     "title": ""
    }
   },
   "source": [
    "# DSCI 417 – Homework 02\n",
    "\n",
    "**Lauren Forti**"
   ]
  },
  {
   "cell_type": "code",
   "execution_count": 0,
   "metadata": {
    "application/vnd.databricks.v1+cell": {
     "cellMetadata": {},
     "inputWidgets": {},
     "nuid": "6efd37ba-8c8d-440b-8316-4fe505359f56",
     "showTitle": false,
     "title": ""
    }
   },
   "outputs": [
    {
     "output_type": "display_data",
     "data": {
      "text/html": [
       "<style scoped>\n  .ansiout {\n    display: block;\n    unicode-bidi: embed;\n    white-space: pre-wrap;\n    word-wrap: break-word;\n    word-break: break-all;\n    font-family: \"Source Code Pro\", \"Menlo\", monospace;;\n    font-size: 13px;\n    color: #555;\n    margin-left: 4px;\n    line-height: 19px;\n  }\n</style>\n<div class=\"ansiout\"></div>"
      ]
     },
     "metadata": {
      "application/vnd.databricks.v1+output": {
       "addedWidgets": {},
       "arguments": {},
       "data": "<div class=\"ansiout\"></div>",
       "datasetInfos": [],
       "metadata": {},
       "removedWidgets": [],
       "type": "html"
      }
     },
     "output_type": "display_data"
    }
   ],
   "source": [
    "# imports\n",
    "import pandas as pd\n",
    "from string import punctuation\n",
    "from pyspark.sql import SparkSession"
   ]
  },
  {
   "cell_type": "code",
   "execution_count": 0,
   "metadata": {
    "application/vnd.databricks.v1+cell": {
     "cellMetadata": {},
     "inputWidgets": {},
     "nuid": "45bd636f-d093-4689-9f6b-edf25e9cfcf2",
     "showTitle": false,
     "title": ""
    }
   },
   "outputs": [
    {
     "output_type": "display_data",
     "data": {
      "text/html": [
       "<style scoped>\n  .ansiout {\n    display: block;\n    unicode-bidi: embed;\n    white-space: pre-wrap;\n    word-wrap: break-word;\n    word-break: break-all;\n    font-family: \"Source Code Pro\", \"Menlo\", monospace;;\n    font-size: 13px;\n    color: #555;\n    margin-left: 4px;\n    line-height: 19px;\n  }\n</style>\n<div class=\"ansiout\"></div>"
      ]
     },
     "metadata": {
      "application/vnd.databricks.v1+output": {
       "addedWidgets": {},
       "arguments": {},
       "data": "<div class=\"ansiout\"></div>",
       "datasetInfos": [],
       "metadata": {},
       "removedWidgets": [],
       "type": "html"
      }
     },
     "output_type": "display_data"
    }
   ],
   "source": [
    "# create objects\n",
    "spark = SparkSession.builder.getOrCreate()\n",
    "sc = spark.sparkContext"
   ]
  },
  {
   "cell_type": "markdown",
   "metadata": {
    "application/vnd.databricks.v1+cell": {
     "cellMetadata": {},
     "inputWidgets": {},
     "nuid": "9e02a2b8-a944-4282-8faf-bdcdabaf0a5d",
     "showTitle": false,
     "title": ""
    }
   },
   "source": [
    "## Problem 1: Word Count"
   ]
  },
  {
   "cell_type": "code",
   "execution_count": 0,
   "metadata": {
    "application/vnd.databricks.v1+cell": {
     "cellMetadata": {},
     "inputWidgets": {},
     "nuid": "d02dbe99-8667-4b23-9541-bf3dfb7431ef",
     "showTitle": false,
     "title": ""
    }
   },
   "outputs": [
    {
     "output_type": "display_data",
     "data": {
      "text/html": [
       "<style scoped>\n  .ansiout {\n    display: block;\n    unicode-bidi: embed;\n    white-space: pre-wrap;\n    word-wrap: break-word;\n    word-break: break-all;\n    font-family: \"Source Code Pro\", \"Menlo\", monospace;;\n    font-size: 13px;\n    color: #555;\n    margin-left: 4px;\n    line-height: 19px;\n  }\n</style>\n<div class=\"ansiout\">Total Number of Words:    887279\nNumber of Distinct Words: 25362\n</div>"
      ]
     },
     "metadata": {
      "application/vnd.databricks.v1+output": {
       "addedWidgets": {},
       "arguments": {},
       "data": "<div class=\"ansiout\">Total Number of Words:    887279\nNumber of Distinct Words: 25362\n</div>",
       "datasetInfos": [],
       "metadata": {},
       "removedWidgets": [],
       "type": "html"
      }
     },
     "output_type": "display_data"
    }
   ],
   "source": [
    "# read in dataset as RDD\n",
    "ws_lines = sc.textFile('/FileStore/tables/shakespeare_complete.txt')\n",
    "\n",
    "# tokenize strings\n",
    "ws_words = (\n",
    "  ws_lines\n",
    "  # remove misc characters\n",
    "  .flatMap(lambda x : x.split(' '))\n",
    "  .flatMap(lambda x : x.split('-'))\n",
    "  .flatMap(lambda x : x.split('_'))\n",
    "  .flatMap(lambda x : x.split('.'))\n",
    "  .flatMap(lambda x : x.split(','))\n",
    "  .flatMap(lambda x : x.split(':'))\n",
    "  .flatMap(lambda x : x.split('|'))\n",
    "  .flatMap(lambda x : x.split('\\t'))\n",
    "  # remove punctuation\n",
    "  .map(lambda x : x.strip(punctuation))\n",
    "  # remove 0-9\n",
    "  .map(lambda x: x.strip('0123456789'))\n",
    "  # remove apostrophes\n",
    "  .map(lambda x : x.replace(\"'\", ''))\n",
    "  # convert to lowercase\n",
    "  .map(lambda x : x.lower())\n",
    "  # filter out empty strings\n",
    "  .filter(lambda x : x != '')\n",
    ")\n",
    "\n",
    "# create RDD with each word\n",
    "dist_words = ws_words.distinct()\n",
    "\n",
    "# output # of words\n",
    "print('Total Number of Words:   ', ws_words.count())\n",
    "print('Number of Distinct Words:', dist_words.count())"
   ]
  },
  {
   "cell_type": "code",
   "execution_count": 0,
   "metadata": {
    "application/vnd.databricks.v1+cell": {
     "cellMetadata": {},
     "inputWidgets": {},
     "nuid": "fe50e52b-4fda-4b8a-bede-b632931413c5",
     "showTitle": false,
     "title": ""
    }
   },
   "outputs": [
    {
     "output_type": "display_data",
     "data": {
      "text/html": [
       "<style scoped>\n  .ansiout {\n    display: block;\n    unicode-bidi: embed;\n    white-space: pre-wrap;\n    word-wrap: break-word;\n    word-break: break-all;\n    font-family: \"Source Code Pro\", \"Menlo\", monospace;;\n    font-size: 13px;\n    color: #555;\n    margin-left: 4px;\n    line-height: 19px;\n  }\n</style>\n<div class=\"ansiout\">[&#39;that&#39;, &#39;wrong&#39;, &#39;love&#39;, &#39;need&#39;, &#39;o&#39;, &#39;while&#39;, &#39;love&#39;, &#39;for&#39;, &#39;labour&#39;, &#39;into&#39;, &#39;coriolanus&#39;, &#39;report&#39;, &#39;for&#39;, &#39;side&#39;, &#39;treason&#39;, &#39;again&#39;, &#39;modesty&#39;, &#39;as&#39;, &#39;he&#39;, &#39;to&#39;, &#39;me&#39;, &#39;grooms&#39;, &#39;to&#39;, &#39;or&#39;, &#39;part&#39;, &#39;forcd&#39;, &#39;his&#39;, &#39;a&#39;, &#39;brought&#39;, &#39;cromwell&#39;, &#39;discontents&#39;, &#39;you&#39;, &#39;company&#39;, &#39;lovers&#39;, &#39;macbeth&#39;, &#39;them&#39;, &#39;exposure&#39;, &#39;carried&#39;, &#39;go&#39;, &#39;could&#39;, &#39;of&#39;, &#39;within&#39;, &#39;a&#39;, &#39;his&#39;, &#39;to&#39;, &#39;claudio&#39;, &#39;will&#39;, &#39;be&#39;, &#39;breed&#39;, &#39;his&#39;, &#39;no&#39;, &#39;i&#39;, &#39;forget&#39;, &#39;leisure&#39;, &#39;fool&#39;, &#39;frost&#39;, &#39;a&#39;, &#39;madonna&#39;, &#39;he&#39;, &#39;but&#39;, &#39;them&#39;, &#39;pity&#39;, &#39;leontes&#39;, &#39;give&#39;, &#39;what&#39;]\n</div>"
      ]
     },
     "metadata": {
      "application/vnd.databricks.v1+output": {
       "addedWidgets": {},
       "arguments": {},
       "data": "<div class=\"ansiout\">[&#39;that&#39;, &#39;wrong&#39;, &#39;love&#39;, &#39;need&#39;, &#39;o&#39;, &#39;while&#39;, &#39;love&#39;, &#39;for&#39;, &#39;labour&#39;, &#39;into&#39;, &#39;coriolanus&#39;, &#39;report&#39;, &#39;for&#39;, &#39;side&#39;, &#39;treason&#39;, &#39;again&#39;, &#39;modesty&#39;, &#39;as&#39;, &#39;he&#39;, &#39;to&#39;, &#39;me&#39;, &#39;grooms&#39;, &#39;to&#39;, &#39;or&#39;, &#39;part&#39;, &#39;forcd&#39;, &#39;his&#39;, &#39;a&#39;, &#39;brought&#39;, &#39;cromwell&#39;, &#39;discontents&#39;, &#39;you&#39;, &#39;company&#39;, &#39;lovers&#39;, &#39;macbeth&#39;, &#39;them&#39;, &#39;exposure&#39;, &#39;carried&#39;, &#39;go&#39;, &#39;could&#39;, &#39;of&#39;, &#39;within&#39;, &#39;a&#39;, &#39;his&#39;, &#39;to&#39;, &#39;claudio&#39;, &#39;will&#39;, &#39;be&#39;, &#39;breed&#39;, &#39;his&#39;, &#39;no&#39;, &#39;i&#39;, &#39;forget&#39;, &#39;leisure&#39;, &#39;fool&#39;, &#39;frost&#39;, &#39;a&#39;, &#39;madonna&#39;, &#39;he&#39;, &#39;but&#39;, &#39;them&#39;, &#39;pity&#39;, &#39;leontes&#39;, &#39;give&#39;, &#39;what&#39;]\n</div>",
       "datasetInfos": [],
       "metadata": {},
       "removedWidgets": [],
       "type": "html"
      }
     },
     "output_type": "display_data"
    }
   ],
   "source": [
    "# draw a sample\n",
    "ws_sample = ws_words.sample(withReplacement = False, fraction = 0.0001)\n",
    "# collect and output results\n",
    "print(ws_sample.collect())"
   ]
  },
  {
   "cell_type": "markdown",
   "metadata": {
    "application/vnd.databricks.v1+cell": {
     "cellMetadata": {},
     "inputWidgets": {},
     "nuid": "8c669b59-8eca-428a-9491-acdf06171aeb",
     "showTitle": false,
     "title": ""
    }
   },
   "source": [
    "## Problem 2: Longest Words"
   ]
  },
  {
   "cell_type": "code",
   "execution_count": 0,
   "metadata": {
    "application/vnd.databricks.v1+cell": {
     "cellMetadata": {},
     "inputWidgets": {},
     "nuid": "c7d001da-0941-476f-bb4b-8e1ba0cbb842",
     "showTitle": false,
     "title": ""
    }
   },
   "outputs": [
    {
     "output_type": "display_data",
     "data": {
      "text/html": [
       "<style scoped>\n  .ansiout {\n    display: block;\n    unicode-bidi: embed;\n    white-space: pre-wrap;\n    word-wrap: break-word;\n    word-break: break-all;\n    font-family: \"Source Code Pro\", \"Menlo\", monospace;;\n    font-size: 13px;\n    color: #555;\n    margin-left: 4px;\n    line-height: 19px;\n  }\n</style>\n<div class=\"ansiout\">The longest word is honorificabilitudinitatibus\n</div>"
      ]
     },
     "metadata": {
      "application/vnd.databricks.v1+output": {
       "addedWidgets": {},
       "arguments": {},
       "data": "<div class=\"ansiout\">The longest word is honorificabilitudinitatibus\n</div>",
       "datasetInfos": [],
       "metadata": {},
       "removedWidgets": [],
       "type": "html"
      }
     },
     "output_type": "display_data"
    }
   ],
   "source": [
    "# compare lengths of strings\n",
    "def compare_str(x,y):\n",
    "  if len(x) > len(y):\n",
    "    return x\n",
    "  elif len(x) < len(y):\n",
    "    return y\n",
    "  else:\n",
    "    if x > y:\n",
    "      return x\n",
    "    else:\n",
    "      return y\n",
    "\n",
    "# find longest word\n",
    "print('The longest word is', dist_words.reduce(compare_str))"
   ]
  },
  {
   "cell_type": "code",
   "execution_count": 0,
   "metadata": {
    "application/vnd.databricks.v1+cell": {
     "cellMetadata": {},
     "inputWidgets": {},
     "nuid": "438d65a1-c4e5-4c80-bacc-155729cfbfa4",
     "showTitle": false,
     "title": ""
    }
   },
   "outputs": [
    {
     "output_type": "display_data",
     "data": {
      "text/html": [
       "<style scoped>\n  .ansiout {\n    display: block;\n    unicode-bidi: embed;\n    white-space: pre-wrap;\n    word-wrap: break-word;\n    word-break: break-all;\n    font-family: \"Source Code Pro\", \"Menlo\", monospace;;\n    font-size: 13px;\n    color: #555;\n    margin-left: 4px;\n    line-height: 19px;\n  }\n</style>\n<div class=\"ansiout\">1. honorificabilitudinitatibus\n2. anthropophaginian\n3. undistinguishable\n4. indistinguishable\n5. northamptonshire\n6. superserviceable\n7. incomprehensible\n8. prognostication\n9. unreconciliable\n10. interrogatories\n11. gioucestershire\n12. extraordinarily\n13. particularities\n14. praeclarissimus\n15. impossibilities\n16. misconstruction\n17. flibbertigibbet\n18. circumscription\n19. disproportioned\n20. uncomprehensive\n</div>"
      ]
     },
     "metadata": {
      "application/vnd.databricks.v1+output": {
       "addedWidgets": {},
       "arguments": {},
       "data": "<div class=\"ansiout\">1. honorificabilitudinitatibus\n2. anthropophaginian\n3. undistinguishable\n4. indistinguishable\n5. northamptonshire\n6. superserviceable\n7. incomprehensible\n8. prognostication\n9. unreconciliable\n10. interrogatories\n11. gioucestershire\n12. extraordinarily\n13. particularities\n14. praeclarissimus\n15. impossibilities\n16. misconstruction\n17. flibbertigibbet\n18. circumscription\n19. disproportioned\n20. uncomprehensive\n</div>",
       "datasetInfos": [],
       "metadata": {},
       "removedWidgets": [],
       "type": "html"
      }
     },
     "output_type": "display_data"
    }
   ],
   "source": [
    "# find top 20 longest words\n",
    "longest = dist_words.sortBy(len, ascending = False)\n",
    "\n",
    "# output first 20 elements\n",
    "n = 0\n",
    "for row in longest.take(20):\n",
    "  n += 1\n",
    "  print(str(n)+'.', row)"
   ]
  },
  {
   "cell_type": "markdown",
   "metadata": {
    "application/vnd.databricks.v1+cell": {
     "cellMetadata": {},
     "inputWidgets": {},
     "nuid": "3de95524-271a-4615-9294-7e7044463df3",
     "showTitle": false,
     "title": ""
    }
   },
   "source": [
    "## Problem 3: Word Frequency"
   ]
  },
  {
   "cell_type": "code",
   "execution_count": 0,
   "metadata": {
    "application/vnd.databricks.v1+cell": {
     "cellMetadata": {},
     "inputWidgets": {},
     "nuid": "5a9b66ab-be0b-4b54-b290-0803bd179a32",
     "showTitle": false,
     "title": ""
    }
   },
   "outputs": [
    {
     "output_type": "display_data",
     "data": {
      "text/html": [
       "<style scoped>\n  .table-result-container {\n    max-height: 300px;\n    overflow: auto;\n  }\n  table, th, td {\n    border: 1px solid black;\n    border-collapse: collapse;\n  }\n  th, td {\n    padding: 5px;\n  }\n  th {\n    text-align: left;\n  }\n</style><div class='table-result-container'><table class='table-result'><thead style='background-color: white'><tr><th>Word</th><th>Count</th></tr></thead><tbody><tr><td>the</td><td>27379</td></tr><tr><td>and</td><td>26082</td></tr><tr><td>i</td><td>20717</td></tr><tr><td>to</td><td>19661</td></tr><tr><td>of</td><td>17474</td></tr><tr><td>a</td><td>14723</td></tr><tr><td>you</td><td>13630</td></tr><tr><td>my</td><td>12489</td></tr><tr><td>in</td><td>10996</td></tr><tr><td>that</td><td>10915</td></tr><tr><td>is</td><td>9137</td></tr><tr><td>not</td><td>8512</td></tr><tr><td>with</td><td>7778</td></tr><tr><td>me</td><td>7776</td></tr><tr><td>it</td><td>7692</td></tr><tr><td>for</td><td>7578</td></tr><tr><td>be</td><td>6867</td></tr><tr><td>his</td><td>6859</td></tr><tr><td>your</td><td>6658</td></tr><tr><td>this</td><td>6606</td></tr></tbody></table></div>"
      ]
     },
     "metadata": {
      "application/vnd.databricks.v1+output": {
       "addedWidgets": {},
       "aggData": [],
       "aggError": "",
       "aggOverflow": false,
       "aggSchema": [],
       "aggSeriesLimitReached": false,
       "aggType": "",
       "arguments": {},
       "columnCustomDisplayInfos": {},
       "data": [
        [
         "the",
         27379
        ],
        [
         "and",
         26082
        ],
        [
         "i",
         20717
        ],
        [
         "to",
         19661
        ],
        [
         "of",
         17474
        ],
        [
         "a",
         14723
        ],
        [
         "you",
         13630
        ],
        [
         "my",
         12489
        ],
        [
         "in",
         10996
        ],
        [
         "that",
         10915
        ],
        [
         "is",
         9137
        ],
        [
         "not",
         8512
        ],
        [
         "with",
         7778
        ],
        [
         "me",
         7776
        ],
        [
         "it",
         7692
        ],
        [
         "for",
         7578
        ],
        [
         "be",
         6867
        ],
        [
         "his",
         6859
        ],
        [
         "your",
         6658
        ],
        [
         "this",
         6606
        ]
       ],
       "datasetInfos": [],
       "dbfsResultPath": null,
       "isJsonSchema": true,
       "metadata": {},
       "overflow": false,
       "plotOptions": {
        "customPlotOptions": {},
        "displayType": "table",
        "pivotAggregation": null,
        "pivotColumns": null,
        "xColumns": null,
        "yColumns": null
       },
       "removedWidgets": [],
       "schema": [
        {
         "metadata": "{}",
         "name": "Word",
         "type": "\"string\""
        },
        {
         "metadata": "{}",
         "name": "Count",
         "type": "\"long\""
        }
       ],
       "type": "table"
      }
     },
     "output_type": "display_data"
    }
   ],
   "source": [
    "# create an RDD of tuples\n",
    "pairs = (\n",
    "  ws_words\n",
    "  .map(lambda x : (x,1))\n",
    ")\n",
    "\n",
    "# create an RDD of word and count pairs\n",
    "word_counts = (\n",
    "  pairs\n",
    "  # get count for each word\n",
    "  .reduceByKey(lambda x,y : x+y)\n",
    "  # sort by desc count\n",
    "  .sortBy(lambda x : x[1], ascending = False)\n",
    ")\n",
    "\n",
    "# make list of first 20 elements\n",
    "word_list = list(word_counts.take(20))\n",
    "\n",
    "# convert to df\n",
    "word_df = pd.DataFrame(\n",
    "  data = word_list,\n",
    "  columns = ['Word', 'Count']\n",
    ")\n",
    "# show df\n",
    "display(word_df)"
   ]
  },
  {
   "cell_type": "markdown",
   "metadata": {
    "application/vnd.databricks.v1+cell": {
     "cellMetadata": {},
     "inputWidgets": {},
     "nuid": "988db3c4-b86a-4f5b-b761-2b86123391f1",
     "showTitle": false,
     "title": ""
    }
   },
   "source": [
    "##Problem 4: Removing Stop Words"
   ]
  },
  {
   "cell_type": "code",
   "execution_count": 0,
   "metadata": {
    "application/vnd.databricks.v1+cell": {
     "cellMetadata": {},
     "inputWidgets": {},
     "nuid": "eec1bae9-ff72-4e95-8c70-4818e232feb0",
     "showTitle": false,
     "title": ""
    }
   },
   "outputs": [
    {
     "output_type": "display_data",
     "data": {
      "text/html": [
       "<style scoped>\n  .ansiout {\n    display: block;\n    unicode-bidi: embed;\n    white-space: pre-wrap;\n    word-wrap: break-word;\n    word-break: break-all;\n    font-family: \"Source Code Pro\", \"Menlo\", monospace;;\n    font-size: 13px;\n    color: #555;\n    margin-left: 4px;\n    line-height: 19px;\n  }\n</style>\n<div class=\"ansiout\">668\n[&#39;adj&#39;, &#39;also&#39;, &#39;are&#39;, &#39;as&#39;, &#39;away&#39;, &#39;both&#39;, &#39;contains&#39;, &#34;doesn&#39;t&#34;, &#39;either&#39;, &#39;else&#39;, &#39;end&#39;, &#39;except&#39;, &#39;gone&#39;, &#39;hed&#39;, &#39;her&#39;, &#39;herself&#39;, &#39;instead&#39;, &#39;inward&#39;, &#39;it&#39;, &#34;it&#39;ll&#34;, &#39;know&#39;, &#39;omitted&#39;, &#39;one&#39;, &#39;otherwise&#39;, &#39;overall&#39;, &#39;same&#39;, &#39;similar&#39;, &#39;someone&#39;, &#39;therefore&#39;, &#39;unless&#39;, &#39;usefully&#39;, &#39;usually&#39;, &#39;viz&#39;, &#39;whomever&#39;, &#39;within&#39;, &#39;www&#39;, &#39;zero&#39;]\n</div>"
      ]
     },
     "metadata": {
      "application/vnd.databricks.v1+output": {
       "addedWidgets": {},
       "arguments": {},
       "data": "<div class=\"ansiout\">668\n[&#39;adj&#39;, &#39;also&#39;, &#39;are&#39;, &#39;as&#39;, &#39;away&#39;, &#39;both&#39;, &#39;contains&#39;, &#34;doesn&#39;t&#34;, &#39;either&#39;, &#39;else&#39;, &#39;end&#39;, &#39;except&#39;, &#39;gone&#39;, &#39;hed&#39;, &#39;her&#39;, &#39;herself&#39;, &#39;instead&#39;, &#39;inward&#39;, &#39;it&#39;, &#34;it&#39;ll&#34;, &#39;know&#39;, &#39;omitted&#39;, &#39;one&#39;, &#39;otherwise&#39;, &#39;overall&#39;, &#39;same&#39;, &#39;similar&#39;, &#39;someone&#39;, &#39;therefore&#39;, &#39;unless&#39;, &#39;usefully&#39;, &#39;usually&#39;, &#39;viz&#39;, &#39;whomever&#39;, &#39;within&#39;, &#39;www&#39;, &#39;zero&#39;]\n</div>",
       "datasetInfos": [],
       "metadata": {},
       "removedWidgets": [],
       "type": "html"
      }
     },
     "output_type": "display_data"
    }
   ],
   "source": [
    "# read in data as RDD\n",
    "sw_rdd = sc.textFile('/FileStore/tables/stopwords.txt')\n",
    "\n",
    "# print # of elements\n",
    "print(sw_rdd.count())\n",
    "\n",
    "# draw a sample and output\n",
    "print(sw_rdd.sample(withReplacement = False, fraction = 0.05).collect())\n",
    "\n",
    "# store contents in list\n",
    "sw = list(sw_rdd.collect())"
   ]
  },
  {
   "cell_type": "code",
   "execution_count": 0,
   "metadata": {
    "application/vnd.databricks.v1+cell": {
     "cellMetadata": {},
     "inputWidgets": {},
     "nuid": "e33981f9-50f6-4dd7-87b3-2d3189c74e7e",
     "showTitle": false,
     "title": ""
    }
   },
   "outputs": [
    {
     "output_type": "display_data",
     "data": {
      "text/html": [
       "<style scoped>\n  .ansiout {\n    display: block;\n    unicode-bidi: embed;\n    white-space: pre-wrap;\n    word-wrap: break-word;\n    word-break: break-all;\n    font-family: \"Source Code Pro\", \"Menlo\", monospace;;\n    font-size: 13px;\n    color: #555;\n    margin-left: 4px;\n    line-height: 19px;\n  }\n</style>\n<div class=\"ansiout\">Number of Distinct Non-Stop Words: 24840\n</div>"
      ]
     },
     "metadata": {
      "application/vnd.databricks.v1+output": {
       "addedWidgets": {},
       "arguments": {},
       "data": "<div class=\"ansiout\">Number of Distinct Non-Stop Words: 24840\n</div>",
       "datasetInfos": [],
       "metadata": {},
       "removedWidgets": [],
       "type": "html"
      }
     },
     "output_type": "display_data"
    }
   ],
   "source": [
    "# create RDD w/ stop words removed\n",
    "ws_words_f = (\n",
    "  ws_words\n",
    "  .filter(lambda x : x not in sw)\n",
    ")\n",
    "\n",
    "# create RDD w/ distinct elements\n",
    "dist_words_f = (\n",
    "  ws_words_f.distinct()\n",
    ")\n",
    "\n",
    "# print # of distinct non-stop words\n",
    "print('Number of Distinct Non-Stop Words:', dist_words_f.count())"
   ]
  },
  {
   "cell_type": "code",
   "execution_count": 0,
   "metadata": {
    "application/vnd.databricks.v1+cell": {
     "cellMetadata": {},
     "inputWidgets": {},
     "nuid": "84540fd4-720e-4225-924e-76dc53f5bc31",
     "showTitle": false,
     "title": ""
    }
   },
   "outputs": [
    {
     "output_type": "display_data",
     "data": {
      "text/html": [
       "<style scoped>\n  .table-result-container {\n    max-height: 300px;\n    overflow: auto;\n  }\n  table, th, td {\n    border: 1px solid black;\n    border-collapse: collapse;\n  }\n  th, td {\n    padding: 5px;\n  }\n  th {\n    text-align: left;\n  }\n</style><div class='table-result-container'><table class='table-result'><thead style='background-color: white'><tr><th>Word</th><th>Count</th></tr></thead><tbody><tr><td>will</td><td>4977</td></tr><tr><td>thy</td><td>4034</td></tr><tr><td>thee</td><td>3180</td></tr><tr><td>lord</td><td>3062</td></tr><tr><td>king</td><td>2871</td></tr><tr><td>good</td><td>2834</td></tr><tr><td>sir</td><td>2763</td></tr><tr><td>well</td><td>2553</td></tr><tr><td>enter</td><td>2350</td></tr><tr><td>love</td><td>2109</td></tr><tr><td>ill</td><td>2024</td></tr><tr><td>hath</td><td>1942</td></tr><tr><td>man</td><td>1876</td></tr><tr><td>tis</td><td>1408</td></tr><tr><td>speak</td><td>1169</td></tr><tr><td>mine</td><td>1165</td></tr><tr><td>time</td><td>1074</td></tr><tr><td>duke</td><td>1071</td></tr><tr><td>exeunt</td><td>1035</td></tr><tr><td>heart</td><td>1012</td></tr></tbody></table></div>"
      ]
     },
     "metadata": {
      "application/vnd.databricks.v1+output": {
       "addedWidgets": {},
       "aggData": [],
       "aggError": "",
       "aggOverflow": false,
       "aggSchema": [],
       "aggSeriesLimitReached": false,
       "aggType": "",
       "arguments": {},
       "columnCustomDisplayInfos": {},
       "data": [
        [
         "will",
         4977
        ],
        [
         "thy",
         4034
        ],
        [
         "thee",
         3180
        ],
        [
         "lord",
         3062
        ],
        [
         "king",
         2871
        ],
        [
         "good",
         2834
        ],
        [
         "sir",
         2763
        ],
        [
         "well",
         2553
        ],
        [
         "enter",
         2350
        ],
        [
         "love",
         2109
        ],
        [
         "ill",
         2024
        ],
        [
         "hath",
         1942
        ],
        [
         "man",
         1876
        ],
        [
         "tis",
         1408
        ],
        [
         "speak",
         1169
        ],
        [
         "mine",
         1165
        ],
        [
         "time",
         1074
        ],
        [
         "duke",
         1071
        ],
        [
         "exeunt",
         1035
        ],
        [
         "heart",
         1012
        ]
       ],
       "datasetInfos": [],
       "dbfsResultPath": null,
       "isJsonSchema": true,
       "metadata": {},
       "overflow": false,
       "plotOptions": {
        "customPlotOptions": {},
        "displayType": "table",
        "pivotAggregation": null,
        "pivotColumns": null,
        "xColumns": null,
        "yColumns": null
       },
       "removedWidgets": [],
       "schema": [
        {
         "metadata": "{}",
         "name": "Word",
         "type": "\"string\""
        },
        {
         "metadata": "{}",
         "name": "Count",
         "type": "\"long\""
        }
       ],
       "type": "table"
      }
     },
     "output_type": "display_data"
    }
   ],
   "source": [
    "# create an RDD of tuples\n",
    "pairs_f = (\n",
    "  ws_words_f\n",
    "  .map(lambda x : (x,1))\n",
    ")\n",
    "\n",
    "# create an RDD of word and count pairs\n",
    "word_counts_f = (\n",
    "  pairs_f\n",
    "  # get count for each word\n",
    "  .reduceByKey(lambda x,y : x+y)\n",
    "  # sort by desc count\n",
    "  .sortBy(lambda x : x[1], ascending = False)\n",
    ")\n",
    "\n",
    "# make list of first 20 elements\n",
    "word_list_f = list(word_counts_f.take(20))\n",
    "\n",
    "# convert to df\n",
    "word_f_df = pd.DataFrame(\n",
    "  data = word_list_f,\n",
    "  columns = ['Word', 'Count']\n",
    ")\n",
    "# show df\n",
    "display(word_f_df)"
   ]
  },
  {
   "cell_type": "markdown",
   "metadata": {
    "application/vnd.databricks.v1+cell": {
     "cellMetadata": {},
     "inputWidgets": {},
     "nuid": "241c42ff-e91b-4322-9d96-1fdc79243416",
     "showTitle": false,
     "title": ""
    }
   },
   "source": [
    "## Problem 5: Diamonds Dataset"
   ]
  },
  {
   "cell_type": "code",
   "execution_count": 0,
   "metadata": {
    "application/vnd.databricks.v1+cell": {
     "cellMetadata": {},
     "inputWidgets": {},
     "nuid": "83d31fe4-ba88-4ffc-81aa-88e65884f4d3",
     "showTitle": false,
     "title": ""
    }
   },
   "outputs": [
    {
     "output_type": "display_data",
     "data": {
      "text/html": [
       "<style scoped>\n  .ansiout {\n    display: block;\n    unicode-bidi: embed;\n    white-space: pre-wrap;\n    word-wrap: break-word;\n    word-break: break-all;\n    font-family: \"Source Code Pro\", \"Menlo\", monospace;;\n    font-size: 13px;\n    color: #555;\n    margin-left: 4px;\n    line-height: 19px;\n  }\n</style>\n<div class=\"ansiout\">53941\n</div>"
      ]
     },
     "metadata": {
      "application/vnd.databricks.v1+output": {
       "addedWidgets": {},
       "arguments": {},
       "data": "<div class=\"ansiout\">53941\n</div>",
       "datasetInfos": [],
       "metadata": {},
       "removedWidgets": [],
       "type": "html"
      }
     },
     "output_type": "display_data"
    }
   ],
   "source": [
    "# read in data as RDD\n",
    "diamonds_raw = sc.textFile('/FileStore/tables/diamonds.txt')\n",
    "\n",
    "# print # of elements\n",
    "print(diamonds_raw.count())"
   ]
  },
  {
   "cell_type": "code",
   "execution_count": 0,
   "metadata": {
    "application/vnd.databricks.v1+cell": {
     "cellMetadata": {},
     "inputWidgets": {},
     "nuid": "3558e8d2-eeaa-4af0-a8a2-4907eb1e25e6",
     "showTitle": false,
     "title": ""
    }
   },
   "outputs": [
    {
     "output_type": "display_data",
     "data": {
      "text/html": [
       "<style scoped>\n  .ansiout {\n    display: block;\n    unicode-bidi: embed;\n    white-space: pre-wrap;\n    word-wrap: break-word;\n    word-break: break-all;\n    font-family: \"Source Code Pro\", \"Menlo\", monospace;;\n    font-size: 13px;\n    color: #555;\n    margin-left: 4px;\n    line-height: 19px;\n  }\n</style>\n<div class=\"ansiout\">carat\tcut\tcolor\tclarity\tdepth\ttable\tprice\tx\ty\tz\n0.23\tIdeal\tE\tSI2\t61.5\t55\t326\t3.95\t3.98\t2.43\n0.21\tPremium\tE\tSI1\t59.8\t61\t326\t3.89\t3.84\t2.31\n0.23\tGood\tE\tVS1\t56.9\t65\t327\t4.05\t4.07\t2.31\n0.29\tPremium\tI\tVS2\t62.4\t58\t334\t4.2\t4.23\t2.63\n</div>"
      ]
     },
     "metadata": {
      "application/vnd.databricks.v1+output": {
       "addedWidgets": {},
       "arguments": {},
       "data": "<div class=\"ansiout\">carat\tcut\tcolor\tclarity\tdepth\ttable\tprice\tx\ty\tz\n0.23\tIdeal\tE\tSI2\t61.5\t55\t326\t3.95\t3.98\t2.43\n0.21\tPremium\tE\tSI1\t59.8\t61\t326\t3.89\t3.84\t2.31\n0.23\tGood\tE\tVS1\t56.9\t65\t327\t4.05\t4.07\t2.31\n0.29\tPremium\tI\tVS2\t62.4\t58\t334\t4.2\t4.23\t2.63\n</div>",
       "datasetInfos": [],
       "metadata": {},
       "removedWidgets": [],
       "type": "html"
      }
     },
     "output_type": "display_data"
    }
   ],
   "source": [
    "# show first 5 elements\n",
    "for row in diamonds_raw.take(5):\n",
    "  print(row)"
   ]
  },
  {
   "cell_type": "code",
   "execution_count": 0,
   "metadata": {
    "application/vnd.databricks.v1+cell": {
     "cellMetadata": {},
     "inputWidgets": {},
     "nuid": "ca398065-da0f-4166-8a2e-d35271168804",
     "showTitle": false,
     "title": ""
    }
   },
   "outputs": [
    {
     "output_type": "display_data",
     "data": {
      "text/html": [
       "<style scoped>\n  .ansiout {\n    display: block;\n    unicode-bidi: embed;\n    white-space: pre-wrap;\n    word-wrap: break-word;\n    word-break: break-all;\n    font-family: \"Source Code Pro\", \"Menlo\", monospace;;\n    font-size: 13px;\n    color: #555;\n    margin-left: 4px;\n    line-height: 19px;\n  }\n</style>\n<div class=\"ansiout\">[0.23, &#39;Ideal&#39;, &#39;E&#39;, &#39;SI2&#39;, 61.5, 55.0, 326, 3.95, 3.98, 2.43]\n[0.21, &#39;Premium&#39;, &#39;E&#39;, &#39;SI1&#39;, 59.8, 61.0, 326, 3.89, 3.84, 2.31]\n[0.23, &#39;Good&#39;, &#39;E&#39;, &#39;VS1&#39;, 56.9, 65.0, 327, 4.05, 4.07, 2.31]\n[0.29, &#39;Premium&#39;, &#39;I&#39;, &#39;VS2&#39;, 62.4, 58.0, 334, 4.2, 4.23, 2.63]\n[0.31, &#39;Good&#39;, &#39;J&#39;, &#39;SI2&#39;, 63.3, 58.0, 335, 4.34, 4.35, 2.75]\n</div>"
      ]
     },
     "metadata": {
      "application/vnd.databricks.v1+output": {
       "addedWidgets": {},
       "arguments": {},
       "data": "<div class=\"ansiout\">[0.23, &#39;Ideal&#39;, &#39;E&#39;, &#39;SI2&#39;, 61.5, 55.0, 326, 3.95, 3.98, 2.43]\n[0.21, &#39;Premium&#39;, &#39;E&#39;, &#39;SI1&#39;, 59.8, 61.0, 326, 3.89, 3.84, 2.31]\n[0.23, &#39;Good&#39;, &#39;E&#39;, &#39;VS1&#39;, 56.9, 65.0, 327, 4.05, 4.07, 2.31]\n[0.29, &#39;Premium&#39;, &#39;I&#39;, &#39;VS2&#39;, 62.4, 58.0, 334, 4.2, 4.23, 2.63]\n[0.31, &#39;Good&#39;, &#39;J&#39;, &#39;SI2&#39;, 63.3, 58.0, 335, 4.34, 4.35, 2.75]\n</div>",
       "datasetInfos": [],
       "metadata": {},
       "removedWidgets": [],
       "type": "html"
      }
     },
     "output_type": "display_data"
    }
   ],
   "source": [
    "# tokenize rows\n",
    "def process_row(row):\n",
    "  tokens = row.split('\\t')\n",
    "  return [float(tokens[0]), tokens[1], tokens[2], tokens[3], float(tokens[4]), float(tokens[5]), int(tokens[6]), float(tokens[7]), float(tokens[8]), float(tokens[9])]\n",
    "\n",
    "# get header info\n",
    "header = diamonds_raw.take(1)[0]\n",
    "\n",
    "# process each row\n",
    "diamonds = (\n",
    "  diamonds_raw\n",
    "  # remove header row\n",
    "  .filter(lambda x : x not in header)\n",
    "  # process each element\n",
    "  .map(process_row)\n",
    ")\n",
    "\n",
    "diamonds.persist()\n",
    "\n",
    "# output first 5 rows\n",
    "for row in diamonds.take(5):\n",
    "  print(row)"
   ]
  },
  {
   "cell_type": "markdown",
   "metadata": {
    "application/vnd.databricks.v1+cell": {
     "cellMetadata": {},
     "inputWidgets": {},
     "nuid": "17111f11-a0b3-44d3-b48d-9dd50c48a74d",
     "showTitle": false,
     "title": ""
    }
   },
   "source": [
    "## Problem 6: Grouped Means"
   ]
  },
  {
   "cell_type": "code",
   "execution_count": 0,
   "metadata": {
    "application/vnd.databricks.v1+cell": {
     "cellMetadata": {},
     "inputWidgets": {},
     "nuid": "43adf40f-48a6-4a5a-810f-832aa7774af6",
     "showTitle": false,
     "title": ""
    }
   },
   "outputs": [
    {
     "output_type": "display_data",
     "data": {
      "text/html": [
       "<style scoped>\n  .table-result-container {\n    max-height: 300px;\n    overflow: auto;\n  }\n  table, th, td {\n    border: 1px solid black;\n    border-collapse: collapse;\n  }\n  th, td {\n    padding: 5px;\n  }\n  th {\n    text-align: left;\n  }\n</style><div class='table-result-container'><table class='table-result'><thead style='background-color: white'><tr><th>Cut</th><th>Count</th><th>Mean_Carat</th><th>Mean_Price</th></tr></thead><tbody><tr><td>Premium</td><td>13791</td><td>0.89</td><td>4584.26</td></tr><tr><td>Good</td><td>4906</td><td>0.85</td><td>3928.86</td></tr><tr><td>Very Good</td><td>12082</td><td>0.81</td><td>3981.76</td></tr><tr><td>Fair</td><td>1610</td><td>1.05</td><td>4358.76</td></tr><tr><td>Ideal</td><td>21551</td><td>0.7</td><td>3457.54</td></tr></tbody></table></div>"
      ]
     },
     "metadata": {
      "application/vnd.databricks.v1+output": {
       "addedWidgets": {},
       "aggData": [],
       "aggError": "",
       "aggOverflow": false,
       "aggSchema": [],
       "aggSeriesLimitReached": false,
       "aggType": "",
       "arguments": {},
       "columnCustomDisplayInfos": {},
       "data": [
        [
         "Premium",
         13791,
         0.89,
         4584.26
        ],
        [
         "Good",
         4906,
         0.85,
         3928.86
        ],
        [
         "Very Good",
         12082,
         0.81,
         3981.76
        ],
        [
         "Fair",
         1610,
         1.05,
         4358.76
        ],
        [
         "Ideal",
         21551,
         0.7,
         3457.54
        ]
       ],
       "datasetInfos": [],
       "dbfsResultPath": null,
       "isJsonSchema": true,
       "metadata": {},
       "overflow": false,
       "plotOptions": {
        "customPlotOptions": {},
        "displayType": "table",
        "pivotAggregation": null,
        "pivotColumns": null,
        "xColumns": null,
        "yColumns": null
       },
       "removedWidgets": [],
       "schema": [
        {
         "metadata": "{}",
         "name": "Cut",
         "type": "\"string\""
        },
        {
         "metadata": "{}",
         "name": "Count",
         "type": "\"long\""
        },
        {
         "metadata": "{}",
         "name": "Mean_Carat",
         "type": "\"double\""
        },
        {
         "metadata": "{}",
         "name": "Mean_Price",
         "type": "\"double\""
        }
       ],
       "type": "table"
      }
     },
     "output_type": "display_data"
    }
   ],
   "source": [
    "cut_summary = (\n",
    "  diamonds\n",
    "  # transform -> (cut, (carat, price, 1))\n",
    "  .map(lambda x : (x[1], (x[0], x[6], 1)))\n",
    "  # sum of tuples (carat, price, 1)\n",
    "  .reduceByKey(lambda x,y : (x[0] + y[0], x[1] + y[1], x[2] + y[2]))\n",
    "  # transform -> (cut, count, mean_carat_size, mean_price)\n",
    "  .map(lambda x : (x[0], x[1][2], round(x[1][0]/x[1][2], 2), round(x[1][1]/x[1][2], 2)))\n",
    ")\n",
    "# create list\n",
    "cut_summary2 = cut_summary.collect()\n",
    "\n",
    "# convert to df\n",
    "cut_df = pd.DataFrame(\n",
    "  data = cut_summary2,\n",
    "  columns = ['Cut', 'Count', 'Mean_Carat', 'Mean_Price']\n",
    ")\n",
    "# show df\n",
    "display(cut_df)"
   ]
  }
 ],
 "metadata": {
  "application/vnd.databricks.v1+notebook": {
   "dashboards": [],
   "language": "python",
   "notebookMetadata": {
    "pythonIndentUnit": 2
   },
   "notebookName": "HW_02",
   "notebookOrigID": 36987674711800,
   "widgets": {}
  }
 },
 "nbformat": 4,
 "nbformat_minor": 0
}
