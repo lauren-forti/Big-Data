{
 "cells": [
  {
   "cell_type": "markdown",
   "metadata": {
    "application/vnd.databricks.v1+cell": {
     "cellMetadata": {},
     "inputWidgets": {},
     "nuid": "f9bfaaa4-9146-40e3-8ba1-a77e4e5eb469",
     "showTitle": false,
     "title": ""
    }
   },
   "source": [
    "#  DSCI 417 – Homework 08\n",
    "**Lauren Forti**"
   ]
  },
  {
   "cell_type": "code",
   "execution_count": 0,
   "metadata": {
    "application/vnd.databricks.v1+cell": {
     "cellMetadata": {},
     "inputWidgets": {},
     "nuid": "c2762578-d625-4b9e-be66-c7342ee35cfe",
     "showTitle": false,
     "title": ""
    }
   },
   "outputs": [
    {
     "output_type": "display_data",
     "data": {
      "text/html": [
       "<style scoped>\n  .ansiout {\n    display: block;\n    unicode-bidi: embed;\n    white-space: pre-wrap;\n    word-wrap: break-word;\n    word-break: break-all;\n    font-family: \"Source Code Pro\", \"Menlo\", monospace;;\n    font-size: 13px;\n    color: #555;\n    margin-left: 4px;\n    line-height: 19px;\n  }\n</style>\n<div class=\"ansiout\"></div>"
      ]
     },
     "metadata": {
      "application/vnd.databricks.v1+output": {
       "addedWidgets": {},
       "arguments": {},
       "data": "<div class=\"ansiout\"></div>",
       "datasetInfos": [],
       "metadata": {},
       "removedWidgets": [],
       "type": "html"
      }
     },
     "output_type": "display_data"
    }
   ],
   "source": [
    "# setup\n",
    "from pyspark.sql import SparkSession\n",
    "from pyspark.sql.functions import col, expr\n",
    "\n",
    "spark = SparkSession.builder.getOrCreate()"
   ]
  },
  {
   "cell_type": "markdown",
   "metadata": {
    "application/vnd.databricks.v1+cell": {
     "cellMetadata": {},
     "inputWidgets": {},
     "nuid": "064a2ffb-466e-44eb-9c6c-f352ed84318f",
     "showTitle": false,
     "title": ""
    }
   },
   "source": [
    "## Problem 1: Creating Streaming DataFrame"
   ]
  },
  {
   "cell_type": "code",
   "execution_count": 0,
   "metadata": {
    "application/vnd.databricks.v1+cell": {
     "cellMetadata": {},
     "inputWidgets": {},
     "nuid": "8694afcb-a65a-4e91-93c4-f5167552168e",
     "showTitle": false,
     "title": ""
    }
   },
   "outputs": [
    {
     "output_type": "display_data",
     "data": {
      "text/html": [
       "<style scoped>\n  .ansiout {\n    display: block;\n    unicode-bidi: embed;\n    white-space: pre-wrap;\n    word-wrap: break-word;\n    word-break: break-all;\n    font-family: \"Source Code Pro\", \"Menlo\", monospace;;\n    font-size: 13px;\n    color: #555;\n    margin-left: 4px;\n    line-height: 19px;\n  }\n</style>\n<div class=\"ansiout\">+----+--------+--------+-----------+-------------+--------------+-----------+--------------+--------------+\nstep|type    |amount  |nameOrig   |oldbalanceOrg|newbalanceOrig|nameDest   |oldbalanceDest|newbalanceDest|\n+----+--------+--------+-----------+-------------+--------------+-----------+--------------+--------------+\n1   |PAYMENT |9839.64 |C1231006815|170136.0     |160296.36     |M1979787155|0.0           |0.0           |\n1   |PAYMENT |1864.28 |C1666544295|21249.0      |19384.72      |M2044282225|0.0           |0.0           |\n1   |TRANSFER|181.0   |C1305486145|181.0        |0.0           |C553264065 |0.0           |0.0           |\n1   |CASH_OUT|181.0   |C840083671 |181.0        |0.0           |C38997010  |21182.0       |0.0           |\n1   |PAYMENT |11668.14|C2048537720|41554.0      |29885.86      |M1230701703|0.0           |0.0           |\n+----+--------+--------+-----------+-------------+--------------+-----------+--------------+--------------+\nonly showing top 5 rows\n\n</div>"
      ]
     },
     "metadata": {
      "application/vnd.databricks.v1+output": {
       "addedWidgets": {},
       "arguments": {},
       "data": "<div class=\"ansiout\">+----+--------+--------+-----------+-------------+--------------+-----------+--------------+--------------+\n|step|type    |amount  |nameOrig   |oldbalanceOrg|newbalanceOrig|nameDest   |oldbalanceDest|newbalanceDest|\n+----+--------+--------+-----------+-------------+--------------+-----------+--------------+--------------+\n|1   |PAYMENT |9839.64 |C1231006815|170136.0     |160296.36     |M1979787155|0.0           |0.0           |\n|1   |PAYMENT |1864.28 |C1666544295|21249.0      |19384.72      |M2044282225|0.0           |0.0           |\n|1   |TRANSFER|181.0   |C1305486145|181.0        |0.0           |C553264065 |0.0           |0.0           |\n|1   |CASH_OUT|181.0   |C840083671 |181.0        |0.0           |C38997010  |21182.0       |0.0           |\n|1   |PAYMENT |11668.14|C2048537720|41554.0      |29885.86      |M1230701703|0.0           |0.0           |\n+----+--------+--------+-----------+-------------+--------------+-----------+--------------+--------------+\nonly showing top 5 rows\n\n</div>",
       "datasetInfos": [],
       "metadata": {},
       "removedWidgets": [],
       "type": "html"
      }
     },
     "output_type": "display_data"
    }
   ],
   "source": [
    "# read file into static df\n",
    "ps = (\n",
    "    spark.read\n",
    "    .option('delimiter', ',')\n",
    "    .option('header', True)\n",
    "    .option('inferSchema', True)\n",
    "    .csv('/FileStore/tables/paysim/step_001.csv')\n",
    ")\n",
    "\n",
    "# store schema\n",
    "ps_schema = ps.schema\n",
    "\n",
    "# show df\n",
    "ps.show(5, truncate=False)"
   ]
  },
  {
   "cell_type": "code",
   "execution_count": 0,
   "metadata": {
    "application/vnd.databricks.v1+cell": {
     "cellMetadata": {},
     "inputWidgets": {},
     "nuid": "93d145e2-2561-4dc1-a018-62f5486ef3f8",
     "showTitle": false,
     "title": ""
    }
   },
   "outputs": [
    {
     "output_type": "display_data",
     "data": {
      "text/html": [
       "<style scoped>\n  .ansiout {\n    display: block;\n    unicode-bidi: embed;\n    white-space: pre-wrap;\n    word-wrap: break-word;\n    word-break: break-all;\n    font-family: \"Source Code Pro\", \"Menlo\", monospace;;\n    font-size: 13px;\n    color: #555;\n    margin-left: 4px;\n    line-height: 19px;\n  }\n</style>\n<div class=\"ansiout\">True\n</div>"
      ]
     },
     "metadata": {
      "application/vnd.databricks.v1+output": {
       "addedWidgets": {},
       "arguments": {},
       "data": "<div class=\"ansiout\">True\n</div>",
       "datasetInfos": [],
       "metadata": {},
       "removedWidgets": [],
       "type": "html"
      }
     },
     "output_type": "display_data"
    }
   ],
   "source": [
    "# read file into streaming df\n",
    "paysim_stream = (\n",
    "  spark.readStream\n",
    "  .option('header', True)\n",
    "  .option('delimiter', ',')\n",
    "  .option('maxFilesPerTrigger', 1)\n",
    "  .schema(ps_schema)\n",
    "  .csv('/FileStore/tables/paysim/')\n",
    ")\n",
    "\n",
    "print(paysim_stream.isStreaming)"
   ]
  },
  {
   "cell_type": "markdown",
   "metadata": {
    "application/vnd.databricks.v1+cell": {
     "cellMetadata": {},
     "inputWidgets": {},
     "nuid": "f2eabaca-1472-408e-8454-0df31825c86e",
     "showTitle": false,
     "title": ""
    }
   },
   "source": [
    "## Problem 2: Apply Transformations"
   ]
  },
  {
   "cell_type": "code",
   "execution_count": 0,
   "metadata": {
    "application/vnd.databricks.v1+cell": {
     "cellMetadata": {},
     "inputWidgets": {},
     "nuid": "64c7a511-761b-4bc5-9b71-2ddf83050530",
     "showTitle": false,
     "title": ""
    }
   },
   "outputs": [
    {
     "output_type": "display_data",
     "data": {
      "text/html": [
       "<style scoped>\n  .ansiout {\n    display: block;\n    unicode-bidi: embed;\n    white-space: pre-wrap;\n    word-wrap: break-word;\n    word-break: break-all;\n    font-family: \"Source Code Pro\", \"Menlo\", monospace;;\n    font-size: 13px;\n    color: #555;\n    margin-left: 4px;\n    line-height: 19px;\n  }\n</style>\n<div class=\"ansiout\"></div>"
      ]
     },
     "metadata": {
      "application/vnd.databricks.v1+output": {
       "addedWidgets": {},
       "arguments": {},
       "data": "<div class=\"ansiout\"></div>",
       "datasetInfos": [],
       "metadata": {},
       "removedWidgets": [],
       "type": "html"
      }
     },
     "output_type": "display_data"
    }
   ],
   "source": [
    "type_summary = (\n",
    "  paysim_stream\n",
    "  \n",
    "  # group by type\n",
    "  .groupBy('type')\n",
    "  \n",
    "  .agg(\n",
    "    # count # of records\n",
    "    expr('count(*) as n'),\n",
    "    # get avg amount\n",
    "    expr('round(mean(amount), 4) as avg_amount'),\n",
    "    # get min amount\n",
    "    expr('min(amount) as min_amount'),\n",
    "    # get max amount\n",
    "    expr('max(amount) as max_amount')\n",
    "  )\n",
    "  \n",
    "  # sort by # of records desc\n",
    "  .sort('n', ascending=False)\n",
    ")"
   ]
  },
  {
   "cell_type": "code",
   "execution_count": 0,
   "metadata": {
    "application/vnd.databricks.v1+cell": {
     "cellMetadata": {},
     "inputWidgets": {},
     "nuid": "d9fb5e06-c241-4108-a686-be850388cd71",
     "showTitle": false,
     "title": ""
    }
   },
   "outputs": [
    {
     "output_type": "display_data",
     "data": {
      "text/html": [
       "<style scoped>\n  .ansiout {\n    display: block;\n    unicode-bidi: embed;\n    white-space: pre-wrap;\n    word-wrap: break-word;\n    word-break: break-all;\n    font-family: \"Source Code Pro\", \"Menlo\", monospace;;\n    font-size: 13px;\n    color: #555;\n    margin-left: 4px;\n    line-height: 19px;\n  }\n</style>\n<div class=\"ansiout\"></div>"
      ]
     },
     "metadata": {
      "application/vnd.databricks.v1+output": {
       "addedWidgets": {},
       "arguments": {},
       "data": "<div class=\"ansiout\"></div>",
       "datasetInfos": [],
       "metadata": {},
       "removedWidgets": [],
       "type": "html"
      }
     },
     "output_type": "display_data"
    }
   ],
   "source": [
    "destinations = (\n",
    "  paysim_stream\n",
    "  \n",
    "  # keep only transfer records\n",
    "  .filter(col('type') == 'TRANSFER')\n",
    "  \n",
    "  # group by destination\n",
    "  .groupBy('nameDest')\n",
    "  .agg(\n",
    "    expr('count(*) as n'),\n",
    "    expr('sum(amount) as total_amount'),\n",
    "    expr('round(mean(amount), 2) as avg_amount')\n",
    "  )\n",
    "  \n",
    "  # sort by # of records desc\n",
    "  .sort('n', ascending=False)\n",
    ")"
   ]
  },
  {
   "cell_type": "markdown",
   "metadata": {
    "application/vnd.databricks.v1+cell": {
     "cellMetadata": {},
     "inputWidgets": {},
     "nuid": "5e1d2793-cb80-4271-bfdc-80436e311ff5",
     "showTitle": false,
     "title": ""
    }
   },
   "source": [
    "## Problem 3: Define Output Sinks"
   ]
  },
  {
   "cell_type": "code",
   "execution_count": 0,
   "metadata": {
    "application/vnd.databricks.v1+cell": {
     "cellMetadata": {},
     "inputWidgets": {},
     "nuid": "17b5685a-3ece-4375-82d0-43797f807164",
     "showTitle": false,
     "title": ""
    }
   },
   "outputs": [
    {
     "output_type": "display_data",
     "data": {
      "text/html": [
       "<style scoped>\n  .ansiout {\n    display: block;\n    unicode-bidi: embed;\n    white-space: pre-wrap;\n    word-wrap: break-word;\n    word-break: break-all;\n    font-family: \"Source Code Pro\", \"Menlo\", monospace;;\n    font-size: 13px;\n    color: #555;\n    margin-left: 4px;\n    line-height: 19px;\n  }\n</style>\n<div class=\"ansiout\"></div>"
      ]
     },
     "metadata": {
      "application/vnd.databricks.v1+output": {
       "addedWidgets": {},
       "arguments": {},
       "data": "<div class=\"ansiout\"></div>",
       "datasetInfos": [],
       "metadata": {},
       "removedWidgets": [],
       "type": "html"
      }
     },
     "output_type": "display_data"
    }
   ],
   "source": [
    "# creating data stream writer objects\n",
    "t_writer = (\n",
    "    type_summary\n",
    "    .writeStream\n",
    "    .format('memory')\n",
    "    .queryName('type_summary')\n",
    "    .outputMode('complete')\n",
    ")\n",
    "\n",
    "d_writer = (\n",
    "    destinations\n",
    "    .writeStream\n",
    "    .format('memory')\n",
    "    .queryName('destinations')\n",
    "    .outputMode('complete')\n",
    ")"
   ]
  },
  {
   "cell_type": "markdown",
   "metadata": {
    "application/vnd.databricks.v1+cell": {
     "cellMetadata": {},
     "inputWidgets": {},
     "nuid": "bc282d35-f25c-4c24-91ca-a65de9592d0d",
     "showTitle": false,
     "title": ""
    }
   },
   "source": [
    "## Problem 4: Start and Monitor the Streams"
   ]
  },
  {
   "cell_type": "code",
   "execution_count": 0,
   "metadata": {
    "application/vnd.databricks.v1+cell": {
     "cellMetadata": {},
     "inputWidgets": {},
     "nuid": "ee59dd7a-4c3f-4240-a9e9-c7b5bfe95590",
     "showTitle": false,
     "title": ""
    }
   },
   "outputs": [
    {
     "output_type": "display_data",
     "data": {
      "text/html": [
       "<style scoped>\n  .ansiout {\n    display: block;\n    unicode-bidi: embed;\n    white-space: pre-wrap;\n    word-wrap: break-word;\n    word-break: break-all;\n    font-family: \"Source Code Pro\", \"Menlo\", monospace;;\n    font-size: 13px;\n    color: #555;\n    margin-left: 4px;\n    line-height: 19px;\n  }\n</style>\n<div class=\"ansiout\"></div>"
      ]
     },
     "metadata": {
      "application/vnd.databricks.v1+output": {
       "addedWidgets": {},
       "arguments": {},
       "data": "<div class=\"ansiout\"></div>",
       "datasetInfos": [],
       "metadata": {},
       "removedWidgets": [],
       "type": "html"
      }
     },
     "output_type": "display_data"
    }
   ],
   "source": [
    "# start streams\n",
    "t_query = t_writer.start()\n",
    "d_query = d_writer.start()"
   ]
  },
  {
   "cell_type": "code",
   "execution_count": 0,
   "metadata": {
    "application/vnd.databricks.v1+cell": {
     "cellMetadata": {},
     "inputWidgets": {},
     "nuid": "14728ab9-bc01-4248-be47-4ef02d26ba1d",
     "showTitle": false,
     "title": ""
    }
   },
   "outputs": [
    {
     "output_type": "display_data",
     "data": {
      "text/html": [
       "<style scoped>\n  .ansiout {\n    display: block;\n    unicode-bidi: embed;\n    white-space: pre-wrap;\n    word-wrap: break-word;\n    word-break: break-all;\n    font-family: \"Source Code Pro\", \"Menlo\", monospace;;\n    font-size: 13px;\n    color: #555;\n    margin-left: 4px;\n    line-height: 19px;\n  }\n</style>\n<div class=\"ansiout\">type          5\nn             5\navg_amount    5\nmin_amount    5\nmax_amount    5\ndtype: int64\n</div>"
      ]
     },
     "metadata": {
      "application/vnd.databricks.v1+output": {
       "addedWidgets": {},
       "arguments": {},
       "data": "<div class=\"ansiout\">type          5\nn             5\navg_amount    5\nmin_amount    5\nmax_amount    5\ndtype: int64\n</div>",
       "datasetInfos": [],
       "metadata": {},
       "removedWidgets": [],
       "type": "html"
      }
     },
     "output_type": "display_data"
    },
    {
     "output_type": "display_data",
     "data": {
      "text/html": [
       "<style scoped>\n  .table-result-container {\n    max-height: 300px;\n    overflow: auto;\n  }\n  table, th, td {\n    border: 1px solid black;\n    border-collapse: collapse;\n  }\n  th, td {\n    padding: 5px;\n  }\n  th {\n    text-align: left;\n  }\n</style><div class='table-result-container'><table class='table-result'><thead style='background-color: white'><tr><th>type</th><th>n</th><th>avg_amount</th><th>min_amount</th><th>max_amount</th></tr></thead><tbody><tr><td>CASH_OUT</td><td>250071</td><td>186314.0387</td><td>0.37</td><td>1.0E7</td></tr><tr><td>PAYMENT</td><td>234839</td><td>11587.4637</td><td>0.1</td><td>115264.68</td></tr><tr><td>CASH_IN</td><td>152356</td><td>171838.341</td><td>5.44</td><td>1289407.91</td></tr><tr><td>TRANSFER</td><td>57588</td><td>673235.3867</td><td>2.6</td><td>1.0E7</td></tr><tr><td>DEBIT</td><td>4971</td><td>5982.907</td><td>0.87</td><td>150053.28</td></tr></tbody></table></div>"
      ]
     },
     "metadata": {
      "application/vnd.databricks.v1+output": {
       "addedWidgets": {},
       "aggData": [],
       "aggError": "",
       "aggOverflow": false,
       "aggSchema": [],
       "aggSeriesLimitReached": false,
       "aggType": "",
       "arguments": {},
       "columnCustomDisplayInfos": {},
       "data": [
        [
         "CASH_OUT",
         250071,
         186314.0387,
         0.37,
         1.0E7
        ],
        [
         "PAYMENT",
         234839,
         11587.4637,
         0.1,
         115264.68
        ],
        [
         "CASH_IN",
         152356,
         171838.341,
         5.44,
         1289407.91
        ],
        [
         "TRANSFER",
         57588,
         673235.3867,
         2.6,
         1.0E7
        ],
        [
         "DEBIT",
         4971,
         5982.907,
         0.87,
         150053.28
        ]
       ],
       "datasetInfos": [],
       "dbfsResultPath": null,
       "isJsonSchema": true,
       "metadata": {},
       "overflow": false,
       "plotOptions": {
        "customPlotOptions": {},
        "displayType": "table",
        "pivotAggregation": null,
        "pivotColumns": null,
        "xColumns": null,
        "yColumns": null
       },
       "removedWidgets": [],
       "schema": [
        {
         "metadata": "{}",
         "name": "type",
         "type": "\"string\""
        },
        {
         "metadata": "{}",
         "name": "n",
         "type": "\"long\""
        },
        {
         "metadata": "{}",
         "name": "avg_amount",
         "type": "\"double\""
        },
        {
         "metadata": "{}",
         "name": "min_amount",
         "type": "\"double\""
        },
        {
         "metadata": "{}",
         "name": "max_amount",
         "type": "\"double\""
        }
       ],
       "type": "table"
      }
     },
     "output_type": "display_data"
    }
   ],
   "source": [
    "# put contents of type_summary into static df\n",
    "type_df = spark.sql('SELECT * from type_summary').toPandas()\n",
    "\n",
    "# count # of observations\n",
    "t_n = type_df.count()\n",
    "# output\n",
    "print(t_n)\n",
    "\n",
    "# display df\n",
    "type_df.display()"
   ]
  },
  {
   "cell_type": "code",
   "execution_count": 0,
   "metadata": {
    "application/vnd.databricks.v1+cell": {
     "cellMetadata": {},
     "inputWidgets": {},
     "nuid": "f3a86c27-a08e-419a-91e3-f93b6756beef",
     "showTitle": false,
     "title": ""
    }
   },
   "outputs": [
    {
     "output_type": "display_data",
     "data": {
      "text/html": [
       "<style scoped>\n  .ansiout {\n    display: block;\n    unicode-bidi: embed;\n    white-space: pre-wrap;\n    word-wrap: break-word;\n    word-break: break-all;\n    font-family: \"Source Code Pro\", \"Menlo\", monospace;;\n    font-size: 13px;\n    color: #555;\n    margin-left: 4px;\n    line-height: 19px;\n  }\n</style>\n<div class=\"ansiout\">nameDest        28668\nn               28668\ntotal_amount    28668\navg_amount      28668\ndtype: int64\nOut[40]: </div>"
      ]
     },
     "metadata": {
      "application/vnd.databricks.v1+output": {
       "addedWidgets": {},
       "arguments": {},
       "data": "<div class=\"ansiout\">nameDest        28668\nn               28668\ntotal_amount    28668\navg_amount      28668\ndtype: int64\nOut[40]: </div>",
       "datasetInfos": [],
       "metadata": {},
       "removedWidgets": [],
       "type": "html"
      }
     },
     "output_type": "display_data"
    },
    {
     "output_type": "display_data",
     "data": {
      "text/html": [
       "<div>\n<style scoped>\n    .dataframe tbody tr th:only-of-type {\n        vertical-align: middle;\n    }\n\n    .dataframe tbody tr th {\n        vertical-align: top;\n    }\n\n    .dataframe thead th {\n        text-align: right;\n    }\n</style>\n<table border=\"1\" class=\"dataframe\">\n  <thead>\n    <tr style=\"text-align: right;\">\n      <th></th>\n      <th>nameDest</th>\n      <th>n</th>\n      <th>total_amount</th>\n      <th>avg_amount</th>\n    </tr>\n  </thead>\n  <tbody>\n    <tr>\n      <th>0</th>\n      <td>C665576141</td>\n      <td>26</td>\n      <td>26150103.90</td>\n      <td>1005773.23</td>\n    </tr>\n    <tr>\n      <th>1</th>\n      <td>C1286084959</td>\n      <td>26</td>\n      <td>17588259.10</td>\n      <td>676471.50</td>\n    </tr>\n    <tr>\n      <th>2</th>\n      <td>C248609774</td>\n      <td>24</td>\n      <td>24711862.80</td>\n      <td>1029660.95</td>\n    </tr>\n    <tr>\n      <th>3</th>\n      <td>C1360767589</td>\n      <td>22</td>\n      <td>21756362.92</td>\n      <td>988925.59</td>\n    </tr>\n    <tr>\n      <th>4</th>\n      <td>C306206744</td>\n      <td>22</td>\n      <td>13048885.07</td>\n      <td>593131.14</td>\n    </tr>\n    <tr>\n      <th>5</th>\n      <td>C985934102</td>\n      <td>21</td>\n      <td>13709050.24</td>\n      <td>652811.92</td>\n    </tr>\n    <tr>\n      <th>6</th>\n      <td>C1590550415</td>\n      <td>20</td>\n      <td>26350395.92</td>\n      <td>1317519.80</td>\n    </tr>\n    <tr>\n      <th>7</th>\n      <td>C451111351</td>\n      <td>20</td>\n      <td>19783480.34</td>\n      <td>989174.02</td>\n    </tr>\n    <tr>\n      <th>8</th>\n      <td>C97730845</td>\n      <td>20</td>\n      <td>28009878.86</td>\n      <td>1400493.94</td>\n    </tr>\n    <tr>\n      <th>9</th>\n      <td>C1883840933</td>\n      <td>19</td>\n      <td>23864765.21</td>\n      <td>1256040.27</td>\n    </tr>\n    <tr>\n      <th>10</th>\n      <td>C716083600</td>\n      <td>19</td>\n      <td>20268904.77</td>\n      <td>1066784.46</td>\n    </tr>\n    <tr>\n      <th>11</th>\n      <td>C863811613</td>\n      <td>18</td>\n      <td>21868866.99</td>\n      <td>1214937.06</td>\n    </tr>\n    <tr>\n      <th>12</th>\n      <td>C2083562754</td>\n      <td>18</td>\n      <td>21989217.71</td>\n      <td>1221623.21</td>\n    </tr>\n    <tr>\n      <th>13</th>\n      <td>C803116137</td>\n      <td>17</td>\n      <td>18642155.01</td>\n      <td>1096597.35</td>\n    </tr>\n    <tr>\n      <th>14</th>\n      <td>C1204684191</td>\n      <td>16</td>\n      <td>17038586.67</td>\n      <td>1064911.67</td>\n    </tr>\n    <tr>\n      <th>15</th>\n      <td>C2011996123</td>\n      <td>16</td>\n      <td>14595951.07</td>\n      <td>912246.94</td>\n    </tr>\n  </tbody>\n</table>\n</div>"
      ]
     },
     "metadata": {
      "application/vnd.databricks.v1+output": {
       "addedWidgets": {},
       "arguments": {},
       "data": "<div>\n<style scoped>\n    .dataframe tbody tr th:only-of-type {\n        vertical-align: middle;\n    }\n\n    .dataframe tbody tr th {\n        vertical-align: top;\n    }\n\n    .dataframe thead th {\n        text-align: right;\n    }\n</style>\n<table border=\"1\" class=\"dataframe\">\n  <thead>\n    <tr style=\"text-align: right;\">\n      <th></th>\n      <th>nameDest</th>\n      <th>n</th>\n      <th>total_amount</th>\n      <th>avg_amount</th>\n    </tr>\n  </thead>\n  <tbody>\n    <tr>\n      <th>0</th>\n      <td>C665576141</td>\n      <td>26</td>\n      <td>26150103.90</td>\n      <td>1005773.23</td>\n    </tr>\n    <tr>\n      <th>1</th>\n      <td>C1286084959</td>\n      <td>26</td>\n      <td>17588259.10</td>\n      <td>676471.50</td>\n    </tr>\n    <tr>\n      <th>2</th>\n      <td>C248609774</td>\n      <td>24</td>\n      <td>24711862.80</td>\n      <td>1029660.95</td>\n    </tr>\n    <tr>\n      <th>3</th>\n      <td>C1360767589</td>\n      <td>22</td>\n      <td>21756362.92</td>\n      <td>988925.59</td>\n    </tr>\n    <tr>\n      <th>4</th>\n      <td>C306206744</td>\n      <td>22</td>\n      <td>13048885.07</td>\n      <td>593131.14</td>\n    </tr>\n    <tr>\n      <th>5</th>\n      <td>C985934102</td>\n      <td>21</td>\n      <td>13709050.24</td>\n      <td>652811.92</td>\n    </tr>\n    <tr>\n      <th>6</th>\n      <td>C1590550415</td>\n      <td>20</td>\n      <td>26350395.92</td>\n      <td>1317519.80</td>\n    </tr>\n    <tr>\n      <th>7</th>\n      <td>C451111351</td>\n      <td>20</td>\n      <td>19783480.34</td>\n      <td>989174.02</td>\n    </tr>\n    <tr>\n      <th>8</th>\n      <td>C97730845</td>\n      <td>20</td>\n      <td>28009878.86</td>\n      <td>1400493.94</td>\n    </tr>\n    <tr>\n      <th>9</th>\n      <td>C1883840933</td>\n      <td>19</td>\n      <td>23864765.21</td>\n      <td>1256040.27</td>\n    </tr>\n    <tr>\n      <th>10</th>\n      <td>C716083600</td>\n      <td>19</td>\n      <td>20268904.77</td>\n      <td>1066784.46</td>\n    </tr>\n    <tr>\n      <th>11</th>\n      <td>C863811613</td>\n      <td>18</td>\n      <td>21868866.99</td>\n      <td>1214937.06</td>\n    </tr>\n    <tr>\n      <th>12</th>\n      <td>C2083562754</td>\n      <td>18</td>\n      <td>21989217.71</td>\n      <td>1221623.21</td>\n    </tr>\n    <tr>\n      <th>13</th>\n      <td>C803116137</td>\n      <td>17</td>\n      <td>18642155.01</td>\n      <td>1096597.35</td>\n    </tr>\n    <tr>\n      <th>14</th>\n      <td>C1204684191</td>\n      <td>16</td>\n      <td>17038586.67</td>\n      <td>1064911.67</td>\n    </tr>\n    <tr>\n      <th>15</th>\n      <td>C2011996123</td>\n      <td>16</td>\n      <td>14595951.07</td>\n      <td>912246.94</td>\n    </tr>\n  </tbody>\n</table>\n</div>",
       "datasetInfos": [],
       "metadata": {},
       "removedWidgets": [],
       "textData": null,
       "type": "htmlSandbox"
      }
     },
     "output_type": "display_data"
    }
   ],
   "source": [
    "# put contents of type_summary into static df\n",
    "dest_df = spark.sql('SELECT * from destinations').toPandas()\n",
    "\n",
    "# count # of observations\n",
    "d_n = dest_df.count()\n",
    "# output\n",
    "print(d_n)\n",
    "\n",
    "# display first 16 rows of df\n",
    "dest_df.head(16)"
   ]
  },
  {
   "cell_type": "code",
   "execution_count": 0,
   "metadata": {
    "application/vnd.databricks.v1+cell": {
     "cellMetadata": {},
     "inputWidgets": {},
     "nuid": "0dfc03b1-33da-49f7-a1fc-2a59acdd25b2",
     "showTitle": false,
     "title": ""
    }
   },
   "outputs": [
    {
     "output_type": "display_data",
     "data": {
      "text/html": [
       "<style scoped>\n  .ansiout {\n    display: block;\n    unicode-bidi: embed;\n    white-space: pre-wrap;\n    word-wrap: break-word;\n    word-break: break-all;\n    font-family: \"Source Code Pro\", \"Menlo\", monospace;;\n    font-size: 13px;\n    color: #555;\n    margin-left: 4px;\n    line-height: 19px;\n  }\n</style>\n<div class=\"ansiout\"></div>"
      ]
     },
     "metadata": {
      "application/vnd.databricks.v1+output": {
       "addedWidgets": {},
       "arguments": {},
       "data": "<div class=\"ansiout\"></div>",
       "datasetInfos": [],
       "metadata": {},
       "removedWidgets": [],
       "type": "html"
      }
     },
     "output_type": "display_data"
    }
   ],
   "source": [
    "# stop live streaming\n",
    "t_query.stop()\n",
    "d_query.stop()"
   ]
  }
 ],
 "metadata": {
  "application/vnd.databricks.v1+notebook": {
   "dashboards": [],
   "language": "python",
   "notebookMetadata": {
    "pythonIndentUnit": 2
   },
   "notebookName": "HW_08",
   "notebookOrigID": 2159987306230070,
   "widgets": {}
  }
 },
 "nbformat": 4,
 "nbformat_minor": 0
}
