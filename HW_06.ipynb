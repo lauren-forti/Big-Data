{
 "cells": [
  {
   "cell_type": "markdown",
   "metadata": {
    "application/vnd.databricks.v1+cell": {
     "cellMetadata": {},
     "inputWidgets": {},
     "nuid": "98336a2b-adfb-46eb-8bcc-eb2154e08dfc",
     "showTitle": false,
     "title": ""
    }
   },
   "source": [
    "# DSCI 417 – Homework 06\n",
    "**Lauren Forti**"
   ]
  },
  {
   "cell_type": "code",
   "execution_count": 0,
   "metadata": {
    "application/vnd.databricks.v1+cell": {
     "cellMetadata": {},
     "inputWidgets": {},
     "nuid": "5ab2009a-1241-47b4-8132-424223498742",
     "showTitle": false,
     "title": ""
    }
   },
   "outputs": [
    {
     "output_type": "display_data",
     "data": {
      "text/html": [
       "<style scoped>\n  .ansiout {\n    display: block;\n    unicode-bidi: embed;\n    white-space: pre-wrap;\n    word-wrap: break-word;\n    word-break: break-all;\n    font-family: \"Source Code Pro\", \"Menlo\", monospace;;\n    font-size: 13px;\n    color: #555;\n    margin-left: 4px;\n    line-height: 19px;\n  }\n</style>\n<div class=\"ansiout\"></div>"
      ]
     },
     "metadata": {
      "application/vnd.databricks.v1+output": {
       "addedWidgets": {},
       "arguments": {},
       "data": "<div class=\"ansiout\"></div>",
       "datasetInfos": [],
       "metadata": {},
       "removedWidgets": [],
       "type": "html"
      }
     },
     "output_type": "display_data"
    }
   ],
   "source": [
    "# setup\n",
    "import pandas as pd\n",
    "import matplotlib.pyplot as plt\n",
    "\n",
    "from pyspark.sql import SparkSession\n",
    "from pyspark.sql.functions import col, expr\n",
    "\n",
    "from pyspark.ml.feature import VectorAssembler, OneHotEncoder, StringIndexer\n",
    "from pyspark.ml.classification import LogisticRegression\n",
    "from pyspark.ml.evaluation import MulticlassClassificationEvaluator\n",
    "from pyspark.mllib.evaluation import MulticlassMetrics\n",
    "from pyspark.ml import Pipeline\n",
    "from pyspark.ml.tuning import CrossValidator, ParamGridBuilder\n",
    "\n",
    "spark = SparkSession.builder.getOrCreate()"
   ]
  },
  {
   "cell_type": "markdown",
   "metadata": {
    "application/vnd.databricks.v1+cell": {
     "cellMetadata": {},
     "inputWidgets": {},
     "nuid": "e709622d-a493-4db5-8342-7dcd86cdb551",
     "showTitle": false,
     "title": ""
    }
   },
   "source": [
    "## Problem 1: Load Stroke Data"
   ]
  },
  {
   "cell_type": "code",
   "execution_count": 0,
   "metadata": {
    "application/vnd.databricks.v1+cell": {
     "cellMetadata": {},
     "inputWidgets": {},
     "nuid": "0dbbb86d-c9f3-4c71-8e80-480c8f12b25f",
     "showTitle": false,
     "title": ""
    }
   },
   "outputs": [
    {
     "output_type": "display_data",
     "data": {
      "text/html": [
       "<style scoped>\n  .ansiout {\n    display: block;\n    unicode-bidi: embed;\n    white-space: pre-wrap;\n    word-wrap: break-word;\n    word-break: break-all;\n    font-family: \"Source Code Pro\", \"Menlo\", monospace;;\n    font-size: 13px;\n    color: #555;\n    margin-left: 4px;\n    line-height: 19px;\n  }\n</style>\n<div class=\"ansiout\">root\n-- gender: string (nullable = true)\n-- age: double (nullable = true)\n-- hyptertension: integer (nullable = true)\n-- heart_disease: integer (nullable = true)\n-- ever_married: string (nullable = true)\n-- work_type: string (nullable = true)\n-- residence_type: string (nullable = true)\n-- avg_glucose_level: double (nullable = true)\n-- bmi: double (nullable = true)\n-- smoking_status: string (nullable = true)\n-- stroke: integer (nullable = true)\n\n</div>"
      ]
     },
     "metadata": {
      "application/vnd.databricks.v1+output": {
       "addedWidgets": {},
       "arguments": {},
       "data": "<div class=\"ansiout\">root\n |-- gender: string (nullable = true)\n |-- age: double (nullable = true)\n |-- hyptertension: integer (nullable = true)\n |-- heart_disease: integer (nullable = true)\n |-- ever_married: string (nullable = true)\n |-- work_type: string (nullable = true)\n |-- residence_type: string (nullable = true)\n |-- avg_glucose_level: double (nullable = true)\n |-- bmi: double (nullable = true)\n |-- smoking_status: string (nullable = true)\n |-- stroke: integer (nullable = true)\n\n</div>",
       "datasetInfos": [],
       "metadata": {},
       "removedWidgets": [],
       "type": "html"
      }
     },
     "output_type": "display_data"
    }
   ],
   "source": [
    "# read file into df\n",
    "stroke_df = (\n",
    "    spark.read\n",
    "    .option('delimiter', ',')\n",
    "    .option('header', True)\n",
    "    .schema('gender STRING, age DOUBLE, hyptertension INTEGER, heart_disease INTEGER, ever_married STRING, work_type STRING, residence_type STRING, avg_glucose_level DOUBLE, bmi DOUBLE, smoking_status STRING, stroke INTEGER')\n",
    "    .csv('/FileStore/tables/stroke_data.csv')\n",
    ")\n",
    "\n",
    "# display schema\n",
    "stroke_df.printSchema()"
   ]
  },
  {
   "cell_type": "code",
   "execution_count": 0,
   "metadata": {
    "application/vnd.databricks.v1+cell": {
     "cellMetadata": {},
     "inputWidgets": {},
     "nuid": "5cd6c35f-5b47-4465-ae20-fa1206efca86",
     "showTitle": false,
     "title": ""
    }
   },
   "outputs": [
    {
     "output_type": "display_data",
     "data": {
      "text/html": [
       "<style scoped>\n  .ansiout {\n    display: block;\n    unicode-bidi: embed;\n    white-space: pre-wrap;\n    word-wrap: break-word;\n    word-break: break-all;\n    font-family: \"Source Code Pro\", \"Menlo\", monospace;;\n    font-size: 13px;\n    color: #555;\n    margin-left: 4px;\n    line-height: 19px;\n  }\n</style>\n<div class=\"ansiout\">+------+----+-------------+-------------+------------+-------------+--------------+-----------------+----+---------------+------+\ngender| age|hyptertension|heart_disease|ever_married|    work_type|residence_type|avg_glucose_level| bmi| smoking_status|stroke|\n+------+----+-------------+-------------+------------+-------------+--------------+-----------------+----+---------------+------+\nFemale|13.0|            0|            0|          No|      Private|         Urban|            77.63|31.7|   never smoked|     0|\n  Male|10.0|            0|            0|          No|        Child|         Rural|            84.02|18.7|   never smoked|     0|\nFemale|82.0|            0|            1|         Yes|Self-employed|         Rural|             88.6|32.5|        Unknown|     0|\nFemale| 3.0|            0|            0|          No|        Child|         Urban|            57.33|16.8|        Unknown|     0|\nFemale|65.0|            0|            0|         Yes|Self-employed|         Rural|           220.52|37.2|         smokes|     0|\nFemale|65.0|            0|            0|         Yes|Self-employed|         Rural|           100.65|31.0|   never smoked|     1|\n  Male|65.0|            0|            0|         Yes|      Private|         Rural|            56.64|28.4|formerly smoked|     1|\nFemale|28.0|            0|            0|         Yes|      Private|         Rural|            64.64|22.1|   never smoked|     0|\nFemale|80.0|            0|            0|         Yes|     Govt_job|         Urban|            84.86|29.3|        Unknown|     0|\n  Male|78.0|            0|            0|         Yes|      Private|         Urban|            60.22|29.7|formerly smoked|     0|\n+------+----+-------------+-------------+------------+-------------+--------------+-----------------+----+---------------+------+\nonly showing top 10 rows\n\n</div>"
      ]
     },
     "metadata": {
      "application/vnd.databricks.v1+output": {
       "addedWidgets": {},
       "arguments": {},
       "data": "<div class=\"ansiout\">+------+----+-------------+-------------+------------+-------------+--------------+-----------------+----+---------------+------+\n|gender| age|hyptertension|heart_disease|ever_married|    work_type|residence_type|avg_glucose_level| bmi| smoking_status|stroke|\n+------+----+-------------+-------------+------------+-------------+--------------+-----------------+----+---------------+------+\n|Female|13.0|            0|            0|          No|      Private|         Urban|            77.63|31.7|   never smoked|     0|\n|  Male|10.0|            0|            0|          No|        Child|         Rural|            84.02|18.7|   never smoked|     0|\n|Female|82.0|            0|            1|         Yes|Self-employed|         Rural|             88.6|32.5|        Unknown|     0|\n|Female| 3.0|            0|            0|          No|        Child|         Urban|            57.33|16.8|        Unknown|     0|\n|Female|65.0|            0|            0|         Yes|Self-employed|         Rural|           220.52|37.2|         smokes|     0|\n|Female|65.0|            0|            0|         Yes|Self-employed|         Rural|           100.65|31.0|   never smoked|     1|\n|  Male|65.0|            0|            0|         Yes|      Private|         Rural|            56.64|28.4|formerly smoked|     1|\n|Female|28.0|            0|            0|         Yes|      Private|         Rural|            64.64|22.1|   never smoked|     0|\n|Female|80.0|            0|            0|         Yes|     Govt_job|         Urban|            84.86|29.3|        Unknown|     0|\n|  Male|78.0|            0|            0|         Yes|      Private|         Urban|            60.22|29.7|formerly smoked|     0|\n+------+----+-------------+-------------+------------+-------------+--------------+-----------------+----+---------------+------+\nonly showing top 10 rows\n\n</div>",
       "datasetInfos": [],
       "metadata": {},
       "removedWidgets": [],
       "type": "html"
      }
     },
     "output_type": "display_data"
    }
   ],
   "source": [
    "# display first 10 rows of df\n",
    "stroke_df.show(10)"
   ]
  },
  {
   "cell_type": "code",
   "execution_count": 0,
   "metadata": {
    "application/vnd.databricks.v1+cell": {
     "cellMetadata": {},
     "inputWidgets": {},
     "nuid": "8dfa351d-ce5e-44ff-94f3-9748aa1469fb",
     "showTitle": false,
     "title": ""
    }
   },
   "outputs": [
    {
     "output_type": "display_data",
     "data": {
      "text/html": [
       "<style scoped>\n  .ansiout {\n    display: block;\n    unicode-bidi: embed;\n    white-space: pre-wrap;\n    word-wrap: break-word;\n    word-break: break-all;\n    font-family: \"Source Code Pro\", \"Menlo\", monospace;;\n    font-size: 13px;\n    color: #555;\n    margin-left: 4px;\n    line-height: 19px;\n  }\n</style>\n<div class=\"ansiout\">6853\n</div>"
      ]
     },
     "metadata": {
      "application/vnd.databricks.v1+output": {
       "addedWidgets": {},
       "arguments": {},
       "data": "<div class=\"ansiout\">6853\n</div>",
       "datasetInfos": [],
       "metadata": {},
       "removedWidgets": [],
       "type": "html"
      }
     },
     "output_type": "display_data"
    }
   ],
   "source": [
    "# count # of observations\n",
    "N = stroke_df.count()\n",
    "print(N)"
   ]
  },
  {
   "cell_type": "code",
   "execution_count": 0,
   "metadata": {
    "application/vnd.databricks.v1+cell": {
     "cellMetadata": {},
     "inputWidgets": {},
     "nuid": "66641c3f-023f-4616-b0ef-25d98c1ffc63",
     "showTitle": false,
     "title": ""
    }
   },
   "outputs": [
    {
     "output_type": "display_data",
     "data": {
      "text/html": [
       "<style scoped>\n  .ansiout {\n    display: block;\n    unicode-bidi: embed;\n    white-space: pre-wrap;\n    word-wrap: break-word;\n    word-break: break-all;\n    font-family: \"Source Code Pro\", \"Menlo\", monospace;;\n    font-size: 13px;\n    color: #555;\n    margin-left: 4px;\n    line-height: 19px;\n  }\n</style>\n<div class=\"ansiout\">+------+------+\nstroke|  prop|\n+------+------+\n     1|0.2907|\n     0|0.7093|\n+------+------+\n\n</div>"
      ]
     },
     "metadata": {
      "application/vnd.databricks.v1+output": {
       "addedWidgets": {},
       "arguments": {},
       "data": "<div class=\"ansiout\">+------+------+\n|stroke|  prop|\n+------+------+\n|     1|0.2907|\n|     0|0.7093|\n+------+------+\n\n</div>",
       "datasetInfos": [],
       "metadata": {},
       "removedWidgets": [],
       "type": "html"
      }
     },
     "output_type": "display_data"
    }
   ],
   "source": [
    "# calc prop of records in label categories\n",
    "(\n",
    "  stroke_df\n",
    "# group by stroke col\n",
    "  .groupBy('stroke')\n",
    "  .agg(\n",
    "    expr(f'ROUND(COUNT(*)/{N},4) as prop')\n",
    "  )\n",
    " ).show()"
   ]
  },
  {
   "cell_type": "markdown",
   "metadata": {
    "application/vnd.databricks.v1+cell": {
     "cellMetadata": {},
     "inputWidgets": {},
     "nuid": "0e7ba1a3-ae0f-4761-813f-55b1d9ae100b",
     "showTitle": false,
     "title": ""
    }
   },
   "source": [
    "## Problem 2: Preprocessing"
   ]
  },
  {
   "cell_type": "code",
   "execution_count": 0,
   "metadata": {
    "application/vnd.databricks.v1+cell": {
     "cellMetadata": {},
     "inputWidgets": {},
     "nuid": "0759af51-9d76-49df-b6cf-257f7ce323ae",
     "showTitle": false,
     "title": ""
    }
   },
   "outputs": [
    {
     "output_type": "display_data",
     "data": {
      "text/html": [
       "<style scoped>\n  .ansiout {\n    display: block;\n    unicode-bidi: embed;\n    white-space: pre-wrap;\n    word-wrap: break-word;\n    word-break: break-all;\n    font-family: \"Source Code Pro\", \"Menlo\", monospace;;\n    font-size: 13px;\n    color: #555;\n    margin-left: 4px;\n    line-height: 19px;\n  }\n</style>\n<div class=\"ansiout\"></div>"
      ]
     },
     "metadata": {
      "application/vnd.databricks.v1+output": {
       "addedWidgets": {},
       "arguments": {},
       "data": "<div class=\"ansiout\"></div>",
       "datasetInfos": [],
       "metadata": {},
       "removedWidgets": [],
       "type": "html"
      }
     },
     "output_type": "display_data"
    }
   ],
   "source": [
    "# lists to store names of cols for features\n",
    "num_features = ['age', 'avg_glucose_level', 'bmi']\n",
    "cat_features = [c for c in stroke_df.columns[:-1] if c not in num_features]\n",
    "\n",
    "# lists to store int encoded cat cols\n",
    "ix_features = [c + '_ix' for c in cat_features]\n",
    "vec_features = [c + '_vec' for c in cat_features]\n",
    "\n",
    "# use cols in cat_features to create cols in ix_features\n",
    "feature_indexer = StringIndexer(inputCols=cat_features, outputCols=ix_features)\n",
    "\n",
    "# one-hot encoded cat features\n",
    "encoder = OneHotEncoder(inputCols=ix_features, outputCols=vec_features, dropLast=False)\n",
    "\n",
    "# combine num features and one-hot encoded features\n",
    "assembler = VectorAssembler(inputCols=num_features + vec_features, outputCol='features')"
   ]
  },
  {
   "cell_type": "code",
   "execution_count": 0,
   "metadata": {
    "application/vnd.databricks.v1+cell": {
     "cellMetadata": {},
     "inputWidgets": {},
     "nuid": "bbffabd3-2c85-47b6-a7d8-f3763626f9e9",
     "showTitle": false,
     "title": ""
    }
   },
   "outputs": [
    {
     "output_type": "display_data",
     "data": {
      "text/html": [
       "<style scoped>\n  .ansiout {\n    display: block;\n    unicode-bidi: embed;\n    white-space: pre-wrap;\n    word-wrap: break-word;\n    word-break: break-all;\n    font-family: \"Source Code Pro\", \"Menlo\", monospace;;\n    font-size: 13px;\n    color: #555;\n    margin-left: 4px;\n    line-height: 19px;\n  }\n</style>\n<div class=\"ansiout\">+----------------------------------------------------------------------------+------+\nfeatures                                                                    |stroke|\n+----------------------------------------------------------------------------+------+\n(22,[0,1,2,3,5,7,10,11,16,18],[13.0,77.63,31.7,1.0,1.0,1.0,1.0,1.0,1.0,1.0])|0     |\n(22,[0,1,2,4,5,7,10,14,17,18],[10.0,84.02,18.7,1.0,1.0,1.0,1.0,1.0,1.0,1.0])|0     |\n(22,[0,1,2,3,5,8,9,12,17,19],[82.0,88.6,32.5,1.0,1.0,1.0,1.0,1.0,1.0,1.0])  |0     |\n(22,[0,1,2,3,5,7,10,14,16,19],[3.0,57.33,16.8,1.0,1.0,1.0,1.0,1.0,1.0,1.0]) |0     |\n(22,[0,1,2,3,5,7,9,12,17,21],[65.0,220.52,37.2,1.0,1.0,1.0,1.0,1.0,1.0,1.0])|0     |\n(22,[0,1,2,3,5,7,9,12,17,18],[65.0,100.65,31.0,1.0,1.0,1.0,1.0,1.0,1.0,1.0])|1     |\n(22,[0,1,2,4,5,7,9,11,17,20],[65.0,56.64,28.4,1.0,1.0,1.0,1.0,1.0,1.0,1.0]) |1     |\n(22,[0,1,2,3,5,7,9,11,17,18],[28.0,64.64,22.1,1.0,1.0,1.0,1.0,1.0,1.0,1.0]) |0     |\n(22,[0,1,2,3,5,7,9,13,16,19],[80.0,84.86,29.3,1.0,1.0,1.0,1.0,1.0,1.0,1.0]) |0     |\n(22,[0,1,2,4,5,7,9,11,16,20],[78.0,60.22,29.7,1.0,1.0,1.0,1.0,1.0,1.0,1.0]) |0     |\n+----------------------------------------------------------------------------+------+\nonly showing top 10 rows\n\n</div>"
      ]
     },
     "metadata": {
      "application/vnd.databricks.v1+output": {
       "addedWidgets": {},
       "arguments": {},
       "data": "<div class=\"ansiout\">+----------------------------------------------------------------------------+------+\n|features                                                                    |stroke|\n+----------------------------------------------------------------------------+------+\n|(22,[0,1,2,3,5,7,10,11,16,18],[13.0,77.63,31.7,1.0,1.0,1.0,1.0,1.0,1.0,1.0])|0     |\n|(22,[0,1,2,4,5,7,10,14,17,18],[10.0,84.02,18.7,1.0,1.0,1.0,1.0,1.0,1.0,1.0])|0     |\n|(22,[0,1,2,3,5,8,9,12,17,19],[82.0,88.6,32.5,1.0,1.0,1.0,1.0,1.0,1.0,1.0])  |0     |\n|(22,[0,1,2,3,5,7,10,14,16,19],[3.0,57.33,16.8,1.0,1.0,1.0,1.0,1.0,1.0,1.0]) |0     |\n|(22,[0,1,2,3,5,7,9,12,17,21],[65.0,220.52,37.2,1.0,1.0,1.0,1.0,1.0,1.0,1.0])|0     |\n|(22,[0,1,2,3,5,7,9,12,17,18],[65.0,100.65,31.0,1.0,1.0,1.0,1.0,1.0,1.0,1.0])|1     |\n|(22,[0,1,2,4,5,7,9,11,17,20],[65.0,56.64,28.4,1.0,1.0,1.0,1.0,1.0,1.0,1.0]) |1     |\n|(22,[0,1,2,3,5,7,9,11,17,18],[28.0,64.64,22.1,1.0,1.0,1.0,1.0,1.0,1.0,1.0]) |0     |\n|(22,[0,1,2,3,5,7,9,13,16,19],[80.0,84.86,29.3,1.0,1.0,1.0,1.0,1.0,1.0,1.0]) |0     |\n|(22,[0,1,2,4,5,7,9,11,16,20],[78.0,60.22,29.7,1.0,1.0,1.0,1.0,1.0,1.0,1.0]) |0     |\n+----------------------------------------------------------------------------+------+\nonly showing top 10 rows\n\n</div>",
       "datasetInfos": [],
       "metadata": {},
       "removedWidgets": [],
       "type": "html"
      }
     },
     "output_type": "display_data"
    }
   ],
   "source": [
    "# create pipeline w/ previously created objs then fit to df\n",
    "pre_pipe = Pipeline(stages=[feature_indexer, encoder, assembler]).fit(stroke_df)\n",
    "\n",
    "# store processed df\n",
    "train = pre_pipe.transform(stroke_df)\n",
    "\n",
    "# persist the train df\n",
    "train.persist()\n",
    "\n",
    "# display df\n",
    "train.select(['features', 'stroke']).show(10, truncate=False)"
   ]
  },
  {
   "cell_type": "markdown",
   "metadata": {
    "application/vnd.databricks.v1+cell": {
     "cellMetadata": {},
     "inputWidgets": {},
     "nuid": "548c0db9-bb5a-4e70-b817-f1a77b07857a",
     "showTitle": false,
     "title": ""
    }
   },
   "source": [
    "## Problem 3: Hyperparameter Tuning for Logistic Regression"
   ]
  },
  {
   "cell_type": "code",
   "execution_count": 0,
   "metadata": {
    "application/vnd.databricks.v1+cell": {
     "cellMetadata": {},
     "inputWidgets": {},
     "nuid": "862e0898-b6f3-4cea-86db-31aa274884db",
     "showTitle": false,
     "title": ""
    }
   },
   "outputs": [
    {
     "output_type": "display_data",
     "data": {
      "text/html": [
       "<style scoped>\n  .ansiout {\n    display: block;\n    unicode-bidi: embed;\n    white-space: pre-wrap;\n    word-wrap: break-word;\n    word-break: break-all;\n    font-family: \"Source Code Pro\", \"Menlo\", monospace;;\n    font-size: 13px;\n    color: #555;\n    margin-left: 4px;\n    line-height: 19px;\n  }\n</style>\n<div class=\"ansiout\"></div>"
      ]
     },
     "metadata": {
      "application/vnd.databricks.v1+output": {
       "addedWidgets": {},
       "arguments": {},
       "data": "<div class=\"ansiout\"></div>",
       "datasetInfos": [],
       "metadata": {},
       "removedWidgets": [],
       "type": "html"
      }
     },
     "output_type": "display_data"
    }
   ],
   "source": [
    "# create accuracy evaluator for models\n",
    "accuracy_eval = MulticlassClassificationEvaluator(\n",
    "    predictionCol='prediction', labelCol='stroke', metricName='accuracy'\n",
    ")\n",
    "\n",
    "# create instance of logistic regression class\n",
    "logreg = LogisticRegression(featuresCol='features', labelCol='stroke')\n",
    "\n",
    "# create param grid\n",
    "param_grid = (ParamGridBuilder()\n",
    "              .addGrid(logreg.regParam, [0.0001, 0.001, 0.01, 0.1, 1])\n",
    "              .addGrid(logreg.elasticNetParam, [0, 0.5, 1])\n",
    "             ).build()\n",
    "\n",
    "# grid search\n",
    "cv = CrossValidator(estimator=logreg, estimatorParamMaps=param_grid, evaluator=accuracy_eval, \n",
    "                    numFolds=5, seed=1)\n",
    "\n",
    "# fit\n",
    "cv_model = cv.fit(train)"
   ]
  },
  {
   "cell_type": "code",
   "execution_count": 0,
   "metadata": {
    "application/vnd.databricks.v1+cell": {
     "cellMetadata": {},
     "inputWidgets": {},
     "nuid": "46e84851-4604-4bc6-a108-55dcd44713ac",
     "showTitle": false,
     "title": ""
    }
   },
   "outputs": [
    {
     "output_type": "display_data",
     "data": {
      "text/html": [
       "<style scoped>\n  .ansiout {\n    display: block;\n    unicode-bidi: embed;\n    white-space: pre-wrap;\n    word-wrap: break-word;\n    word-break: break-all;\n    font-family: \"Source Code Pro\", \"Menlo\", monospace;;\n    font-size: 13px;\n    color: #555;\n    margin-left: 4px;\n    line-height: 19px;\n  }\n</style>\n<div class=\"ansiout\">Max CV Score:   0.774\nOptimal Lambda: 0.01\nOptimal Alpha:  0.0\n</div>"
      ]
     },
     "metadata": {
      "application/vnd.databricks.v1+output": {
       "addedWidgets": {},
       "arguments": {},
       "data": "<div class=\"ansiout\">Max CV Score:   0.774\nOptimal Lambda: 0.01\nOptimal Alpha:  0.0\n</div>",
       "datasetInfos": [],
       "metadata": {},
       "removedWidgets": [],
       "type": "html"
      }
     },
     "output_type": "display_data"
    }
   ],
   "source": [
    "model = cv_model.bestModel\n",
    "\n",
    "# store parameter vals\n",
    "opt_regParam = model.getRegParam()\n",
    "opt_enetParam = model.getElasticNetParam()\n",
    "\n",
    "# output results\n",
    "print('Max CV Score:  ', round(max(cv_model.avgMetrics),4))\n",
    "print('Optimal Lambda:', opt_regParam)\n",
    "print('Optimal Alpha: ', opt_enetParam)"
   ]
  },
  {
   "cell_type": "code",
   "execution_count": 0,
   "metadata": {
    "application/vnd.databricks.v1+cell": {
     "cellMetadata": {},
     "inputWidgets": {},
     "nuid": "164c74cf-13fe-4e40-82ec-ceca7a87b3ff",
     "showTitle": false,
     "title": ""
    }
   },
   "outputs": [
    {
     "output_type": "display_data",
     "data": {
      "image/png": "[encoded data removed]"
     },
     "metadata": {
      "application/vnd.databricks.v1+output": {
       "addedWidgets": {},
       "arguments": {},
       "data": "data:image/png;base64,iVBORw0KGgoAAAANSUhEUgAAAYgAAAEKCAYAAAAIO8L1AAAAOXRFWHRTb2Z0d2FyZQBNYXRwbG90bGliIHZlcnNpb24zLjQuMiwgaHR0cHM6Ly9tYXRwbG90bGliLm9yZy8rg+JYAAAACXBIWXMAAAsTAAALEwEAmpwYAABC7UlEQVR4nO3dd3hUZfbA8e+ZmfTQEiQEQke6iFJUVKSoNAVFRVhXV107iGUtuK6oWFbXwioW7PWnQREVpckqQVRQihQBKYJK6C2BhJQp5/fHDBgwZUIymZTzeZ77ZO5733vvmZdhztz2vqKqGGOMMUdzhDsAY4wxlZMlCGOMMYWyBGGMMaZQliCMMcYUyhKEMcaYQlmCMMYYUyhXuAMoL/Xr19fmzZsf8/rZ2dnExcWVX0DVnLVX6Vh7lY61V+mUpb2WLFmyW1WPK2xZtUkQzZs3Z/Hixce8flpaGr179y6/gKo5a6/SsfYqHWuv0ilLe4nIb0Uts1NMxhhjCmUJwhhjTKEsQRhjjClUtbkGYYwx5c3tdpOenk5ubm64QylWnTp1WLNmTbF1oqOjSUlJISIiIujtWoIwJoQ++XELT8xey4gmB7j3sa+4s39bLjipcbjDMkFKT0+nVq1aNG/eHBEJdzhFOnDgALVq1SpyuaqyZ88e0tPTadGiRdDbtVNMplSmb5zOuVPOZfWe1Zw75Vymb5we7pAqrU9+3MI9U1eyJSMHgC0ZOdwzdSWf/LglzJGZYOXm5pKYmFipk0MwRITExMRSHwnZEYQJiqryyYZPeGThI+T58siKzWLbwW088N0DAAxuOTi8AYaBqpLv9ZHn8ZHn9vlfu73keXzke3w8PH01OW4vAAc9/nVy3F6emL3WjiKqkKqeHA45lvdhCaIGcfvcZOVnsT9/PwfyD7A/bz/73fvZnxeYD5QXfF2wrkc9h7f1zsF3AMj15jLu23F8u+VbGsY1JDk+mUZxjUiOS6ZhXENiI2JD8l68PiXP4y3wxezzz3t8h7+gD83nB8ryPN4/Xrt95Hu9gfVKrl+wrOA+gvXGOufh11sDRxTGBGvWrFnccssteL1errnmGsaOHXvE8ry8PK655hqWLFlCYmIikydPpiwPDh9iCaIKUVUOeg5yIP8AmXmZRX+Z5+/3T3n7OeA+cDgBHPQcLHb7LnFRO6o2tSNrUyuyFrUja9M4vvHh+dd+eg1VQIWekWfyXf4CAPJ8Pr7b+gN7c3ehHPmlGeOsRZ2IBsQ76xPnrE+Moz7Rkkgkibh8CTh8tcj3UMiXcTFf7h4fXl/ZB7qKcAqRTgdREc7AXwdRLgeRLgdRLidRLgdxUS6iAvP+8qNeRzgObyPqqG3c+eEK2h1cxKXOr5kQcS2bcqJpzE58tZuWOXZTc3i9XkaNGsWcOXNISUmhe/fuDBkyhA4dOhyu8/bbb1OvXj02bNhAamoqd999N5MnTy7zvmt8gnj2w9v5NHM2F9UbxUOvjmJonf6MueTpkO3P7XMf/kVe6Jd6gV/shX35e9Vb7PZjHdHEOaOJkyhiJZK6RNBI6xAjCcQ6HcT4INYrxHo1MPmI93iJd3uI8rlxefNx+DJw+Xbi1Hxcvnwi1E0E+fxN84nEQxRu4D28OPHiwIsDH9vJw8FOp5PtLhfbXU62u5zsdGWw05XJLtcGtkRAjuPIw1ynQoJHSPQ6SfQ6SPG6SPRFkOhzkeiLJFEjiXJFIJFOxOEEhwtxuHA4nIjTicPhxOF0FZj8885Dk8uJ0xmB0+XC5XThcgVeu/zbILBNxOF/Lc4j/xZWJk5wOALrHSrz+csOrye82mEF7VY8TYy4iWvdn5/WLGei50Jq52bx9bpd9GpTaO8Gxhzhhx9+oHXr1rRs2RKAESNG8Omnnx6RIKZPn87DDz8MwMUXX8zo0aNR1TKfHqvRCeLZD2/nnazZ5Eb4r9XvjHDwTtZs+PD2PycJVfDkoe4csvMyOJCzh/25+/xTXgYH8vazPz+TzPwsMvMOkOnOYr/7IAc8ORzw5pLly+OA5pNH8V/wLoVaPojzQS2fUsvno5HPS22vlzo+D3V9Hmp7fdTy+afaPh+1fUptn484ny+of1CfCnlEkE8E+RKBmwjcEolHIvE4IvBKFPnOWLzOeqgjEp8zCnVGkbl3Hb+7Ish1CCmuZLZ5fycSD23zc0lu2RuX+KgvShI+ThYfThQnXpz4cASmbHWzQ/PYrnls8+WxDTfbXB62udxswMMC8vEd9Zmu54OGPkj2QSOvj4ZeH8l5XpK9Hhq4vSR4PTh8XlAvHPpbCZwEEHgv3dJfp5/rd/o4lnGb9xaueP0HrjitGWMHtiM2skb/N6wyHvxsFau37i/XbXZoVJv7z+9YbJ0tW7bQpEmTw/MpKSl8//33R9TZtm3b4Toul4s6deqwZ88e6tevX6b4avQn89PM2bhwcPOeXCL2vMRVkkuuwN4Dn/HPF2aRLT6yRDnggCyHsN/h4IDDga+ErFzL6//iPvQF3sD3x3ysV4jx+acor5Mon5NIrwuXz0WURiBE4pUovI5I/+SMwueIRJ1RqDMSIqLQ6Gi8rkgyI6LJdEXjiIjCGRmDMyIKZ2Q0rogYXFExuKKiiYyKISIylsjoaKKiY4mKjiU6KpKoCBcxjtL9utj+QGtyo7J5pl5dLqj3Fz7ZN5Fb9mXQIi+Ohpc/H9Q26gamtkUsd/vc7Dq4i61ZW9mWvY3t2dvZlr2Nbdnb+C1rGwuyt5LjycH/0Y0CINIR6b/+Ebju0SgumeS4hjSMaUBy7HE0jK5PtDPCnzyOTiQ+L6gvsMxz1DLfUfOeQsoK/D267PPbDr+v2LxdAHR2bGK63Ml/Tv2a17/dxPz1u3lq+Imc3LReqf4tjKkINTpB7HIJ0e4oJh4H4AOiAXD5INrnJNrnJMrnIsrnIt4bSYJGEkU00RJNlMQS5Ygj2hFHtCueGGdtYiNrExNRm8ioOJyRMUREReOKiiEi8DoqKoboSBfREQ6iXU6iI5z+1xH+892V/W6JzSffSd8l/2Jw9lbS4vK5KX0rORrJT13vpGE57SPCEUGj+EY0im9U6HJVZX/+/sOJY2vW1iOSyIJtC9h1cBfKkdcoEqITSI5L/iOJxDc6Yj4hOqH823/+05C5GYBFLUbR85cnAYh2wbgeytkdTuGOD5Zz8YvfMapPa27uezyRLrvzvLIq6Zd+qDRu3JjNmzcfnk9PT6dx4yPvgktOTmbz5s2kpKTg8XjIzMwkMTGxzPuu0QniOI+yIyIPX349zo8ZxOe5nyAOD/W8+Xx5zY+V/gu7onUfcj2LgCZLnwCF7RzH5q530n3I9RUWg4hQJ6oOdaLq0Dah8OMQt9fNjoM7jjgCOZRINmZu5Nut3waOQv4Q5Yw6nCwKSyRJcUlEOaNKF2y/cfDZGHDnkO8KPMTkjARXFLx0Fj173cGsMTfz4PQNTPxqA3PX7uTp4V1ok1T0A0+m5unevTvr169n06ZNNG7cmNTUVN57770j6gwaNIi33nqL0047jSlTptC3b99y+f6q0QliaJ3+/msQkftoFlMbhzebaJ+PC+r2t+RQhO5Droch1/NzWhoN/7Kh3I4cylOEM4KUWimk1EopdPmho5BDp7GOOJWVtY1vtnzDrpxdf1ovMTrRnzzikw8nkeS4ZBrGN6RRXCPqRtU98nPTeTjT967kmY0fc0FkJI82bcItLS9kcPdbYdZYSPs3tVdP46kLnuecDl3558crOW/iN9zVvy1Xn94CRylPAZrqyeVy8dxzz9G/f3+8Xi9XX301HTt2ZNy4cXTr1o0hQ4ZwxRVXcNNNN9G6dWsSEhJITU0tn32Xy1aqqDGXPA2Bu5gAGrh9Ib+LyYRfwaOQ9ontC62T781nx8EdbM/e/qfrIRsyNjA/fT653iOfSo12Rh8+AmkU34j9+ftJ+z0Nt1Nwq5ttTuGB9FnQ9FQGX/QKdBrmv07xSj8GnD6GrqNv455p63h4+hrmrN7Bk5ecSJOE0DxHYqqWQYMGMWjQoCPKxo8ff/h1dHQ0H374YbnvN6QJQkQGAM8ATuBVVX3sqOUTgD6B2ViggarWFZE+wIQCVdsBI1T1k/KOccwlTzMG/4AbN120qrw3b6qoSGckTWo1oUmtJoUuV1Uy8jKOOAIpmEjmpc9jd87uw/XfPfgu4H+w8Jmlz/ifPG87EJqeBl/8C76ZwHFrPueVoc/xYcfOjP9sNQOfmc+48ztwSdcUO6I1YRGyBCEiTuB54BwgHVgkItNUdfWhOqp6W4H6NxO4M1BV5wJdAuUJwAbgi1DFakxpiQj1outRL7oeHRI7FFrnhLdOOPw60ZHIFq+/D6Zt2dvw+Dy4HC6IqQtDn4OOF8JntyCvD2D4qTfS86Z/cPsn67lrygrmrN7Bv4edQP34Ul4DMaaMQnnLRA9gg6puVNV8IBUYWkz9kcD7hZRfDMxU1eIfAzamkkmOSz78ekjMkCOWDZs2jDm/zUE1cLdV635w0wLo/ndY+AIpqf1IPTufewe1Z97aXfSf8DWzV22vyPCNCWmCaAxsLjCfHij7ExFpBrQAvipk8QgKTxzGVGq3nHwL0c7oI8qiHFH8tf1fEYTb025n5PSRfLf1O3+iiKoFg5+CK6eDOHC8M4Rr909k+vUn0rBONNe/s4R/fLCc/bnuML0jU9PI4V8w5b1hkYuBAap6TWD+cuAUVR1dSN27gRRVvfmo8mRgBdBIVf/0v0JErgOuA0hKSupaliv3WVlZxMfHH/P6NY21V3Ay8zPZmb2TulKXDM2gQVwD6kTWwac+FmUvYnrGdPZ593F81PEMqTeE5lHNAXB482ix6T1S0qeRF5XAmuNv4vW9J/D5RjcJ0cI1J0TRPtFZ/M6rsMry+apTpw6tW7cOdxgl8nq9OJ0lfx42bNhAZmbmEWV9+vRZoqrdCl1BVUMyAacBswvM3wPcU0TdH4GehZTfArwczP66du2qZTF37twyrV/TWHuVTlHtlefJ03dXv6u9Untppzc76c1f3qzr9q77o8LvP6hO7K56f23Vj2/UZes2ae8n5mqzuz/X8Z+t0px8T8W8gQpWWT5fq1evDncIQdm/f39Q9Qp7P8BiLeJ7NZSnmBYBx4tICxGJxH+qaNrRlUSkHVAPWFDINoq6LmFMtRDpjOSy9pcxc9hMbj7pZhZtX8RF0y7in/P/SfqBdGjSHW6YD2feActTOfHTc5k1YD+Xn9qM177ZxHkTv2FlembJOzJV2qxZs2jbti2tW7fmscce+9Py//u//+O4446jS5cudOnShVdffbVc9huyBKGqHmA0MBtYA3ygqqtEZLyIFLxiNwJIDWSyw0SkOdAEmBeqGI2pLGIjYrmu83XMHDaTKzteyRe/fcH5n5zPIwsfYbf7APS7D66bC3ENiJpyOQ95nua9v7TiQK6bC1/4lme/XI/HG/z4FKbqONTd98yZM1m9ejXvv/8+q1ev/lO9Sy+9lGXLlrFs2TKuueaactl3SDt+UdUZqtpGVVup6iOBsnGqOq1AnQdUdWwh6/6qqo1V1T71psaoG12X27vdzvQLp3Nh6wuZsm4Kg6YO4pmlz7A/sYU/SfT5F6yeRs9Zg5jbfw+DT2jI03PWcdGkBfyyKyvcb8GUs4LdfUdGRh7u7rsi1OgnqY2prJLikhh32jiu7Hglzy17jldXvsrktZO5utPVXHb6aGLaDYZPRxH72XU803Yw5114F3fM2sngZ+dzz8D2XH5qM+uqo7zNHAvbV5bvNhueAAP/fMqooGC6+wb46KOP+Prrr2nTpg0TJkw4Yp1jZV1HGlOJNa3dlP/0+g9Tzp/CSQ1O4pmlzzBo6iBS963AfeUMOOch+OVLzpk7hK/P3cqpLRK4f9oqrnj9B7Zl2tCmNcWAAQP49ddfWbFiBeeccw5/+9vfymW7dgRhTBXQNqEtz/d7nqU7lvLM0md45PtHeGvVW9zU5SYGXf81zs9uoc7sW3ijVT8+GXAX//xyH+dO+JqHhnZiaJdG1lVHeSjhl36oBNPdd2JiIlFR/iftr7nmGu66665y2bcdQRhThZycdDJvDniTF/q9QHxkPP/85p9c/N1Y5va7Cx3wH+T3hVz43UV8028TbY6L5dbJyxj13lL2ZueHO3RzjAp2952fn09qaipDhhz5ZP727X88ZT9t2jTaty+8E8rSsgRhTBUjIpyZciaTz5vME72ewO1zMybtFi7fO59Fw1+Cxl1JTBvLlLjHeahXLHNW76D/f7/mq593hDt0cwwKdvfdvn17hg8ffri772nT/Pf7TJo0iY4dO3LiiSfy7LPP8uabb5bLvkP2JHVF69atmy5evPiY109LS6N3797lF1A1Z+1VOqFsL7fPzacbPuXF5S+y8+BOeib3ZExsSzrOfw58HrZ1u5OrV53Emp0HGdmjKf8a3J64qMp9drmyfL7WrFlTbr/GQ+nAgQPUqlXyQFOFvR8RKfJJajuCMKaKi3BEcHGbi5l+4XTu6HYHq/euZsQv73J7t/PY2Kw7yQseZHrtR7mnh4PURb8z8Jn5LPp1b7jDNlWAJQhjqoloVzR/6/g3Zg6byQ0n3sC3O5dyoe83xnU9nx1713P9qr/x9WnLcKiH4S8t4LGZP5Pn8YY7bFOJWYIwppqJj4xnVJdRzLxoJn9p9xc+z1jN4OQEHm/RkbhlT/JlnYe4tVMek+b9wtDnvmX11v3hDtlUUpYgjKmmEqITuLvH3Uy/cDrntTyP93x7GdiiJZN8O/n7xuv4qut3ZBzIZujz3/BC2ga8vupxPdKUH0sQxlRzyfHJjD99PB8P/ZjTm5zFpLgIBjZtwvzNb/G/eg9ydYsM/jNrLZe+tIDf9mSHO1xTiViCMKaGaFmnJU/3fprU81Lp0KgHTybWY2hsFq0z72Jmxzls2rGHgc/M573vf6e63N1oysYShDE1TMfEjrx0zku83v91GjboxPj69bgzbxbjG9zHJUnp/PPjlVz95iJ27s8Nd6gm4Oqrr6ZBgwZ06tSp0OWqypgxY2jdujWdO3dm6dKl5bJfSxDG1FDdG3bn3cHv82yfZ4mo05SxcV5WRzzBI23eZukv6Zz736+ZvmJbuMM0wJVXXsmsWbOKXP7FF1+wfv161q9fz8svv8yNN95YLvu1BGFMDSYi9GnahykXzeTRU8dxIKYOjzlXc2Lz+zmt7teMem8pt6b+SOZBGwc7nHr16kVCQkKRy2fMmMEVV1yBiHDqqaeSkZHBtm1lT+6V+3FKY0yFcDqcnN/2Ega0voCPFv6Hl9alsrvOp/SKT+OrtSNY+N+9PHFJZ848/rhwhxo2j//wOD/v/blct9kuoR1397i7zNvZunXrn7oE37JlC8nJyWXarh1BGGMOi3BGMOL0e5l+aRq3xLdnA/ug2STqJDzDFW/PYNynP5GTbw/X1RR2BGGM+ZPY2ESuuegDLtk0jzf+dyv/F/ULdVo9ycebTmbec8P478W9OKlpvXCHWaHK45d+qDRq1KjELsGPhR1BGGOKVKfFWdx61UJmpFzAJQeycNVdQka9+xkx5T4enbUYt42DXSkMHDiQt99+G1Vl4cKF1KlTp8ynl8COIIwxJXFFcdw5j3Bvp+Fc8emNvODdzvSEeby/dSEzXz2X58+7hc6Nk8IdZbU2cuRI0tLS2L17NykpKTz44IO43f4bB2644Qb69+9PWloarVu3JjY2ljfeeKNc9msJwhgTnOQTaXLtPP79zX+56runeLZeXebFfMZfZs2ld9JInux/PdERUeGOslp6//33i10uIjz//PPlvl87xWSMCZ4zAs66kzZ/n8tzjmTe3bqdDj438/a8Qs//688byz/E67OL2NVFSBOEiAwQkbUiskFExhayfIKILAtM60Qko8CypiLyhYisEZHVItI8lLEaY0qhQXv4+xxO7HUfqTs289zOLGLzPDy9bDxnf3A+c36dY911VAMhSxAi4gSeBwYCHYCRItKhYB1VvU1Vu6hqF2AiMLXA4reBJ1S1PdAD2BmqWI0xx8DpgtPH4LjhW85KbMv8bSu5eW9t9u7P5vZ5tzP8sxEs3LYw3FGaMgjlEUQPYIOqblTVfCAVGFpM/ZHA+wCBROJS1TkAqpqlqgdDGKsx5ljVbw1XzkAGPsG1BzexYMc6TtrRgZ93beXaL67lmi+uYeWuleGO8phVlyOhY3kfIRuTWkQuBgao6jWB+cuBU1R1dCF1mwELgRRV9YrIBcA1QD7QAvgfMFZVvUetdx1wHUBSUlLX1NTUY443KyuL+Pj4Y16/prH2Kp2a0l7ROTtos+55EvYtZ6GjPWOiu5F/3GK8jmw6x3TmvLrnkRxZ8u2XlaW94uPjSUpKok6dOohIuMMpktfrxel0FrlcVcnMzGTHjh1kZWUdsaxPnz5FjkldWRLE3fiTw80F1n0NOAn4HZgMzFDV14raX7du3XTx4sXHHG9lGSS9qrD2Kp0a1V6q8OM76Ox/4nHn85B7GDMbxEO9+eT7cjmv5Xnc1OUmGscX/SBXZWkvt9tNeno6ubmVu2fb3NxcoqOji60THR1NSkoKERERR5SLSJEJIqjbXEUkBmiqqmuDjBdgC9CkwHxKoKwwI4BRBebTgWWqujGw/0+AU/EnDWNMZSYCJ1+BtOpHxOe3MX79+wzf15abd1xGwgnbmbVpFjM2zWB4m+Fc2/la6sfUD3fERYqIiKBFixbhDqNEaWlpnHTSSeW+3RKvQYjI+cAyYFZgvouITAti24uA40WkhYhE4k8Cf1pPRNoB9YAFR61bV0QO9QzWF1gdxD6NMZVFncbwl8kw7BU6Ru3ki4iH6bFiL/V230uv5IFMXjuZQVMH8ezSZ9mfb+NiV0bBXKR+AP8F5wwAVV2G/7pAsVTVA4wGZgNrgA9UdZWIjBeRIQWqjgBStcC5rsC1hjuAL0VkJSDAK0HEaoypTESg83Bk1A9EtBvA3RGpTNz/MBvmNuGiBs9wZuNevLLyFQZ+NJDXf3qdj9d/zLlTzmX1ntWcO+Vcpm+cHu53UKMFc4rJraqZR12gCerCharOAGYcVTbuqPkHilh3DtA5mP0YYyq5+AZw6Tuw6hPaTr+DaXovE78ZyrKGf2PCgJF89OurTFgy4XB1b5yXbdnbeOC7BwAY3HJwmAKv2YI5glglIn8BnCJyvIhMBL4LcVzGmOqo4wU4Rv+As/PF3OqaymO7RzPprQWcFnc3CVGJh6v9L/d/AOR6c3lm6TPhirbGCyZB3Ax0BPKA94BM4NYQxmSMqc5iE2DYyzByMi3j3HzgvI/s6f9i17rB+Ny1ANjo3Xi4+vbs7eGKtMYrNkEEnoaerqr3qmr3wPQvVa3c93wZYyq/tgNwjv4eOemv3Oj6jM88r9Fu0/m4MzsRzR+3bNaOqLmj2IVbsQkicLHYJyJ1KigeY0xNElMXGToRLv+Y2s79fBjxOHft9JFwsDsAkT4fbbY3DXOQNVcwF6mzgJUiMgfIPlSoqmNCFpUxpmZp1Zd8bzS/ReZxNbNovK0zd7YQUjwexmd8He7oaqxgEsRUjuxEzxhjyl2yYy8Oj3JQI+nvWMF7u3uxtMGvbI7NICXcwdVQJSYIVX0r8KBbm0DRWlV1hzYsY0xNkxvTkNicbcRKPplShxuztnBngvBcYn1OVa3UfSFVV8E8Sd0bWI+/6+4XgHUi0iu0YRljaprYgePxOP0Xp7ccdxanyi8033M8KyIdfLPlmzBHVzMFc5vrU8C5qnqWqvYC+gMTSljHGGNKp/NwXEMnQp0m7KrbhWyJ5a6stdSJaMDzy56vNt1uVyXBJIiIgp30qeo6IKKY+sYYc2w6D4fbfkIbdSV22EROcGymxbbGrNqzirmb54Y7uhonmASxWEReFZHegekV4Nj71TbGmCBIx2EcTOjAg5kLqOVsyPPLnsenvnCHVaMEkyBuxN+T6pjAtDpQZowxoeNwEDvgQVo6dtJuSyLr9q1jzm9zwh1VjRJMgnABz6jqMFUdBjwLFD10kTHGlJfjzyGvUQ8ePriQeEnmhWUv4PV5S17PlItgEsSXQEyB+Rj8Q4AaY0xoiRDV/0EayT66bKnFxsyNzNg0o+T1TLkIJkFEq+rhQUwDr2NDF5IxxhTQrCeelmfzaN5CYnzJTFo+CY/PE+6oaoRgEkS2iJx8aEZEugI5oQvJGGOO5DpnHPXI4sztMfx+4Hc+++WzcIdUIwSTIG4FPhSR+SLyDTAZ/0hxxhhTMZJPxNfhQh7KW0iUuzEvLp+E22sdOoRaiQlCVRcB7fDfuXQD0F5Vl4Q6MGOMKcjR7z6ixc2gnQ62ZW9l6nrrIi7UikwQItJdRBoCBPpeOhl4BHhKRBIqKD5jjPFLbIWc9Ffuy/+eyNzGvLTiZfK8eeGOqlor7gjiJSAfIND30mPA2/hHlHs59KEZY8yR5Ky7cTqdjNjjYVfOTj5c+2G4Q6rWiksQTlXdG3h9KfCyqn6kqvcBrUMfmjHGHKVOYxw9ruUf+UuIOpjCSyte4aD7YLijqraKTRAicqg78H7AVwWWBTOOBCIyQETWisgGERlbyPIJIrIsMK0TkYwCy7wFlk0LZn/GmBrgjNshMpZr9x0kI28vqWtTwx1RtVVcgngfmCcin+K/rXU+gIi0xn+aqViB8ayfBwYCHYCRItKhYB1VvU1Vu6hqF2AiRw5MlHNomaoOKcV7MsZUZ3GJOHrezPX5y4jJSuGV5a+T7c4ueT1TakUmCFV9BPgH8CZwhv7R164DuDmIbfcANqjqRlXNB1KBocXUH4k/KRljTPFOG4XGJHL7/gyyPJm8s+rdcEdULRV7m6uqLlTVj1W14FjU61R1aRDbbgxsLjCfHij7ExFpBrTgyNNY0SKyWEQWisgFQezPGFNTRNVCzrydEXmrqXUghddWvkFmXoknNkwpBXUtoQKMAKaoasFeuJqp6hYRaQl8JSIrVfWXgiuJyHXAdQBJSUmkpaUdcwBZWVllWr+msfYqHWuv0gmmvRzeNvSISuRf+7dzdy0PD0x/iKEJ51VMgJVMyD5fqhqSCTgNmF1g/h7gniLq/gj0LGZbbwIXF7e/rl27alnMnTu3TOvXNNZepWPtVTpBt9fiN1Xvr629JvbXk97qpntz9oY0rsqqLJ8vYLEW8b0aTFcbx2oRcLyItBCRSPxHCX+6G0lE2gH1gAUFyuqJSFTgdX3gdPzjUBhjzB+6XAaJrXk0eytuXx4v/PhquCOqVkpMECIyTETWi0imiOwXkQMisr+k9VTVg7/PptnAGuADVV0lIuNFpOBdSSOA1EAmO6Q9/pHslgNzgcdU1RKEMeZIThf0uZfTc34j+UAjPlw3md05u8MdVbURzDWI/wDnq+qa0m5cVWcAM44qG3fU/AOFrPcdcEJp92eMqYE6XAANJ/Bk5m/8pVYkT34/icd6/yvcUVULwZxi2nEsycEYYyqEwwH9xtE5Zystsxoy49eP2J69PdxRVQvBJIjFIjJZREYGTjcNE5FhIY/MGGOC1fpsaNqTp7N/wYeP8fMnhjuiaiGYBFEbOAicC5wfmGrmvWTGmMpJBM6+n9Y5uzghO4n526ezef+WcEdV5ZV4DUJVr6qIQIwxpkyangrH9+eJzQsZGJvAPV89zbsXPBXuqKq0YO5iShGRj0VkZ2D6SERSKiI4Y4wplX73kZKbySm5x7E843+s2b0x3BFVacGcYnoD//MLjQLTZ4EyY4ypXBqeAJ0u4pF9P4E6GPulHUGURTAJ4jhVfUNVPYHpTeC4EMdljDHHps+9JLnz6JefyC8581m42R6hOlbBJIg9IvJXEXEGpr8Ce0IdmDHGHJPEVnDy5dy3awUOdfGvtKfDHVGVFUyCuBoYDmwHtgEXA3bh2hhTeZ11N4kIQ9112eH7ns/WLA53RFVSiQlCVX9T1SGqepyqNlDVC1T194oIzhhjjkntRtDjWu7Y/iMOXxSPLvgvR/bmY4JRZIIQkbsCfyeKyLNHTxUXojHGHIMzbqeOK46RnjiynMt5bdHX4Y6oyinuCOJQ9xqLgSWFTMYYU3nFJkDPmxm9dTkuXzQvLHuBfI8v3FFVKcUNOfpZ4OVBVX2r4IT/yWpjjKncTruJ+JhE/u6JxB21mv+kzQp3RFVKMBep7wmyzBhjKpeoWnDmP7h66yqifTFM3vAKGQfzwx1VlVHcNYiBIjIRaHzU9Yc3AU+FRWiMMWXR7WpiazXmBrdAzAbum/1puCOqMoo7gtiK//pDLkdee5gG9A99aMYYUw4ioqH3WC7btpZ4jeWr7W+zaVdWuKOqEoq7BrE8cL2h9VHXIKaq6r4KjNEYY8rmxJFEJ7Tm5lw3jthfuWfWR+GOqEoI5hpEcxGZIiKrRWTjoSnkkRljTHlxuqDvvVy8/RfqEceK7FS+32gdQpQk2M76XsR/3aEP8DbwbiiDMsaYctd+KJHJJzImOxtnTDr3zp6Mz2cPzxUnmAQRo6pfAhJ4qvoBYHBowzLGmHIWGJp06M7faSDxbHV8wifL0sMdVaUWTILIExEHsF5ERovIhUB8iOMyxpjy16ofEc3O4JbMvTijt/HveR+S6/aGO6pKK5gEcQsQC4wBugKXA38LZVDGGBMSItBvHIP3bCfFUYvs2Bm8Mn9DuKOqtILprG+RqmaparqqXqWqw1R1YTAbF5EBIrJWRDaIyNhClk8QkWWBaZ2IZBy1vLaIpIvIc0G/I2OMKU7TU3C2GcAte3bgjN7BpMVT2XUgL9xRVUpFjkktIp8BRV7BUdUhxW1YRJzA88A5QDqwSESmqerh0TtU9bYC9W8GTjpqMw8B1sOWMaZ89b2PcyedwYv1k9hQ7wuemjOQx4Z1CXdUlU5xRxBPAk8Bm4Ac4JXAlAX8EsS2ewAbVHWjquYDqcDQYuqPBN4/NCMiXYEk4Isg9mWMMcFr2AnHCRczZkc6jsjdTF33Ket2HAh3VJWOlNRHuogsVtVuJZUVst7FwABVvSYwfzlwiqqOLqRuM2AhkKKq3sBF8a+AvwJnA92KWO864DqApKSkrqmpqcW+l+JkZWURH2/X3oNl7VU61l6lUxHtFZ2zje4/jOLipq1Y742lecad3NGtav4blaW9+vTps6So7/MiTzEVECciLVV1I4CItADijimSoo0ApqjqodsJbgJmqGq6iBS5kqq+DLwM0K1bN+3du/cxB5CWlkZZ1q9prL1Kx9qrdCqsvbw/cNvqyYxKSmSt5wccjW6mV5vjQr/fchaq9grmLqbbgDQRSRORecBc4NYg1tsCNCkwnxIoK8wICpxeAk4DRovIr/hPdV0hIo8FsU9jjAlerzs5M99LZ0c8MQ3m8vD0FXjt4bnDgrmLaRZwPP7bXccAbVV1dhDbXgQcLyItRCQSfxKYdnQlEWkH1AMWFNjnZaraVFWbA3cAb6vqn+6CMsaYMqndCOlxHaO3bESdGWzK/5IPFm8Od1SVRnHdffcN/B2G/8npVoFpcKCsWKrqAUYDs/GPTveBqq4SkfEiUvAOqBFAqtqAscaYcDjjNk7VSLpJLHFJ83hyzk9k5dmIBlD8NYiz8F8oPr+QZQpMLWnjqjoDmHFU2bij5h8oYRtvAm+WtC9jjDkmsQlIzzGM/u4JrmyURHbEPF6a14p/nNs23JGFXZEJQlXvD/y9quLCMcaYMDj1Rrp+P4nTiGZx0nxenn8qI3s0pVHdmHBHFlbFPSh3e3ErqurT5R+OMcaEQVQ89LqD0XPHcVmjhjjqfseTs1vw9KVdwh1ZWBV3kbpWCZMxxlQf3a6mc3QSZ3kjiD1uPlOX/8KK9IxwRxVWxZ1ierAiAzHGmLByRUHvsYyaeSvzGidTp+F3PDy9EZOvO5Xinseqzkq8zVVEokVklIi8ICKvH5oqIjhjjKlQnUfQvnYLznY7cNWbzw+/b+aL1TvCHVXYBPOg3DtAQ6A/MA//A2/WaYkxpvpxuqDvv7hpxxbcvhySmizksZk/k+/xhTuysAgmQbRW1fuAbFV9C/8zEaeENixjjAmT9kM4vn5HBuSBJ+5rft23g3cX/hbuqMIimAThDvzNEJFOQB2gQehCMsaYMAoMKnTjrq14fPm0aPU9z3y5noyD+eGOrMIFkyBeFpF6wH34u8pYDTwe0qiMMSacWvWlRePTOC/HTUbEPA549jDxq5o38lxxXW2sFpF/AXNVdZ+qzlPVlqraQFVfqsAYjTGmYolAv/u5YfcO1OemQ7tFvL3gV37dnR3uyCpUcUcQI/F36/2FiPwgIreJSHIFxWWMMeHVpDtNWvVnaHYeW71pRERl8visn8MdVYUqMkGo6nJVvUdVW+HvxbUp8L2IzBWRayssQmOMCZe+/+L6PbtBvXTssIiZP23nh017wx1VhQnmGgSqujAwfvQVQF3guVAGZYwxlUJSR5I7DOPiA9msP/gVDepl8cj01fhqyJgRwTwo111EnhaR34AHgJeARqEOzBhjKoU+93BtZiYuVdq0W8Dy9Ew+W7E13FFViOIuUj8qIr8AL+AfCe50Ve2tqpNUdU+FRWiMMeGU0JLjTrycS/fvZ2XGXNo2OcjjM38m1+0ted0qrrgjiFxggKp2V9WnAuNDn1dRgRljTKVx1l1cfSCXKKBx82/YmpnLa99sCndUIVfcRerxqrr+qOLxIY7HGGMqn1oNSex+HZdlZLB491xOb5/Pi2m/sOtAXrgjC6mgLlIXUDO7NDTGmNNv4cociEOITfqSXLeXCf9bF+6oQqq0CeL6kERhjDGVXWwCdXqO5vJ9+1i4Yx6Du/lI/eF31u2ovn2XBnMX0yUicmiAoP4iMlVETg5xXMYYU/mcciOXeyKprQ5y4qYTH+Xi0Rlrwh1VyARzBHGfqh4QkTOAvsBrwIuhDcsYYyqhqHhqnXknV+3by4Lt33BxTx9pa3fx9bpd4Y4sJIJJEIfu5RoMvKKq04HIYDYuIgNEZK2IbBCRsYUsnyAiywLTOhHJCJQ3E5GlgfJVInJDkO/HGGNCq+uV/IW6JKjwu06laUIsj85Yg7caPjwXTILYIiIvAZcCM0QkKpj1RMQJPA8MBDoAI0WkQ8E6qnqbqnZR1S7ARGBqYNE24LRA+SnAWBGxh/OMMeHniiK2zz1cvXcv329fyPAz8vl5+wE+XLw53JGVu2ASxHBgNtBfVTOABODOINbrAWxQ1Y2qmg+kAkOLqT8SeB9AVfNV9dD9Y0ElJGOMqTCdL2V4ZDL1fbA48z26NqvLk1+sIyvPE+7IylUwX7zJwHRVXS8ivYFLgB+CWK8xUDClpgfK/kREmgEtgK8KlDURkRWBbTyuqjXj2XZjTOXncBLT9z6u3buXJTuXcsFpB9mdlcdL834Jd2TlSlSLP28mIsuAbkBzYAbwKdBRVQeVsN7F+J/EviYwfzlwiqqOLqTu3UCKqt5cyLJGwCfA+aq646hl1wHXASQlJXVNTU0t9r0UJysri/j4+GNev6ax9ioda6/SqRLtpUqnpXcwom4uMbEtiN05iqU7fDx2ZgyJMRV70qMs7dWnT58lqtqtsGWuINb3qapHRIYBE1V1ooj8GMR6W4AmBeZTAmWFGQGMKmyBqm4VkZ+AM4EpRy17GXgZoFu3btq7d+8gwipcWloaZVm/prH2Kh1rr9KpMu3V9Emu/+QyxrscPNjfyY/vwrf7E3h6YJcKDSNU7RXUmNQiMhJ/V9+fB8oiglhvEXC8iLQQkUj8SWDa0ZVEpB1QD1hQoCxFRGICr+sBZwBrg9inMcZUnFZ9uKD+yTT2+Ehd9zJX9WzO1B+3sCI9I9yRlYtgEsRVwGnAI6q6SURaAO+UtJKqeoDR+C9wrwE+UNVVIjJeRIYUqDoCSNUjz3W1xz840XJgHvCkqq4M7i0ZY0zFieh7Pzfs28eafWvp1OZ3EuMieXj6Gko6fV8VlHiKSVVXi8gdQBsR6QSsVdXHg9m4qs7Af92iYNm4o+YfKGS9OUDnYPZhjDFh1aQ75zU6i9dylvP6yue55exnGPfpar5YvYP+HRuGO7oyCeZ5ht7AevzPNLwArBORXqENyxhjqg5Xv/u4cW8GG/ZvIrHBGlo3iOexmT+T7/GFO7QyCeYU01PAuap6lqr2AvoDE0IbljHGVCFJHRjQ8jxauz1MWjaRsQPbsGl3Nu8u/C3ckZVJMAkiQlUPXyBW1XUEd5HaGGNqDEfff3JTxgF+zUonO+IHzmhdn2e/Wk/mQXe4QztmwSSIJSLyqoj0DkyvAItDHZgxxlQp9ZrTr92ltM/LZ9KPz3HXgOPJzHEz8aujx12rOoJJEDcAq4ExgWk1cGMogzLGmKrIcdadjNqfQ/rB7aw/OJfhXZvw1oJf+XV3drhDOybFJohAh3vLVfVpVR0WmCYU6CfJGGPMIbUa0uvEq+icm8ekHydyc7/mRDgdPD7r53BHdkyKTRCq6gXWikjTCorHGGOqNDnjVkZle9ieu4f5O6Zzfa9WzPxpO4t+3Rvu0EotmFNM9YBVIvKliEw7NIU6MGOMqZJi6nFat5s4OTeXV358nst7JtOwdjQPf74aXxUbMyKoEeWA84Dx+G95PTQZY4wphJx6I6NzhF35mXy+aSp39G/L8vRMPltRtTqlLjJBiEhrETldVecVnPCPMJdecSEaY0wVExlH99Pu4JScXF5b/iIDOtWjU+Pa/GfWWnLd3pLXrySKO4L4L7C/kPLMwDJjjDFF6Xolo93R7HVnkbr2Pe4d1IEtGTm89s2mcEcWtOISRFJhHeQFypqHLCJjjKkOXJF0OfOfnHEwhzdXvMIJTaI4u30SL6b9wu6sqnEjaHEJom4xy2LKOQ5jjKl+Og9nNPXI9Obwzqq3uGdQO3LdXibMWRfuyIJSXIJYLCLXHl0oItcAS0IXkjHGVBMOJx1730/f7IO8/dPr1K/t5a+nNuP9H35n3Y4D4Y6uRMUliFuBq0QkTUSeCkzzgL8Dt1RIdMYYU9W1G8xNkY3J8uXz1srXGNPveOKiXDw6Y024IytRkQlCVXeoak/gQeDXwPSgqp6mqtsrJjxjjKniRGjbdzz9s7J5d/U74MxiTN/jSVu7i6/X7Qp3dMUq8TkIVZ2rqhMD01cVEZQxxlQrLXtzU3wb8nxu3lj+Elf0bEbThFgenbEGbyV+eC6YB+WMMcaUUct+jzA46yCpayezP38vdw9ox8/bD/Dh4s3hDq1IliCMMaYipHTlhsSTcfs8vPrjcww6oSFdm9XjyS/WkZXnCXd0hbIEYYwxFaRpv4cZmpXNhxs+YcfBHfxrcHt2Z+Xx0rxfwh1aoSxBGGNMRWnQjuuTz0LVy8uLJ3BS03qcf2IjXpm/ka0ZOeGO7k8sQRhjTAVq1PdBLso6yMe/ziT9QDp39W+LT+HJ2WtLXrmChTRBiMgAEVkrIhtEZGwhyyeIyLLAtE5EMgLlXURkgYisEpEVInJpKOM0xpgKU68Z1zYbjEN9vLToSZokxHL16S2Y+uMWVqZnhju6I4QsQQRGo3seGAh0AEaKSIeCdVT1NlXtoqpdgInA1MCig8AVqtoRGAD8V0TqhipWY4ypSEl97mN4Vi7TNn/Jr5m/clOfViTERfLw9NWoVp7bXkN5BNED2KCqG1U1H0gFhhZTfyTwPoCqrlPV9YHXW4GdwHEhjNUYYypOfAP+3mY4UT4fL37/b2pHR3DbOW34ftNevli9I9zRHeYK4bYbAwVv8E0HTimsoog0A1oAf3oQT0R6AJHAny7zi8h1wHUASUlJpKWlHXOwWVlZZVq/prH2Kh1rr9KpCe3lkp5cmvUBb239ji5fvE8jV0MaxQnjPlqKc0cMLocEva1QtVcoE0RpjACmBMbAPkxEkoF3gL+pqu/olVT1ZeBlgG7dumnv3r2POYC0tDTKsn5NY+1VOtZepVNT2qtTxAo+3PR/LPLM5ulz30Qa7eDqNxezOao5V53eIujthKq9QnmKaQvQpMB8SqCsMCMInF46RERqA9OBe1V1YUgiNMaYMKrb81b+muNjzq4l/LxnDX3aNuCM1vV55sv1ZB50hzu8kCaIRcDxItJCRCLxJ4FpR1cSkXZAPWBBgbJI4GPgbVWdEsIYjTEmfCJjueKkUdTy+nj+2wcREf45qD2ZOW4mfrU+3NGFLkGoqgcYDcwG1gAfqOoqERkvIkMKVB0BpOqRl+6HA72AKwvcBtslVLEaY0y41O5+HVfmO0jbt4qVO5fToVFthndtwlsLfuW3PdlhjS2kz0Go6gxVbaOqrVT1kUDZOFWdVqDOA6o69qj13lXViEO3wAamZaGM1RhjwsIVyWU97qSu18vz3z4AwD/ObUOE08FjM38Oa2j2JLUxxoRZXJfLuNoTzbf7N7B02yIa1I7m+l6tmPnTdhb9ujdscVmCMMaYcHM4GXH6fSR6vDz37f0AXNurBQ1rR/Pw9DX4wjRmhCUIY4ypBGI6XMA1UpdF2Zv5fvN8YiNd3NG/Lcs3Z/DZiq1hickShDHGVAYiXHLWQzTweHjuuwdRVYad1JiOjWrzn1lryXV7S95GObMEYYwxlURUq35c72rIstwdfPvb/3A4hHsHt2dLRg6vfbOpwuOxBGGMMZXIhX0fo7Hbw3MLHkZV6dmqPme3T+LFtF/YnZVXobFYgjDGmEokoskpXB/TnFX5e5m7wf9EwD2D2pHr9jJhzroKjcUShDHGVDLnn/0UTd1unv/hP/jUR6vj4vnrqc14/4ffWbfjQIXFYQnCGGMqGVdSB26s3Yl1nv3MWTMZgDH9jicuysWjM9ZUWByWIIwxphIaeM4TtMp388KS/+L1eUmIi+Tmvq1JW7uLr9ftqpAYLEEYY0wl5KzXghvrd2ej7yAzVrwBwN96NqdJQgyPzliDtwIenrMEYYwxldQ5Zz9Bm3wPk1ZMwuPzEOVyMnZAe37efoAPF28ueQNlZAnCGGMqKUethoxOPovfNY/Plr4AwKATGtK1WT2emrOOrDxPaPcf0q0bY4wpk959/02nfC+TVr2B2+tGxP/w3K4Debw0708jMZcrSxDGGFOJSWw9RjUbxFY8TP3+SQBOblqP809sxCvzN7ItMydk+7YEYYwxldzpZz1IF7ePl9elkufJBeCu/m3xeJW+T85j5ZZMTn/sKz75sahRnY+NJQhjjKnkJCqOm1tfzE7x8eG3DwOw5Ld9AOS4vezIgS0ZOdwzdWW5JglLEMYYUwX0OONeerjh1U3TOJiXxROz1+IJ3Oqats0J+JPFE7PXlts+LUEYY0xV4IpkdIcr2SNK6vz72Jrxx7WHExN8h18XLC8rSxDGGFNFnHTqbZzucfLG5v+RUveP8SHa1f3joblGdWPKbX+WIIwxpqpwOBjd5SYyHNCv+UfERDiPWBwT4eTO/m3Lb3fltqVCiMgAEVkrIhtEZGwhyyeIyLLAtE5EMgosmyUiGSLyeShjNMaYqqTTydfS2xfFFzlLeOC8ZBoHjhga143h38NO4IKTGpfbvkKWIETECTwPDAQ6ACNFpEPBOqp6m6p2UdUuwERgaoHFTwCXhyo+Y4ypkkQY3e0fHHAIu3Y+zbdj+3JC4zp8O7ZvuSYHCO0RRA9gg6puVNV8IBUYWkz9kcD7h2ZU9Uug4jo+N8aYKqLtCSM5hzje2b2EfZm/h2w/oUwQjYGCvUmlB8r+RESaAS2Ar0IYjzHGVBs3nXYvOQJ3vN+P1XtWc+7rnZiedl+57sNVrls7diOAKarqLbFmASJyHXAdQFJSEmlpacccQFZWVpnWr2msvUrH2qt0rL1Klpl1gF75kXwfpfT1ebmgzk38vgc+/fw96sQ3Kpd9hDJBbAGaFJhPCZQVZgQwqrQ7UNWXgZcBunXrpr179y7tJg5LS0ujLOvXNNZepWPtVTrWXiU79/VOOMWDW1z8uO89ZkdlAZCcqXxx3k/lso9QnmJaBBwvIi1EJBJ/Eph2dCURaQfUAxaEMBZjjKlWtjsgPTKCzrl5ZEgOqB4uLy8hSxCq6gFGA7OBNcAHqrpKRMaLyJACVUcAqap6xPBIIjIf+BDoJyLpItI/VLEaY0xV0zDw8PSK6ChOTrgORI4oLw8hvQahqjOAGUeVjTtq/oEi1j0zdJEZY0zVdkvLC3lg08fkOuRwWbRPuaXlheW2j8pykdoYY0wpDO79EADPbPwYgGSvPzkcKi8PliCMMaaKGtz7IQb3foi0tDRuuqh8LkwXZH0xGWOMKZQlCGOMMYWyBGGMMaZQliCMMcYUyhKEMcaYQslRz6dVWSKyC/itQFEdILMU8/WB3SEK7+h9ldc6JdUpanlh5TWhvUqqZ+1Vunplaa+jy6y9Sl9WcL4s7dVMVY8rdImqVssJeLmU84srKpbyWqekOkUtL6y8JrRXSfWsvSquvY4us/Yq22cuVO1VnU8xfVbK+VA6ln0Fs05JdYpaXlh5TWivkupZe5WuXlna6+gya6/Sl4W8zarNKaayEpHFqtot3HFUFdZepWPtVTrWXqUTqvaqzkcQpfVyuAOoYqy9Ssfaq3SsvUonJO1lRxDGGGMKZUcQxhhjCmUJwhhjTKEsQRhjjCmUJYggiEiciCwWkfPCHUtlJyLtRWSSiEwRkRvDHU9VICIXiMgrIjJZRM4NdzyVnYi0FJHXRGRKuGOprALfWW8FPleXHet2qnWCEJHXRWSniPx0VPkAEVkrIhtEZGwQm7ob+CA0UVYe5dFeqrpGVW8AhgOnhzLeyqCc2uwTVb0WuAG4NJTxhls5tddGVf17aCOtfErZdsOAKYHP1ZA/bSzYfVbnu5hEpBeQBbytqp0CZU5gHXAOkA4sAkYCTuDfR23iauBEIBGIBnar6ucVE33FK4/2UtWdgTHHbwTeUdX3Kir+cCivNgus9xTwf6q6tILCr3Dl3F5TVPXiioo93ErZdkOBmaq6TETeU9W/HMs+q/WIcqr6tYg0P6q4B7BBVTcCiEgqMFRV/w386RSSiPQG4oAOQI6IzFDVchwWvPIoj/YKbGcaME1EpgPVOkGU02dMgMfw/4eutskByu8zVhOVpu3wJ4sUYBllOFNUrRNEERoDmwvMpwOnFFVZVe8FEJEr8R9BVMvkUIxStVcgoQ4DooAZoQysEitVmwE3A2cDdUSktapOCmVwlVBpP2OJwCPASSJyTyCR1FRFtd2zwHMiMpgydMlRExPEMVHVN8MdQ1WgqmlAWpjDqFJU9Vn8/6FNEFR1D/7rNaYIqpoNXFXW7VTri9RF2AI0KTCfEigzhbP2Kj1rs9Kx9jp2IW27mpggFgHHi0gLEYkERgDTwhxTZWbtVXrWZqVj7XXsQtp21TpBiMj7wAKgrYiki8jfVdUDjAZmA2uAD1R1VTjjrCysvUrP2qx0rL2OXTjarlrf5mqMMebYVesjCGOMMcfOEoQxxphCWYIwxhhTKEsQxhhjCmUJwhhjTKEsQRhjjCmUJQhToUTEKyLLROQnEflMROqGYB9pItKtlOuMF5Gzj2FfF4hIh7Jup5Dt9haRzEBbrRGR+8u6zfIgIleKSKNwx2EqhiUIU9FyVLVLoLvivcCocAckIk5VHaeq/zuG1S/A39MvAGXYTmHmq2oXoBvwVxE5OZiVRCSUfaxdCZQqQYQ4HhNCliBMOC3A3xslItJKRGaJyBIRmS8i7QqULxSRlSLysIhkBcp7i8jhsTlE5LlAj7tHEJEXxT8a4CoRebBA+a8i8riILAUuEZE3ReRiEekW+NW+LLBPDdS/VkQWichyEflIRGJFpCf+wVieCNRvdWg7gXX6iciPge28LiJRBfb9oIgsDSxrV1wjBTpeWwK0FpFxgTh+EpGXA12FHzpq+q+ILAZuEZHzReT7wP7/JyJJgXoPiH+ksfki8puIDBOR/wTimCUiEYF6XUVkXuDfY7aIJAfeVzfg/wLvN6aweoXFU8rPhakkLEGYsBD/QCf9+KPfmJeBm1W1K3AH8EKg/BngGVU9AX9XxqV1r6p2AzoDZ4lI5wLL9qjqyaqaeqhAVRcHjnC6ALOAJwOLpqpqd1U9EX+XBn9X1e8C8d8ZWOeXAu8vGngTuDQQuwv/IEqH7FbVk4EXA++3SOLv3vpUYBXwXCCOTkAMR46XEKmq3VT1KeAb4FRVPQlIBe4qUK8V0Bd/cnsXmBuIMQcYHEgSE4GLA/8erwOPqOoUYDFwWaB9PIXVKyIeUwXZoZ+paDEisgz/kcMaYI6IxAM9gQ8DP4jBP54EwGn4T+OAf/ChJymd4SJyHf7PejL+00ErAssmF7WSiFwKnAwcGiO6k4g8DNQF4vH3fVOctsAmVV0XmH8L/+m0/wbmpwb+LsE/fkZhzhSRHwEf8JiqrhKRi0TkLiAWSMCfNA7191/w/aQAkwO/6COBTQWWzVRVt4isxD9q26xA+UqgeSD2Tvj/bQjU2VbEeyyuXpHta6oGSxCmouWoahcRicX/JTsK/y/tjMCv0mB5OPIIOProCiLSAv+v8+6quk9E3jyqXnZhGxaRTsADQC9V9QaK3wQuUNXlgVNZvUsRa2HyAn+9FP3/cL6qHj5CCByVvAB0U9XNIvIARb+ficDTqjpN/IM4PXD0vlXVJyJu/aNDNl8gFgFWqeppJbyHkuoV2r6m6rBTTCYsVPUgMAb4B3AQ2CQil4B/CE4ROTFQdSFwUeD1iAKb+A3oICJR4r8Tql8hu6mN/0sqM3AOfmBJcQW29T5wharuKrCoFrAtcPrlsgLlBwLLjrYWaC4irQPzlwPzStp/CQ4lg92Bo67ixmOuwx/jAvytlPtZCxwnIqcBiEiEiHQMLCv4fourZ6oBSxAmbFT1R/yne0bi/9L9u4gsx3/aZGig2q3A7SKyAmgNZAbW3Qx8APwU+PtjIdtfHij/Gf/pqW+DCGso0Ax45dDF6kD5fcD3gW38XKB+KnBn4GJwqwL7zsU/oteHgVM5PqBMQ4mqagbwCv73PBv/WABFeSCw7yXA7lLuJx9/8nk88O+xDP8pQPAfSU0KtIuzmHqmGrDuvk2lFjgVlaOqKiIjgJGqOrSk9YwxZWfXIExl1xX/4OsCZABXhzccY2oOO4IwxhhTKLsGYYwxplCWIIwxxhTKEoQxxphCWYIwxhhTKEsQxhhjCmUJwhhjTKH+H94Sr0RkLvegAAAAAElFTkSuQmCC",
       "datasetInfos": [],
       "metadata": {
        "imageDimensions": {
         "height": 266,
         "width": 392
        }
       },
       "removedWidgets": [],
       "type": "image"
      },
      "image/png": {
       "height": 266,
       "width": 392
      }
     },
     "output_type": "display_data"
    }
   ],
   "source": [
    "# plot results\n",
    "model_params = cv_model.getEstimatorParamMaps()\n",
    "\n",
    "lr_cv_summary_list = []\n",
    "for param_set, acc in zip(model_params, cv_model.avgMetrics):\n",
    "  new_set = list(param_set.values()) + [acc]\n",
    "  lr_cv_summary_list.append(new_set)\n",
    "\n",
    "cv_summary = pd.DataFrame(lr_cv_summary_list, \n",
    "                          columns=['reg_param', 'enet_param', 'acc'])\n",
    "\n",
    "for en in cv_summary.enet_param.unique():\n",
    "  sel = cv_summary.enet_param == en\n",
    "  plt.plot(cv_summary.reg_param[sel], cv_summary.acc[sel], label=en)\n",
    "  plt.scatter(cv_summary.reg_param[sel], cv_summary.acc[sel])\n",
    "\n",
    "plt.legend()\n",
    "plt.xscale('log')\n",
    "plt.grid()\n",
    "plt.xlabel('Regularization Parameter')\n",
    "plt.ylabel('Cross-Validation Score')\n",
    "plt.show()"
   ]
  },
  {
   "cell_type": "markdown",
   "metadata": {
    "application/vnd.databricks.v1+cell": {
     "cellMetadata": {},
     "inputWidgets": {},
     "nuid": "247f3fef-2471-446f-97fb-0b736e25872b",
     "showTitle": false,
     "title": ""
    }
   },
   "source": [
    "## Problem 4: Training Predictions"
   ]
  },
  {
   "cell_type": "code",
   "execution_count": 0,
   "metadata": {
    "application/vnd.databricks.v1+cell": {
     "cellMetadata": {},
     "inputWidgets": {},
     "nuid": "bb438e83-152b-419a-af37-6dcacb168d3b",
     "showTitle": false,
     "title": ""
    }
   },
   "outputs": [
    {
     "output_type": "display_data",
     "data": {
      "text/html": [
       "<style scoped>\n  .ansiout {\n    display: block;\n    unicode-bidi: embed;\n    white-space: pre-wrap;\n    word-wrap: break-word;\n    word-break: break-all;\n    font-family: \"Source Code Pro\", \"Menlo\", monospace;;\n    font-size: 13px;\n    color: #555;\n    margin-left: 4px;\n    line-height: 19px;\n  }\n</style>\n<div class=\"ansiout\">+-----------------------------------------+----------+------+\nprobability                              |prediction|stroke|\n+-----------------------------------------+----------+------+\n[0.9747140890756103,0.0252859109243897]  |0.0       |0     |\n[0.9872318011645983,0.0127681988354017]  |0.0       |0     |\n[0.29265947121077845,0.7073405287892216] |1.0       |0     |\n[0.9908447681537692,0.009155231846230794]|0.0       |0     |\n[0.5429884231739687,0.45701157682603133] |0.0       |0     |\n[0.7013317009925937,0.2986682990074063]  |0.0       |1     |\n[0.6793380107028687,0.3206619892971313]  |0.0       |1     |\n[0.9522140166448959,0.04778598335510409] |0.0       |0     |\n[0.4894259348203679,0.5105740651796321]  |1.0       |0     |\n[0.4749500136675296,0.5250499863324705]  |1.0       |0     |\n+-----------------------------------------+----------+------+\nonly showing top 10 rows\n\n</div>"
      ]
     },
     "metadata": {
      "application/vnd.databricks.v1+output": {
       "addedWidgets": {},
       "arguments": {},
       "data": "<div class=\"ansiout\">+-----------------------------------------+----------+------+\n|probability                              |prediction|stroke|\n+-----------------------------------------+----------+------+\n|[0.9747140890756103,0.0252859109243897]  |0.0       |0     |\n|[0.9872318011645983,0.0127681988354017]  |0.0       |0     |\n|[0.29265947121077845,0.7073405287892216] |1.0       |0     |\n|[0.9908447681537692,0.009155231846230794]|0.0       |0     |\n|[0.5429884231739687,0.45701157682603133] |0.0       |0     |\n|[0.7013317009925937,0.2986682990074063]  |0.0       |1     |\n|[0.6793380107028687,0.3206619892971313]  |0.0       |1     |\n|[0.9522140166448959,0.04778598335510409] |0.0       |0     |\n|[0.4894259348203679,0.5105740651796321]  |1.0       |0     |\n|[0.4749500136675296,0.5250499863324705]  |1.0       |0     |\n+-----------------------------------------+----------+------+\nonly showing top 10 rows\n\n</div>",
       "datasetInfos": [],
       "metadata": {},
       "removedWidgets": [],
       "type": "html"
      }
     },
     "output_type": "display_data"
    }
   ],
   "source": [
    "# generate predictions for train set\n",
    "train_pred = model.transform(train)\n",
    "train_pred.select('probability', 'prediction', 'stroke').show(10, truncate=False)"
   ]
  },
  {
   "cell_type": "code",
   "execution_count": 0,
   "metadata": {
    "application/vnd.databricks.v1+cell": {
     "cellMetadata": {},
     "inputWidgets": {},
     "nuid": "9071e7f0-ca72-4d9d-b82b-8f71da909aa7",
     "showTitle": false,
     "title": ""
    }
   },
   "outputs": [
    {
     "output_type": "display_data",
     "data": {
      "text/html": [
       "<style scoped>\n  .ansiout {\n    display: block;\n    unicode-bidi: embed;\n    white-space: pre-wrap;\n    word-wrap: break-word;\n    word-break: break-all;\n    font-family: \"Source Code Pro\", \"Menlo\", monospace;;\n    font-size: 13px;\n    color: #555;\n    margin-left: 4px;\n    line-height: 19px;\n  }\n</style>\n<div class=\"ansiout\">+----------------------------------------+----------+------+\nprobability                             |prediction|stroke|\n+----------------------------------------+----------+------+\n[0.29265947121077845,0.7073405287892216]|1.0       |0     |\n[0.7013317009925937,0.2986682990074063] |0.0       |1     |\n[0.6793380107028687,0.3206619892971313] |0.0       |1     |\n[0.4894259348203679,0.5105740651796321] |1.0       |0     |\n[0.4749500136675296,0.5250499863324705] |1.0       |0     |\n[0.3106588756065039,0.6893411243934962] |1.0       |0     |\n[0.5111778916185864,0.4888221083814136] |0.0       |1     |\n[0.5394169187722885,0.4605830812277115] |0.0       |1     |\n[0.5501176180010955,0.4498823819989045] |0.0       |1     |\n[0.6985579547487483,0.30144204525125173]|0.0       |1     |\n+----------------------------------------+----------+------+\nonly showing top 10 rows\n\n</div>"
      ]
     },
     "metadata": {
      "application/vnd.databricks.v1+output": {
       "addedWidgets": {},
       "arguments": {},
       "data": "<div class=\"ansiout\">+----------------------------------------+----------+------+\n|probability                             |prediction|stroke|\n+----------------------------------------+----------+------+\n|[0.29265947121077845,0.7073405287892216]|1.0       |0     |\n|[0.7013317009925937,0.2986682990074063] |0.0       |1     |\n|[0.6793380107028687,0.3206619892971313] |0.0       |1     |\n|[0.4894259348203679,0.5105740651796321] |1.0       |0     |\n|[0.4749500136675296,0.5250499863324705] |1.0       |0     |\n|[0.3106588756065039,0.6893411243934962] |1.0       |0     |\n|[0.5111778916185864,0.4888221083814136] |0.0       |1     |\n|[0.5394169187722885,0.4605830812277115] |0.0       |1     |\n|[0.5501176180010955,0.4498823819989045] |0.0       |1     |\n|[0.6985579547487483,0.30144204525125173]|0.0       |1     |\n+----------------------------------------+----------+------+\nonly showing top 10 rows\n\n</div>",
       "datasetInfos": [],
       "metadata": {},
       "removedWidgets": [],
       "type": "html"
      }
     },
     "output_type": "display_data"
    }
   ],
   "source": [
    "# find rows where prediction different from stroke\n",
    "(\n",
    "  train_pred\n",
    "  .filter((col('prediction') != col('stroke')))\n",
    "  .select('probability', 'prediction', 'stroke')\n",
    ").show(10, truncate=False)"
   ]
  },
  {
   "cell_type": "markdown",
   "metadata": {
    "application/vnd.databricks.v1+cell": {
     "cellMetadata": {},
     "inputWidgets": {},
     "nuid": "808fe604-a545-439a-b10a-3475f3e81f61",
     "showTitle": false,
     "title": ""
    }
   },
   "source": [
    "* The highest probability observed for an incorrect answer is .7073.\n",
    "* The lowest probability observed for an incorrect answer is .2927."
   ]
  },
  {
   "cell_type": "markdown",
   "metadata": {
    "application/vnd.databricks.v1+cell": {
     "cellMetadata": {},
     "inputWidgets": {},
     "nuid": "64d51d93-0f0b-43c1-8c56-d2378d92d5da",
     "showTitle": false,
     "title": ""
    }
   },
   "source": [
    "## Problem 5: Classification Metrics"
   ]
  },
  {
   "cell_type": "code",
   "execution_count": 0,
   "metadata": {
    "application/vnd.databricks.v1+cell": {
     "cellMetadata": {},
     "inputWidgets": {},
     "nuid": "ae138d46-85fb-4567-9861-e43b1dc80bcb",
     "showTitle": false,
     "title": ""
    }
   },
   "outputs": [
    {
     "output_type": "display_data",
     "data": {
      "text/html": [
       "<style scoped>\n  .ansiout {\n    display: block;\n    unicode-bidi: embed;\n    white-space: pre-wrap;\n    word-wrap: break-word;\n    word-break: break-all;\n    font-family: \"Source Code Pro\", \"Menlo\", monospace;;\n    font-size: 13px;\n    color: #555;\n    margin-left: 4px;\n    line-height: 19px;\n  }\n</style>\n<div class=\"ansiout\">/databricks/spark/python/pyspark/sql/context.py:134: FutureWarning: Deprecated in 3.0.0. Use SparkSession.builder.getOrCreate() instead.\n  warnings.warn(\n0.776010506347585\n</div>"
      ]
     },
     "metadata": {
      "application/vnd.databricks.v1+output": {
       "addedWidgets": {},
       "arguments": {},
       "data": "<div class=\"ansiout\">/databricks/spark/python/pyspark/sql/context.py:134: FutureWarning: Deprecated in 3.0.0. Use SparkSession.builder.getOrCreate() instead.\n  warnings.warn(\n0.776010506347585\n</div>",
       "datasetInfos": [],
       "metadata": {},
       "removedWidgets": [],
       "type": "html"
      }
     },
     "output_type": "display_data"
    }
   ],
   "source": [
    "# create pair of RDD label pairs\n",
    "pred_and_labels = train_pred.rdd.map(lambda x:(x['prediction'],float(x['stroke'])))\n",
    "\n",
    "# create instance of metrics\n",
    "metrics = MulticlassMetrics(pred_and_labels)\n",
    "\n",
    "# output accuracy\n",
    "print(metrics.accuracy)"
   ]
  },
  {
   "cell_type": "code",
   "execution_count": 0,
   "metadata": {
    "application/vnd.databricks.v1+cell": {
     "cellMetadata": {},
     "inputWidgets": {},
     "nuid": "5efb752b-385a-4b1c-b3d2-82ef9cfa8c68",
     "showTitle": false,
     "title": ""
    }
   },
   "outputs": [
    {
     "output_type": "display_data",
     "data": {
      "text/html": [
       "<style scoped>\n  .ansiout {\n    display: block;\n    unicode-bidi: embed;\n    white-space: pre-wrap;\n    word-wrap: break-word;\n    word-break: break-all;\n    font-family: \"Source Code Pro\", \"Menlo\", monospace;;\n    font-size: 13px;\n    color: #555;\n    margin-left: 4px;\n    line-height: 19px;\n  }\n</style>\n<div class=\"ansiout\">Out[14]: </div>"
      ]
     },
     "metadata": {
      "application/vnd.databricks.v1+output": {
       "addedWidgets": {},
       "arguments": {},
       "data": "<div class=\"ansiout\">Out[14]: </div>",
       "datasetInfos": [],
       "metadata": {},
       "removedWidgets": [],
       "type": "html"
      }
     },
     "output_type": "display_data"
    },
    {
     "output_type": "display_data",
     "data": {
      "text/html": [
       "<div>\n<style scoped>\n    .dataframe tbody tr th:only-of-type {\n        vertical-align: middle;\n    }\n\n    .dataframe tbody tr th {\n        vertical-align: top;\n    }\n\n    .dataframe thead th {\n        text-align: right;\n    }\n</style>\n<table border=\"1\" class=\"dataframe\">\n  <thead>\n    <tr style=\"text-align: right;\">\n      <th></th>\n      <th>0</th>\n      <th>1</th>\n    </tr>\n  </thead>\n  <tbody>\n    <tr>\n      <th>0</th>\n      <td>4323</td>\n      <td>538</td>\n    </tr>\n    <tr>\n      <th>1</th>\n      <td>997</td>\n      <td>995</td>\n    </tr>\n  </tbody>\n</table>\n</div>"
      ]
     },
     "metadata": {
      "application/vnd.databricks.v1+output": {
       "addedWidgets": {},
       "arguments": {},
       "data": "<div>\n<style scoped>\n    .dataframe tbody tr th:only-of-type {\n        vertical-align: middle;\n    }\n\n    .dataframe tbody tr th {\n        vertical-align: top;\n    }\n\n    .dataframe thead th {\n        text-align: right;\n    }\n</style>\n<table border=\"1\" class=\"dataframe\">\n  <thead>\n    <tr style=\"text-align: right;\">\n      <th></th>\n      <th>0</th>\n      <th>1</th>\n    </tr>\n  </thead>\n  <tbody>\n    <tr>\n      <th>0</th>\n      <td>4323</td>\n      <td>538</td>\n    </tr>\n    <tr>\n      <th>1</th>\n      <td>997</td>\n      <td>995</td>\n    </tr>\n  </tbody>\n</table>\n</div>",
       "datasetInfos": [],
       "metadata": {},
       "removedWidgets": [],
       "textData": null,
       "type": "htmlSandbox"
      }
     },
     "output_type": "display_data"
    }
   ],
   "source": [
    "# get confusion matrix\n",
    "cm = metrics.confusionMatrix().toArray().astype(int)\n",
    "\n",
    "# display df\n",
    "pd.DataFrame(\n",
    "  data=cm\n",
    ")"
   ]
  },
  {
   "cell_type": "code",
   "execution_count": 0,
   "metadata": {
    "application/vnd.databricks.v1+cell": {
     "cellMetadata": {},
     "inputWidgets": {},
     "nuid": "b58c4a66-a08a-43e8-9c3f-463e23eaa9d6",
     "showTitle": false,
     "title": ""
    }
   },
   "outputs": [
    {
     "output_type": "display_data",
     "data": {
      "text/html": [
       "<style scoped>\n  .ansiout {\n    display: block;\n    unicode-bidi: embed;\n    white-space: pre-wrap;\n    word-wrap: break-word;\n    word-break: break-all;\n    font-family: \"Source Code Pro\", \"Menlo\", monospace;;\n    font-size: 13px;\n    color: #555;\n    margin-left: 4px;\n    line-height: 19px;\n  }\n</style>\n<div class=\"ansiout\">Label   Precision   Recall\n--------------------------\n0       0.8126      0.8893\n1       0.6491      0.4995\n</div>"
      ]
     },
     "metadata": {
      "application/vnd.databricks.v1+output": {
       "addedWidgets": {},
       "arguments": {},
       "data": "<div class=\"ansiout\">Label   Precision   Recall\n--------------------------\n0       0.8126      0.8893\n1       0.6491      0.4995\n</div>",
       "datasetInfos": [],
       "metadata": {},
       "removedWidgets": [],
       "type": "html"
      }
     },
     "output_type": "display_data"
    }
   ],
   "source": [
    "# display precision and recall for both label values\n",
    "print('Label   Precision   Recall')\n",
    "print('-'*26)\n",
    "for i, lab in enumerate([0,1]):\n",
    "  print(f'{lab:<8}{metrics.precision(i):<12.4f}{metrics.recall(i):.4f}')"
   ]
  },
  {
   "cell_type": "markdown",
   "metadata": {
    "application/vnd.databricks.v1+cell": {
     "cellMetadata": {},
     "inputWidgets": {},
     "nuid": "8f704265-32a7-44c7-b194-4bbd0671925d",
     "showTitle": false,
     "title": ""
    }
   },
   "source": [
    "## Problem 6: Applying the Model to New Data"
   ]
  },
  {
   "cell_type": "code",
   "execution_count": 0,
   "metadata": {
    "application/vnd.databricks.v1+cell": {
     "cellMetadata": {},
     "inputWidgets": {},
     "nuid": "f9f6e95c-81c7-434d-9acb-1ed921c98d2f",
     "showTitle": false,
     "title": ""
    }
   },
   "outputs": [
    {
     "output_type": "display_data",
     "data": {
      "text/html": [
       "<style scoped>\n  .ansiout {\n    display: block;\n    unicode-bidi: embed;\n    white-space: pre-wrap;\n    word-wrap: break-word;\n    word-break: break-all;\n    font-family: \"Source Code Pro\", \"Menlo\", monospace;;\n    font-size: 13px;\n    color: #555;\n    margin-left: 4px;\n    line-height: 19px;\n  }\n</style>\n<div class=\"ansiout\">+------+----+-------------+-------------+------------+-------------+--------------+-----------------+----+---------------+\ngender| age|hyptertension|heart_disease|ever_married|    work_type|residence_type|avg_glucose_level| bmi| smoking_status|\n+------+----+-------------+-------------+------------+-------------+--------------+-----------------+----+---------------+\nFemale|42.0|            1|            0|          No|      Private|         Urban|            182.1|26.8|         smokes|\nFemale|64.0|            1|            1|         Yes|Self-employed|         Rural|            171.5|32.5|formerly smoked|\n  Male|37.0|            0|            0|         Yes|      Private|         Rural|             79.2|18.4|        Unknown|\n  Male|72.0|            0|            1|          No|     Govt_job|         Urban|            125.7|19.4|   never smoked|\n+------+----+-------------+-------------+------------+-------------+--------------+-----------------+----+---------------+\n\n</div>"
      ]
     },
     "metadata": {
      "application/vnd.databricks.v1+output": {
       "addedWidgets": {},
       "arguments": {},
       "data": "<div class=\"ansiout\">+------+----+-------------+-------------+------------+-------------+--------------+-----------------+----+---------------+\n|gender| age|hyptertension|heart_disease|ever_married|    work_type|residence_type|avg_glucose_level| bmi| smoking_status|\n+------+----+-------------+-------------+------------+-------------+--------------+-----------------+----+---------------+\n|Female|42.0|            1|            0|          No|      Private|         Urban|            182.1|26.8|         smokes|\n|Female|64.0|            1|            1|         Yes|Self-employed|         Rural|            171.5|32.5|formerly smoked|\n|  Male|37.0|            0|            0|         Yes|      Private|         Rural|             79.2|18.4|        Unknown|\n|  Male|72.0|            0|            1|          No|     Govt_job|         Urban|            125.7|19.4|   never smoked|\n+------+----+-------------+-------------+------------+-------------+--------------+-----------------+----+---------------+\n\n</div>",
       "datasetInfos": [],
       "metadata": {},
       "removedWidgets": [],
       "type": "html"
      }
     },
     "output_type": "display_data"
    }
   ],
   "source": [
    "# new data\n",
    "data = [\n",
    "  ['Female', 42.0, 1, 0, 'No', 'Private', 'Urban', 182.1, 26.8, 'smokes'],\n",
    "  ['Female', 64.0, 1, 1, 'Yes', 'Self-employed', 'Rural', 171.5, 32.5, 'formerly smoked'],\n",
    "  ['Male', 37.0, 0, 0, 'Yes', 'Private', 'Rural', 79.2, 18.4, 'Unknown'],\n",
    "  ['Male', 72.0, 0, 1, 'No', 'Govt_job', 'Urban', 125.7, 19.4, 'never smoked']\n",
    "]\n",
    "\n",
    "# make new data into df\n",
    "new_data = spark.createDataFrame(\n",
    "  data, \n",
    "  schema = ('gender STRING, age DOUBLE, hyptertension INTEGER, heart_disease INTEGER, ever_married STRING, work_type STRING, residence_type STRING, avg_glucose_level DOUBLE, bmi DOUBLE, smoking_status STRING')\n",
    ")\n",
    "\n",
    "# display new df\n",
    "new_data.show()"
   ]
  },
  {
   "cell_type": "code",
   "execution_count": 0,
   "metadata": {
    "application/vnd.databricks.v1+cell": {
     "cellMetadata": {},
     "inputWidgets": {},
     "nuid": "0e9256d4-1def-4d47-961e-031d2c69054c",
     "showTitle": false,
     "title": ""
    }
   },
   "outputs": [
    {
     "output_type": "display_data",
     "data": {
      "text/html": [
       "<style scoped>\n  .ansiout {\n    display: block;\n    unicode-bidi: embed;\n    white-space: pre-wrap;\n    word-wrap: break-word;\n    word-break: break-all;\n    font-family: \"Source Code Pro\", \"Menlo\", monospace;;\n    font-size: 13px;\n    color: #555;\n    margin-left: 4px;\n    line-height: 19px;\n  }\n</style>\n<div class=\"ansiout\">+----------------------------------------+----------+\nprobability                             |prediction|\n+----------------------------------------+----------+\n[0.7054270074784814,0.2945729925215186] |0.0       |\n[0.2757821232703251,0.724217876729675]  |1.0       |\n[0.9126460874571503,0.08735391254284974]|0.0       |\n[0.40098498644373304,0.599015013556267] |1.0       |\n+----------------------------------------+----------+\n\n</div>"
      ]
     },
     "metadata": {
      "application/vnd.databricks.v1+output": {
       "addedWidgets": {},
       "arguments": {},
       "data": "<div class=\"ansiout\">+----------------------------------------+----------+\n|probability                             |prediction|\n+----------------------------------------+----------+\n|[0.7054270074784814,0.2945729925215186] |0.0       |\n|[0.2757821232703251,0.724217876729675]  |1.0       |\n|[0.9126460874571503,0.08735391254284974]|0.0       |\n|[0.40098498644373304,0.599015013556267] |1.0       |\n+----------------------------------------+----------+\n\n</div>",
       "datasetInfos": [],
       "metadata": {},
       "removedWidgets": [],
       "type": "html"
      }
     },
     "output_type": "display_data"
    }
   ],
   "source": [
    "# apply processing pipeine\n",
    "new_data_pcd = pre_pipe.transform(new_data)\n",
    "\n",
    "# apply model\n",
    "new_data_pred = model.transform(new_data_pcd)\n",
    "\n",
    "# display results\n",
    "new_data_pred.select('probability', 'prediction').show(truncate=False)"
   ]
  }
 ],
 "metadata": {
  "application/vnd.databricks.v1+notebook": {
   "dashboards": [],
   "language": "python",
   "notebookMetadata": {
    "pythonIndentUnit": 2
   },
   "notebookName": "HW_06",
   "notebookOrigID": 1778357195119239,
   "widgets": {}
  }
 },
 "nbformat": 4,
 "nbformat_minor": 0
}
