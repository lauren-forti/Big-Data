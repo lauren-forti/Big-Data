{
 "cells": [
  {
   "cell_type": "markdown",
   "metadata": {
    "application/vnd.databricks.v1+cell": {
     "cellMetadata": {},
     "inputWidgets": {},
     "nuid": "7700624c-66b7-4576-b112-e1a1e7383d7c",
     "showTitle": false,
     "title": ""
    }
   },
   "source": [
    "# DSCI 417 – Project 03\n",
    "## Forest Cover Prediction\n",
    "**Lauren Forti**"
   ]
  },
  {
   "cell_type": "markdown",
   "metadata": {
    "application/vnd.databricks.v1+cell": {
     "cellMetadata": {},
     "inputWidgets": {},
     "nuid": "a14a7063-d396-4b50-a651-f689986371ed",
     "showTitle": false,
     "title": ""
    }
   },
   "source": [
    "## Part A: Set up Environment\n",
    "Import packages needed and setup environment."
   ]
  },
  {
   "cell_type": "code",
   "execution_count": 0,
   "metadata": {
    "application/vnd.databricks.v1+cell": {
     "cellMetadata": {},
     "inputWidgets": {},
     "nuid": "41c3363b-04ef-43f5-89c7-f48352aca479",
     "showTitle": false,
     "title": ""
    }
   },
   "outputs": [
    {
     "output_type": "display_data",
     "data": {
      "text/html": [
       "<style scoped>\n  .ansiout {\n    display: block;\n    unicode-bidi: embed;\n    white-space: pre-wrap;\n    word-wrap: break-word;\n    word-break: break-all;\n    font-family: \"Source Code Pro\", \"Menlo\", monospace;;\n    font-size: 13px;\n    color: #555;\n    margin-left: 4px;\n    line-height: 19px;\n  }\n</style>\n<div class=\"ansiout\"></div>"
      ]
     },
     "metadata": {
      "application/vnd.databricks.v1+output": {
       "addedWidgets": {},
       "arguments": {},
       "data": "<div class=\"ansiout\"></div>",
       "datasetInfos": [],
       "metadata": {},
       "removedWidgets": [],
       "type": "html"
      }
     },
     "output_type": "display_data"
    }
   ],
   "source": [
    "# setup\n",
    "import pandas as pd\n",
    "import numpy as np\n",
    "import matplotlib.pyplot as plt\n",
    "\n",
    "from pyspark.sql import SparkSession\n",
    "from pyspark.sql.functions import col, expr\n",
    "\n",
    "from pyspark.ml.feature import VectorAssembler, OneHotEncoder, StringIndexer\n",
    "from pyspark.ml.classification import LogisticRegression, DecisionTreeClassifier\n",
    "from pyspark.ml import Pipeline\n",
    "from pyspark.ml.tuning import CrossValidator, ParamGridBuilder\n",
    "from pyspark.ml.evaluation import MulticlassClassificationEvaluator\n",
    "from pyspark.mllib.evaluation import MulticlassMetrics\n",
    "\n",
    "spark = SparkSession.builder.getOrCreate()"
   ]
  },
  {
   "cell_type": "markdown",
   "metadata": {
    "application/vnd.databricks.v1+cell": {
     "cellMetadata": {},
     "inputWidgets": {},
     "nuid": "a4845a06-041b-4a3c-b055-c993b8cf790a",
     "showTitle": false,
     "title": ""
    }
   },
   "source": [
    "## Part B: Load and Explore the Data\n",
    "Load in the data and look at how the data is distributed. Start by loading the dataset into a DataFrame."
   ]
  },
  {
   "cell_type": "code",
   "execution_count": 0,
   "metadata": {
    "application/vnd.databricks.v1+cell": {
     "cellMetadata": {},
     "inputWidgets": {},
     "nuid": "f7e67a3f-a9e4-4b3c-b8a0-46243401a3a0",
     "showTitle": false,
     "title": ""
    }
   },
   "outputs": [
    {
     "output_type": "display_data",
     "data": {
      "text/html": [
       "<style scoped>\n  .ansiout {\n    display: block;\n    unicode-bidi: embed;\n    white-space: pre-wrap;\n    word-wrap: break-word;\n    word-break: break-all;\n    font-family: \"Source Code Pro\", \"Menlo\", monospace;;\n    font-size: 13px;\n    color: #555;\n    margin-left: 4px;\n    line-height: 19px;\n  }\n</style>\n<div class=\"ansiout\">root\n-- Elevation: integer (nullable = true)\n-- Aspect: integer (nullable = true)\n-- Slope: integer (nullable = true)\n-- Horizontal_Distance_To_Hydrology: integer (nullable = true)\n-- Vertal_Distance_To_Hydrology: integer (nullable = true)\n-- Horizontal_Distance_To_Roadways: integer (nullable = true)\n-- Hillshade_9am: integer (nullable = true)\n-- Hillshade_Noon: integer (nullable = true)\n-- Hillshade_3pm: integer (nullable = true)\n-- Horizontal_Distance_To_Fire_Points: integer (nullable = true)\n-- Wilderness_Area: string (nullable = true)\n-- Soil_Type: integer (nullable = true)\n-- Cover_Type: integer (nullable = true)\n\n</div>"
      ]
     },
     "metadata": {
      "application/vnd.databricks.v1+output": {
       "addedWidgets": {},
       "arguments": {},
       "data": "<div class=\"ansiout\">root\n |-- Elevation: integer (nullable = true)\n |-- Aspect: integer (nullable = true)\n |-- Slope: integer (nullable = true)\n |-- Horizontal_Distance_To_Hydrology: integer (nullable = true)\n |-- Vertal_Distance_To_Hydrology: integer (nullable = true)\n |-- Horizontal_Distance_To_Roadways: integer (nullable = true)\n |-- Hillshade_9am: integer (nullable = true)\n |-- Hillshade_Noon: integer (nullable = true)\n |-- Hillshade_3pm: integer (nullable = true)\n |-- Horizontal_Distance_To_Fire_Points: integer (nullable = true)\n |-- Wilderness_Area: string (nullable = true)\n |-- Soil_Type: integer (nullable = true)\n |-- Cover_Type: integer (nullable = true)\n\n</div>",
       "datasetInfos": [],
       "metadata": {},
       "removedWidgets": [],
       "type": "html"
      }
     },
     "output_type": "display_data"
    }
   ],
   "source": [
    "# read file into df\n",
    "fc = (\n",
    "    spark.read\n",
    "    .option('delimiter', '\\t')\n",
    "    .option('header', True)\n",
    "    .schema('Elevation INTEGER, Aspect INTEGER, Slope INTEGER, Horizontal_Distance_To_Hydrology INTEGER, Vertal_Distance_To_Hydrology INTEGER, Horizontal_Distance_To_Roadways INTEGER, Hillshade_9am INTEGER, Hillshade_Noon INTEGER, Hillshade_3pm INTEGER, Horizontal_Distance_To_Fire_Points INTEGER, Wilderness_Area STRING, Soil_Type INTEGER, Cover_Type INTEGER')\n",
    "    .csv('/FileStore/tables/forest_cover.txt')\n",
    ")\n",
    "\n",
    "# display schema\n",
    "fc.printSchema()"
   ]
  },
  {
   "cell_type": "markdown",
   "metadata": {
    "application/vnd.databricks.v1+cell": {
     "cellMetadata": {},
     "inputWidgets": {},
     "nuid": "68de3ca4-c51a-4fc6-b68e-770bf4072113",
     "showTitle": false,
     "title": ""
    }
   },
   "source": [
    "Look at the first few rows of the DataFrame."
   ]
  },
  {
   "cell_type": "code",
   "execution_count": 0,
   "metadata": {
    "application/vnd.databricks.v1+cell": {
     "cellMetadata": {},
     "inputWidgets": {},
     "nuid": "626c30e3-9e78-4e41-939d-7a9ff778925a",
     "showTitle": false,
     "title": ""
    }
   },
   "outputs": [
    {
     "output_type": "display_data",
     "data": {
      "text/html": [
       "<style scoped>\n  .ansiout {\n    display: block;\n    unicode-bidi: embed;\n    white-space: pre-wrap;\n    word-wrap: break-word;\n    word-break: break-all;\n    font-family: \"Source Code Pro\", \"Menlo\", monospace;;\n    font-size: 13px;\n    color: #555;\n    margin-left: 4px;\n    line-height: 19px;\n  }\n</style>\n<div class=\"ansiout\">+---------+------+-----+--------------------------------+----------------------------+-------------------------------+\nElevation|Aspect|Slope|Horizontal_Distance_To_Hydrology|Vertal_Distance_To_Hydrology|Horizontal_Distance_To_Roadways|\n+---------+------+-----+--------------------------------+----------------------------+-------------------------------+\n     2596|    51|    3|                             258|                           0|                            510|\n     2590|    56|    2|                             212|                          -6|                            390|\n     2804|   139|    9|                             268|                          65|                           3180|\n+---------+------+-----+--------------------------------+----------------------------+-------------------------------+\nonly showing top 3 rows\n\n+-------------+--------------+-------------+----------------------------------+---------------+---------+----------+\nHillshade_9am|Hillshade_Noon|Hillshade_3pm|Horizontal_Distance_To_Fire_Points|Wilderness_Area|Soil_Type|Cover_Type|\n+-------------+--------------+-------------+----------------------------------+---------------+---------+----------+\n          221|           232|          148|                              6279|          Rawah|       29|         5|\n          220|           235|          151|                              6225|          Rawah|       29|         5|\n          234|           238|          135|                              6121|          Rawah|       12|         2|\n+-------------+--------------+-------------+----------------------------------+---------------+---------+----------+\nonly showing top 3 rows\n\n</div>"
      ]
     },
     "metadata": {
      "application/vnd.databricks.v1+output": {
       "addedWidgets": {},
       "arguments": {},
       "data": "<div class=\"ansiout\">+---------+------+-----+--------------------------------+----------------------------+-------------------------------+\n|Elevation|Aspect|Slope|Horizontal_Distance_To_Hydrology|Vertal_Distance_To_Hydrology|Horizontal_Distance_To_Roadways|\n+---------+------+-----+--------------------------------+----------------------------+-------------------------------+\n|     2596|    51|    3|                             258|                           0|                            510|\n|     2590|    56|    2|                             212|                          -6|                            390|\n|     2804|   139|    9|                             268|                          65|                           3180|\n+---------+------+-----+--------------------------------+----------------------------+-------------------------------+\nonly showing top 3 rows\n\n+-------------+--------------+-------------+----------------------------------+---------------+---------+----------+\n|Hillshade_9am|Hillshade_Noon|Hillshade_3pm|Horizontal_Distance_To_Fire_Points|Wilderness_Area|Soil_Type|Cover_Type|\n+-------------+--------------+-------------+----------------------------------+---------------+---------+----------+\n|          221|           232|          148|                              6279|          Rawah|       29|         5|\n|          220|           235|          151|                              6225|          Rawah|       29|         5|\n|          234|           238|          135|                              6121|          Rawah|       12|         2|\n+-------------+--------------+-------------+----------------------------------+---------------+---------+----------+\nonly showing top 3 rows\n\n</div>",
       "datasetInfos": [],
       "metadata": {},
       "removedWidgets": [],
       "type": "html"
      }
     },
     "output_type": "display_data"
    }
   ],
   "source": [
    "# save col names\n",
    "cols = fc.columns\n",
    "\n",
    "# display df in parts\n",
    "fc.select(cols[:6]).show(3)\n",
    "fc.select(cols[6:]).show(3)"
   ]
  },
  {
   "cell_type": "markdown",
   "metadata": {
    "application/vnd.databricks.v1+cell": {
     "cellMetadata": {},
     "inputWidgets": {},
     "nuid": "416b8377-6f3f-4f09-b7ae-29b4cb8c8def",
     "showTitle": false,
     "title": ""
    }
   },
   "source": [
    "Get the number of observations in the dataset."
   ]
  },
  {
   "cell_type": "code",
   "execution_count": 0,
   "metadata": {
    "application/vnd.databricks.v1+cell": {
     "cellMetadata": {},
     "inputWidgets": {},
     "nuid": "abdaea44-82e5-4bbc-a0f3-67806c91a2a3",
     "showTitle": false,
     "title": ""
    }
   },
   "outputs": [
    {
     "output_type": "display_data",
     "data": {
      "text/html": [
       "<style scoped>\n  .ansiout {\n    display: block;\n    unicode-bidi: embed;\n    white-space: pre-wrap;\n    word-wrap: break-word;\n    word-break: break-all;\n    font-family: \"Source Code Pro\", \"Menlo\", monospace;;\n    font-size: 13px;\n    color: #555;\n    margin-left: 4px;\n    line-height: 19px;\n  }\n</style>\n<div class=\"ansiout\">15120\n</div>"
      ]
     },
     "metadata": {
      "application/vnd.databricks.v1+output": {
       "addedWidgets": {},
       "arguments": {},
       "data": "<div class=\"ansiout\">15120\n</div>",
       "datasetInfos": [],
       "metadata": {},
       "removedWidgets": [],
       "type": "html"
      }
     },
     "output_type": "display_data"
    }
   ],
   "source": [
    "# get # of records\n",
    "N = fc.count()\n",
    "\n",
    "# print results\n",
    "print(N)"
   ]
  },
  {
   "cell_type": "markdown",
   "metadata": {
    "application/vnd.databricks.v1+cell": {
     "cellMetadata": {},
     "inputWidgets": {},
     "nuid": "92945500-6d30-4787-ab66-de8f36ed965e",
     "showTitle": false,
     "title": ""
    }
   },
   "source": [
    "Get the proportion of records in each of the two label categories."
   ]
  },
  {
   "cell_type": "code",
   "execution_count": 0,
   "metadata": {
    "application/vnd.databricks.v1+cell": {
     "cellMetadata": {},
     "inputWidgets": {},
     "nuid": "efceb9f1-d8c8-4320-8bd2-6807ae133406",
     "showTitle": false,
     "title": ""
    }
   },
   "outputs": [
    {
     "output_type": "display_data",
     "data": {
      "text/html": [
       "<style scoped>\n  .ansiout {\n    display: block;\n    unicode-bidi: embed;\n    white-space: pre-wrap;\n    word-wrap: break-word;\n    word-break: break-all;\n    font-family: \"Source Code Pro\", \"Menlo\", monospace;;\n    font-size: 13px;\n    color: #555;\n    margin-left: 4px;\n    line-height: 19px;\n  }\n</style>\n<div class=\"ansiout\">+----------+-------+\nCover_Type|   prop|\n+----------+-------+\n         1|14.2857|\n         6|14.2857|\n         3|14.2857|\n         5|14.2857|\n         4|14.2857|\n         7|14.2857|\n         2|14.2857|\n+----------+-------+\n\n</div>"
      ]
     },
     "metadata": {
      "application/vnd.databricks.v1+output": {
       "addedWidgets": {},
       "arguments": {},
       "data": "<div class=\"ansiout\">+----------+-------+\n|Cover_Type|   prop|\n+----------+-------+\n|         1|14.2857|\n|         6|14.2857|\n|         3|14.2857|\n|         5|14.2857|\n|         4|14.2857|\n|         7|14.2857|\n|         2|14.2857|\n+----------+-------+\n\n</div>",
       "datasetInfos": [],
       "metadata": {},
       "removedWidgets": [],
       "type": "html"
      }
     },
     "output_type": "display_data"
    }
   ],
   "source": [
    "(\n",
    "  fc\n",
    "  \n",
    "  # group by cover type\n",
    "  .groupBy('Cover_Type')\n",
    "  \n",
    "  # calc proportions\n",
    "  .agg(\n",
    "    expr(f'round(count(Cover_Type)/{N}*100, 4) as prop')\n",
    "  )\n",
    ").show(10)"
   ]
  },
  {
   "cell_type": "markdown",
   "metadata": {
    "application/vnd.databricks.v1+cell": {
     "cellMetadata": {},
     "inputWidgets": {},
     "nuid": "88568227-292e-44f4-9048-5ab08c204234",
     "showTitle": false,
     "title": ""
    }
   },
   "source": [
    "## Part C: Preprocessing and Splitting the Data\n",
    "Create stages in the preprocessing pipeline. Start by creating objects."
   ]
  },
  {
   "cell_type": "code",
   "execution_count": 0,
   "metadata": {
    "application/vnd.databricks.v1+cell": {
     "cellMetadata": {},
     "inputWidgets": {},
     "nuid": "7eae5901-6ed0-499b-9d54-599d5c5a29ef",
     "showTitle": false,
     "title": ""
    }
   },
   "outputs": [
    {
     "output_type": "display_data",
     "data": {
      "text/html": [
       "<style scoped>\n  .ansiout {\n    display: block;\n    unicode-bidi: embed;\n    white-space: pre-wrap;\n    word-wrap: break-word;\n    word-break: break-all;\n    font-family: \"Source Code Pro\", \"Menlo\", monospace;;\n    font-size: 13px;\n    color: #555;\n    margin-left: 4px;\n    line-height: 19px;\n  }\n</style>\n<div class=\"ansiout\"></div>"
      ]
     },
     "metadata": {
      "application/vnd.databricks.v1+output": {
       "addedWidgets": {},
       "arguments": {},
       "data": "<div class=\"ansiout\"></div>",
       "datasetInfos": [],
       "metadata": {},
       "removedWidgets": [],
       "type": "html"
      }
     },
     "output_type": "display_data"
    }
   ],
   "source": [
    "# lists to store names of cols for features\n",
    "cat_features = ['Wilderness_Area', 'Soil_Type']\n",
    "num_features = [n for n in fc.columns[:-1] if n not in cat_features]\n",
    "\n",
    "# lists to store int encoded cat cols\n",
    "ix_features = [c + '_ix' for c in cat_features]\n",
    "vec_features = [c + '_vec' for c in cat_features]\n",
    "\n",
    "# use cols in cat_features to create cols in ix_features\n",
    "feature_indexer = StringIndexer(inputCols=cat_features, outputCols=ix_features)\n",
    "\n",
    "# one-hot encoded cat features\n",
    "encoder = OneHotEncoder(inputCols=ix_features, outputCols=vec_features, dropLast=False)\n",
    "\n",
    "# combine num features and one-hot encoded features\n",
    "assembler_lr = VectorAssembler(inputCols=num_features + ix_features, outputCol='features_lr')\n",
    "assembler_dt = VectorAssembler(inputCols=num_features + ix_features, outputCol='features_dt')"
   ]
  },
  {
   "cell_type": "markdown",
   "metadata": {
    "application/vnd.databricks.v1+cell": {
     "cellMetadata": {},
     "inputWidgets": {},
     "nuid": "f30ec0c7-c85d-421d-b917-3ab88dcb05d7",
     "showTitle": false,
     "title": ""
    }
   },
   "source": [
    "Create a pipeline to apply the created objects to the data."
   ]
  },
  {
   "cell_type": "code",
   "execution_count": 0,
   "metadata": {
    "application/vnd.databricks.v1+cell": {
     "cellMetadata": {},
     "inputWidgets": {},
     "nuid": "decd4209-2aae-4dc1-877c-eefdb15591cf",
     "showTitle": false,
     "title": ""
    }
   },
   "outputs": [
    {
     "output_type": "display_data",
     "data": {
      "text/html": [
       "<style scoped>\n  .ansiout {\n    display: block;\n    unicode-bidi: embed;\n    white-space: pre-wrap;\n    word-wrap: break-word;\n    word-break: break-all;\n    font-family: \"Source Code Pro\", \"Menlo\", monospace;;\n    font-size: 13px;\n    color: #555;\n    margin-left: 4px;\n    line-height: 19px;\n  }\n</style>\n<div class=\"ansiout\">+-----------------------------------------------------------------------+----------+\nfeatures_dt                                                            |Cover_Type|\n+-----------------------------------------------------------------------+----------+\n[2596.0,51.0,3.0,258.0,0.0,510.0,221.0,232.0,148.0,6279.0,2.0,1.0]     |5         |\n[2590.0,56.0,2.0,212.0,-6.0,390.0,220.0,235.0,151.0,6225.0,2.0,1.0]    |5         |\n[2804.0,139.0,9.0,268.0,65.0,3180.0,234.0,238.0,135.0,6121.0,2.0,20.0] |2         |\n[2785.0,155.0,18.0,242.0,118.0,3090.0,238.0,238.0,122.0,6211.0,2.0,6.0]|2         |\n[2595.0,45.0,2.0,153.0,-1.0,391.0,220.0,234.0,150.0,6172.0,2.0,1.0]    |5         |\n+-----------------------------------------------------------------------+----------+\nonly showing top 5 rows\n\n</div>"
      ]
     },
     "metadata": {
      "application/vnd.databricks.v1+output": {
       "addedWidgets": {},
       "arguments": {},
       "data": "<div class=\"ansiout\">+-----------------------------------------------------------------------+----------+\n|features_dt                                                            |Cover_Type|\n+-----------------------------------------------------------------------+----------+\n|[2596.0,51.0,3.0,258.0,0.0,510.0,221.0,232.0,148.0,6279.0,2.0,1.0]     |5         |\n|[2590.0,56.0,2.0,212.0,-6.0,390.0,220.0,235.0,151.0,6225.0,2.0,1.0]    |5         |\n|[2804.0,139.0,9.0,268.0,65.0,3180.0,234.0,238.0,135.0,6121.0,2.0,20.0] |2         |\n|[2785.0,155.0,18.0,242.0,118.0,3090.0,238.0,238.0,122.0,6211.0,2.0,6.0]|2         |\n|[2595.0,45.0,2.0,153.0,-1.0,391.0,220.0,234.0,150.0,6172.0,2.0,1.0]    |5         |\n+-----------------------------------------------------------------------+----------+\nonly showing top 5 rows\n\n</div>",
       "datasetInfos": [],
       "metadata": {},
       "removedWidgets": [],
       "type": "html"
      }
     },
     "output_type": "display_data"
    }
   ],
   "source": [
    "# create pipeline w/ previously created objs then fit to df\n",
    "pre_pipe = Pipeline(stages=[feature_indexer, encoder, assembler_lr, assembler_dt]).fit(fc)\n",
    "\n",
    "# store processed df\n",
    "fc_proc = pre_pipe.transform(fc)\n",
    "\n",
    "# persist the train df\n",
    "fc_proc.persist()\n",
    "\n",
    "# display df\n",
    "fc_proc.select(['features_dt', 'Cover_Type']).show(5, truncate=False)"
   ]
  },
  {
   "cell_type": "markdown",
   "metadata": {
    "application/vnd.databricks.v1+cell": {
     "cellMetadata": {},
     "inputWidgets": {},
     "nuid": "466ff636-2c51-44e4-bca8-4d338b1f0f5c",
     "showTitle": false,
     "title": ""
    }
   },
   "source": [
    "Create test set with 20% of the original dataset and a training set with the remaining 80% of the original dataset."
   ]
  },
  {
   "cell_type": "code",
   "execution_count": 0,
   "metadata": {
    "application/vnd.databricks.v1+cell": {
     "cellMetadata": {},
     "inputWidgets": {},
     "nuid": "14115452-ca5c-4ff4-9503-bf792c13d86b",
     "showTitle": false,
     "title": ""
    }
   },
   "outputs": [
    {
     "output_type": "display_data",
     "data": {
      "text/html": [
       "<style scoped>\n  .ansiout {\n    display: block;\n    unicode-bidi: embed;\n    white-space: pre-wrap;\n    word-wrap: break-word;\n    word-break: break-all;\n    font-family: \"Source Code Pro\", \"Menlo\", monospace;;\n    font-size: 13px;\n    color: #555;\n    margin-left: 4px;\n    line-height: 19px;\n  }\n</style>\n<div class=\"ansiout\">Training Observations: 12118\nTesting Observations:  3002\n</div>"
      ]
     },
     "metadata": {
      "application/vnd.databricks.v1+output": {
       "addedWidgets": {},
       "arguments": {},
       "data": "<div class=\"ansiout\">Training Observations: 12118\nTesting Observations:  3002\n</div>",
       "datasetInfos": [],
       "metadata": {},
       "removedWidgets": [],
       "type": "html"
      }
     },
     "output_type": "display_data"
    }
   ],
   "source": [
    "splits = fc_proc.randomSplit([0.8, 0.2], seed=1)\n",
    "train = splits[0]\n",
    "test = splits[1]\n",
    "\n",
    "# store training dataset\n",
    "train.persist()\n",
    "\n",
    "# output # of observations in dfs\n",
    "print(f'Training Observations: {train.count()}')\n",
    "print(f'Testing Observations:  {test.count()}')"
   ]
  },
  {
   "cell_type": "markdown",
   "metadata": {
    "application/vnd.databricks.v1+cell": {
     "cellMetadata": {},
     "inputWidgets": {},
     "nuid": "819d1358-2ba9-403c-9c9e-5596875d1cf8",
     "showTitle": false,
     "title": ""
    }
   },
   "source": [
    "## Part D: Hyperparameter for Logistic Regression\n",
    "Perform hyperparameter tuning for logistic regression. Start by creating an accuracy evaluator to be used when performing hyperparameter tuning."
   ]
  },
  {
   "cell_type": "code",
   "execution_count": 0,
   "metadata": {
    "application/vnd.databricks.v1+cell": {
     "cellMetadata": {},
     "inputWidgets": {},
     "nuid": "2c0bb54e-f399-48dd-bffd-ea08a36a9f3d",
     "showTitle": false,
     "title": ""
    }
   },
   "outputs": [
    {
     "output_type": "display_data",
     "data": {
      "text/html": [
       "<style scoped>\n  .ansiout {\n    display: block;\n    unicode-bidi: embed;\n    white-space: pre-wrap;\n    word-wrap: break-word;\n    word-break: break-all;\n    font-family: \"Source Code Pro\", \"Menlo\", monospace;;\n    font-size: 13px;\n    color: #555;\n    margin-left: 4px;\n    line-height: 19px;\n  }\n</style>\n<div class=\"ansiout\"></div>"
      ]
     },
     "metadata": {
      "application/vnd.databricks.v1+output": {
       "addedWidgets": {},
       "arguments": {},
       "data": "<div class=\"ansiout\"></div>",
       "datasetInfos": [],
       "metadata": {},
       "removedWidgets": [],
       "type": "html"
      }
     },
     "output_type": "display_data"
    }
   ],
   "source": [
    "# create accuracy evaluator for models\n",
    "accuracy_eval = MulticlassClassificationEvaluator(\n",
    "    predictionCol='prediction', labelCol='Cover_Type', metricName='accuracy'\n",
    ")"
   ]
  },
  {
   "cell_type": "markdown",
   "metadata": {
    "application/vnd.databricks.v1+cell": {
     "cellMetadata": {},
     "inputWidgets": {},
     "nuid": "adbb9363-c138-4137-b3fa-ed020e9dd457",
     "showTitle": false,
     "title": ""
    }
   },
   "source": [
    "Use grid search and cross-validation to perform hyperparameter tuning for logistic regression."
   ]
  },
  {
   "cell_type": "code",
   "execution_count": 0,
   "metadata": {
    "application/vnd.databricks.v1+cell": {
     "cellMetadata": {},
     "inputWidgets": {},
     "nuid": "4af2aacd-fa97-4698-b8dd-89d8bd73be5c",
     "showTitle": false,
     "title": ""
    }
   },
   "outputs": [
    {
     "output_type": "display_data",
     "data": {
      "text/html": [
       "<style scoped>\n  .ansiout {\n    display: block;\n    unicode-bidi: embed;\n    white-space: pre-wrap;\n    word-wrap: break-word;\n    word-break: break-all;\n    font-family: \"Source Code Pro\", \"Menlo\", monospace;;\n    font-size: 13px;\n    color: #555;\n    margin-left: 4px;\n    line-height: 19px;\n  }\n</style>\n<div class=\"ansiout\"></div>"
      ]
     },
     "metadata": {
      "application/vnd.databricks.v1+output": {
       "addedWidgets": {},
       "arguments": {},
       "data": "<div class=\"ansiout\"></div>",
       "datasetInfos": [],
       "metadata": {},
       "removedWidgets": [],
       "type": "html"
      }
     },
     "output_type": "display_data"
    }
   ],
   "source": [
    "# create instance of logistic regression class\n",
    "logreg = LogisticRegression(featuresCol='features_lr', labelCol='Cover_Type')\n",
    "\n",
    "# create param grid\n",
    "param_grid = (ParamGridBuilder()\n",
    "              .addGrid(logreg.regParam, [0.00001, 0.0001, 0.001, 0.01, 0.1])\n",
    "              .addGrid(logreg.elasticNetParam, [0, 0.5, 1])\n",
    "             ).build()\n",
    "\n",
    "# grid search\n",
    "cv = CrossValidator(estimator=logreg, estimatorParamMaps=param_grid, evaluator=accuracy_eval, \n",
    "                    numFolds=5, seed=1)\n",
    "\n",
    "# fit\n",
    "cv_model = cv.fit(train)"
   ]
  },
  {
   "cell_type": "markdown",
   "metadata": {
    "application/vnd.databricks.v1+cell": {
     "cellMetadata": {},
     "inputWidgets": {},
     "nuid": "316a0eca-30a7-4262-9900-29f48f70e3d6",
     "showTitle": false,
     "title": ""
    }
   },
   "source": [
    "Identify the optimal model found by the grid search algorithm."
   ]
  },
  {
   "cell_type": "code",
   "execution_count": 0,
   "metadata": {
    "application/vnd.databricks.v1+cell": {
     "cellMetadata": {},
     "inputWidgets": {},
     "nuid": "8aa475e1-fd09-4b93-8a5e-30c5db171fa7",
     "showTitle": false,
     "title": ""
    }
   },
   "outputs": [
    {
     "output_type": "display_data",
     "data": {
      "text/html": [
       "<style scoped>\n  .ansiout {\n    display: block;\n    unicode-bidi: embed;\n    white-space: pre-wrap;\n    word-wrap: break-word;\n    word-break: break-all;\n    font-family: \"Source Code Pro\", \"Menlo\", monospace;;\n    font-size: 13px;\n    color: #555;\n    margin-left: 4px;\n    line-height: 19px;\n  }\n</style>\n<div class=\"ansiout\">Max CV Score:   0.6704\nOptimal Lambda: 1e-05\nOptimal Alpha:  1.0\n</div>"
      ]
     },
     "metadata": {
      "application/vnd.databricks.v1+output": {
       "addedWidgets": {},
       "arguments": {},
       "data": "<div class=\"ansiout\">Max CV Score:   0.6704\nOptimal Lambda: 1e-05\nOptimal Alpha:  1.0\n</div>",
       "datasetInfos": [],
       "metadata": {},
       "removedWidgets": [],
       "type": "html"
      }
     },
     "output_type": "display_data"
    }
   ],
   "source": [
    "lr_model = cv_model.bestModel\n",
    "\n",
    "# store parameter vals\n",
    "opt_regParam = lr_model.getRegParam()\n",
    "opt_enetParam = lr_model.getElasticNetParam()\n",
    "\n",
    "# output results\n",
    "print('Max CV Score:  ', round(max(cv_model.avgMetrics),4))\n",
    "print('Optimal Lambda:', opt_regParam)\n",
    "print('Optimal Alpha: ', opt_enetParam)"
   ]
  },
  {
   "cell_type": "markdown",
   "metadata": {
    "application/vnd.databricks.v1+cell": {
     "cellMetadata": {},
     "inputWidgets": {},
     "nuid": "0fe41281-631a-4b99-9579-4f4876802e81",
     "showTitle": false,
     "title": ""
    }
   },
   "source": [
    "Generate a plot to display the results of the cross-validation."
   ]
  },
  {
   "cell_type": "code",
   "execution_count": 0,
   "metadata": {
    "application/vnd.databricks.v1+cell": {
     "cellMetadata": {},
     "inputWidgets": {},
     "nuid": "3df778c7-73e2-403f-9993-42dbd23e293a",
     "showTitle": false,
     "title": ""
    }
   },
   "outputs": [
    {
     "output_type": "display_data",
     "data": {
      "image/png": "[encoded data removed]"
     },
     "metadata": {
      "application/vnd.databricks.v1+output": {
       "addedWidgets": {},
       "arguments": {},
       "data": "data:image/png;base64,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",
       "datasetInfos": [],
       "metadata": {
        "imageDimensions": {
         "height": 266,
         "width": 392
        }
       },
       "removedWidgets": [],
       "type": "image"
      },
      "image/png": {
       "height": 266,
       "width": 392
      }
     },
     "output_type": "display_data"
    }
   ],
   "source": [
    "# plot cv\n",
    "model_params = cv_model.getEstimatorParamMaps()\n",
    "\n",
    "lr_cv_summary_list = []\n",
    "for param_set, acc in zip(model_params, cv_model.avgMetrics):\n",
    "  new_set = list(param_set.values()) + [acc]\n",
    "  lr_cv_summary_list.append(new_set)\n",
    "\n",
    "cv_summary = pd.DataFrame(lr_cv_summary_list,\n",
    "                          columns=['reg_param', 'enet_param', 'acc'])\n",
    "for en in cv_summary.enet_param.unique():\n",
    "  sel = cv_summary.enet_param == en\n",
    "  plt.plot(cv_summary.reg_param[sel], cv_summary.acc[sel], label=en)\n",
    "  plt.scatter(cv_summary.reg_param[sel], cv_summary.acc[sel])\n",
    "\n",
    "plt.legend()\n",
    "plt.xscale('log')\n",
    "plt.grid()\n",
    "plt.xlabel('Regularization Parameter')\n",
    "plt.ylabel('Cross-Validation Score')\n",
    "\n",
    "plt.show()"
   ]
  },
  {
   "cell_type": "markdown",
   "metadata": {
    "application/vnd.databricks.v1+cell": {
     "cellMetadata": {},
     "inputWidgets": {},
     "nuid": "8b7e65d4-3069-4bf5-a322-a959b2ae379a",
     "showTitle": false,
     "title": ""
    }
   },
   "source": [
    "## Part E: Hyperparameter Tuning for Decision Trees\n",
    "Perform hyperparameter tuning for logistic regression. Start by using grid search and cross-validation to perform hyperparameter tuning for decision trees."
   ]
  },
  {
   "cell_type": "code",
   "execution_count": 0,
   "metadata": {
    "application/vnd.databricks.v1+cell": {
     "cellMetadata": {},
     "inputWidgets": {},
     "nuid": "ea78d383-0cd6-4b69-abda-5a37e87ffe1c",
     "showTitle": false,
     "title": ""
    }
   },
   "outputs": [
    {
     "output_type": "display_data",
     "data": {
      "text/html": [
       "<style scoped>\n  .ansiout {\n    display: block;\n    unicode-bidi: embed;\n    white-space: pre-wrap;\n    word-wrap: break-word;\n    word-break: break-all;\n    font-family: \"Source Code Pro\", \"Menlo\", monospace;;\n    font-size: 13px;\n    color: #555;\n    margin-left: 4px;\n    line-height: 19px;\n  }\n</style>\n<div class=\"ansiout\"></div>"
      ]
     },
     "metadata": {
      "application/vnd.databricks.v1+output": {
       "addedWidgets": {},
       "arguments": {},
       "data": "<div class=\"ansiout\"></div>",
       "datasetInfos": [],
       "metadata": {},
       "removedWidgets": [],
       "type": "html"
      }
     },
     "output_type": "display_data"
    }
   ],
   "source": [
    "# create decision tree\n",
    "dtree = DecisionTreeClassifier(featuresCol='features_dt', labelCol='Cover_Type', seed=1, maxBins=38)\n",
    "\n",
    "# set params\n",
    "param_grid = (ParamGridBuilder()\n",
    "              .addGrid(dtree.maxDepth, [4, 6, 8, 10, 12, 14, 16, 18, 20, 22, 24] )\n",
    "              .addGrid(dtree.minInstancesPerNode, [1, 2, 4])\n",
    "             ).build()\n",
    "\n",
    "# create object to perform grid search\n",
    "cv = CrossValidator(estimator=dtree, estimatorParamMaps=param_grid, numFolds=5, \n",
    "                    evaluator=accuracy_eval, seed=1)\n",
    "\n",
    "# fit object to df\n",
    "cv_model = cv.fit(train)"
   ]
  },
  {
   "cell_type": "markdown",
   "metadata": {
    "application/vnd.databricks.v1+cell": {
     "cellMetadata": {},
     "inputWidgets": {},
     "nuid": "f0419613-dfa9-4697-b832-4e64855d8ce2",
     "showTitle": false,
     "title": ""
    }
   },
   "source": [
    "Identify the optimal model found by the grid search algorithm."
   ]
  },
  {
   "cell_type": "code",
   "execution_count": 0,
   "metadata": {
    "application/vnd.databricks.v1+cell": {
     "cellMetadata": {},
     "inputWidgets": {},
     "nuid": "64e8b42e-b59b-45f4-9077-089f6e55a20f",
     "showTitle": false,
     "title": ""
    }
   },
   "outputs": [
    {
     "output_type": "display_data",
     "data": {
      "text/html": [
       "<style scoped>\n  .ansiout {\n    display: block;\n    unicode-bidi: embed;\n    white-space: pre-wrap;\n    word-wrap: break-word;\n    word-break: break-all;\n    font-family: \"Source Code Pro\", \"Menlo\", monospace;;\n    font-size: 13px;\n    color: #555;\n    margin-left: 4px;\n    line-height: 19px;\n  }\n</style>\n<div class=\"ansiout\">Max CV Score:    0.7775\nOptimal Depth:   16\nOptimal MinInst: 1\n</div>"
      ]
     },
     "metadata": {
      "application/vnd.databricks.v1+output": {
       "addedWidgets": {},
       "arguments": {},
       "data": "<div class=\"ansiout\">Max CV Score:    0.7775\nOptimal Depth:   16\nOptimal MinInst: 1\n</div>",
       "datasetInfos": [],
       "metadata": {},
       "removedWidgets": [],
       "type": "html"
      }
     },
     "output_type": "display_data"
    }
   ],
   "source": [
    "dt_model = cv_model.bestModel\n",
    "\n",
    "# get best params\n",
    "maxDepth = dt_model.getMaxDepth()\n",
    "minInstancesPerNode = dt_model.getMinInstancesPerNode()\n",
    "\n",
    "# output results\n",
    "print('Max CV Score:   ', round(max(cv_model.avgMetrics),4))\n",
    "print('Optimal Depth:  ', maxDepth)\n",
    "print('Optimal MinInst:', minInstancesPerNode)"
   ]
  },
  {
   "cell_type": "markdown",
   "metadata": {
    "application/vnd.databricks.v1+cell": {
     "cellMetadata": {},
     "inputWidgets": {},
     "nuid": "222ec8b5-9214-40b5-b738-2ac67013ce7c",
     "showTitle": false,
     "title": ""
    }
   },
   "source": [
    "Generate a plot to display the results of the cross-validation."
   ]
  },
  {
   "cell_type": "code",
   "execution_count": 0,
   "metadata": {
    "application/vnd.databricks.v1+cell": {
     "cellMetadata": {},
     "inputWidgets": {},
     "nuid": "de7f2c98-bffa-48c4-a627-053d4024cabc",
     "showTitle": false,
     "title": ""
    }
   },
   "outputs": [
    {
     "output_type": "display_data",
     "data": {
      "image/png": "[encoded data removed]"
     },
     "metadata": {
      "application/vnd.databricks.v1+output": {
       "addedWidgets": {},
       "arguments": {},
       "data": "data:image/png;base64,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",
       "datasetInfos": [],
       "metadata": {
        "imageDimensions": {
         "height": 262,
         "width": 392
        }
       },
       "removedWidgets": [],
       "type": "image"
      },
      "image/png": {
       "height": 262,
       "width": 392
      }
     },
     "output_type": "display_data"
    }
   ],
   "source": [
    "# plot cv\n",
    "model_params = cv_model.getEstimatorParamMaps()\n",
    "\n",
    "dt_cv_summary_list = []\n",
    "for param_set, acc in zip(model_params, cv_model.avgMetrics):\n",
    "  new_set = list(param_set.values()) + [acc]\n",
    "  dt_cv_summary_list.append(new_set)\n",
    "\n",
    "cv_summary = pd.DataFrame(dt_cv_summary_list,\n",
    "                          columns=['maxDepth', 'minInst', 'acc'])\n",
    "for mi in cv_summary.minInst.unique():\n",
    "  sel = cv_summary.minInst == mi\n",
    "  plt.plot(cv_summary.maxDepth[sel], cv_summary.acc[sel], label=mi)\n",
    "  plt.scatter(cv_summary.maxDepth[sel], cv_summary.acc[sel])\n",
    "\n",
    "plt.legend()\n",
    "plt.grid()\n",
    "plt.xticks(range(4,26,2))\n",
    "plt.xlabel('Max Depth')\n",
    "plt.ylabel('Cross-Validation Score')\n",
    "\n",
    "plt.show()"
   ]
  },
  {
   "cell_type": "markdown",
   "metadata": {
    "application/vnd.databricks.v1+cell": {
     "cellMetadata": {},
     "inputWidgets": {},
     "nuid": "e015d96f-5098-4f79-adb9-43d46f554b2d",
     "showTitle": false,
     "title": ""
    }
   },
   "source": [
    "Display the feature importance for the each of the features used in our optimal decision tree\n",
    "model."
   ]
  },
  {
   "cell_type": "code",
   "execution_count": 0,
   "metadata": {
    "application/vnd.databricks.v1+cell": {
     "cellMetadata": {},
     "inputWidgets": {},
     "nuid": "a7eff6bb-a97b-44c9-8ab0-af0afb581e39",
     "showTitle": false,
     "title": ""
    }
   },
   "outputs": [
    {
     "output_type": "display_data",
     "data": {
      "text/html": [
       "<style scoped>\n  .ansiout {\n    display: block;\n    unicode-bidi: embed;\n    white-space: pre-wrap;\n    word-wrap: break-word;\n    word-break: break-all;\n    font-family: \"Source Code Pro\", \"Menlo\", monospace;;\n    font-size: 13px;\n    color: #555;\n    margin-left: 4px;\n    line-height: 19px;\n  }\n</style>\n<div class=\"ansiout\">Out[16]: </div>"
      ]
     },
     "metadata": {
      "application/vnd.databricks.v1+output": {
       "addedWidgets": {},
       "arguments": {},
       "data": "<div class=\"ansiout\">Out[16]: </div>",
       "datasetInfos": [],
       "metadata": {},
       "removedWidgets": [],
       "type": "html"
      }
     },
     "output_type": "display_data"
    },
    {
     "output_type": "display_data",
     "data": {
      "text/html": [
       "<div>\n<style scoped>\n    .dataframe tbody tr th:only-of-type {\n        vertical-align: middle;\n    }\n\n    .dataframe tbody tr th {\n        vertical-align: top;\n    }\n\n    .dataframe thead th {\n        text-align: right;\n    }\n</style>\n<table border=\"1\" class=\"dataframe\">\n  <thead>\n    <tr style=\"text-align: right;\">\n      <th></th>\n      <th>feature</th>\n      <th>importance</th>\n    </tr>\n  </thead>\n  <tbody>\n    <tr>\n      <th>0</th>\n      <td>Elevation</td>\n      <td>0.394260</td>\n    </tr>\n    <tr>\n      <th>1</th>\n      <td>Aspect</td>\n      <td>0.048116</td>\n    </tr>\n    <tr>\n      <th>2</th>\n      <td>Slope</td>\n      <td>0.026453</td>\n    </tr>\n    <tr>\n      <th>3</th>\n      <td>Horizontal_Distance_To_Hydrology</td>\n      <td>0.078278</td>\n    </tr>\n    <tr>\n      <th>4</th>\n      <td>Vertal_Distance_To_Hydrology</td>\n      <td>0.036748</td>\n    </tr>\n    <tr>\n      <th>5</th>\n      <td>Horizontal_Distance_To_Roadways</td>\n      <td>0.070875</td>\n    </tr>\n    <tr>\n      <th>6</th>\n      <td>Hillshade_9am</td>\n      <td>0.025840</td>\n    </tr>\n    <tr>\n      <th>7</th>\n      <td>Hillshade_Noon</td>\n      <td>0.023199</td>\n    </tr>\n    <tr>\n      <th>8</th>\n      <td>Hillshade_3pm</td>\n      <td>0.017314</td>\n    </tr>\n    <tr>\n      <th>9</th>\n      <td>Horizontal_Distance_To_Fire_Points</td>\n      <td>0.079365</td>\n    </tr>\n    <tr>\n      <th>10</th>\n      <td>Wilderness_Area</td>\n      <td>0.057567</td>\n    </tr>\n    <tr>\n      <th>11</th>\n      <td>Soil_Type</td>\n      <td>0.141985</td>\n    </tr>\n  </tbody>\n</table>\n</div>"
      ]
     },
     "metadata": {
      "application/vnd.databricks.v1+output": {
       "addedWidgets": {},
       "arguments": {},
       "data": "<div>\n<style scoped>\n    .dataframe tbody tr th:only-of-type {\n        vertical-align: middle;\n    }\n\n    .dataframe tbody tr th {\n        vertical-align: top;\n    }\n\n    .dataframe thead th {\n        text-align: right;\n    }\n</style>\n<table border=\"1\" class=\"dataframe\">\n  <thead>\n    <tr style=\"text-align: right;\">\n      <th></th>\n      <th>feature</th>\n      <th>importance</th>\n    </tr>\n  </thead>\n  <tbody>\n    <tr>\n      <th>0</th>\n      <td>Elevation</td>\n      <td>0.394260</td>\n    </tr>\n    <tr>\n      <th>1</th>\n      <td>Aspect</td>\n      <td>0.048116</td>\n    </tr>\n    <tr>\n      <th>2</th>\n      <td>Slope</td>\n      <td>0.026453</td>\n    </tr>\n    <tr>\n      <th>3</th>\n      <td>Horizontal_Distance_To_Hydrology</td>\n      <td>0.078278</td>\n    </tr>\n    <tr>\n      <th>4</th>\n      <td>Vertal_Distance_To_Hydrology</td>\n      <td>0.036748</td>\n    </tr>\n    <tr>\n      <th>5</th>\n      <td>Horizontal_Distance_To_Roadways</td>\n      <td>0.070875</td>\n    </tr>\n    <tr>\n      <th>6</th>\n      <td>Hillshade_9am</td>\n      <td>0.025840</td>\n    </tr>\n    <tr>\n      <th>7</th>\n      <td>Hillshade_Noon</td>\n      <td>0.023199</td>\n    </tr>\n    <tr>\n      <th>8</th>\n      <td>Hillshade_3pm</td>\n      <td>0.017314</td>\n    </tr>\n    <tr>\n      <th>9</th>\n      <td>Horizontal_Distance_To_Fire_Points</td>\n      <td>0.079365</td>\n    </tr>\n    <tr>\n      <th>10</th>\n      <td>Wilderness_Area</td>\n      <td>0.057567</td>\n    </tr>\n    <tr>\n      <th>11</th>\n      <td>Soil_Type</td>\n      <td>0.141985</td>\n    </tr>\n  </tbody>\n</table>\n</div>",
       "datasetInfos": [],
       "metadata": {},
       "removedWidgets": [],
       "textData": null,
       "type": "htmlSandbox"
      }
     },
     "output_type": "display_data"
    }
   ],
   "source": [
    "# get names and order of features in df\n",
    "features = num_features + cat_features\n",
    "\n",
    "pd.DataFrame({\n",
    "    'feature':features,\n",
    "    'importance':dt_model.featureImportances\n",
    "})"
   ]
  },
  {
   "cell_type": "markdown",
   "metadata": {
    "application/vnd.databricks.v1+cell": {
     "cellMetadata": {},
     "inputWidgets": {},
     "nuid": "b14cb8e3-7500-47d2-bfef-cde2b1f6db5d",
     "showTitle": false,
     "title": ""
    }
   },
   "source": [
    "## Part F: Identifying and Evaluating the Final Model\n",
    "Determine which of these two models appears to have better performance on out-of-sample observations. Then test predictions and create a confusion matrix."
   ]
  },
  {
   "cell_type": "markdown",
   "metadata": {
    "application/vnd.databricks.v1+cell": {
     "cellMetadata": {},
     "inputWidgets": {},
     "nuid": "d4e3ee35-ef45-4e44-a50b-45f86f1533f2",
     "showTitle": false,
     "title": ""
    }
   },
   "source": [
    "The decision tree model has a maximum cross validation score of 77.75%. The logistic regression model has a maximum cross validation score of 67.04%. Therefore, the decision tree model performs better on out-of-sample data and is selected as the final model.\n",
    "\n",
    "Next, use the optimal model to generate predictions for the test set."
   ]
  },
  {
   "cell_type": "code",
   "execution_count": 0,
   "metadata": {
    "application/vnd.databricks.v1+cell": {
     "cellMetadata": {},
     "inputWidgets": {},
     "nuid": "44f4e5ff-50a8-45e5-9a6a-2b979716c1af",
     "showTitle": false,
     "title": ""
    }
   },
   "outputs": [
    {
     "output_type": "display_data",
     "data": {
      "text/html": [
       "<style scoped>\n  .ansiout {\n    display: block;\n    unicode-bidi: embed;\n    white-space: pre-wrap;\n    word-wrap: break-word;\n    word-break: break-all;\n    font-family: \"Source Code Pro\", \"Menlo\", monospace;;\n    font-size: 13px;\n    color: #555;\n    margin-left: 4px;\n    line-height: 19px;\n  }\n</style>\n<div class=\"ansiout\">+------------------------------------------------------------------------------+----------+----------+\nprobability                                                                   |prediction|Cover_Type|\n+------------------------------------------------------------------------------+----------+----------+\n[0.0,0.0,0.0,0.0,0.0,0.0,1.0,0.0]                                             |6.0       |6         |\n[0.0,0.0,0.0273972602739726,0.3150684931506849,0.0,0.0,0.6575342465753424,0.0]|6.0       |6         |\n[0.0,0.0,0.0,0.0,0.0,0.0,1.0,0.0]                                             |6.0       |6         |\n[0.0,0.0,0.0,1.0,0.0,0.0,0.0,0.0]                                             |3.0       |3         |\n[0.0,0.0,0.0,0.09375,0.0,0.0,0.90625,0.0]                                     |6.0       |6         |\n[0.0,0.0,0.0,1.0,0.0,0.0,0.0,0.0]                                             |3.0       |3         |\n[0.0,0.0,0.0,1.0,0.0,0.0,0.0,0.0]                                             |3.0       |6         |\n[0.0,0.0,0.0,1.0,0.0,0.0,0.0,0.0]                                             |3.0       |3         |\n[0.0,0.0,0.0,0.0,0.0,0.0,1.0,0.0]                                             |6.0       |3         |\n[0.0,0.0,0.0,0.0,0.0,0.0,1.0,0.0]                                             |6.0       |6         |\n+------------------------------------------------------------------------------+----------+----------+\nonly showing top 10 rows\n\n</div>"
      ]
     },
     "metadata": {
      "application/vnd.databricks.v1+output": {
       "addedWidgets": {},
       "arguments": {},
       "data": "<div class=\"ansiout\">+------------------------------------------------------------------------------+----------+----------+\n|probability                                                                   |prediction|Cover_Type|\n+------------------------------------------------------------------------------+----------+----------+\n|[0.0,0.0,0.0,0.0,0.0,0.0,1.0,0.0]                                             |6.0       |6         |\n|[0.0,0.0,0.0273972602739726,0.3150684931506849,0.0,0.0,0.6575342465753424,0.0]|6.0       |6         |\n|[0.0,0.0,0.0,0.0,0.0,0.0,1.0,0.0]                                             |6.0       |6         |\n|[0.0,0.0,0.0,1.0,0.0,0.0,0.0,0.0]                                             |3.0       |3         |\n|[0.0,0.0,0.0,0.09375,0.0,0.0,0.90625,0.0]                                     |6.0       |6         |\n|[0.0,0.0,0.0,1.0,0.0,0.0,0.0,0.0]                                             |3.0       |3         |\n|[0.0,0.0,0.0,1.0,0.0,0.0,0.0,0.0]                                             |3.0       |6         |\n|[0.0,0.0,0.0,1.0,0.0,0.0,0.0,0.0]                                             |3.0       |3         |\n|[0.0,0.0,0.0,0.0,0.0,0.0,1.0,0.0]                                             |6.0       |3         |\n|[0.0,0.0,0.0,0.0,0.0,0.0,1.0,0.0]                                             |6.0       |6         |\n+------------------------------------------------------------------------------+----------+----------+\nonly showing top 10 rows\n\n</div>",
       "datasetInfos": [],
       "metadata": {},
       "removedWidgets": [],
       "type": "html"
      }
     },
     "output_type": "display_data"
    }
   ],
   "source": [
    "# generate predictions\n",
    "test_pred = dt_model.transform(test)\n",
    "\n",
    "# show first 10 rows\n",
    "test_pred.select('probability', 'prediction', 'Cover_Type').show(10, truncate=False)"
   ]
  },
  {
   "cell_type": "markdown",
   "metadata": {
    "application/vnd.databricks.v1+cell": {
     "cellMetadata": {},
     "inputWidgets": {},
     "nuid": "25f69c05-463f-4214-864e-0fb8c3f01100",
     "showTitle": false,
     "title": ""
    }
   },
   "source": [
    "Use the test predictions to evaluate the final model's performance on out-of-sample data."
   ]
  },
  {
   "cell_type": "code",
   "execution_count": 0,
   "metadata": {
    "application/vnd.databricks.v1+cell": {
     "cellMetadata": {},
     "inputWidgets": {},
     "nuid": "fdee88c5-97e6-45f0-af2a-e1f8d977b6e6",
     "showTitle": false,
     "title": ""
    }
   },
   "outputs": [
    {
     "output_type": "display_data",
     "data": {
      "text/html": [
       "<style scoped>\n  .ansiout {\n    display: block;\n    unicode-bidi: embed;\n    white-space: pre-wrap;\n    word-wrap: break-word;\n    word-break: break-all;\n    font-family: \"Source Code Pro\", \"Menlo\", monospace;;\n    font-size: 13px;\n    color: #555;\n    margin-left: 4px;\n    line-height: 19px;\n  }\n</style>\n<div class=\"ansiout\">/databricks/spark/python/pyspark/sql/context.py:134: FutureWarning: Deprecated in 3.0.0. Use SparkSession.builder.getOrCreate() instead.\n  warnings.warn(\nTest Set Accuracy: 0.7818121252498335\n</div>"
      ]
     },
     "metadata": {
      "application/vnd.databricks.v1+output": {
       "addedWidgets": {},
       "arguments": {},
       "data": "<div class=\"ansiout\">/databricks/spark/python/pyspark/sql/context.py:134: FutureWarning: Deprecated in 3.0.0. Use SparkSession.builder.getOrCreate() instead.\n  warnings.warn(\nTest Set Accuracy: 0.7818121252498335\n</div>",
       "datasetInfos": [],
       "metadata": {},
       "removedWidgets": [],
       "type": "html"
      }
     },
     "output_type": "display_data"
    }
   ],
   "source": [
    "# create pair RDD of prediction/label pairs\n",
    "pred_and_labels = test_pred.rdd.map(lambda x:(x['prediction'],float(x['Cover_Type'])))\n",
    "\n",
    "# get accuracy\n",
    "metrics = MulticlassMetrics(pred_and_labels)\n",
    "print(f'Test Set Accuracy: {metrics.accuracy}')"
   ]
  },
  {
   "cell_type": "markdown",
   "metadata": {
    "application/vnd.databricks.v1+cell": {
     "cellMetadata": {},
     "inputWidgets": {},
     "nuid": "235eb953-0d68-499b-af5c-6c248087fa93",
     "showTitle": false,
     "title": ""
    }
   },
   "source": [
    "Display the confusion matrix for the test data."
   ]
  },
  {
   "cell_type": "code",
   "execution_count": 0,
   "metadata": {
    "application/vnd.databricks.v1+cell": {
     "cellMetadata": {},
     "inputWidgets": {},
     "nuid": "2ede5551-d7a9-4a70-8de3-14b4f3652054",
     "showTitle": false,
     "title": ""
    }
   },
   "outputs": [
    {
     "output_type": "display_data",
     "data": {
      "text/html": [
       "<style scoped>\n  .ansiout {\n    display: block;\n    unicode-bidi: embed;\n    white-space: pre-wrap;\n    word-wrap: break-word;\n    word-break: break-all;\n    font-family: \"Source Code Pro\", \"Menlo\", monospace;;\n    font-size: 13px;\n    color: #555;\n    margin-left: 4px;\n    line-height: 19px;\n  }\n</style>\n<div class=\"ansiout\">Out[19]: </div>"
      ]
     },
     "metadata": {
      "application/vnd.databricks.v1+output": {
       "addedWidgets": {},
       "arguments": {},
       "data": "<div class=\"ansiout\">Out[19]: </div>",
       "datasetInfos": [],
       "metadata": {},
       "removedWidgets": [],
       "type": "html"
      }
     },
     "output_type": "display_data"
    },
    {
     "output_type": "display_data",
     "data": {
      "text/html": [
       "<div>\n<style scoped>\n    .dataframe tbody tr th:only-of-type {\n        vertical-align: middle;\n    }\n\n    .dataframe tbody tr th {\n        vertical-align: top;\n    }\n\n    .dataframe thead th {\n        text-align: right;\n    }\n</style>\n<table border=\"1\" class=\"dataframe\">\n  <thead>\n    <tr style=\"text-align: right;\">\n      <th></th>\n      <th>1</th>\n      <th>2</th>\n      <th>3</th>\n      <th>4</th>\n      <th>5</th>\n      <th>6</th>\n      <th>7</th>\n    </tr>\n  </thead>\n  <tbody>\n    <tr>\n      <th>1</th>\n      <td>311</td>\n      <td>90</td>\n      <td>2</td>\n      <td>0</td>\n      <td>13</td>\n      <td>5</td>\n      <td>36</td>\n    </tr>\n    <tr>\n      <th>2</th>\n      <td>101</td>\n      <td>220</td>\n      <td>12</td>\n      <td>0</td>\n      <td>58</td>\n      <td>11</td>\n      <td>3</td>\n    </tr>\n    <tr>\n      <th>3</th>\n      <td>1</td>\n      <td>10</td>\n      <td>306</td>\n      <td>23</td>\n      <td>13</td>\n      <td>78</td>\n      <td>0</td>\n    </tr>\n    <tr>\n      <th>4</th>\n      <td>0</td>\n      <td>1</td>\n      <td>22</td>\n      <td>423</td>\n      <td>0</td>\n      <td>25</td>\n      <td>0</td>\n    </tr>\n    <tr>\n      <th>5</th>\n      <td>9</td>\n      <td>26</td>\n      <td>3</td>\n      <td>0</td>\n      <td>364</td>\n      <td>4</td>\n      <td>0</td>\n    </tr>\n    <tr>\n      <th>6</th>\n      <td>1</td>\n      <td>4</td>\n      <td>58</td>\n      <td>13</td>\n      <td>5</td>\n      <td>319</td>\n      <td>0</td>\n    </tr>\n    <tr>\n      <th>7</th>\n      <td>19</td>\n      <td>7</td>\n      <td>0</td>\n      <td>0</td>\n      <td>2</td>\n      <td>0</td>\n      <td>404</td>\n    </tr>\n  </tbody>\n</table>\n</div>"
      ]
     },
     "metadata": {
      "application/vnd.databricks.v1+output": {
       "addedWidgets": {},
       "arguments": {},
       "data": "<div>\n<style scoped>\n    .dataframe tbody tr th:only-of-type {\n        vertical-align: middle;\n    }\n\n    .dataframe tbody tr th {\n        vertical-align: top;\n    }\n\n    .dataframe thead th {\n        text-align: right;\n    }\n</style>\n<table border=\"1\" class=\"dataframe\">\n  <thead>\n    <tr style=\"text-align: right;\">\n      <th></th>\n      <th>1</th>\n      <th>2</th>\n      <th>3</th>\n      <th>4</th>\n      <th>5</th>\n      <th>6</th>\n      <th>7</th>\n    </tr>\n  </thead>\n  <tbody>\n    <tr>\n      <th>1</th>\n      <td>311</td>\n      <td>90</td>\n      <td>2</td>\n      <td>0</td>\n      <td>13</td>\n      <td>5</td>\n      <td>36</td>\n    </tr>\n    <tr>\n      <th>2</th>\n      <td>101</td>\n      <td>220</td>\n      <td>12</td>\n      <td>0</td>\n      <td>58</td>\n      <td>11</td>\n      <td>3</td>\n    </tr>\n    <tr>\n      <th>3</th>\n      <td>1</td>\n      <td>10</td>\n      <td>306</td>\n      <td>23</td>\n      <td>13</td>\n      <td>78</td>\n      <td>0</td>\n    </tr>\n    <tr>\n      <th>4</th>\n      <td>0</td>\n      <td>1</td>\n      <td>22</td>\n      <td>423</td>\n      <td>0</td>\n      <td>25</td>\n      <td>0</td>\n    </tr>\n    <tr>\n      <th>5</th>\n      <td>9</td>\n      <td>26</td>\n      <td>3</td>\n      <td>0</td>\n      <td>364</td>\n      <td>4</td>\n      <td>0</td>\n    </tr>\n    <tr>\n      <th>6</th>\n      <td>1</td>\n      <td>4</td>\n      <td>58</td>\n      <td>13</td>\n      <td>5</td>\n      <td>319</td>\n      <td>0</td>\n    </tr>\n    <tr>\n      <th>7</th>\n      <td>19</td>\n      <td>7</td>\n      <td>0</td>\n      <td>0</td>\n      <td>2</td>\n      <td>0</td>\n      <td>404</td>\n    </tr>\n  </tbody>\n</table>\n</div>",
       "datasetInfos": [],
       "metadata": {},
       "removedWidgets": [],
       "textData": null,
       "type": "htmlSandbox"
      }
     },
     "output_type": "display_data"
    }
   ],
   "source": [
    "# extract confusion matrix\n",
    "cm = metrics.confusionMatrix().toArray().astype(int)\n",
    "\n",
    "# make df\n",
    "pd.DataFrame(\n",
    "    data=cm, \n",
    "    columns=range(1,8),\n",
    "    index=range(1,8)\n",
    ")"
   ]
  },
  {
   "cell_type": "markdown",
   "metadata": {
    "application/vnd.databricks.v1+cell": {
     "cellMetadata": {},
     "inputWidgets": {},
     "nuid": "08b97ba0-2a75-4106-a273-854738caf57a",
     "showTitle": false,
     "title": ""
    }
   },
   "source": [
    "Observations in the test set with **Cover Type 2** were misclassified by the model as **Cover Type 1** a total of 101 times. This was the most common type of misclassification in the test set.\n",
    "\n",
    "Next, display the precision and recall for all 7 label classes."
   ]
  },
  {
   "cell_type": "code",
   "execution_count": 0,
   "metadata": {
    "application/vnd.databricks.v1+cell": {
     "cellMetadata": {},
     "inputWidgets": {},
     "nuid": "a31b64f3-d579-4df7-9e05-73d233fdb00d",
     "showTitle": false,
     "title": ""
    }
   },
   "outputs": [
    {
     "output_type": "display_data",
     "data": {
      "text/html": [
       "<style scoped>\n  .ansiout {\n    display: block;\n    unicode-bidi: embed;\n    white-space: pre-wrap;\n    word-wrap: break-word;\n    word-break: break-all;\n    font-family: \"Source Code Pro\", \"Menlo\", monospace;;\n    font-size: 13px;\n    color: #555;\n    margin-left: 4px;\n    line-height: 19px;\n  }\n</style>\n<div class=\"ansiout\">Label   Precision   Recall\n--------------------------\n1       0.7036      0.6805\n2       0.6145      0.5432\n3       0.7593      0.7100\n4       0.9216      0.8981\n5       0.8000      0.8966\n6       0.7217      0.7975\n7       0.9120      0.9352\n</div>"
      ]
     },
     "metadata": {
      "application/vnd.databricks.v1+output": {
       "addedWidgets": {},
       "arguments": {},
       "data": "<div class=\"ansiout\">Label   Precision   Recall\n--------------------------\n1       0.7036      0.6805\n2       0.6145      0.5432\n3       0.7593      0.7100\n4       0.9216      0.8981\n5       0.8000      0.8966\n6       0.7217      0.7975\n7       0.9120      0.9352\n</div>",
       "datasetInfos": [],
       "metadata": {},
       "removedWidgets": [],
       "type": "html"
      }
     },
     "output_type": "display_data"
    }
   ],
   "source": [
    "print('Label   Precision   Recall')\n",
    "print('--------------------------')\n",
    "for i, lab in enumerate(range(1,8)):\n",
    "    print(f'{lab:<8}{metrics.precision(i+1):<12.4f}{metrics.recall(i+1):.4f}')"
   ]
  },
  {
   "cell_type": "markdown",
   "metadata": {
    "application/vnd.databricks.v1+cell": {
     "cellMetadata": {},
     "inputWidgets": {},
     "nuid": "918fda63-3d5c-43f7-81e3-98de574eb7db",
     "showTitle": false,
     "title": ""
    }
   },
   "source": [
    "1. The cover type most likely to be correctly classified by the final model is **Cover Type 7**.\n",
    "2. The cover type most likely to be misclassified by the final model is **Cover Type 2**.\n",
    "3. The cover type with the greatest difference between its precision and recall is **Cover Type 5**. There is a .0966 difference between the precision and recall. The precision is calculated as .8000. This means that the decision tree model will correctly predict the cover type as **Cover Type 5** 80% of the time. The recall is calculated as .8966. This means that, prior to the decision tree model's predictions, the model will correctly classify those with **Cover Type 5** 89.66% of the time."
   ]
  }
 ],
 "metadata": {
  "application/vnd.databricks.v1+notebook": {
   "dashboards": [],
   "language": "python",
   "notebookMetadata": {
    "pythonIndentUnit": 2
   },
   "notebookName": "Project_03",
   "notebookOrigID": 1204103976206034,
   "widgets": {}
  }
 },
 "nbformat": 4,
 "nbformat_minor": 0
}
