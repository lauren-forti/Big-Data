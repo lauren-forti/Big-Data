{
 "cells": [
  {
   "cell_type": "markdown",
   "metadata": {
    "application/vnd.databricks.v1+cell": {
     "cellMetadata": {},
     "inputWidgets": {},
     "nuid": "98336a2b-adfb-46eb-8bcc-eb2154e08dfc",
     "showTitle": false,
     "title": ""
    }
   },
   "source": [
    "# DSCI 417 – Homework 04\n",
    "**Lauren Forti**"
   ]
  },
  {
   "cell_type": "code",
   "execution_count": 0,
   "metadata": {
    "application/vnd.databricks.v1+cell": {
     "cellMetadata": {},
     "inputWidgets": {},
     "nuid": "5ab2009a-1241-47b4-8132-424223498742",
     "showTitle": false,
     "title": ""
    }
   },
   "outputs": [
    {
     "output_type": "display_data",
     "data": {
      "text/html": [
       "<style scoped>\n  .ansiout {\n    display: block;\n    unicode-bidi: embed;\n    white-space: pre-wrap;\n    word-wrap: break-word;\n    word-break: break-all;\n    font-family: \"Source Code Pro\", \"Menlo\", monospace;;\n    font-size: 13px;\n    color: #555;\n    margin-left: 4px;\n    line-height: 19px;\n  }\n</style>\n<div class=\"ansiout\"></div>"
      ]
     },
     "metadata": {
      "application/vnd.databricks.v1+output": {
       "addedWidgets": {},
       "arguments": {},
       "data": "<div class=\"ansiout\"></div>",
       "datasetInfos": [],
       "metadata": {},
       "removedWidgets": [],
       "type": "html"
      }
     },
     "output_type": "display_data"
    }
   ],
   "source": [
    "# setup\n",
    "from pyspark.sql import SparkSession\n",
    "from pyspark.sql.functions import col, expr\n",
    "\n",
    "spark = SparkSession.builder.getOrCreate()"
   ]
  },
  {
   "cell_type": "markdown",
   "metadata": {
    "application/vnd.databricks.v1+cell": {
     "cellMetadata": {},
     "inputWidgets": {},
     "nuid": "e709622d-a493-4db5-8342-7dcd86cdb551",
     "showTitle": false,
     "title": ""
    }
   },
   "source": [
    "## Load Diamond Data"
   ]
  },
  {
   "cell_type": "code",
   "execution_count": 0,
   "metadata": {
    "application/vnd.databricks.v1+cell": {
     "cellMetadata": {},
     "inputWidgets": {},
     "nuid": "0dbbb86d-c9f3-4c71-8e80-480c8f12b25f",
     "showTitle": false,
     "title": ""
    }
   },
   "outputs": [
    {
     "output_type": "display_data",
     "data": {
      "text/html": [
       "<style scoped>\n  .ansiout {\n    display: block;\n    unicode-bidi: embed;\n    white-space: pre-wrap;\n    word-wrap: break-word;\n    word-break: break-all;\n    font-family: \"Source Code Pro\", \"Menlo\", monospace;;\n    font-size: 13px;\n    color: #555;\n    margin-left: 4px;\n    line-height: 19px;\n  }\n</style>\n<div class=\"ansiout\">root\n-- carat: double (nullable = true)\n-- cut: string (nullable = true)\n-- color: string (nullable = true)\n-- clarity: string (nullable = true)\n-- depth: double (nullable = true)\n-- table: double (nullable = true)\n-- price: integer (nullable = true)\n-- x: double (nullable = true)\n-- y: double (nullable = true)\n-- z: double (nullable = true)\n\n</div>"
      ]
     },
     "metadata": {
      "application/vnd.databricks.v1+output": {
       "addedWidgets": {},
       "arguments": {},
       "data": "<div class=\"ansiout\">root\n |-- carat: double (nullable = true)\n |-- cut: string (nullable = true)\n |-- color: string (nullable = true)\n |-- clarity: string (nullable = true)\n |-- depth: double (nullable = true)\n |-- table: double (nullable = true)\n |-- price: integer (nullable = true)\n |-- x: double (nullable = true)\n |-- y: double (nullable = true)\n |-- z: double (nullable = true)\n\n</div>",
       "datasetInfos": [],
       "metadata": {},
       "removedWidgets": [],
       "type": "html"
      }
     },
     "output_type": "display_data"
    }
   ],
   "source": [
    "# create schema\n",
    "my_schema = 'carat DOUBLE, cut STRING, color STRING, clarity STRING, depth DOUBLE, table DOUBLE, price INTEGER, x DOUBLE, y DOUBLE, z DOUBLE'\n",
    "\n",
    "# read file into df\n",
    "diamonds = (\n",
    "    spark.read\n",
    "    .option('delimiter', '\\t')\n",
    "    .option('header', True)\n",
    "    .schema(my_schema)\n",
    "    .csv('/FileStore/tables/diamonds.txt')\n",
    ")\n",
    "\n",
    "# display schema\n",
    "diamonds.printSchema()"
   ]
  },
  {
   "cell_type": "markdown",
   "metadata": {
    "application/vnd.databricks.v1+cell": {
     "cellMetadata": {},
     "inputWidgets": {},
     "nuid": "0e7ba1a3-ae0f-4761-813f-55b1d9ae100b",
     "showTitle": false,
     "title": ""
    }
   },
   "source": [
    "## Part 1:  Grouping By Cut"
   ]
  },
  {
   "cell_type": "code",
   "execution_count": 0,
   "metadata": {
    "application/vnd.databricks.v1+cell": {
     "cellMetadata": {},
     "inputWidgets": {},
     "nuid": "60b377fa-a237-4f9a-88df-b8a5e44cdce9",
     "showTitle": false,
     "title": ""
    }
   },
   "outputs": [
    {
     "output_type": "display_data",
     "data": {
      "text/html": [
       "<style scoped>\n  .ansiout {\n    display: block;\n    unicode-bidi: embed;\n    white-space: pre-wrap;\n    word-wrap: break-word;\n    word-break: break-all;\n    font-family: \"Source Code Pro\", \"Menlo\", monospace;;\n    font-size: 13px;\n    color: #555;\n    margin-left: 4px;\n    line-height: 19px;\n  }\n</style>\n<div class=\"ansiout\">Out[3]: &lt;function __main__.rank_cut(level)&gt;</div>"
      ]
     },
     "metadata": {
      "application/vnd.databricks.v1+output": {
       "addedWidgets": {},
       "arguments": {},
       "data": "<div class=\"ansiout\">Out[3]: &lt;function __main__.rank_cut(level)&gt;</div>",
       "datasetInfos": [],
       "metadata": {},
       "removedWidgets": [],
       "type": "html"
      }
     },
     "output_type": "display_data"
    }
   ],
   "source": [
    "# function to convert str to numeric\n",
    "def rank_cut(level):\n",
    "  ranks = {\n",
    "    'Fair':1,\n",
    "    'Good':2,\n",
    "    'Very Good':3,\n",
    "    'Premium':4,\n",
    "    'Ideal':5\n",
    "  }\n",
    "  # return appropriate level\n",
    "  return ranks.get(level)\n",
    "\n",
    "# register as Spark UDF\n",
    "spark.udf.register('rank_cut', rank_cut)"
   ]
  },
  {
   "cell_type": "code",
   "execution_count": 0,
   "metadata": {
    "application/vnd.databricks.v1+cell": {
     "cellMetadata": {},
     "inputWidgets": {},
     "nuid": "412e66cf-56ed-4d3d-8ce1-93d64021426e",
     "showTitle": false,
     "title": ""
    }
   },
   "outputs": [
    {
     "output_type": "display_data",
     "data": {
      "text/html": [
       "<style scoped>\n  .ansiout {\n    display: block;\n    unicode-bidi: embed;\n    white-space: pre-wrap;\n    word-wrap: break-word;\n    word-break: break-all;\n    font-family: \"Source Code Pro\", \"Menlo\", monospace;;\n    font-size: 13px;\n    color: #555;\n    margin-left: 4px;\n    line-height: 19px;\n  }\n</style>\n<div class=\"ansiout\">+---+----------+---------+---------+---------+---------+\ncut|n_diamonds|avg_price|avg_carat|avg_depth|avg_table|\n+---+----------+---------+---------+---------+---------+\n  1|      1610|     4359|     1.05|    64.04|    59.05|\n  2|      4906|     3929|     0.85|    62.37|    58.69|\n  3|     12082|     3982|     0.81|    61.82|    57.96|\n  4|     13791|     4584|     0.89|    61.26|    58.75|\n  5|     21551|     3458|      0.7|    61.71|    55.95|\n+---+----------+---------+---------+---------+---------+\n\n</div>"
      ]
     },
     "metadata": {
      "application/vnd.databricks.v1+output": {
       "addedWidgets": {},
       "arguments": {},
       "data": "<div class=\"ansiout\">+---+----------+---------+---------+---------+---------+\n|cut|n_diamonds|avg_price|avg_carat|avg_depth|avg_table|\n+---+----------+---------+---------+---------+---------+\n|  1|      1610|     4359|     1.05|    64.04|    59.05|\n|  2|      4906|     3929|     0.85|    62.37|    58.69|\n|  3|     12082|     3982|     0.81|    61.82|    57.96|\n|  4|     13791|     4584|     0.89|    61.26|    58.75|\n|  5|     21551|     3458|      0.7|    61.71|    55.95|\n+---+----------+---------+---------+---------+---------+\n\n</div>",
       "datasetInfos": [],
       "metadata": {},
       "removedWidgets": [],
       "type": "html"
      }
     },
     "output_type": "display_data"
    }
   ],
   "source": [
    "(\n",
    "  diamonds\n",
    "  \n",
    "  # group by cut\n",
    "  .groupBy('cut')\n",
    "  \n",
    "  .agg(\n",
    "    # count diaamonds\n",
    "    expr('count(*) as n_diamonds'),\n",
    "    # calc avg price\n",
    "    expr('int(round(avg(price),0)) as avg_price'),\n",
    "    # calc avg carat\n",
    "    expr('round(avg(carat), 2) as avg_carat'),\n",
    "    # calc avg depth\n",
    "    expr('round(avg(depth), 2) as avg_depth'),\n",
    "    # calc avg table\n",
    "    expr('round(avg(table), 2) as avg_table'),\n",
    "  )\n",
    "\n",
    "  # convert cut column to numeric\n",
    "  .withColumn('cut', expr('rank_cut(cut)'))\n",
    "  \n",
    "  # sort by cut\n",
    "  .sort('cut')\n",
    "\n",
    ").show()"
   ]
  },
  {
   "cell_type": "markdown",
   "metadata": {
    "application/vnd.databricks.v1+cell": {
     "cellMetadata": {},
     "inputWidgets": {},
     "nuid": "608dfd16-4265-47fc-b925-bf3391fb9cb6",
     "showTitle": false,
     "title": ""
    }
   },
   "source": [
    "## Problem 2: Filtering based on Carat Size"
   ]
  },
  {
   "cell_type": "code",
   "execution_count": 0,
   "metadata": {
    "application/vnd.databricks.v1+cell": {
     "cellMetadata": {},
     "inputWidgets": {},
     "nuid": "9ff936b8-c779-46c1-a68a-66f0c695317b",
     "showTitle": false,
     "title": ""
    }
   },
   "outputs": [
    {
     "output_type": "display_data",
     "data": {
      "text/html": [
       "<style scoped>\n  .ansiout {\n    display: block;\n    unicode-bidi: embed;\n    white-space: pre-wrap;\n    word-wrap: break-word;\n    word-break: break-all;\n    font-family: \"Source Code Pro\", \"Menlo\", monospace;;\n    font-size: 13px;\n    color: #555;\n    margin-left: 4px;\n    line-height: 19px;\n  }\n</style>\n<div class=\"ansiout\">The number of diamonds with carat size in range [0, 1) is 34880.\nThe number of diamonds with carat size in range [1, 2) is 16906.\nThe number of diamonds with carat size in range [2, 3) is 2114.\nThe number of diamonds with carat size in range [3, 4) is 34.\nThe number of diamonds with carat size in range [4, 5) is 5.\nThe number of diamonds with carat size in range [5, 6) is 1.\n</div>"
      ]
     },
     "metadata": {
      "application/vnd.databricks.v1+output": {
       "addedWidgets": {},
       "arguments": {},
       "data": "<div class=\"ansiout\">The number of diamonds with carat size in range [0, 1) is 34880.\nThe number of diamonds with carat size in range [1, 2) is 16906.\nThe number of diamonds with carat size in range [2, 3) is 2114.\nThe number of diamonds with carat size in range [3, 4) is 34.\nThe number of diamonds with carat size in range [4, 5) is 5.\nThe number of diamonds with carat size in range [5, 6) is 1.\n</div>",
       "datasetInfos": [],
       "metadata": {},
       "removedWidgets": [],
       "type": "html"
      }
     },
     "output_type": "display_data"
    }
   ],
   "source": [
    "# get count of diamonds within ranges\n",
    "for item in range(0,6):\n",
    "  # get bounds\n",
    "  lower = item\n",
    "  upper = item + 1\n",
    "  \n",
    "  # count diamonds within bounds\n",
    "  ct = diamonds.filter((col('carat') >= lower) & (col('carat') < upper)).count()\n",
    "  \n",
    "  # output results\n",
    "  print(f'The number of diamonds with carat size in range [{lower}, {upper}) is {ct}.')"
   ]
  },
  {
   "cell_type": "markdown",
   "metadata": {
    "application/vnd.databricks.v1+cell": {
     "cellMetadata": {},
     "inputWidgets": {},
     "nuid": "548c0db9-bb5a-4e70-b817-f1a77b07857a",
     "showTitle": false,
     "title": ""
    }
   },
   "source": [
    "## Problem 3: Binning by Carat Size"
   ]
  },
  {
   "cell_type": "code",
   "execution_count": 0,
   "metadata": {
    "application/vnd.databricks.v1+cell": {
     "cellMetadata": {},
     "inputWidgets": {},
     "nuid": "7c44546b-8a68-4a98-8e51-da7fb7eb92cb",
     "showTitle": false,
     "title": ""
    }
   },
   "outputs": [
    {
     "output_type": "display_data",
     "data": {
      "text/html": [
       "<style scoped>\n  .ansiout {\n    display: block;\n    unicode-bidi: embed;\n    white-space: pre-wrap;\n    word-wrap: break-word;\n    word-break: break-all;\n    font-family: \"Source Code Pro\", \"Menlo\", monospace;;\n    font-size: 13px;\n    color: #555;\n    margin-left: 4px;\n    line-height: 19px;\n  }\n</style>\n<div class=\"ansiout\">Out[6]: &lt;function __main__.carat_bin(size)&gt;</div>"
      ]
     },
     "metadata": {
      "application/vnd.databricks.v1+output": {
       "addedWidgets": {},
       "arguments": {},
       "data": "<div class=\"ansiout\">Out[6]: &lt;function __main__.carat_bin(size)&gt;</div>",
       "datasetInfos": [],
       "metadata": {},
       "removedWidgets": [],
       "type": "html"
      }
     },
     "output_type": "display_data"
    }
   ],
   "source": [
    "# function to find which bin diamonds fall into\n",
    "def carat_bin(size):\n",
    "  bins = ['[0, 1)', '[1, 2)', '[2, 3)', '[3, 4)', '[4, 5)', '[5, 6)']\n",
    "  return bins[int(size)]\n",
    "\n",
    "# register as UDF\n",
    "spark.udf.register('carat_bin', carat_bin)"
   ]
  },
  {
   "cell_type": "code",
   "execution_count": 0,
   "metadata": {
    "application/vnd.databricks.v1+cell": {
     "cellMetadata": {},
     "inputWidgets": {},
     "nuid": "be69bbd6-e67b-49a3-9c55-b2d59a889e8e",
     "showTitle": false,
     "title": ""
    }
   },
   "outputs": [
    {
     "output_type": "display_data",
     "data": {
      "text/html": [
       "<style scoped>\n  .ansiout {\n    display: block;\n    unicode-bidi: embed;\n    white-space: pre-wrap;\n    word-wrap: break-word;\n    word-break: break-all;\n    font-family: \"Source Code Pro\", \"Menlo\", monospace;;\n    font-size: 13px;\n    color: #555;\n    margin-left: 4px;\n    line-height: 19px;\n  }\n</style>\n<div class=\"ansiout\">+---------+----------+---------+\ncarat_bin|n_diamonds|avg_price|\n+---------+----------+---------+\n   [0, 1)|     34880|     1633|\n   [1, 2)|     16906|     7288|\n   [2, 3)|      2114|    14847|\n   [3, 4)|        34|    14309|\n   [4, 5)|         5|    16458|\n   [5, 6)|         1|    18018|\n+---------+----------+---------+\n\n</div>"
      ]
     },
     "metadata": {
      "application/vnd.databricks.v1+output": {
       "addedWidgets": {},
       "arguments": {},
       "data": "<div class=\"ansiout\">+---------+----------+---------+\n|carat_bin|n_diamonds|avg_price|\n+---------+----------+---------+\n|   [0, 1)|     34880|     1633|\n|   [1, 2)|     16906|     7288|\n|   [2, 3)|      2114|    14847|\n|   [3, 4)|        34|    14309|\n|   [4, 5)|         5|    16458|\n|   [5, 6)|         1|    18018|\n+---------+----------+---------+\n\n</div>",
       "datasetInfos": [],
       "metadata": {},
       "removedWidgets": [],
       "type": "html"
      }
     },
     "output_type": "display_data"
    }
   ],
   "source": [
    "(\n",
    "  diamonds\n",
    "  \n",
    "  # add new calcd column\n",
    "  .select(\n",
    "    '*',\n",
    "    expr('carat_bin(carat) as carat_bin')\n",
    "  )\n",
    "  \n",
    "  # group by carat_bin\n",
    "  .groupBy('carat_bin')\n",
    "  \n",
    "  .agg(\n",
    "    # get count of diamonds\n",
    "    expr('count(*) as n_diamonds'),\n",
    "    # calc avg price\n",
    "    expr('int(round(avg(price),0)) as avg_price')\n",
    "  )\n",
    "  \n",
    "  # sort by carat_bin asc\n",
    "  .sort('carat_bin')\n",
    "\n",
    ").show()"
   ]
  },
  {
   "cell_type": "markdown",
   "metadata": {
    "application/vnd.databricks.v1+cell": {
     "cellMetadata": {},
     "inputWidgets": {},
     "nuid": "c19d198e-0683-409f-bf6d-56345c73a5fa",
     "showTitle": false,
     "title": ""
    }
   },
   "source": [
    "## Load IMDB Data"
   ]
  },
  {
   "cell_type": "code",
   "execution_count": 0,
   "metadata": {
    "application/vnd.databricks.v1+cell": {
     "cellMetadata": {},
     "inputWidgets": {},
     "nuid": "fb4e3f4a-99f2-43e9-afcf-4bb9b76983cb",
     "showTitle": false,
     "title": ""
    }
   },
   "outputs": [
    {
     "output_type": "display_data",
     "data": {
      "text/html": [
       "<style scoped>\n  .ansiout {\n    display: block;\n    unicode-bidi: embed;\n    white-space: pre-wrap;\n    word-wrap: break-word;\n    word-break: break-all;\n    font-family: \"Source Code Pro\", \"Menlo\", monospace;;\n    font-size: 13px;\n    color: #555;\n    margin-left: 4px;\n    line-height: 19px;\n  }\n</style>\n<div class=\"ansiout\">root\n-- imdb_title_id: string (nullable = true)\n-- title: string (nullable = true)\n-- year: string (nullable = true)\n-- genre: string (nullable = true)\n-- duration: string (nullable = true)\n-- country: string (nullable = true)\n-- language: string (nullable = true)\n\n</div>"
      ]
     },
     "metadata": {
      "application/vnd.databricks.v1+output": {
       "addedWidgets": {},
       "arguments": {},
       "data": "<div class=\"ansiout\">root\n |-- imdb_title_id: string (nullable = true)\n |-- title: string (nullable = true)\n |-- year: string (nullable = true)\n |-- genre: string (nullable = true)\n |-- duration: string (nullable = true)\n |-- country: string (nullable = true)\n |-- language: string (nullable = true)\n\n</div>",
       "datasetInfos": [],
       "metadata": {},
       "removedWidgets": [],
       "type": "html"
      }
     },
     "output_type": "display_data"
    }
   ],
   "source": [
    "# read file into df\n",
    "movies = (\n",
    "    spark.read\n",
    "    .option('delimiter', '\\t')\n",
    "    .option('header', True)\n",
    "    .csv('/FileStore/tables/imdb/movies.txt')\n",
    ")\n",
    "\n",
    "# display schema\n",
    "movies.printSchema()"
   ]
  },
  {
   "cell_type": "code",
   "execution_count": 0,
   "metadata": {
    "application/vnd.databricks.v1+cell": {
     "cellMetadata": {},
     "inputWidgets": {},
     "nuid": "3533b17a-1ddd-4914-8799-6cc4236e7322",
     "showTitle": false,
     "title": ""
    }
   },
   "outputs": [
    {
     "output_type": "display_data",
     "data": {
      "text/html": [
       "<style scoped>\n  .ansiout {\n    display: block;\n    unicode-bidi: embed;\n    white-space: pre-wrap;\n    word-wrap: break-word;\n    word-break: break-all;\n    font-family: \"Source Code Pro\", \"Menlo\", monospace;;\n    font-size: 13px;\n    color: #555;\n    margin-left: 4px;\n    line-height: 19px;\n  }\n</style>\n<div class=\"ansiout\">root\n-- imdb_name_id: string (nullable = true)\n-- name: string (nullable = true)\n-- birth_name: string (nullable = true)\n-- height: string (nullable = true)\n-- bio: string (nullable = true)\n-- date_of_birth: string (nullable = true)\n-- date_of_death: string (nullable = true)\n\n</div>"
      ]
     },
     "metadata": {
      "application/vnd.databricks.v1+output": {
       "addedWidgets": {},
       "arguments": {},
       "data": "<div class=\"ansiout\">root\n |-- imdb_name_id: string (nullable = true)\n |-- name: string (nullable = true)\n |-- birth_name: string (nullable = true)\n |-- height: string (nullable = true)\n |-- bio: string (nullable = true)\n |-- date_of_birth: string (nullable = true)\n |-- date_of_death: string (nullable = true)\n\n</div>",
       "datasetInfos": [],
       "metadata": {},
       "removedWidgets": [],
       "type": "html"
      }
     },
     "output_type": "display_data"
    }
   ],
   "source": [
    "# read file into df\n",
    "names = (\n",
    "    spark.read\n",
    "    .option('delimiter', '\\t')\n",
    "    .option('header', True)\n",
    "    .csv('/FileStore/tables/imdb/names.txt')\n",
    ")\n",
    "\n",
    "# display schema\n",
    "names.printSchema()"
   ]
  },
  {
   "cell_type": "code",
   "execution_count": 0,
   "metadata": {
    "application/vnd.databricks.v1+cell": {
     "cellMetadata": {},
     "inputWidgets": {},
     "nuid": "c093cf52-162d-4769-9757-bad1e15ef903",
     "showTitle": false,
     "title": ""
    }
   },
   "outputs": [
    {
     "output_type": "display_data",
     "data": {
      "text/html": [
       "<style scoped>\n  .ansiout {\n    display: block;\n    unicode-bidi: embed;\n    white-space: pre-wrap;\n    word-wrap: break-word;\n    word-break: break-all;\n    font-family: \"Source Code Pro\", \"Menlo\", monospace;;\n    font-size: 13px;\n    color: #555;\n    margin-left: 4px;\n    line-height: 19px;\n  }\n</style>\n<div class=\"ansiout\">root\n-- imdb_title_id: string (nullable = true)\n-- ordering: string (nullable = true)\n-- imdb_name_id: string (nullable = true)\n-- category: string (nullable = true)\n-- characters: string (nullable = true)\n\n</div>"
      ]
     },
     "metadata": {
      "application/vnd.databricks.v1+output": {
       "addedWidgets": {},
       "arguments": {},
       "data": "<div class=\"ansiout\">root\n |-- imdb_title_id: string (nullable = true)\n |-- ordering: string (nullable = true)\n |-- imdb_name_id: string (nullable = true)\n |-- category: string (nullable = true)\n |-- characters: string (nullable = true)\n\n</div>",
       "datasetInfos": [],
       "metadata": {},
       "removedWidgets": [],
       "type": "html"
      }
     },
     "output_type": "display_data"
    }
   ],
   "source": [
    "# read file into df\n",
    "title_principals = (\n",
    "    spark.read\n",
    "    .option('delimiter', '\\t')\n",
    "    .option('header', True)\n",
    "    .csv('/FileStore/tables/imdb/title_principals.txt')\n",
    ")\n",
    "\n",
    "# display schema\n",
    "title_principals.printSchema()"
   ]
  },
  {
   "cell_type": "code",
   "execution_count": 0,
   "metadata": {
    "application/vnd.databricks.v1+cell": {
     "cellMetadata": {},
     "inputWidgets": {},
     "nuid": "0f6987c7-0917-4ea7-9e5a-63042edb027e",
     "showTitle": false,
     "title": ""
    }
   },
   "outputs": [
    {
     "output_type": "display_data",
     "data": {
      "text/html": [
       "<style scoped>\n  .ansiout {\n    display: block;\n    unicode-bidi: embed;\n    white-space: pre-wrap;\n    word-wrap: break-word;\n    word-break: break-all;\n    font-family: \"Source Code Pro\", \"Menlo\", monospace;;\n    font-size: 13px;\n    color: #555;\n    margin-left: 4px;\n    line-height: 19px;\n  }\n</style>\n<div class=\"ansiout\">root\n-- imdb_title_id: string (nullable = true)\n-- rating: string (nullable = true)\n-- total_votes: string (nullable = true)\n\n</div>"
      ]
     },
     "metadata": {
      "application/vnd.databricks.v1+output": {
       "addedWidgets": {},
       "arguments": {},
       "data": "<div class=\"ansiout\">root\n |-- imdb_title_id: string (nullable = true)\n |-- rating: string (nullable = true)\n |-- total_votes: string (nullable = true)\n\n</div>",
       "datasetInfos": [],
       "metadata": {},
       "removedWidgets": [],
       "type": "html"
      }
     },
     "output_type": "display_data"
    }
   ],
   "source": [
    "# read file into df\n",
    "ratings = (\n",
    "    spark.read\n",
    "    .option('delimiter', '\\t')\n",
    "    .option('header', True)\n",
    "    .csv('/FileStore/tables/imdb/ratings.txt')\n",
    ")\n",
    "\n",
    "# display schema\n",
    "ratings.printSchema()"
   ]
  },
  {
   "cell_type": "code",
   "execution_count": 0,
   "metadata": {
    "application/vnd.databricks.v1+cell": {
     "cellMetadata": {},
     "inputWidgets": {},
     "nuid": "12c63ca8-d9b5-47eb-8173-9e646777f3ec",
     "showTitle": false,
     "title": ""
    }
   },
   "outputs": [
    {
     "output_type": "display_data",
     "data": {
      "text/html": [
       "<style scoped>\n  .ansiout {\n    display: block;\n    unicode-bidi: embed;\n    white-space: pre-wrap;\n    word-wrap: break-word;\n    word-break: break-all;\n    font-family: \"Source Code Pro\", \"Menlo\", monospace;;\n    font-size: 13px;\n    color: #555;\n    margin-left: 4px;\n    line-height: 19px;\n  }\n</style>\n<div class=\"ansiout\">   Number of Records\n------------------------\nmovies            85855\nnames             297710\ntitle_principals  835513\nratings           85855\n</div>"
      ]
     },
     "metadata": {
      "application/vnd.databricks.v1+output": {
       "addedWidgets": {},
       "arguments": {},
       "data": "<div class=\"ansiout\">   Number of Records\n------------------------\nmovies            85855\nnames             297710\ntitle_principals  835513\nratings           85855\n</div>",
       "datasetInfos": [],
       "metadata": {},
       "removedWidgets": [],
       "type": "html"
      }
     },
     "output_type": "display_data"
    }
   ],
   "source": [
    "# output # of records in each of the four dfs\n",
    "print('   Number of Records')\n",
    "print('-'*24)\n",
    "print('movies           ', movies.count())\n",
    "print('names            ', names.count())\n",
    "print('title_principals ', title_principals.count())\n",
    "print('ratings          ', ratings.count())"
   ]
  },
  {
   "cell_type": "markdown",
   "metadata": {
    "application/vnd.databricks.v1+cell": {
     "cellMetadata": {},
     "inputWidgets": {},
     "nuid": "247f3fef-2471-446f-97fb-0b736e25872b",
     "showTitle": false,
     "title": ""
    }
   },
   "source": [
    "## Problem 4: Number of Appearances by Actor"
   ]
  },
  {
   "cell_type": "code",
   "execution_count": 0,
   "metadata": {
    "application/vnd.databricks.v1+cell": {
     "cellMetadata": {},
     "inputWidgets": {},
     "nuid": "89d2aed4-73f8-4adf-9d2c-dbf1907915e6",
     "showTitle": false,
     "title": ""
    }
   },
   "outputs": [
    {
     "output_type": "display_data",
     "data": {
      "text/html": [
       "<style scoped>\n  .ansiout {\n    display: block;\n    unicode-bidi: embed;\n    white-space: pre-wrap;\n    word-wrap: break-word;\n    word-break: break-all;\n    font-family: \"Source Code Pro\", \"Menlo\", monospace;;\n    font-size: 13px;\n    color: #555;\n    margin-left: 4px;\n    line-height: 19px;\n  }\n</style>\n<div class=\"ansiout\">+-----------------+-----------+\n             name|appearances|\n+-----------------+-----------+\n         Mohanlal|        163|\n Amitabh Bachchan|        142|\n        Mammootty|        140|\n     Eric Roberts|        133|\n       John Wayne|        132|\n Gérard Depardieu|        130|\n      Prakash Raj|        125|\n     Akshay Kumar|        115|\n   Michael Madsen|        107|\n         Andy Lau|        102|\nCatherine Deneuve|        101|\n     Brahmanandam|         99|\n      Anupam Kher|         99|\n    Michael Caine|         94|\n       Ajay Devgn|         94|\n  Christopher Lee|         93|\n+-----------------+-----------+\nonly showing top 16 rows\n\n</div>"
      ]
     },
     "metadata": {
      "application/vnd.databricks.v1+output": {
       "addedWidgets": {},
       "arguments": {},
       "data": "<div class=\"ansiout\">+-----------------+-----------+\n|             name|appearances|\n+-----------------+-----------+\n|         Mohanlal|        163|\n| Amitabh Bachchan|        142|\n|        Mammootty|        140|\n|     Eric Roberts|        133|\n|       John Wayne|        132|\n| Gérard Depardieu|        130|\n|      Prakash Raj|        125|\n|     Akshay Kumar|        115|\n|   Michael Madsen|        107|\n|         Andy Lau|        102|\n|Catherine Deneuve|        101|\n|     Brahmanandam|         99|\n|      Anupam Kher|         99|\n|    Michael Caine|         94|\n|       Ajay Devgn|         94|\n|  Christopher Lee|         93|\n+-----------------+-----------+\nonly showing top 16 rows\n\n</div>",
       "datasetInfos": [],
       "metadata": {},
       "removedWidgets": [],
       "type": "html"
      }
     },
     "output_type": "display_data"
    }
   ],
   "source": [
    "(\n",
    "  title_principals\n",
    "  \n",
    "  # get only actors/actresses\n",
    "  .filter((col('category') == 'actor') | (col('category') == 'actress'))\n",
    "  \n",
    "  # group by imdb ID for each person\n",
    "  .groupBy('imdb_name_id')\n",
    "  \n",
    "  # get # of movies each person has appeared in\n",
    "  .agg(\n",
    "    expr('count(imdb_name_id) as appearances')\n",
    "   )\n",
    "  \n",
    "  # combine with names df\n",
    "  .join(other=names, on='imdb_name_id', how='left')\n",
    "  \n",
    "  # select only name and appearances cols\n",
    "  .select('name', 'appearances')\n",
    "  \n",
    "  # sort desc by # of appearances\n",
    "  .sort('appearances', ascending = False)\n",
    "  \n",
    "  # display the first 16 rows\n",
    "  .show(16)\n",
    ")"
   ]
  },
  {
   "cell_type": "markdown",
   "metadata": {
    "application/vnd.databricks.v1+cell": {
     "cellMetadata": {},
     "inputWidgets": {},
     "nuid": "64d51d93-0f0b-43c1-8c56-d2378d92d5da",
     "showTitle": false,
     "title": ""
    }
   },
   "source": [
    "## Problem 5: Average Rating by Director"
   ]
  },
  {
   "cell_type": "code",
   "execution_count": 0,
   "metadata": {
    "application/vnd.databricks.v1+cell": {
     "cellMetadata": {},
     "inputWidgets": {},
     "nuid": "11495808-246b-4f9d-bbdf-d85ba742ab5a",
     "showTitle": false,
     "title": ""
    }
   },
   "outputs": [
    {
     "output_type": "display_data",
     "data": {
      "text/html": [
       "<style scoped>\n  .ansiout {\n    display: block;\n    unicode-bidi: embed;\n    white-space: pre-wrap;\n    word-wrap: break-word;\n    word-break: break-all;\n    font-family: \"Source Code Pro\", \"Menlo\", monospace;;\n    font-size: 13px;\n    color: #555;\n    margin-left: 4px;\n    line-height: 19px;\n  }\n</style>\n<div class=\"ansiout\">+---------------------+---------+-----------+----------+\nname                 |num_films|total_votes|avg_rating|\n+---------------------+---------+-----------+----------+\nChristopher Nolan    |11       |11653144   |8.22      |\nLee Unkrich          |5        |3329612    |8.14      |\nHayao Miyazaki       |12       |2254496    |8.01      |\nSergio Leone         |7        |1720654    |7.93      |\nQuentin Tarantino    |14       |9460772    |7.93      |\nStanley Kubrick      |13       |4232356    |7.78      |\nDavid Fincher        |10       |6944421    |7.76      |\nSam Mendes           |10       |3067512    |7.73      |\nWes Anderson         |9        |2173090    |7.61      |\nAlejandro G. Iñárritu|7        |2067540    |7.61      |\nPeter Jackson        |13       |7304418    |7.58      |\nBrad Bird            |6        |2294748    |7.57      |\nAlfonso Cuarón       |8        |2078975    |7.54      |\nAndrew Stanton       |5        |2649551    |7.52      |\nBong Joon Ho         |8        |1172684    |7.51      |\nAkira Kurosawa       |32       |1061519    |7.51      |\n+---------------------+---------+-----------+----------+\nonly showing top 16 rows\n\n</div>"
      ]
     },
     "metadata": {
      "application/vnd.databricks.v1+output": {
       "addedWidgets": {},
       "arguments": {},
       "data": "<div class=\"ansiout\">+---------------------+---------+-----------+----------+\n|name                 |num_films|total_votes|avg_rating|\n+---------------------+---------+-----------+----------+\n|Christopher Nolan    |11       |11653144   |8.22      |\n|Lee Unkrich          |5        |3329612    |8.14      |\n|Hayao Miyazaki       |12       |2254496    |8.01      |\n|Sergio Leone         |7        |1720654    |7.93      |\n|Quentin Tarantino    |14       |9460772    |7.93      |\n|Stanley Kubrick      |13       |4232356    |7.78      |\n|David Fincher        |10       |6944421    |7.76      |\n|Sam Mendes           |10       |3067512    |7.73      |\n|Wes Anderson         |9        |2173090    |7.61      |\n|Alejandro G. Iñárritu|7        |2067540    |7.61      |\n|Peter Jackson        |13       |7304418    |7.58      |\n|Brad Bird            |6        |2294748    |7.57      |\n|Alfonso Cuarón       |8        |2078975    |7.54      |\n|Andrew Stanton       |5        |2649551    |7.52      |\n|Bong Joon Ho         |8        |1172684    |7.51      |\n|Akira Kurosawa       |32       |1061519    |7.51      |\n+---------------------+---------+-----------+----------+\nonly showing top 16 rows\n\n</div>",
       "datasetInfos": [],
       "metadata": {},
       "removedWidgets": [],
       "type": "html"
      }
     },
     "output_type": "display_data"
    }
   ],
   "source": [
    "(\n",
    "  title_principals\n",
    "  \n",
    "  # get only actors/actresses\n",
    "  .filter(col('category') == 'director')\n",
    "  \n",
    "  # bring in ratings info\n",
    "  .join(other=ratings, on='imdb_title_id', how='outer')\n",
    "  \n",
    "  # group by imdb ID for each person\n",
    "  .groupBy('imdb_name_id')\n",
    "  \n",
    "  .agg(\n",
    "    # get # of movies each person has directed\n",
    "    expr('count(imdb_name_id) as num_films'),\n",
    "    # get total votes for each director\n",
    "    expr('int(sum(total_votes)) as total_votes'),\n",
    "    # get avg rating for each director\n",
    "    expr('round(avg(rating),2) as avg_rating')\n",
    "  )\n",
    "  \n",
    "  # keep only directors whose movies have @ least 1 million votes  \n",
    "  .filter(\n",
    "    expr('total_votes >= 1000000')\n",
    "  )\n",
    "\n",
    "  # keep only directors who have directed at least 5 movies\n",
    "  .filter(\n",
    "    expr('num_films >= 5')\n",
    "  )\n",
    "  \n",
    "  # bring in names df\n",
    "  .join(other=names, on='imdb_name_id', how='left')\n",
    "  \n",
    "  # select cols\n",
    "  .select('name', 'num_films', 'total_votes', 'avg_rating')\n",
    "  \n",
    "  # sort desc by # of appearances\n",
    "  .sort('avg_rating', ascending = False)\n",
    "  \n",
    "  # display the first 16 rows\n",
    "  .show(16, truncate=False)\n",
    ")"
   ]
  },
  {
   "cell_type": "markdown",
   "metadata": {
    "application/vnd.databricks.v1+cell": {
     "cellMetadata": {},
     "inputWidgets": {},
     "nuid": "8f704265-32a7-44c7-b194-4bbd0671925d",
     "showTitle": false,
     "title": ""
    }
   },
   "source": [
    "## Problem 6: Actors Appearing in Horror Films"
   ]
  },
  {
   "cell_type": "code",
   "execution_count": 0,
   "metadata": {
    "application/vnd.databricks.v1+cell": {
     "cellMetadata": {},
     "inputWidgets": {},
     "nuid": "4de395d0-580a-4fd6-9fae-86f92e777501",
     "showTitle": false,
     "title": ""
    }
   },
   "outputs": [
    {
     "output_type": "display_data",
     "data": {
      "text/html": [
       "<style scoped>\n  .ansiout {\n    display: block;\n    unicode-bidi: embed;\n    white-space: pre-wrap;\n    word-wrap: break-word;\n    word-break: break-all;\n    font-family: \"Source Code Pro\", \"Menlo\", monospace;;\n    font-size: 13px;\n    color: #555;\n    margin-left: 4px;\n    line-height: 19px;\n  }\n</style>\n<div class=\"ansiout\">9557\n</div>"
      ]
     },
     "metadata": {
      "application/vnd.databricks.v1+output": {
       "addedWidgets": {},
       "arguments": {},
       "data": "<div class=\"ansiout\">9557\n</div>",
       "datasetInfos": [],
       "metadata": {},
       "removedWidgets": [],
       "type": "html"
      }
     },
     "output_type": "display_data"
    }
   ],
   "source": [
    "# filter df for horror movies\n",
    "horror_films = movies.filter(expr('genre LIKE \"%Horror%\"'))\n",
    "\n",
    "# display # of records\n",
    "print(horror_films.count())"
   ]
  },
  {
   "cell_type": "code",
   "execution_count": 0,
   "metadata": {
    "application/vnd.databricks.v1+cell": {
     "cellMetadata": {},
     "inputWidgets": {},
     "nuid": "55eb8049-7fcd-41e2-bc3b-20e4fff04929",
     "showTitle": false,
     "title": ""
    }
   },
   "outputs": [
    {
     "output_type": "display_data",
     "data": {
      "text/html": [
       "<style scoped>\n  .ansiout {\n    display: block;\n    unicode-bidi: embed;\n    white-space: pre-wrap;\n    word-wrap: break-word;\n    word-break: break-all;\n    font-family: \"Source Code Pro\", \"Menlo\", monospace;;\n    font-size: 13px;\n    color: #555;\n    margin-left: 4px;\n    line-height: 19px;\n  }\n</style>\n<div class=\"ansiout\">+----------------+---------+\n            name|num_films|\n+----------------+---------+\n Christopher Lee|       56|\n   Peter Cushing|       47|\n   Boris Karloff|       46|\n  John Carradine|       43|\n     Bela Lugosi|       38|\n   Vincent Price|       34|\n Lance Henriksen|       33|\n    Eric Roberts|       29|\n  Lon Chaney Jr.|       28|\n    Bill Moseley|       27|\n       Tony Todd|       27|\nDonald Pleasence|       26|\n     Paul Naschy|       26|\n  Robert Englund|       23|\n     Brad Dourif|       23|\n       Sergey A.|       23|\n+----------------+---------+\nonly showing top 16 rows\n\n</div>"
      ]
     },
     "metadata": {
      "application/vnd.databricks.v1+output": {
       "addedWidgets": {},
       "arguments": {},
       "data": "<div class=\"ansiout\">+----------------+---------+\n|            name|num_films|\n+----------------+---------+\n| Christopher Lee|       56|\n|   Peter Cushing|       47|\n|   Boris Karloff|       46|\n|  John Carradine|       43|\n|     Bela Lugosi|       38|\n|   Vincent Price|       34|\n| Lance Henriksen|       33|\n|    Eric Roberts|       29|\n|  Lon Chaney Jr.|       28|\n|    Bill Moseley|       27|\n|       Tony Todd|       27|\n|Donald Pleasence|       26|\n|     Paul Naschy|       26|\n|  Robert Englund|       23|\n|     Brad Dourif|       23|\n|       Sergey A.|       23|\n+----------------+---------+\nonly showing top 16 rows\n\n</div>",
       "datasetInfos": [],
       "metadata": {},
       "removedWidgets": [],
       "type": "html"
      }
     },
     "output_type": "display_data"
    }
   ],
   "source": [
    "(\n",
    "  title_principals\n",
    "  \n",
    "  # get only actors/actresses\n",
    "  .filter((col('category') == 'actor') | (col('category') == 'actress'))\n",
    "  \n",
    "  # filter join with horror_films df\n",
    "  .join(other=horror_films, on='imdb_title_id', how='semi')\n",
    "  \n",
    "  # group by imdb ID for each person\n",
    "  .groupBy('imdb_name_id')\n",
    "  \n",
    "  .agg(\n",
    "    # get # of movies each person has been in\n",
    "    expr('count(imdb_name_id) as num_films'),    \n",
    "  )\n",
    "\n",
    "  # bring in names df\n",
    "  .join(other=names, on='imdb_name_id', how='left')\n",
    "  \n",
    "  # select cols\n",
    "  .select('name', 'num_films')\n",
    "  \n",
    "  # sort desc by # of appearances\n",
    "  .sort('num_films', ascending = False)\n",
    "\n",
    "  # display the first 16 rows\n",
    "  .show(16)\n",
    ")"
   ]
  }
 ],
 "metadata": {
  "application/vnd.databricks.v1+notebook": {
   "dashboards": [],
   "language": "python",
   "notebookMetadata": {
    "pythonIndentUnit": 2
   },
   "notebookName": "HW_04",
   "notebookOrigID": 3931179321424422,
   "widgets": {}
  }
 },
 "nbformat": 4,
 "nbformat_minor": 0
}
