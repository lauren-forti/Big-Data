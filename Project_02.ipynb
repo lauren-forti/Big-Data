{
 "cells": [
  {
   "cell_type": "markdown",
   "metadata": {
    "application/vnd.databricks.v1+cell": {
     "cellMetadata": {},
     "inputWidgets": {},
     "nuid": "6bf51f9d-441f-4589-bcb5-db4ff31598d2",
     "showTitle": false,
     "title": ""
    }
   },
   "source": [
    "# DSCI 417 – Project 02 Instructions\n",
    "## Student Grade Database\n",
    "**Lauren Forti**"
   ]
  },
  {
   "cell_type": "markdown",
   "metadata": {
    "application/vnd.databricks.v1+cell": {
     "cellMetadata": {},
     "inputWidgets": {},
     "nuid": "4e8d3985-d99d-4f25-afef-e6f054f97cdc",
     "showTitle": false,
     "title": ""
    }
   },
   "source": [
    "## Part A: Set up Environment\n",
    "Setup the environment, beginning with import statements."
   ]
  },
  {
   "cell_type": "code",
   "execution_count": 0,
   "metadata": {
    "application/vnd.databricks.v1+cell": {
     "cellMetadata": {},
     "inputWidgets": {},
     "nuid": "7a515983-e0ac-421d-b7e2-a100afd9df0b",
     "showTitle": false,
     "title": ""
    }
   },
   "outputs": [
    {
     "output_type": "display_data",
     "data": {
      "text/html": [
       "<style scoped>\n  .ansiout {\n    display: block;\n    unicode-bidi: embed;\n    white-space: pre-wrap;\n    word-wrap: break-word;\n    word-break: break-all;\n    font-family: \"Source Code Pro\", \"Menlo\", monospace;;\n    font-size: 13px;\n    color: #555;\n    margin-left: 4px;\n    line-height: 19px;\n  }\n</style>\n<div class=\"ansiout\"></div>"
      ]
     },
     "metadata": {
      "application/vnd.databricks.v1+output": {
       "addedWidgets": {},
       "arguments": {},
       "data": "<div class=\"ansiout\"></div>",
       "datasetInfos": [],
       "metadata": {},
       "removedWidgets": [],
       "type": "html"
      }
     },
     "output_type": "display_data"
    }
   ],
   "source": [
    "# imports\n",
    "import numpy as np\n",
    "import pandas as pd\n",
    "import matplotlib.pyplot as plt\n",
    "from pyspark.sql import SparkSession\n",
    "from pyspark.sql.functions import col, expr\n",
    "\n",
    "# create instance of SparkSession\n",
    "spark = SparkSession.builder.getOrCreate()"
   ]
  },
  {
   "cell_type": "markdown",
   "metadata": {
    "application/vnd.databricks.v1+cell": {
     "cellMetadata": {},
     "inputWidgets": {},
     "nuid": "5e3fb553-22a7-47b6-b1de-ab376f2ce956",
     "showTitle": false,
     "title": ""
    }
   },
   "source": [
    "## Part B: Load the Data\n",
    "Import each data file into a Spark DataFrame and print the number of records in each."
   ]
  },
  {
   "cell_type": "code",
   "execution_count": 0,
   "metadata": {
    "application/vnd.databricks.v1+cell": {
     "cellMetadata": {},
     "inputWidgets": {},
     "nuid": "274e3bb1-13df-4b52-b198-4d67835529ae",
     "showTitle": false,
     "title": ""
    }
   },
   "outputs": [
    {
     "output_type": "display_data",
     "data": {
      "text/html": [
       "<style scoped>\n  .ansiout {\n    display: block;\n    unicode-bidi: embed;\n    white-space: pre-wrap;\n    word-wrap: break-word;\n    word-break: break-all;\n    font-family: \"Source Code Pro\", \"Menlo\", monospace;;\n    font-size: 13px;\n    color: #555;\n    margin-left: 4px;\n    line-height: 19px;\n  }\n</style>\n<div class=\"ansiout\"></div>"
      ]
     },
     "metadata": {
      "application/vnd.databricks.v1+output": {
       "addedWidgets": {},
       "arguments": {},
       "data": "<div class=\"ansiout\"></div>",
       "datasetInfos": [],
       "metadata": {},
       "removedWidgets": [],
       "type": "html"
      }
     },
     "output_type": "display_data"
    }
   ],
   "source": [
    "# read accepted file into df\n",
    "accepted = (\n",
    "    spark.read\n",
    "    .option('delimiter', ',')\n",
    "    .option('header', True)\n",
    "    .schema('acc_term_id STRING, sid INTEGER, first_name STRING, last_name STRING, major STRING')\n",
    "    .csv('/FileStore/tables/univ/accepted.csv')\n",
    ")\n",
    "\n",
    "# read alumni file into df\n",
    "alumni = (\n",
    "    spark.read\n",
    "    .option('delimiter', ',')\n",
    "    .option('header', True)\n",
    "    .schema('sid INTEGER')\n",
    "    .csv('/FileStore/tables/univ/alumni.csv')\n",
    ")\n",
    "\n",
    "# read expelled file into df\n",
    "expelled = (\n",
    "    spark.read\n",
    "    .option('delimiter', ',')\n",
    "    .option('header', True)\n",
    "    .schema('sid INTEGER')\n",
    "    .csv('/FileStore/tables/univ/expelled.csv')\n",
    ")\n",
    "\n",
    "# read unretained file into df\n",
    "unretained = (\n",
    "    spark.read\n",
    "    .option('delimiter', ',')\n",
    "    .option('header', True)\n",
    "    .schema('sid INTEGER')\n",
    "    .csv('/FileStore/tables/univ/unretained.csv')\n",
    ")\n",
    "\n",
    "# read faculty file into df\n",
    "faculty = (\n",
    "    spark.read\n",
    "    .option('delimiter', ',')\n",
    "    .option('header', True)\n",
    "    .schema('fid INTEGER, first_name STRING, last_name STRING, dept STRING')\n",
    "    .csv('/FileStore/tables/univ/faculty.csv')\n",
    ")\n",
    "\n",
    "# read courses file into df\n",
    "courses = (\n",
    "    spark.read\n",
    "    .option('delimiter', ',')\n",
    "    .option('header', True)\n",
    "    .schema('dept STRING, course STRING, prereq STRING, credits INTEGER')\n",
    "    .csv('/FileStore/tables/univ/courses.csv')\n",
    ")\n",
    "\n",
    "# read grades file into df\n",
    "grades = (\n",
    "    spark.read\n",
    "    .option('delimiter', ',')\n",
    "    .option('header', True)\n",
    "    .schema('term_id STRING, course STRING, sid INTEGER, fid INTEGER, grade STRING')\n",
    "    .csv('/FileStore/tables/univ/grades.csv')\n",
    ")"
   ]
  },
  {
   "cell_type": "markdown",
   "metadata": {
    "application/vnd.databricks.v1+cell": {
     "cellMetadata": {},
     "inputWidgets": {},
     "nuid": "4a3000bd-b1a8-444c-a7d4-7e4af6407984",
     "showTitle": false,
     "title": ""
    }
   },
   "source": [
    "Print the number of records in each DataFrame."
   ]
  },
  {
   "cell_type": "code",
   "execution_count": 0,
   "metadata": {
    "application/vnd.databricks.v1+cell": {
     "cellMetadata": {},
     "inputWidgets": {},
     "nuid": "26367173-8906-44f7-b817-fc252d61fd5f",
     "showTitle": false,
     "title": ""
    }
   },
   "outputs": [
    {
     "output_type": "display_data",
     "data": {
      "text/html": [
       "<style scoped>\n  .ansiout {\n    display: block;\n    unicode-bidi: embed;\n    white-space: pre-wrap;\n    word-wrap: break-word;\n    word-break: break-all;\n    font-family: \"Source Code Pro\", \"Menlo\", monospace;;\n    font-size: 13px;\n    color: #555;\n    margin-left: 4px;\n    line-height: 19px;\n  }\n</style>\n<div class=\"ansiout\">The number of records in accepted is 12207.\nThe number of records in alumni is 4920.\nThe number of records in expelled is 403.\nThe number of records in unretained is 2289.\nThe number of records in faculty is 330.\nThe number of records in courses is 119.\nThe number of records in grades is 285137.\n</div>"
      ]
     },
     "metadata": {
      "application/vnd.databricks.v1+output": {
       "addedWidgets": {},
       "arguments": {},
       "data": "<div class=\"ansiout\">The number of records in accepted is 12207.\nThe number of records in alumni is 4920.\nThe number of records in expelled is 403.\nThe number of records in unretained is 2289.\nThe number of records in faculty is 330.\nThe number of records in courses is 119.\nThe number of records in grades is 285137.\n</div>",
       "datasetInfos": [],
       "metadata": {},
       "removedWidgets": [],
       "type": "html"
      }
     },
     "output_type": "display_data"
    }
   ],
   "source": [
    "# output the number of records in the dfs\n",
    "print(f'The number of records in accepted is {str(accepted.count())}.')\n",
    "print(f'The number of records in alumni is {str(alumni.count())}.')\n",
    "print(f'The number of records in expelled is {str(expelled.count())}.')\n",
    "print(f'The number of records in unretained is {str(unretained.count())}.')\n",
    "print(f'The number of records in faculty is {str(faculty.count())}.')\n",
    "print(f'The number of records in courses is {str(courses.count())}.')\n",
    "print(f'The number of records in grades is {str(grades.count())}.')"
   ]
  },
  {
   "cell_type": "markdown",
   "metadata": {
    "application/vnd.databricks.v1+cell": {
     "cellMetadata": {},
     "inputWidgets": {},
     "nuid": "f0451c32-c013-477b-9d48-4f68e3132d36",
     "showTitle": false,
     "title": ""
    }
   },
   "source": [
    "## Part C: Student Count by Status\n",
    "Count the number of students who have been accepted, students who actually enrolled in courses, current students, all former students, alumni, unretained students, and students who were expelled."
   ]
  },
  {
   "cell_type": "code",
   "execution_count": 0,
   "metadata": {
    "application/vnd.databricks.v1+cell": {
     "cellMetadata": {},
     "inputWidgets": {},
     "nuid": "87bfccb7-d67b-4dfe-ac3d-9aedb840fc2e",
     "showTitle": false,
     "title": ""
    }
   },
   "outputs": [
    {
     "output_type": "display_data",
     "data": {
      "text/html": [
       "<style scoped>\n  .ansiout {\n    display: block;\n    unicode-bidi: embed;\n    white-space: pre-wrap;\n    word-wrap: break-word;\n    word-break: break-all;\n    font-family: \"Source Code Pro\", \"Menlo\", monospace;;\n    font-size: 13px;\n    color: #555;\n    margin-left: 4px;\n    line-height: 19px;\n  }\n</style>\n<div class=\"ansiout\">Number of accepted students:    12207\nNumber of enrolled students:    9667\nNumber of current students:     2055\nNumber of former students:      7612\nNumber of unretained students:  2289\nNumber of expelled students:    403\nNumber of alumni:               4920\n</div>"
      ]
     },
     "metadata": {
      "application/vnd.databricks.v1+output": {
       "addedWidgets": {},
       "arguments": {},
       "data": "<div class=\"ansiout\">Number of accepted students:    12207\nNumber of enrolled students:    9667\nNumber of current students:     2055\nNumber of former students:      7612\nNumber of unretained students:  2289\nNumber of expelled students:    403\nNumber of alumni:               4920\n</div>",
       "datasetInfos": [],
       "metadata": {},
       "removedWidgets": [],
       "type": "html"
      }
     },
     "output_type": "display_data"
    }
   ],
   "source": [
    "# create df of enrolled students\n",
    "enrolled = (\n",
    "  accepted\n",
    "  # bring in grade info\n",
    "  .join(other=grades, on='sid', how='semi')\n",
    ")\n",
    "\n",
    "# create df of current students\n",
    "current = (\n",
    "  enrolled\n",
    "  # filter out alumni\n",
    "  .join(other=alumni, on='sid', how='anti')\n",
    "  # filter out unretained students\n",
    "  .join(other=unretained, on='sid', how='anti')\n",
    "  # filter out expelled students\n",
    "  .join(other=expelled, on='sid', how='anti')\n",
    ")\n",
    "\n",
    "# create df of former students\n",
    "former = (\n",
    "  enrolled\n",
    "  # filter out current students\n",
    "  .join(other=current, on='sid', how='anti')\n",
    ")\n",
    "\n",
    "# display student counts\n",
    "print(f'Number of accepted students:    {str(accepted.count())}')\n",
    "print(f'Number of enrolled students:    {str(enrolled.count())}')\n",
    "print(f'Number of current students:     {str(current.count())}')\n",
    "print(f'Number of former students:      {str(former.count())}')\n",
    "print(f'Number of unretained students:  {str(unretained.count())}')\n",
    "print(f'Number of expelled students:    {str(expelled.count())}')\n",
    "print(f'Number of alumni:               {str(alumni.count())}')"
   ]
  },
  {
   "cell_type": "markdown",
   "metadata": {
    "application/vnd.databricks.v1+cell": {
     "cellMetadata": {},
     "inputWidgets": {},
     "nuid": "3bf4a132-8ab7-43f1-960e-38a8b9af4c14",
     "showTitle": false,
     "title": ""
    }
   },
   "source": [
    "## Part D: Distribution of Students by Major\n",
    "Determine of the number of students currently in each major and the proportion of the overall number of students in each major."
   ]
  },
  {
   "cell_type": "code",
   "execution_count": 0,
   "metadata": {
    "application/vnd.databricks.v1+cell": {
     "cellMetadata": {},
     "inputWidgets": {},
     "nuid": "cb85cb22-5ba7-437f-a650-bd510469ae8c",
     "showTitle": false,
     "title": ""
    }
   },
   "outputs": [
    {
     "output_type": "display_data",
     "data": {
      "text/html": [
       "<style scoped>\n  .ansiout {\n    display: block;\n    unicode-bidi: embed;\n    white-space: pre-wrap;\n    word-wrap: break-word;\n    word-break: break-all;\n    font-family: \"Source Code Pro\", \"Menlo\", monospace;;\n    font-size: 13px;\n    color: #555;\n    margin-left: 4px;\n    line-height: 19px;\n  }\n</style>\n<div class=\"ansiout\">+-----+----------+-------+\nmajor|n_students|   prop|\n+-----+----------+-------+\n  BIO|       615| 29.927|\n  CSC|       508|24.7202|\n  CHM|       405| 19.708|\n  MTH|       320|15.5718|\n  PHY|       207| 10.073|\n+-----+----------+-------+\n\n</div>"
      ]
     },
     "metadata": {
      "application/vnd.databricks.v1+output": {
       "addedWidgets": {},
       "arguments": {},
       "data": "<div class=\"ansiout\">+-----+----------+-------+\n|major|n_students|   prop|\n+-----+----------+-------+\n|  BIO|       615| 29.927|\n|  CSC|       508|24.7202|\n|  CHM|       405| 19.708|\n|  MTH|       320|15.5718|\n|  PHY|       207| 10.073|\n+-----+----------+-------+\n\n</div>",
       "datasetInfos": [],
       "metadata": {},
       "removedWidgets": [],
       "type": "html"
      }
     },
     "output_type": "display_data"
    }
   ],
   "source": [
    "# store # of current students\n",
    "num_students = current.count()\n",
    "\n",
    "(\n",
    "  current\n",
    "  \n",
    "  # group according to major\n",
    "  .groupBy('major')\n",
    "  \n",
    "  # get # of students per major\n",
    "  .agg(\n",
    "    expr('count(major) as n_students')\n",
    "  )\n",
    "  \n",
    "  # calc proportion of students per major\n",
    " .select(\n",
    "    '*',\n",
    "    (col('n_students')/num_students*100).alias('prop')\n",
    "  )\n",
    "  \n",
    "  # round results\n",
    "  .select(\n",
    "    'major', \n",
    "    'n_students',\n",
    "    expr('round(prop,4) as prop')\n",
    "  )\n",
    "  \n",
    "  # sort desc by prop\n",
    "  .sort('prop', ascending = False)\n",
    ").show()"
   ]
  },
  {
   "cell_type": "markdown",
   "metadata": {
    "application/vnd.databricks.v1+cell": {
     "cellMetadata": {},
     "inputWidgets": {},
     "nuid": "d515592f-fb13-4216-8972-1c9e950bd4e6",
     "showTitle": false,
     "title": ""
    }
   },
   "source": [
    "## Part E: Course Enrollments by Department\n",
    "Determine the number of students enrolled in courses offered by each department during the Spring 2021 term."
   ]
  },
  {
   "cell_type": "code",
   "execution_count": 0,
   "metadata": {
    "application/vnd.databricks.v1+cell": {
     "cellMetadata": {},
     "inputWidgets": {},
     "nuid": "bf2fa55b-4f38-4e57-a7b7-2afdfd9c6339",
     "showTitle": false,
     "title": ""
    }
   },
   "outputs": [
    {
     "output_type": "display_data",
     "data": {
      "text/html": [
       "<style scoped>\n  .ansiout {\n    display: block;\n    unicode-bidi: embed;\n    white-space: pre-wrap;\n    word-wrap: break-word;\n    word-break: break-all;\n    font-family: \"Source Code Pro\", \"Menlo\", monospace;;\n    font-size: 13px;\n    color: #555;\n    margin-left: 4px;\n    line-height: 19px;\n  }\n</style>\n<div class=\"ansiout\">+----+----------+-------+\ndept|n_students|   prop|\n+----+----------+-------+\n GEN|      5142|41.9755|\n BIO|      1786|14.5796|\n MTH|      1517|12.3837|\n CHM|      1512|12.3429|\n CSC|      1479|12.0735|\n PHY|       814| 6.6449|\n+----+----------+-------+\n\n</div>"
      ]
     },
     "metadata": {
      "application/vnd.databricks.v1+output": {
       "addedWidgets": {},
       "arguments": {},
       "data": "<div class=\"ansiout\">+----+----------+-------+\n|dept|n_students|   prop|\n+----+----------+-------+\n| GEN|      5142|41.9755|\n| BIO|      1786|14.5796|\n| MTH|      1517|12.3837|\n| CHM|      1512|12.3429|\n| CSC|      1479|12.0735|\n| PHY|       814| 6.6449|\n+----+----------+-------+\n\n</div>",
       "datasetInfos": [],
       "metadata": {},
       "removedWidgets": [],
       "type": "html"
      }
     },
     "output_type": "display_data"
    }
   ],
   "source": [
    "# get # of students during spring 2021 term\n",
    "sp21_enr = grades.filter(col('term_id') == '2021A').count()\n",
    "\n",
    "sp21_grades = (\n",
    "  grades\n",
    "  # keep only grades from spring 2021\n",
    "  .filter(col('term_id') == '2021A')\n",
    "  \n",
    "  # bring in course info\n",
    "  .join(other=courses, on='course', how='inner')\n",
    "  \n",
    "  # group data by dept\n",
    "  .groupBy('dept')\n",
    "  \n",
    "  # get count of students per dept\n",
    "  .agg(\n",
    "    expr('count(dept) as n_students')\n",
    "  )\n",
    "\n",
    "  # calc proportion of students per major\n",
    " .select(\n",
    "    '*',\n",
    "    (col('n_students')/sp21_enr*100).alias('prop')\n",
    "  )\n",
    "  \n",
    "  # round results\n",
    "  .select(\n",
    "    'dept', \n",
    "    'n_students',\n",
    "    expr('round(prop,4) as prop')\n",
    "  )  \n",
    "  \n",
    "  # sort desc by prop\n",
    "  .sort('prop', ascending = False)\n",
    ")\n",
    "\n",
    "# display df\n",
    "sp21_grades.show()"
   ]
  },
  {
   "cell_type": "markdown",
   "metadata": {
    "application/vnd.databricks.v1+cell": {
     "cellMetadata": {},
     "inputWidgets": {},
     "nuid": "f15eaafc-28c8-4993-aa8f-7ea0fbaa9cf6",
     "showTitle": false,
     "title": ""
    }
   },
   "source": [
    "## Part F: Graduation Rates by Major\n",
    "Determine the graduation rates for each major. Start by creating a DataFrame with the number of former students in each major."
   ]
  },
  {
   "cell_type": "code",
   "execution_count": 0,
   "metadata": {
    "application/vnd.databricks.v1+cell": {
     "cellMetadata": {},
     "inputWidgets": {},
     "nuid": "a6780262-5fb2-411e-b84f-49250257018a",
     "showTitle": false,
     "title": ""
    }
   },
   "outputs": [
    {
     "output_type": "display_data",
     "data": {
      "text/html": [
       "<style scoped>\n  .ansiout {\n    display: block;\n    unicode-bidi: embed;\n    white-space: pre-wrap;\n    word-wrap: break-word;\n    word-break: break-all;\n    font-family: \"Source Code Pro\", \"Menlo\", monospace;;\n    font-size: 13px;\n    color: #555;\n    margin-left: 4px;\n    line-height: 19px;\n  }\n</style>\n<div class=\"ansiout\">+-----+--------+\nmajor|n_former|\n+-----+--------+\n  BIO|    2243|\n  CHM|    1527|\n  CSC|    1940|\n  MTH|    1139|\n  PHY|     763|\n+-----+--------+\n\n</div>"
      ]
     },
     "metadata": {
      "application/vnd.databricks.v1+output": {
       "addedWidgets": {},
       "arguments": {},
       "data": "<div class=\"ansiout\">+-----+--------+\n|major|n_former|\n+-----+--------+\n|  BIO|    2243|\n|  CHM|    1527|\n|  CSC|    1940|\n|  MTH|    1139|\n|  PHY|     763|\n+-----+--------+\n\n</div>",
       "datasetInfos": [],
       "metadata": {},
       "removedWidgets": [],
       "type": "html"
      }
     },
     "output_type": "display_data"
    }
   ],
   "source": [
    "# get # of former students by major\n",
    "former_by_major = (\n",
    "  former\n",
    "  \n",
    "  # group data by dept\n",
    "  .groupBy('major')\n",
    "  \n",
    "  # get count of students per dept\n",
    "  .agg(\n",
    "    expr('count(major) as n_former')\n",
    "  )\n",
    "\n",
    "  # sort by major\n",
    "  .sort('major')\n",
    ")\n",
    "\n",
    "# display df\n",
    "former_by_major.show()"
   ]
  },
  {
   "cell_type": "markdown",
   "metadata": {
    "application/vnd.databricks.v1+cell": {
     "cellMetadata": {},
     "inputWidgets": {},
     "nuid": "58c47436-500d-4b07-8aa3-1129d612d50e",
     "showTitle": false,
     "title": ""
    }
   },
   "source": [
    "Determine the number of alumni for each major."
   ]
  },
  {
   "cell_type": "code",
   "execution_count": 0,
   "metadata": {
    "application/vnd.databricks.v1+cell": {
     "cellMetadata": {},
     "inputWidgets": {},
     "nuid": "7e4b7412-4c6f-4a47-a9ce-f0011002183a",
     "showTitle": false,
     "title": ""
    }
   },
   "outputs": [
    {
     "output_type": "display_data",
     "data": {
      "text/html": [
       "<style scoped>\n  .ansiout {\n    display: block;\n    unicode-bidi: embed;\n    white-space: pre-wrap;\n    word-wrap: break-word;\n    word-break: break-all;\n    font-family: \"Source Code Pro\", \"Menlo\", monospace;;\n    font-size: 13px;\n    color: #555;\n    margin-left: 4px;\n    line-height: 19px;\n  }\n</style>\n<div class=\"ansiout\">+-----+--------+\nmajor|n_alumni|\n+-----+--------+\n  BIO|    1485|\n  CHM|    1017|\n  CSC|    1231|\n  MTH|     723|\n  PHY|     464|\n+-----+--------+\n\n</div>"
      ]
     },
     "metadata": {
      "application/vnd.databricks.v1+output": {
       "addedWidgets": {},
       "arguments": {},
       "data": "<div class=\"ansiout\">+-----+--------+\n|major|n_alumni|\n+-----+--------+\n|  BIO|    1485|\n|  CHM|    1017|\n|  CSC|    1231|\n|  MTH|     723|\n|  PHY|     464|\n+-----+--------+\n\n</div>",
       "datasetInfos": [],
       "metadata": {},
       "removedWidgets": [],
       "type": "html"
      }
     },
     "output_type": "display_data"
    }
   ],
   "source": [
    "# get # of alumni students by major\n",
    "alumni_by_major = (\n",
    "  former\n",
    "  \n",
    "  # bring in major info\n",
    "  .join(other=alumni, on='sid', how='inner')\n",
    "  \n",
    "  # group data by dept\n",
    "  .groupBy('major')\n",
    "  \n",
    "  # get count of students per dept\n",
    "  .agg(\n",
    "    expr('count(major) as n_alumni')\n",
    "  )\n",
    "\n",
    "  # sort by major\n",
    "  .sort('major')\n",
    ")\n",
    "\n",
    "# display df\n",
    "alumni_by_major.show()"
   ]
  },
  {
   "cell_type": "markdown",
   "metadata": {
    "application/vnd.databricks.v1+cell": {
     "cellMetadata": {},
     "inputWidgets": {},
     "nuid": "9e213cab-169d-40a2-8e14-e7eeef3238f1",
     "showTitle": false,
     "title": ""
    }
   },
   "source": [
    "Determine the graduation rates based on the former students and alumni data."
   ]
  },
  {
   "cell_type": "code",
   "execution_count": 0,
   "metadata": {
    "application/vnd.databricks.v1+cell": {
     "cellMetadata": {},
     "inputWidgets": {},
     "nuid": "6a1bac96-a863-4175-a487-9ab2a67dd487",
     "showTitle": false,
     "title": ""
    }
   },
   "outputs": [
    {
     "output_type": "display_data",
     "data": {
      "text/html": [
       "<style scoped>\n  .ansiout {\n    display: block;\n    unicode-bidi: embed;\n    white-space: pre-wrap;\n    word-wrap: break-word;\n    word-break: break-all;\n    font-family: \"Source Code Pro\", \"Menlo\", monospace;;\n    font-size: 13px;\n    color: #555;\n    margin-left: 4px;\n    line-height: 19px;\n  }\n</style>\n<div class=\"ansiout\">+-----+--------+--------+---------+\nmajor|n_alumni|n_former|grad_rate|\n+-----+--------+--------+---------+\n  BIO|    1485|    2243|   66.206|\n  CHM|    1017|    1527|  66.6012|\n  CSC|    1231|    1940|  63.4536|\n  MTH|     723|    1139|  63.4767|\n  PHY|     464|     763|  60.8126|\n+-----+--------+--------+---------+\n\n</div>"
      ]
     },
     "metadata": {
      "application/vnd.databricks.v1+output": {
       "addedWidgets": {},
       "arguments": {},
       "data": "<div class=\"ansiout\">+-----+--------+--------+---------+\n|major|n_alumni|n_former|grad_rate|\n+-----+--------+--------+---------+\n|  BIO|    1485|    2243|   66.206|\n|  CHM|    1017|    1527|  66.6012|\n|  CSC|    1231|    1940|  63.4536|\n|  MTH|     723|    1139|  63.4767|\n|  PHY|     464|     763|  60.8126|\n+-----+--------+--------+---------+\n\n</div>",
       "datasetInfos": [],
       "metadata": {},
       "removedWidgets": [],
       "type": "html"
      }
     },
     "output_type": "display_data"
    }
   ],
   "source": [
    "grad = (\n",
    "  former_by_major\n",
    "  \n",
    "  # add alumni by major info\n",
    "  .join(other=alumni_by_major, on='major', how='inner')\n",
    "  \n",
    "  # calc grad rate\n",
    "  .select(\n",
    "    '*',\n",
    "    expr('round(n_alumni/n_former*100,4) as grad_rate')\n",
    "  )\n",
    "  \n",
    "  # round results\n",
    "  .select('major', 'n_alumni', 'n_former', 'grad_rate')  \n",
    "  \n",
    "  # sort by major\n",
    "  .sort('major')\n",
    ").show()"
   ]
  },
  {
   "cell_type": "markdown",
   "metadata": {
    "application/vnd.databricks.v1+cell": {
     "cellMetadata": {},
     "inputWidgets": {},
     "nuid": "24102b48-8692-4ccf-a683-e9ec052a8403",
     "showTitle": false,
     "title": ""
    }
   },
   "source": [
    "## Part G: Number of Terms Required for Graduation\n",
    "Find a frequency distribution for the number of terms that alumni required for graduation."
   ]
  },
  {
   "cell_type": "code",
   "execution_count": 0,
   "metadata": {
    "application/vnd.databricks.v1+cell": {
     "cellMetadata": {},
     "inputWidgets": {},
     "nuid": "6680a6fe-1ad4-4ed5-9f99-7b83a3aeae22",
     "showTitle": false,
     "title": ""
    }
   },
   "outputs": [
    {
     "output_type": "display_data",
     "data": {
      "text/html": [
       "<style scoped>\n  .ansiout {\n    display: block;\n    unicode-bidi: embed;\n    white-space: pre-wrap;\n    word-wrap: break-word;\n    word-break: break-all;\n    font-family: \"Source Code Pro\", \"Menlo\", monospace;;\n    font-size: 13px;\n    color: #555;\n    margin-left: 4px;\n    line-height: 19px;\n  }\n</style>\n<div class=\"ansiout\">+-------+--------+\nn_terms|n_alumni|\n+-------+--------+\n      7|     200|\n      8|    3045|\n      9|    1203|\n     10|     241|\n     11|     121|\n     12|      46|\n     13|      32|\n     14|      14|\n     15|       7|\n     16|       7|\n     17|       2|\n     18|       1|\n     25|       1|\n+-------+--------+\n\n</div>"
      ]
     },
     "metadata": {
      "application/vnd.databricks.v1+output": {
       "addedWidgets": {},
       "arguments": {},
       "data": "<div class=\"ansiout\">+-------+--------+\n|n_terms|n_alumni|\n+-------+--------+\n|      7|     200|\n|      8|    3045|\n|      9|    1203|\n|     10|     241|\n|     11|     121|\n|     12|      46|\n|     13|      32|\n|     14|      14|\n|     15|       7|\n|     16|       7|\n|     17|       2|\n|     18|       1|\n|     25|       1|\n+-------+--------+\n\n</div>",
       "datasetInfos": [],
       "metadata": {},
       "removedWidgets": [],
       "type": "html"
      }
     },
     "output_type": "display_data"
    }
   ],
   "source": [
    "(\n",
    "  grades\n",
    "  \n",
    "  # keep only records in alumni too\n",
    "  .join(other=alumni, on='sid', how='semi')\n",
    "  \n",
    "  # group by sid\n",
    "  .groupBy('sid')\n",
    "  \n",
    "  # count # of distinct values of term_id for each alumnus\n",
    "  .agg(\n",
    "    expr('count(distinct(term_id)) as n_terms')\n",
    "  )\n",
    "  \n",
    "  # group by terms for each alumnus\n",
    "  .groupBy('n_terms')\n",
    "  \n",
    "  # count # of records w/ each value of n_terms\n",
    "  .agg(\n",
    "    expr('count(n_terms) as n_alumni')\n",
    "  )\n",
    "  \n",
    "  # sort by term #s\n",
    "  .sort('n_terms')\n",
    "  \n",
    ").show()"
   ]
  },
  {
   "cell_type": "markdown",
   "metadata": {
    "application/vnd.databricks.v1+cell": {
     "cellMetadata": {},
     "inputWidgets": {},
     "nuid": "dfab1b3d-44d6-45e0-9d1b-ea55ae714230",
     "showTitle": false,
     "title": ""
    }
   },
   "source": [
    "## Part H: Current Student GPA\n",
    "Calculate the GPA of each current student and analyze the results. Start by creating a function to convert letter grades to numerical grades."
   ]
  },
  {
   "cell_type": "code",
   "execution_count": 0,
   "metadata": {
    "application/vnd.databricks.v1+cell": {
     "cellMetadata": {},
     "inputWidgets": {},
     "nuid": "94b823c9-a7df-4490-9181-009415257e65",
     "showTitle": false,
     "title": ""
    }
   },
   "outputs": [
    {
     "output_type": "display_data",
     "data": {
      "text/html": [
       "<style scoped>\n  .ansiout {\n    display: block;\n    unicode-bidi: embed;\n    white-space: pre-wrap;\n    word-wrap: break-word;\n    word-break: break-all;\n    font-family: \"Source Code Pro\", \"Menlo\", monospace;;\n    font-size: 13px;\n    color: #555;\n    margin-left: 4px;\n    line-height: 19px;\n  }\n</style>\n<div class=\"ansiout\">Out[11]: &lt;function __main__.convert_grades(letter)&gt;</div>"
      ]
     },
     "metadata": {
      "application/vnd.databricks.v1+output": {
       "addedWidgets": {},
       "arguments": {},
       "data": "<div class=\"ansiout\">Out[11]: &lt;function __main__.convert_grades(letter)&gt;</div>",
       "datasetInfos": [],
       "metadata": {},
       "removedWidgets": [],
       "type": "html"
      }
     },
     "output_type": "display_data"
    }
   ],
   "source": [
    "# function to convert letter -> numeric grade\n",
    "def convert_grades(letter):\n",
    "  letter_grades = {\n",
    "    'A':4,\n",
    "    'B':3,\n",
    "    'C':2,\n",
    "    'D':1,\n",
    "    'F':0\n",
    "  }\n",
    "  # return appropriate grade\n",
    "  return letter_grades.get(letter)\n",
    "\n",
    "# register as Spark UDF\n",
    "spark.udf.register('convert_grades', convert_grades)"
   ]
  },
  {
   "cell_type": "markdown",
   "metadata": {
    "application/vnd.databricks.v1+cell": {
     "cellMetadata": {},
     "inputWidgets": {},
     "nuid": "6b97344b-c896-493a-b10b-6879106d827b",
     "showTitle": false,
     "title": ""
    }
   },
   "source": [
    "Calculate the GPA of each student currently enrolled."
   ]
  },
  {
   "cell_type": "code",
   "execution_count": 0,
   "metadata": {
    "application/vnd.databricks.v1+cell": {
     "cellMetadata": {},
     "inputWidgets": {},
     "nuid": "bb8f568d-44c1-43e4-9124-ce7a030d5ae4",
     "showTitle": false,
     "title": ""
    }
   },
   "outputs": [
    {
     "output_type": "display_data",
     "data": {
      "text/html": [
       "<style scoped>\n  .ansiout {\n    display: block;\n    unicode-bidi: embed;\n    white-space: pre-wrap;\n    word-wrap: break-word;\n    word-break: break-all;\n    font-family: \"Source Code Pro\", \"Menlo\", monospace;;\n    font-size: 13px;\n    color: #555;\n    margin-left: 4px;\n    line-height: 19px;\n  }\n</style>\n<div class=\"ansiout\">+------+----------+---------+-----+----+\n   sid|first_name|last_name|major| gpa|\n+------+----------+---------+-----+----+\n111582|       Amy|Alexander|  CHM|0.29|\n111316|    Harold| Mitchell|  BIO|0.45|\n111120|  Lawrence| Sullivan|  BIO|0.54|\n111084|      Emma|    Ortiz|  PHY|0.57|\n111008|     Wayne|  Coleman|  CSC| 0.6|\n111947|     Peter| Crawford|  CSC| 0.6|\n112082|   Barbara| Thompson|  PHY| 0.6|\n111250|  Margaret|   Butler|  PHY|0.62|\n111909| Christine|    Gomez|  BIO|0.65|\n111258|     Alice|   Butler|  BIO|0.66|\n+------+----------+---------+-----+----+\nonly showing top 10 rows\n\n</div>"
      ]
     },
     "metadata": {
      "application/vnd.databricks.v1+output": {
       "addedWidgets": {},
       "arguments": {},
       "data": "<div class=\"ansiout\">+------+----------+---------+-----+----+\n|   sid|first_name|last_name|major| gpa|\n+------+----------+---------+-----+----+\n|111582|       Amy|Alexander|  CHM|0.29|\n|111316|    Harold| Mitchell|  BIO|0.45|\n|111120|  Lawrence| Sullivan|  BIO|0.54|\n|111084|      Emma|    Ortiz|  PHY|0.57|\n|111008|     Wayne|  Coleman|  CSC| 0.6|\n|111947|     Peter| Crawford|  CSC| 0.6|\n|112082|   Barbara| Thompson|  PHY| 0.6|\n|111250|  Margaret|   Butler|  PHY|0.62|\n|111909| Christine|    Gomez|  BIO|0.65|\n|111258|     Alice|   Butler|  BIO|0.66|\n+------+----------+---------+-----+----+\nonly showing top 10 rows\n\n</div>",
       "datasetInfos": [],
       "metadata": {},
       "removedWidgets": [],
       "type": "html"
      }
     },
     "output_type": "display_data"
    }
   ],
   "source": [
    "current_gpa = (\n",
    "  grades\n",
    "  \n",
    "  # bring in course info\n",
    "  .join(other=courses, on='course', how='inner')\n",
    "  \n",
    "  # add col of numeric grades\n",
    "  .select(\n",
    "    '*',\n",
    "    expr('convert_grades(grade) as num_grade')\n",
    "  )\n",
    "  \n",
    "  # add col of gp\n",
    "  .select(\n",
    "    '*',\n",
    "    expr('credits * num_grade as gp')\n",
    "  )\n",
    "  \n",
    "  # group by sid\n",
    "  .groupBy('sid')\n",
    "  \n",
    "  # sum gp and credits\n",
    "  .agg(\n",
    "    expr('sum(gp) as gp'),\n",
    "    expr('sum(credits) as credits')\n",
    "  )\n",
    "  \n",
    "  # calc gpa\n",
    "  .select(\n",
    "    '*',\n",
    "    expr('round(gp/credits,2) as gpa')\n",
    "  )\n",
    "  \n",
    "  # bring in current student info\n",
    "  .join(other=current, on='sid', how='inner')\n",
    "  \n",
    "  # select specific cols\n",
    "  .select(\n",
    "    'sid',\n",
    "    'first_name',\n",
    "    'last_name',\n",
    "    'major',\n",
    "    'gpa'\n",
    "  )\n",
    "  \n",
    "  # sort by gpa\n",
    "  .sort('gpa')\n",
    ")\n",
    "\n",
    "# display first 10 elements of df\n",
    "current_gpa.show(10)"
   ]
  },
  {
   "cell_type": "markdown",
   "metadata": {
    "application/vnd.databricks.v1+cell": {
     "cellMetadata": {},
     "inputWidgets": {},
     "nuid": "e219d828-287a-4ef0-985e-4ca390a72edb",
     "showTitle": false,
     "title": ""
    }
   },
   "source": [
    "Determine the number of current students with 4.0 GPAs."
   ]
  },
  {
   "cell_type": "code",
   "execution_count": 0,
   "metadata": {
    "application/vnd.databricks.v1+cell": {
     "cellMetadata": {},
     "inputWidgets": {},
     "nuid": "8800aa7b-62b7-4d00-a536-5fa3464bef5e",
     "showTitle": false,
     "title": ""
    }
   },
   "outputs": [
    {
     "output_type": "display_data",
     "data": {
      "text/html": [
       "<style scoped>\n  .ansiout {\n    display: block;\n    unicode-bidi: embed;\n    white-space: pre-wrap;\n    word-wrap: break-word;\n    word-break: break-all;\n    font-family: \"Source Code Pro\", \"Menlo\", monospace;;\n    font-size: 13px;\n    color: #555;\n    margin-left: 4px;\n    line-height: 19px;\n  }\n</style>\n<div class=\"ansiout\">Number of current students with perfect 4.0 GPAs: 95\n</div>"
      ]
     },
     "metadata": {
      "application/vnd.databricks.v1+output": {
       "addedWidgets": {},
       "arguments": {},
       "data": "<div class=\"ansiout\">Number of current students with perfect 4.0 GPAs: 95\n</div>",
       "datasetInfos": [],
       "metadata": {},
       "removedWidgets": [],
       "type": "html"
      }
     },
     "output_type": "display_data"
    }
   ],
   "source": [
    "perfect_gpa = current_gpa.select('*').filter(col('gpa') == 4.0).count()\n",
    "print(f'Number of current students with perfect 4.0 GPAs: {perfect_gpa}')"
   ]
  },
  {
   "cell_type": "markdown",
   "metadata": {
    "application/vnd.databricks.v1+cell": {
     "cellMetadata": {},
     "inputWidgets": {},
     "nuid": "005c42ee-614e-4237-b2b1-936a7bc34bbd",
     "showTitle": false,
     "title": ""
    }
   },
   "source": [
    "Create a histogram displaying the distribution of GPAs for current students."
   ]
  },
  {
   "cell_type": "code",
   "execution_count": 0,
   "metadata": {
    "application/vnd.databricks.v1+cell": {
     "cellMetadata": {},
     "inputWidgets": {},
     "nuid": "67e68d50-44d9-4214-9c67-cd27ba52a916",
     "showTitle": false,
     "title": ""
    }
   },
   "outputs": [
    {
     "output_type": "display_data",
     "data": {
      "image/png": "[encoded data removed]"
     },
     "metadata": {
      "application/vnd.databricks.v1+output": {
       "addedWidgets": {},
       "arguments": {},
       "data": "data:image/png;base64,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",
       "datasetInfos": [],
       "metadata": {
        "imageDimensions": {
         "height": 278,
         "width": 389
        }
       },
       "removedWidgets": [],
       "type": "image"
      },
      "image/png": {
       "height": 278,
       "width": 389
      }
     },
     "output_type": "display_data"
    }
   ],
   "source": [
    "# convert df to pandas df\n",
    "current_gpa = current_gpa.toPandas()\n",
    "\n",
    "# create histogram\n",
    "plt.hist(\n",
    "  current_gpa.gpa,\n",
    "  bins = 16,\n",
    "  color='crimson',\n",
    "  edgecolor='k'\n",
    ")\n",
    "\n",
    "# add labels\n",
    "plt.xlabel('GPA')\n",
    "plt.ylabel('Count')\n",
    "plt.title('GPA Distribution for Current Students')\n",
    "\n",
    "# show histogram\n",
    "plt.show()"
   ]
  },
  {
   "cell_type": "markdown",
   "metadata": {
    "application/vnd.databricks.v1+cell": {
     "cellMetadata": {},
     "inputWidgets": {},
     "nuid": "2d46917f-ebb2-46c2-8aac-cd11438ca0d7",
     "showTitle": false,
     "title": ""
    }
   },
   "source": [
    "## Part I: Grade Distribution by Instructor\n",
    "Determine the proportion of A, B, C, D, and F grades given out by each faculty member. Start by determing the distribution of the grades awarded by each faculty member."
   ]
  },
  {
   "cell_type": "code",
   "execution_count": 0,
   "metadata": {
    "application/vnd.databricks.v1+cell": {
     "cellMetadata": {},
     "inputWidgets": {},
     "nuid": "7363c258-ec17-4cc0-8d0c-78fc69f5be2c",
     "showTitle": false,
     "title": ""
    }
   },
   "outputs": [
    {
     "output_type": "display_data",
     "data": {
      "text/html": [
       "<style scoped>\n  .ansiout {\n    display: block;\n    unicode-bidi: embed;\n    white-space: pre-wrap;\n    word-wrap: break-word;\n    word-break: break-all;\n    font-family: \"Source Code Pro\", \"Menlo\", monospace;;\n    font-size: 13px;\n    color: #555;\n    margin-left: 4px;\n    line-height: 19px;\n  }\n</style>\n<div class=\"ansiout\">+----+----------+---------+----+----+-----+-----+-----+-----+-----+\n fid|first_name|last_name|dept|   N|propA|propB|propC|propD|propF|\n+----+----------+---------+----+----+-----+-----+-----+-----+-----+\n1001|    Jordan|   Wright| PHY|1456| 0.23| 0.36| 0.31| 0.09| 0.01|\n1002|     David|   Carter| CHM|2962| 0.21| 0.32| 0.36| 0.09| 0.01|\n1003|   Patrick|Henderson| PHY|2092| 0.12| 0.28|  0.4| 0.18| 0.02|\n1004|    Denise| Anderson| CSC|3194|  0.3| 0.39| 0.26| 0.05|  0.0|\n1005|     Jerry|    Perry| MTH| 368| 0.44| 0.36| 0.15| 0.03| 0.01|\n+----+----------+---------+----+----+-----+-----+-----+-----+-----+\nonly showing top 5 rows\n\n</div>"
      ]
     },
     "metadata": {
      "application/vnd.databricks.v1+output": {
       "addedWidgets": {},
       "arguments": {},
       "data": "<div class=\"ansiout\">+----+----------+---------+----+----+-----+-----+-----+-----+-----+\n| fid|first_name|last_name|dept|   N|propA|propB|propC|propD|propF|\n+----+----------+---------+----+----+-----+-----+-----+-----+-----+\n|1001|    Jordan|   Wright| PHY|1456| 0.23| 0.36| 0.31| 0.09| 0.01|\n|1002|     David|   Carter| CHM|2962| 0.21| 0.32| 0.36| 0.09| 0.01|\n|1003|   Patrick|Henderson| PHY|2092| 0.12| 0.28|  0.4| 0.18| 0.02|\n|1004|    Denise| Anderson| CSC|3194|  0.3| 0.39| 0.26| 0.05|  0.0|\n|1005|     Jerry|    Perry| MTH| 368| 0.44| 0.36| 0.15| 0.03| 0.01|\n+----+----------+---------+----+----+-----+-----+-----+-----+-----+\nonly showing top 5 rows\n\n</div>",
       "datasetInfos": [],
       "metadata": {},
       "removedWidgets": [],
       "type": "html"
      }
     },
     "output_type": "display_data"
    }
   ],
   "source": [
    "faculty_grade_dist = (\n",
    "  grades\n",
    "  \n",
    "  # group by faculty id\n",
    "  .groupBy('fid')\n",
    "\n",
    "  .agg(\n",
    "    # get faculty dist\n",
    "    expr('count(fid) as N'),\n",
    "    \n",
    "    # get grade counts\n",
    "    expr('SUM(CASE WHEN grade == \"A\" THEN 1 ELSE 0 END) AS countA'),\n",
    "    expr('SUM(CASE WHEN grade == \"B\" THEN 1 ELSE 0 END) AS countB'),\n",
    "    expr('SUM(CASE WHEN grade == \"C\" THEN 1 ELSE 0 END) AS countC'),\n",
    "    expr('SUM(CASE WHEN grade == \"D\" THEN 1 ELSE 0 END) AS countD'),\n",
    "    expr('SUM(CASE WHEN grade == \"F\" THEN 1 ELSE 0 END) AS countF')\n",
    "  )\n",
    "  \n",
    "  # bring in faculty info\n",
    "  .join(other=faculty, on='fid', how='full')\n",
    "  \n",
    "  # select cols and calc grade dist\n",
    "  .select(\n",
    "    'fid', 'first_name', 'last_name', 'dept', 'N',\n",
    "    expr('round(countA/N,2) as propA'),\n",
    "    expr('round(countB/N,2) as propB'),\n",
    "    expr('round(countC/N,2) as propC'),\n",
    "    expr('round(countD/N,2) as propD'),\n",
    "    expr('round(countF/N,2) as propF')\n",
    "  ) \n",
    ")\n",
    "\n",
    "# display first 5 records\n",
    "faculty_grade_dist.show(5)"
   ]
  },
  {
   "cell_type": "markdown",
   "metadata": {
    "application/vnd.databricks.v1+cell": {
     "cellMetadata": {},
     "inputWidgets": {},
     "nuid": "39eb847e-70ec-4c19-babd-b377215a61f9",
     "showTitle": false,
     "title": ""
    }
   },
   "source": [
    "Identify the 10 faculty members who assign the fewest \"A\" grades."
   ]
  },
  {
   "cell_type": "code",
   "execution_count": 0,
   "metadata": {
    "application/vnd.databricks.v1+cell": {
     "cellMetadata": {},
     "inputWidgets": {},
     "nuid": "238cbd85-04ad-461f-bf6b-4d1105090c11",
     "showTitle": false,
     "title": ""
    }
   },
   "outputs": [
    {
     "output_type": "display_data",
     "data": {
      "text/html": [
       "<style scoped>\n  .ansiout {\n    display: block;\n    unicode-bidi: embed;\n    white-space: pre-wrap;\n    word-wrap: break-word;\n    word-break: break-all;\n    font-family: \"Source Code Pro\", \"Menlo\", monospace;;\n    font-size: 13px;\n    color: #555;\n    margin-left: 4px;\n    line-height: 19px;\n  }\n</style>\n<div class=\"ansiout\">+----+----------+---------+----+---+-----+-----+-----+-----+-----+\n fid|first_name|last_name|dept|  N|propA|propB|propC|propD|propF|\n+----+----------+---------+----+---+-----+-----+-----+-----+-----+\n1628|   Rebecca|  Stewart| GEN|395| 0.03|  0.2| 0.37| 0.28| 0.12|\n1481|   Abigail|   Brooks| BIO|311| 0.05| 0.23| 0.37| 0.28| 0.08|\n3187|    Joshua|  Griffin| GEN|154| 0.05| 0.24| 0.38| 0.21| 0.12|\n1264|     Carol|   Martin| CSC|302| 0.07| 0.22| 0.34| 0.25| 0.13|\n1039|      Joan|      Lee| BIO|147| 0.07| 0.24| 0.31| 0.33| 0.05|\n1479|     Karen|  Simmons| GEN|310| 0.08| 0.31|  0.3| 0.21|  0.1|\n1212|   Michael| Martinez| MTH|775| 0.09| 0.23| 0.31| 0.27| 0.11|\n1591|    Amanda| Mitchell| CHM|395| 0.09| 0.29| 0.35| 0.18| 0.08|\n1462|     Ralph|    Perez| BIO|195| 0.09| 0.21| 0.39| 0.23| 0.09|\n2925|   Cynthia|    Lewis| GEN|302| 0.09| 0.22| 0.35| 0.25| 0.09|\n+----+----------+---------+----+---+-----+-----+-----+-----+-----+\nonly showing top 10 rows\n\n</div>"
      ]
     },
     "metadata": {
      "application/vnd.databricks.v1+output": {
       "addedWidgets": {},
       "arguments": {},
       "data": "<div class=\"ansiout\">+----+----------+---------+----+---+-----+-----+-----+-----+-----+\n| fid|first_name|last_name|dept|  N|propA|propB|propC|propD|propF|\n+----+----------+---------+----+---+-----+-----+-----+-----+-----+\n|1628|   Rebecca|  Stewart| GEN|395| 0.03|  0.2| 0.37| 0.28| 0.12|\n|1481|   Abigail|   Brooks| BIO|311| 0.05| 0.23| 0.37| 0.28| 0.08|\n|3187|    Joshua|  Griffin| GEN|154| 0.05| 0.24| 0.38| 0.21| 0.12|\n|1264|     Carol|   Martin| CSC|302| 0.07| 0.22| 0.34| 0.25| 0.13|\n|1039|      Joan|      Lee| BIO|147| 0.07| 0.24| 0.31| 0.33| 0.05|\n|1479|     Karen|  Simmons| GEN|310| 0.08| 0.31|  0.3| 0.21|  0.1|\n|1212|   Michael| Martinez| MTH|775| 0.09| 0.23| 0.31| 0.27| 0.11|\n|1591|    Amanda| Mitchell| CHM|395| 0.09| 0.29| 0.35| 0.18| 0.08|\n|1462|     Ralph|    Perez| BIO|195| 0.09| 0.21| 0.39| 0.23| 0.09|\n|2925|   Cynthia|    Lewis| GEN|302| 0.09| 0.22| 0.35| 0.25| 0.09|\n+----+----------+---------+----+---+-----+-----+-----+-----+-----+\nonly showing top 10 rows\n\n</div>",
       "datasetInfos": [],
       "metadata": {},
       "removedWidgets": [],
       "type": "html"
      }
     },
     "output_type": "display_data"
    }
   ],
   "source": [
    "(\n",
    "  faculty_grade_dist\n",
    "  \n",
    "  # filter out faculty w/ < 100 grades\n",
    "  .filter(col('N') >= 100)\n",
    "  \n",
    "  # sort by prop of As\n",
    "  .sort('propA')\n",
    "  \n",
    ").show(10)"
   ]
  },
  {
   "cell_type": "markdown",
   "metadata": {
    "application/vnd.databricks.v1+cell": {
     "cellMetadata": {},
     "inputWidgets": {},
     "nuid": "453ed869-6da4-411f-b6f2-4992247e930b",
     "showTitle": false,
     "title": ""
    }
   },
   "source": [
    "Identify the 10 faculty members who assign the most \"A\" grades."
   ]
  },
  {
   "cell_type": "code",
   "execution_count": 0,
   "metadata": {
    "application/vnd.databricks.v1+cell": {
     "cellMetadata": {},
     "inputWidgets": {},
     "nuid": "30878a82-262a-45b2-a890-ff990c7f4e50",
     "showTitle": false,
     "title": ""
    }
   },
   "outputs": [
    {
     "output_type": "display_data",
     "data": {
      "text/html": [
       "<style scoped>\n  .ansiout {\n    display: block;\n    unicode-bidi: embed;\n    white-space: pre-wrap;\n    word-wrap: break-word;\n    word-break: break-all;\n    font-family: \"Source Code Pro\", \"Menlo\", monospace;;\n    font-size: 13px;\n    color: #555;\n    margin-left: 4px;\n    line-height: 19px;\n  }\n</style>\n<div class=\"ansiout\">+----+----------+---------+----+----+-----+-----+-----+-----+-----+\n fid|first_name|last_name|dept|   N|propA|propB|propC|propD|propF|\n+----+----------+---------+----+----+-----+-----+-----+-----+-----+\n1092|    Hannah|   Morgan| GEN|1953| 0.59|  0.3| 0.09| 0.01|  0.0|\n1262|      Sara|   Hunter| GEN|2266| 0.57| 0.28| 0.12| 0.02|  0.0|\n1548|    Donald|   Gibson| GEN|1478| 0.55| 0.27| 0.14| 0.03| 0.01|\n1094|      Judy|Patterson| GEN|1904| 0.55| 0.32| 0.12| 0.02|  0.0|\n1484|     Billy|   Cooper| BIO| 434| 0.54| 0.33| 0.09| 0.04| 0.01|\n1328|     David|   Parker| GEN|1543| 0.53| 0.28| 0.14| 0.04| 0.01|\n1058|      John|  Simpson| GEN|2729| 0.53| 0.33| 0.12| 0.02|  0.0|\n1038|   Theresa|  Stevens| CHM| 233| 0.52| 0.31| 0.15| 0.02| 0.01|\n1305|     Betty|  Stewart| GEN|2081| 0.51| 0.31| 0.14| 0.04| 0.01|\n1291|     Joyce|   Butler| GEN|2212| 0.51| 0.31| 0.14| 0.03| 0.01|\n+----+----------+---------+----+----+-----+-----+-----+-----+-----+\nonly showing top 10 rows\n\n</div>"
      ]
     },
     "metadata": {
      "application/vnd.databricks.v1+output": {
       "addedWidgets": {},
       "arguments": {},
       "data": "<div class=\"ansiout\">+----+----------+---------+----+----+-----+-----+-----+-----+-----+\n| fid|first_name|last_name|dept|   N|propA|propB|propC|propD|propF|\n+----+----------+---------+----+----+-----+-----+-----+-----+-----+\n|1092|    Hannah|   Morgan| GEN|1953| 0.59|  0.3| 0.09| 0.01|  0.0|\n|1262|      Sara|   Hunter| GEN|2266| 0.57| 0.28| 0.12| 0.02|  0.0|\n|1548|    Donald|   Gibson| GEN|1478| 0.55| 0.27| 0.14| 0.03| 0.01|\n|1094|      Judy|Patterson| GEN|1904| 0.55| 0.32| 0.12| 0.02|  0.0|\n|1484|     Billy|   Cooper| BIO| 434| 0.54| 0.33| 0.09| 0.04| 0.01|\n|1328|     David|   Parker| GEN|1543| 0.53| 0.28| 0.14| 0.04| 0.01|\n|1058|      John|  Simpson| GEN|2729| 0.53| 0.33| 0.12| 0.02|  0.0|\n|1038|   Theresa|  Stevens| CHM| 233| 0.52| 0.31| 0.15| 0.02| 0.01|\n|1305|     Betty|  Stewart| GEN|2081| 0.51| 0.31| 0.14| 0.04| 0.01|\n|1291|     Joyce|   Butler| GEN|2212| 0.51| 0.31| 0.14| 0.03| 0.01|\n+----+----------+---------+----+----+-----+-----+-----+-----+-----+\nonly showing top 10 rows\n\n</div>",
       "datasetInfos": [],
       "metadata": {},
       "removedWidgets": [],
       "type": "html"
      }
     },
     "output_type": "display_data"
    }
   ],
   "source": [
    "(\n",
    "  faculty_grade_dist\n",
    "  \n",
    "  # filter out faculty w/ < 100 grades\n",
    "  .filter(col('N') >= 100)\n",
    "  \n",
    "  # sort by prop of As desc\n",
    "  .sort('propA', ascending=False)\n",
    "  \n",
    ").show(10)"
   ]
  },
  {
   "cell_type": "markdown",
   "metadata": {
    "application/vnd.databricks.v1+cell": {
     "cellMetadata": {},
     "inputWidgets": {},
     "nuid": "7fe8eb2d-198b-4848-9c31-a3d0673e7fae",
     "showTitle": false,
     "title": ""
    }
   },
   "source": [
    "## Part J: First Term GPA\n",
    "Calculate the first-term GPA for each student who has enrolled in classes."
   ]
  },
  {
   "cell_type": "code",
   "execution_count": 0,
   "metadata": {
    "application/vnd.databricks.v1+cell": {
     "cellMetadata": {},
     "inputWidgets": {},
     "nuid": "3d804944-19b9-484b-a5b8-a1f2826a172f",
     "showTitle": false,
     "title": ""
    }
   },
   "outputs": [
    {
     "output_type": "display_data",
     "data": {
      "text/html": [
       "<style scoped>\n  .ansiout {\n    display: block;\n    unicode-bidi: embed;\n    white-space: pre-wrap;\n    word-wrap: break-word;\n    word-break: break-all;\n    font-family: \"Source Code Pro\", \"Menlo\", monospace;;\n    font-size: 13px;\n    color: #555;\n    margin-left: 4px;\n    line-height: 19px;\n  }\n</style>\n<div class=\"ansiout\">+------+--------------+\n   sid|first_term_gpa|\n+------+--------------+\n106572|           4.0|\n104224|           4.0|\n101552|           4.0|\n105979|           4.0|\n103851|           4.0|\n+------+--------------+\nonly showing top 5 rows\n\n</div>"
      ]
     },
     "metadata": {
      "application/vnd.databricks.v1+output": {
       "addedWidgets": {},
       "arguments": {},
       "data": "<div class=\"ansiout\">+------+--------------+\n|   sid|first_term_gpa|\n+------+--------------+\n|106572|           4.0|\n|104224|           4.0|\n|101552|           4.0|\n|105979|           4.0|\n|103851|           4.0|\n+------+--------------+\nonly showing top 5 rows\n\n</div>",
       "datasetInfos": [],
       "metadata": {},
       "removedWidgets": [],
       "type": "html"
      }
     },
     "output_type": "display_data"
    }
   ],
   "source": [
    "first_term_gpa = (\n",
    "  grades\n",
    "  \n",
    "  # bring in accepted students info\n",
    "  .join(other=accepted, on='sid', how='full')\n",
    "  \n",
    "  # filter to keep records from first term\n",
    "  .filter(col('term_id') == col('acc_term_id'))\n",
    "  \n",
    "  # bring in course info\n",
    "  .join(other=courses, on='course', how='inner')\n",
    "  \n",
    "   # add col of numeric grades\n",
    "  .select(\n",
    "    '*',\n",
    "    expr('convert_grades(grade) as num_grade')\n",
    "  )\n",
    "  \n",
    "  # add col of gp\n",
    "  .select(\n",
    "    '*',\n",
    "    expr('credits * num_grade as gp')\n",
    "  )\n",
    "  \n",
    "  # group by sid\n",
    "  .groupBy('sid')\n",
    "  \n",
    "  # sum gp and credits\n",
    "  .agg(\n",
    "    expr('sum(gp) as gp'),\n",
    "    expr('sum(credits) as credits')\n",
    "  )\n",
    "  \n",
    "  # calc gpa\n",
    "  .select(\n",
    "    '*',\n",
    "    expr('round(gp/credits,2) as first_term_gpa')\n",
    "  )\n",
    "\n",
    "  # select specific cols\n",
    "  .select(\n",
    "    'sid',\n",
    "    'first_term_gpa'\n",
    "  )\n",
    "  \n",
    "  # sort by gpa\n",
    "  .sort('first_term_gpa', ascending=False)\n",
    ")\n",
    "\n",
    "# display first 5 elements of df\n",
    "first_term_gpa.show(5)"
   ]
  },
  {
   "cell_type": "markdown",
   "metadata": {
    "application/vnd.databricks.v1+cell": {
     "cellMetadata": {},
     "inputWidgets": {},
     "nuid": "31b6fce8-6a80-4616-888d-1e7e4bd988e6",
     "showTitle": false,
     "title": ""
    }
   },
   "source": [
    "## Part K: Graduation Rates and First Term GPA\n",
    "Calculate graduation rates for students whose first term GPA falls into each of four different grade ranges. Start by creating a function to determine which range a student's GPA falls into."
   ]
  },
  {
   "cell_type": "code",
   "execution_count": 0,
   "metadata": {
    "application/vnd.databricks.v1+cell": {
     "cellMetadata": {},
     "inputWidgets": {},
     "nuid": "9b12a4df-6a7d-4ae9-843c-d78af033b055",
     "showTitle": false,
     "title": ""
    }
   },
   "outputs": [
    {
     "output_type": "display_data",
     "data": {
      "text/html": [
       "<style scoped>\n  .ansiout {\n    display: block;\n    unicode-bidi: embed;\n    white-space: pre-wrap;\n    word-wrap: break-word;\n    word-break: break-all;\n    font-family: \"Source Code Pro\", \"Menlo\", monospace;;\n    font-size: 13px;\n    color: #555;\n    margin-left: 4px;\n    line-height: 19px;\n  }\n</style>\n<div class=\"ansiout\">Out[19]: &lt;function __main__.gpa_range(gpa)&gt;</div>"
      ]
     },
     "metadata": {
      "application/vnd.databricks.v1+output": {
       "addedWidgets": {},
       "arguments": {},
       "data": "<div class=\"ansiout\">Out[19]: &lt;function __main__.gpa_range(gpa)&gt;</div>",
       "datasetInfos": [],
       "metadata": {},
       "removedWidgets": [],
       "type": "html"
      }
     },
     "output_type": "display_data"
    }
   ],
   "source": [
    "# function to determine which range a gpa falls into\n",
    "def gpa_range(gpa):\n",
    "  if gpa >= 0 and gpa < 1:\n",
    "    return '[0,1)'\n",
    "  elif gpa == 1 or gpa < 2:\n",
    "    return '[1,2)'\n",
    "  elif gpa == 2 or gpa < 3:\n",
    "    return '[2,3)'\n",
    "  else:\n",
    "    return '[3,4]'\n",
    "\n",
    "# register as Spark UDF\n",
    "spark.udf.register('gpa_range', gpa_range)"
   ]
  },
  {
   "cell_type": "markdown",
   "metadata": {
    "application/vnd.databricks.v1+cell": {
     "cellMetadata": {},
     "inputWidgets": {},
     "nuid": "f0250cfb-9f01-4fc7-9270-224c4e4f38b8",
     "showTitle": false,
     "title": ""
    }
   },
   "source": [
    "Determine the number of alumni whose first-term GPA falls into each bin."
   ]
  },
  {
   "cell_type": "code",
   "execution_count": 0,
   "metadata": {
    "application/vnd.databricks.v1+cell": {
     "cellMetadata": {},
     "inputWidgets": {},
     "nuid": "9ffe776a-40ee-4e31-abc7-709f6deb7ae2",
     "showTitle": false,
     "title": ""
    }
   },
   "outputs": [
    {
     "output_type": "display_data",
     "data": {
      "text/html": [
       "<style scoped>\n  .ansiout {\n    display: block;\n    unicode-bidi: embed;\n    white-space: pre-wrap;\n    word-wrap: break-word;\n    word-break: break-all;\n    font-family: \"Source Code Pro\", \"Menlo\", monospace;;\n    font-size: 13px;\n    color: #555;\n    margin-left: 4px;\n    line-height: 19px;\n  }\n</style>\n<div class=\"ansiout\">+-------+--------+\ngpa_bin|n_alumni|\n+-------+--------+\n  [0,1)|       4|\n  [1,2)|     549|\n  [2,3)|    1887|\n  [3,4]|    2480|\n+-------+--------+\n\n</div>"
      ]
     },
     "metadata": {
      "application/vnd.databricks.v1+output": {
       "addedWidgets": {},
       "arguments": {},
       "data": "<div class=\"ansiout\">+-------+--------+\n|gpa_bin|n_alumni|\n+-------+--------+\n|  [0,1)|       4|\n|  [1,2)|     549|\n|  [2,3)|    1887|\n|  [3,4]|    2480|\n+-------+--------+\n\n</div>",
       "datasetInfos": [],
       "metadata": {},
       "removedWidgets": [],
       "type": "html"
      }
     },
     "output_type": "display_data"
    }
   ],
   "source": [
    "alumni_ft_gpa = (\n",
    "  alumni\n",
    "  \n",
    "  # filter to keep only alumni\n",
    "  .join(other=first_term_gpa, on='sid', how='inner')\n",
    "  \n",
    "   # add col of GPA range\n",
    "  .select(\n",
    "    '*',\n",
    "    expr('gpa_range(first_term_gpa) as gpa_bin')\n",
    "  )\n",
    "  \n",
    "  # groupy by GPA range\n",
    "  .groupBy('gpa_bin')\n",
    "  \n",
    "  # count # in each group\n",
    "  .agg(\n",
    "    expr('count(sid) as n_alumni')\n",
    "  )\n",
    "  \n",
    "  # sort by GPA range\n",
    "  .sort('gpa_bin')\n",
    ")\n",
    "\n",
    "# display df\n",
    "alumni_ft_gpa.show()"
   ]
  },
  {
   "cell_type": "markdown",
   "metadata": {
    "application/vnd.databricks.v1+cell": {
     "cellMetadata": {},
     "inputWidgets": {},
     "nuid": "dbfd7dad-4537-4fca-98b6-12e5264b6865",
     "showTitle": false,
     "title": ""
    }
   },
   "source": [
    "Determine the number of former students whose first-term GPA falls into each bin."
   ]
  },
  {
   "cell_type": "code",
   "execution_count": 0,
   "metadata": {
    "application/vnd.databricks.v1+cell": {
     "cellMetadata": {},
     "inputWidgets": {},
     "nuid": "770cb940-937f-4ff5-a4c8-e9e9d8130cbc",
     "showTitle": false,
     "title": ""
    }
   },
   "outputs": [
    {
     "output_type": "display_data",
     "data": {
      "text/html": [
       "<style scoped>\n  .ansiout {\n    display: block;\n    unicode-bidi: embed;\n    white-space: pre-wrap;\n    word-wrap: break-word;\n    word-break: break-all;\n    font-family: \"Source Code Pro\", \"Menlo\", monospace;;\n    font-size: 13px;\n    color: #555;\n    margin-left: 4px;\n    line-height: 19px;\n  }\n</style>\n<div class=\"ansiout\">+-------+--------+\ngpa_bin|n_former|\n+-------+--------+\n  [0,1)|     822|\n  [1,2)|    1735|\n  [2,3)|    2433|\n  [3,4]|    2622|\n+-------+--------+\n\n</div>"
      ]
     },
     "metadata": {
      "application/vnd.databricks.v1+output": {
       "addedWidgets": {},
       "arguments": {},
       "data": "<div class=\"ansiout\">+-------+--------+\n|gpa_bin|n_former|\n+-------+--------+\n|  [0,1)|     822|\n|  [1,2)|    1735|\n|  [2,3)|    2433|\n|  [3,4]|    2622|\n+-------+--------+\n\n</div>",
       "datasetInfos": [],
       "metadata": {},
       "removedWidgets": [],
       "type": "html"
      }
     },
     "output_type": "display_data"
    }
   ],
   "source": [
    "former_ft_gpa = (\n",
    "  former\n",
    "  \n",
    "  # filter to keep only alumni\n",
    "  .join(other=first_term_gpa, on='sid', how='inner')\n",
    "  \n",
    "   # add col of GPA range\n",
    "  .select(\n",
    "    '*',\n",
    "    expr('gpa_range(first_term_gpa) as gpa_bin')\n",
    "  )\n",
    "  \n",
    "  # groupy by GPA range\n",
    "  .groupBy('gpa_bin')\n",
    "  \n",
    "  # count # in each group\n",
    "  .agg(\n",
    "    expr('count(sid) as n_former')\n",
    "  )\n",
    "  \n",
    "  # sort by GPA range\n",
    "  .sort('gpa_bin')\n",
    ")\n",
    "\n",
    "# display df\n",
    "former_ft_gpa.show()"
   ]
  },
  {
   "cell_type": "markdown",
   "metadata": {
    "application/vnd.databricks.v1+cell": {
     "cellMetadata": {},
     "inputWidgets": {},
     "nuid": "bc4e9d3d-c5c0-4910-b7ac-330d6797afb0",
     "showTitle": false,
     "title": ""
    }
   },
   "source": [
    "Use the previous two DataFrames to determine the graduation rates for each of the GPA bins."
   ]
  },
  {
   "cell_type": "code",
   "execution_count": 0,
   "metadata": {
    "application/vnd.databricks.v1+cell": {
     "cellMetadata": {},
     "inputWidgets": {},
     "nuid": "7e34d29b-ac7e-4fd3-a1a3-bf4c1d20f988",
     "showTitle": false,
     "title": ""
    }
   },
   "outputs": [
    {
     "output_type": "display_data",
     "data": {
      "text/html": [
       "<style scoped>\n  .ansiout {\n    display: block;\n    unicode-bidi: embed;\n    white-space: pre-wrap;\n    word-wrap: break-word;\n    word-break: break-all;\n    font-family: \"Source Code Pro\", \"Menlo\", monospace;;\n    font-size: 13px;\n    color: #555;\n    margin-left: 4px;\n    line-height: 19px;\n  }\n</style>\n<div class=\"ansiout\">+-------+--------+--------+---------+\ngpa_bin|n_alumni|n_former|grad_rate|\n+-------+--------+--------+---------+\n  [0,1)|       4|     822|   0.0049|\n  [1,2)|     549|    1735|   0.3164|\n  [2,3)|    1887|    2433|   0.7756|\n  [3,4]|    2480|    2622|   0.9458|\n+-------+--------+--------+---------+\n\n</div>"
      ]
     },
     "metadata": {
      "application/vnd.databricks.v1+output": {
       "addedWidgets": {},
       "arguments": {},
       "data": "<div class=\"ansiout\">+-------+--------+--------+---------+\n|gpa_bin|n_alumni|n_former|grad_rate|\n+-------+--------+--------+---------+\n|  [0,1)|       4|     822|   0.0049|\n|  [1,2)|     549|    1735|   0.3164|\n|  [2,3)|    1887|    2433|   0.7756|\n|  [3,4]|    2480|    2622|   0.9458|\n+-------+--------+--------+---------+\n\n</div>",
       "datasetInfos": [],
       "metadata": {},
       "removedWidgets": [],
       "type": "html"
      }
     },
     "output_type": "display_data"
    }
   ],
   "source": [
    "(\n",
    "  alumni_ft_gpa\n",
    "  \n",
    "  # bring in former student GPA info\n",
    "  .join(other=former_ft_gpa, on='gpa_bin', how='full')\n",
    "  \n",
    "  # calc grad rate\n",
    "  .select(\n",
    "    '*',\n",
    "    expr('round(n_alumni/n_former,4) as grad_rate')\n",
    "  )\n",
    "  \n",
    "  # sort by GPA range\n",
    "  .sort('gpa_bin')\n",
    ").show()"
   ]
  }
 ],
 "metadata": {
  "application/vnd.databricks.v1+notebook": {
   "dashboards": [],
   "language": "python",
   "notebookMetadata": {
    "pythonIndentUnit": 2
   },
   "notebookName": "Project_02",
   "notebookOrigID": 3987473240219905,
   "widgets": {}
  }
 },
 "nbformat": 4,
 "nbformat_minor": 0
}
