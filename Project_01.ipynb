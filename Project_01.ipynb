{
 "cells": [
  {
   "cell_type": "markdown",
   "metadata": {
    "application/vnd.databricks.v1+cell": {
     "cellMetadata": {},
     "inputWidgets": {},
     "nuid": "4ebb6431-a7a0-44ff-982c-ecde98b0db4c",
     "showTitle": false,
     "title": ""
    }
   },
   "source": [
    "# DSCI 417 – Project 01\n",
    "## Analysis of NASA Server Logs\n",
    "**Lauren Forti**"
   ]
  },
  {
   "cell_type": "markdown",
   "metadata": {
    "application/vnd.databricks.v1+cell": {
     "cellMetadata": {},
     "inputWidgets": {},
     "nuid": "8da5b63b-f1a4-4e0a-93d1-c6c05ed8e24a",
     "showTitle": false,
     "title": ""
    }
   },
   "source": [
    "## Part A: Set up Environment\n",
    "Setup the environment, starting with imports."
   ]
  },
  {
   "cell_type": "code",
   "execution_count": 0,
   "metadata": {
    "application/vnd.databricks.v1+cell": {
     "cellMetadata": {},
     "inputWidgets": {},
     "nuid": "cf4f8fe4-4b2c-492d-895f-4f163eaa6a7f",
     "showTitle": false,
     "title": ""
    }
   },
   "outputs": [
    {
     "output_type": "display_data",
     "data": {
      "text/html": [
       "<style scoped>\n  .ansiout {\n    display: block;\n    unicode-bidi: embed;\n    white-space: pre-wrap;\n    word-wrap: break-word;\n    word-break: break-all;\n    font-family: \"Source Code Pro\", \"Menlo\", monospace;;\n    font-size: 13px;\n    color: #555;\n    margin-left: 4px;\n    line-height: 19px;\n  }\n</style>\n<div class=\"ansiout\"></div>"
      ]
     },
     "metadata": {
      "application/vnd.databricks.v1+output": {
       "addedWidgets": {},
       "arguments": {},
       "data": "<div class=\"ansiout\"></div>",
       "datasetInfos": [],
       "metadata": {},
       "removedWidgets": [],
       "type": "html"
      }
     },
     "output_type": "display_data"
    }
   ],
   "source": [
    "# imports\n",
    "import pandas as pd\n",
    "import matplotlib.pyplot as plt\n",
    "from pyspark.sql import SparkSession"
   ]
  },
  {
   "cell_type": "markdown",
   "metadata": {
    "application/vnd.databricks.v1+cell": {
     "cellMetadata": {},
     "inputWidgets": {},
     "nuid": "018bef47-4c08-4503-b85f-74160252c71c",
     "showTitle": false,
     "title": ""
    }
   },
   "source": [
    "Create the SparkSession and SparkContext objects."
   ]
  },
  {
   "cell_type": "code",
   "execution_count": 0,
   "metadata": {
    "application/vnd.databricks.v1+cell": {
     "cellMetadata": {},
     "inputWidgets": {},
     "nuid": "1a844c76-2a0a-4f33-9b15-065a1803f717",
     "showTitle": false,
     "title": ""
    }
   },
   "outputs": [
    {
     "output_type": "display_data",
     "data": {
      "text/html": [
       "<style scoped>\n  .ansiout {\n    display: block;\n    unicode-bidi: embed;\n    white-space: pre-wrap;\n    word-wrap: break-word;\n    word-break: break-all;\n    font-family: \"Source Code Pro\", \"Menlo\", monospace;;\n    font-size: 13px;\n    color: #555;\n    margin-left: 4px;\n    line-height: 19px;\n  }\n</style>\n<div class=\"ansiout\"></div>"
      ]
     },
     "metadata": {
      "application/vnd.databricks.v1+output": {
       "addedWidgets": {},
       "arguments": {},
       "data": "<div class=\"ansiout\"></div>",
       "datasetInfos": [],
       "metadata": {},
       "removedWidgets": [],
       "type": "html"
      }
     },
     "output_type": "display_data"
    }
   ],
   "source": [
    "# create objects\n",
    "spark = SparkSession.builder.getOrCreate()\n",
    "sc = spark.sparkContext"
   ]
  },
  {
   "cell_type": "markdown",
   "metadata": {
    "application/vnd.databricks.v1+cell": {
     "cellMetadata": {},
     "inputWidgets": {},
     "nuid": "d8f446da-4c0e-4333-8ad8-4b07a8e73084",
     "showTitle": false,
     "title": ""
    }
   },
   "source": [
    "## Part B: Load and Process Data\n",
    "Load the data, check the first few elements, and process the data. Start by loading in the data and printing the number of elements."
   ]
  },
  {
   "cell_type": "code",
   "execution_count": 0,
   "metadata": {
    "application/vnd.databricks.v1+cell": {
     "cellMetadata": {},
     "inputWidgets": {},
     "nuid": "d3835666-47d2-4b6a-82fe-75a82821bb39",
     "showTitle": false,
     "title": ""
    }
   },
   "outputs": [
    {
     "output_type": "display_data",
     "data": {
      "text/html": [
       "<style scoped>\n  .ansiout {\n    display: block;\n    unicode-bidi: embed;\n    white-space: pre-wrap;\n    word-wrap: break-word;\n    word-break: break-all;\n    font-family: \"Source Code Pro\", \"Menlo\", monospace;;\n    font-size: 13px;\n    color: #555;\n    margin-left: 4px;\n    line-height: 19px;\n  }\n</style>\n<div class=\"ansiout\">Number of elements: 1569888\n</div>"
      ]
     },
     "metadata": {
      "application/vnd.databricks.v1+output": {
       "addedWidgets": {},
       "arguments": {},
       "data": "<div class=\"ansiout\">Number of elements: 1569888\n</div>",
       "datasetInfos": [],
       "metadata": {},
       "removedWidgets": [],
       "type": "html"
      }
     },
     "output_type": "display_data"
    }
   ],
   "source": [
    "# read in dataset as RDD\n",
    "nasa_raw = sc.textFile('/FileStore/tables/NASA_server_logs_Aug_1995.txt')\n",
    "\n",
    "# output # of elements\n",
    "print('Number of elements:', nasa_raw.count())"
   ]
  },
  {
   "cell_type": "markdown",
   "metadata": {
    "application/vnd.databricks.v1+cell": {
     "cellMetadata": {},
     "inputWidgets": {},
     "nuid": "27cd7ed3-c657-4eed-ad1d-7cc286875a69",
     "showTitle": false,
     "title": ""
    }
   },
   "source": [
    "Display the first few elements of the RDD."
   ]
  },
  {
   "cell_type": "code",
   "execution_count": 0,
   "metadata": {
    "application/vnd.databricks.v1+cell": {
     "cellMetadata": {},
     "inputWidgets": {},
     "nuid": "89f2c636-5f33-48c3-a6a5-4b618b1c37a5",
     "showTitle": false,
     "title": ""
    }
   },
   "outputs": [
    {
     "output_type": "display_data",
     "data": {
      "text/html": [
       "<style scoped>\n  .ansiout {\n    display: block;\n    unicode-bidi: embed;\n    white-space: pre-wrap;\n    word-wrap: break-word;\n    word-break: break-all;\n    font-family: \"Source Code Pro\", \"Menlo\", monospace;;\n    font-size: 13px;\n    color: #555;\n    margin-left: 4px;\n    line-height: 19px;\n  }\n</style>\n<div class=\"ansiout\">in24.inetnebr.com [01/Aug/1995:00:00:01] &#34;GET /shuttle/missions/sts-68/news/sts-68-mcc-05.txt&#34; 200 1839\nuplherc.upl.com [01/Aug/1995:00:00:07] &#34;GET /&#34; 304 0\nuplherc.upl.com [01/Aug/1995:00:00:08] &#34;GET /images/ksclogo-medium.gif&#34; 304 0\nuplherc.upl.com [01/Aug/1995:00:00:08] &#34;GET /images/MOSAIC-logosmall.gif&#34; 304 0\nuplherc.upl.com [01/Aug/1995:00:00:08] &#34;GET /images/USA-logosmall.gif&#34; 304 0\nix-esc-ca2-07.ix.netcom.com [01/Aug/1995:00:00:09] &#34;GET /images/launch-logo.gif&#34; 200 1713\nuplherc.upl.com [01/Aug/1995:00:00:10] &#34;GET /images/WORLD-logosmall.gif&#34; 304 0\nslppp6.intermind.net [01/Aug/1995:00:00:10] &#34;GET /history/skylab/skylab.html&#34; 200 1687\npiweba4y.prodigy.com [01/Aug/1995:00:00:10] &#34;GET /images/launchmedium.gif&#34; 200 11853\nslppp6.intermind.net [01/Aug/1995:00:00:11] &#34;GET /history/skylab/skylab-small.gif&#34; 200 9202\n</div>"
      ]
     },
     "metadata": {
      "application/vnd.databricks.v1+output": {
       "addedWidgets": {},
       "arguments": {},
       "data": "<div class=\"ansiout\">in24.inetnebr.com [01/Aug/1995:00:00:01] &#34;GET /shuttle/missions/sts-68/news/sts-68-mcc-05.txt&#34; 200 1839\nuplherc.upl.com [01/Aug/1995:00:00:07] &#34;GET /&#34; 304 0\nuplherc.upl.com [01/Aug/1995:00:00:08] &#34;GET /images/ksclogo-medium.gif&#34; 304 0\nuplherc.upl.com [01/Aug/1995:00:00:08] &#34;GET /images/MOSAIC-logosmall.gif&#34; 304 0\nuplherc.upl.com [01/Aug/1995:00:00:08] &#34;GET /images/USA-logosmall.gif&#34; 304 0\nix-esc-ca2-07.ix.netcom.com [01/Aug/1995:00:00:09] &#34;GET /images/launch-logo.gif&#34; 200 1713\nuplherc.upl.com [01/Aug/1995:00:00:10] &#34;GET /images/WORLD-logosmall.gif&#34; 304 0\nslppp6.intermind.net [01/Aug/1995:00:00:10] &#34;GET /history/skylab/skylab.html&#34; 200 1687\npiweba4y.prodigy.com [01/Aug/1995:00:00:10] &#34;GET /images/launchmedium.gif&#34; 200 11853\nslppp6.intermind.net [01/Aug/1995:00:00:11] &#34;GET /history/skylab/skylab-small.gif&#34; 200 9202\n</div>",
       "datasetInfos": [],
       "metadata": {},
       "removedWidgets": [],
       "type": "html"
      }
     },
     "output_type": "display_data"
    }
   ],
   "source": [
    "# output first 10 rows\n",
    "for row in nasa_raw.take(10):\n",
    "  print(row)"
   ]
  },
  {
   "cell_type": "markdown",
   "metadata": {
    "application/vnd.databricks.v1+cell": {
     "cellMetadata": {},
     "inputWidgets": {},
     "nuid": "1612ee40-a9cd-40a4-b377-e0a181cafd14",
     "showTitle": false,
     "title": ""
    }
   },
   "source": [
    "Process each line of server information by removing the double quotes, tokenizing the strings,\n",
    "replacing the hyphens that appear for the number of bytes with zeros, and coercing the values into appropriate\n",
    "datatypes."
   ]
  },
  {
   "cell_type": "code",
   "execution_count": 0,
   "metadata": {
    "application/vnd.databricks.v1+cell": {
     "cellMetadata": {},
     "inputWidgets": {},
     "nuid": "b9ad56cd-bce8-44f1-9fb7-c3764c448eac",
     "showTitle": false,
     "title": ""
    }
   },
   "outputs": [
    {
     "output_type": "display_data",
     "data": {
      "text/html": [
       "<style scoped>\n  .ansiout {\n    display: block;\n    unicode-bidi: embed;\n    white-space: pre-wrap;\n    word-wrap: break-word;\n    word-break: break-all;\n    font-family: \"Source Code Pro\", \"Menlo\", monospace;;\n    font-size: 13px;\n    color: #555;\n    margin-left: 4px;\n    line-height: 19px;\n  }\n</style>\n<div class=\"ansiout\">[&#39;in24.inetnebr.com&#39;, &#39;[01/Aug/1995:00:00:01]&#39;, &#39;GET&#39;, &#39;/shuttle/missions/sts-68/news/sts-68-mcc-05.txt&#39;, &#39;200&#39;, 1839]\n[&#39;uplherc.upl.com&#39;, &#39;[01/Aug/1995:00:00:07]&#39;, &#39;GET&#39;, &#39;/&#39;, &#39;304&#39;, 0]\n[&#39;uplherc.upl.com&#39;, &#39;[01/Aug/1995:00:00:08]&#39;, &#39;GET&#39;, &#39;/images/ksclogo-medium.gif&#39;, &#39;304&#39;, 0]\n[&#39;uplherc.upl.com&#39;, &#39;[01/Aug/1995:00:00:08]&#39;, &#39;GET&#39;, &#39;/images/MOSAIC-logosmall.gif&#39;, &#39;304&#39;, 0]\n[&#39;uplherc.upl.com&#39;, &#39;[01/Aug/1995:00:00:08]&#39;, &#39;GET&#39;, &#39;/images/USA-logosmall.gif&#39;, &#39;304&#39;, 0]\n[&#39;ix-esc-ca2-07.ix.netcom.com&#39;, &#39;[01/Aug/1995:00:00:09]&#39;, &#39;GET&#39;, &#39;/images/launch-logo.gif&#39;, &#39;200&#39;, 1713]\n[&#39;uplherc.upl.com&#39;, &#39;[01/Aug/1995:00:00:10]&#39;, &#39;GET&#39;, &#39;/images/WORLD-logosmall.gif&#39;, &#39;304&#39;, 0]\n[&#39;slppp6.intermind.net&#39;, &#39;[01/Aug/1995:00:00:10]&#39;, &#39;GET&#39;, &#39;/history/skylab/skylab.html&#39;, &#39;200&#39;, 1687]\n[&#39;piweba4y.prodigy.com&#39;, &#39;[01/Aug/1995:00:00:10]&#39;, &#39;GET&#39;, &#39;/images/launchmedium.gif&#39;, &#39;200&#39;, 11853]\n[&#39;slppp6.intermind.net&#39;, &#39;[01/Aug/1995:00:00:11]&#39;, &#39;GET&#39;, &#39;/history/skylab/skylab-small.gif&#39;, &#39;200&#39;, 9202]\n</div>"
      ]
     },
     "metadata": {
      "application/vnd.databricks.v1+output": {
       "addedWidgets": {},
       "arguments": {},
       "data": "<div class=\"ansiout\">[&#39;in24.inetnebr.com&#39;, &#39;[01/Aug/1995:00:00:01]&#39;, &#39;GET&#39;, &#39;/shuttle/missions/sts-68/news/sts-68-mcc-05.txt&#39;, &#39;200&#39;, 1839]\n[&#39;uplherc.upl.com&#39;, &#39;[01/Aug/1995:00:00:07]&#39;, &#39;GET&#39;, &#39;/&#39;, &#39;304&#39;, 0]\n[&#39;uplherc.upl.com&#39;, &#39;[01/Aug/1995:00:00:08]&#39;, &#39;GET&#39;, &#39;/images/ksclogo-medium.gif&#39;, &#39;304&#39;, 0]\n[&#39;uplherc.upl.com&#39;, &#39;[01/Aug/1995:00:00:08]&#39;, &#39;GET&#39;, &#39;/images/MOSAIC-logosmall.gif&#39;, &#39;304&#39;, 0]\n[&#39;uplherc.upl.com&#39;, &#39;[01/Aug/1995:00:00:08]&#39;, &#39;GET&#39;, &#39;/images/USA-logosmall.gif&#39;, &#39;304&#39;, 0]\n[&#39;ix-esc-ca2-07.ix.netcom.com&#39;, &#39;[01/Aug/1995:00:00:09]&#39;, &#39;GET&#39;, &#39;/images/launch-logo.gif&#39;, &#39;200&#39;, 1713]\n[&#39;uplherc.upl.com&#39;, &#39;[01/Aug/1995:00:00:10]&#39;, &#39;GET&#39;, &#39;/images/WORLD-logosmall.gif&#39;, &#39;304&#39;, 0]\n[&#39;slppp6.intermind.net&#39;, &#39;[01/Aug/1995:00:00:10]&#39;, &#39;GET&#39;, &#39;/history/skylab/skylab.html&#39;, &#39;200&#39;, 1687]\n[&#39;piweba4y.prodigy.com&#39;, &#39;[01/Aug/1995:00:00:10]&#39;, &#39;GET&#39;, &#39;/images/launchmedium.gif&#39;, &#39;200&#39;, 11853]\n[&#39;slppp6.intermind.net&#39;, &#39;[01/Aug/1995:00:00:11]&#39;, &#39;GET&#39;, &#39;/history/skylab/skylab-small.gif&#39;, &#39;200&#39;, 9202]\n</div>",
       "datasetInfos": [],
       "metadata": {},
       "removedWidgets": [],
       "type": "html"
      }
     },
     "output_type": "display_data"
    }
   ],
   "source": [
    "def process_row(row):\n",
    "  # replace double quotes w/ empty strings\n",
    "  row = row.replace('\"', '')\n",
    "  # tokenize the string on space chars\n",
    "  tokens = row.split(' ')\n",
    "  # change hyphens to 0\n",
    "  if tokens[5] == '-':\n",
    "    tokens[5] = 0\n",
    "  # return list of tokens\n",
    "  return [tokens[0], tokens[1], tokens[2], tokens[3], tokens[4], int(tokens[5])]\n",
    "\n",
    "# process each row\n",
    "nasa = (\n",
    "  nasa_raw\n",
    "  .map(process_row)\n",
    ")\n",
    "\n",
    "# persist nasa RDD to memory\n",
    "nasa.persist()\n",
    "\n",
    "# output first 10 elements\n",
    "for row in nasa.take(10):\n",
    "  print(row)"
   ]
  },
  {
   "cell_type": "markdown",
   "metadata": {
    "application/vnd.databricks.v1+cell": {
     "cellMetadata": {},
     "inputWidgets": {},
     "nuid": "7a0901e0-55ff-4b9e-9bda-f60e1a8b9fe7",
     "showTitle": false,
     "title": ""
    }
   },
   "source": [
    "## Part C: Most Requested Resources\n",
    "Determine which resources were requested most frequently. Use RDD transformations to get an RDD of the count of resource locations and output the first 10 elements."
   ]
  },
  {
   "cell_type": "code",
   "execution_count": 0,
   "metadata": {
    "application/vnd.databricks.v1+cell": {
     "cellMetadata": {},
     "inputWidgets": {},
     "nuid": "1240142b-461e-4511-a3c5-869ec800d4ac",
     "showTitle": false,
     "title": ""
    }
   },
   "outputs": [
    {
     "output_type": "display_data",
     "data": {
      "text/html": [
       "<style scoped>\n  .ansiout {\n    display: block;\n    unicode-bidi: embed;\n    white-space: pre-wrap;\n    word-wrap: break-word;\n    word-break: break-all;\n    font-family: \"Source Code Pro\", \"Menlo\", monospace;;\n    font-size: 13px;\n    color: #555;\n    margin-left: 4px;\n    line-height: 19px;\n  }\n</style>\n<div class=\"ansiout\">(&#39;/images/NASA-logosmall.gif&#39;, 97410)\n(&#39;/images/KSC-logosmall.gif&#39;, 75337)\n(&#39;/images/MOSAIC-logosmall.gif&#39;, 67448)\n(&#39;/images/USA-logosmall.gif&#39;, 67068)\n(&#39;/images/WORLD-logosmall.gif&#39;, 66444)\n(&#39;/images/ksclogo-medium.gif&#39;, 62778)\n(&#39;/ksc.html&#39;, 43688)\n(&#39;/history/apollo/images/apollo-logo1.gif&#39;, 37826)\n(&#39;/images/launch-logo.gif&#39;, 35138)\n(&#39;/&#39;, 30347)\n</div>"
      ]
     },
     "metadata": {
      "application/vnd.databricks.v1+output": {
       "addedWidgets": {},
       "arguments": {},
       "data": "<div class=\"ansiout\">(&#39;/images/NASA-logosmall.gif&#39;, 97410)\n(&#39;/images/KSC-logosmall.gif&#39;, 75337)\n(&#39;/images/MOSAIC-logosmall.gif&#39;, 67448)\n(&#39;/images/USA-logosmall.gif&#39;, 67068)\n(&#39;/images/WORLD-logosmall.gif&#39;, 66444)\n(&#39;/images/ksclogo-medium.gif&#39;, 62778)\n(&#39;/ksc.html&#39;, 43688)\n(&#39;/history/apollo/images/apollo-logo1.gif&#39;, 37826)\n(&#39;/images/launch-logo.gif&#39;, 35138)\n(&#39;/&#39;, 30347)\n</div>",
       "datasetInfos": [],
       "metadata": {},
       "removedWidgets": [],
       "type": "html"
      }
     },
     "output_type": "display_data"
    }
   ],
   "source": [
    "count_by_resource = (\n",
    "  nasa\n",
    "  # transform -> (resource location, 1)\n",
    "  .map(lambda x: (x[3],1))\n",
    "  # get count of resource locations\n",
    "  .reduceByKey(lambda x,y : x+y)\n",
    "  # sort by count desc\n",
    "  .sortBy(lambda x : x[1], ascending = False)\n",
    ")\n",
    "\n",
    "# output first 10 elements\n",
    "for row in count_by_resource.take(10):\n",
    "  print(row)"
   ]
  },
  {
   "cell_type": "markdown",
   "metadata": {
    "application/vnd.databricks.v1+cell": {
     "cellMetadata": {},
     "inputWidgets": {},
     "nuid": "e83ace27-632d-4330-8d34-91fcceac531a",
     "showTitle": false,
     "title": ""
    }
   },
   "source": [
    "## Part D: Most Common Request Origins\n",
    "Determine which servers are the origins for the greatest number of\n",
    "requests. Use RDD transformations to get an RDD of the count of the servers from which the request originated and output the first 10 elements."
   ]
  },
  {
   "cell_type": "code",
   "execution_count": 0,
   "metadata": {
    "application/vnd.databricks.v1+cell": {
     "cellMetadata": {},
     "inputWidgets": {},
     "nuid": "56843deb-1479-4b13-b759-550394e826c5",
     "showTitle": false,
     "title": ""
    }
   },
   "outputs": [
    {
     "output_type": "display_data",
     "data": {
      "text/html": [
       "<style scoped>\n  .ansiout {\n    display: block;\n    unicode-bidi: embed;\n    white-space: pre-wrap;\n    word-wrap: break-word;\n    word-break: break-all;\n    font-family: \"Source Code Pro\", \"Menlo\", monospace;;\n    font-size: 13px;\n    color: #555;\n    margin-left: 4px;\n    line-height: 19px;\n  }\n</style>\n<div class=\"ansiout\">(&#39;edams.ksc.nasa.gov&#39;, 6530)\n(&#39;piweba4y.prodigy.com&#39;, 4846)\n(&#39;163.206.89.4&#39;, 4791)\n(&#39;piweba5y.prodigy.com&#39;, 4607)\n(&#39;piweba3y.prodigy.com&#39;, 4416)\n(&#39;www-d1.proxy.aol.com&#39;, 3889)\n(&#39;www-b2.proxy.aol.com&#39;, 3534)\n(&#39;www-b3.proxy.aol.com&#39;, 3463)\n(&#39;www-c5.proxy.aol.com&#39;, 3423)\n(&#39;www-b5.proxy.aol.com&#39;, 3411)\n</div>"
      ]
     },
     "metadata": {
      "application/vnd.databricks.v1+output": {
       "addedWidgets": {},
       "arguments": {},
       "data": "<div class=\"ansiout\">(&#39;edams.ksc.nasa.gov&#39;, 6530)\n(&#39;piweba4y.prodigy.com&#39;, 4846)\n(&#39;163.206.89.4&#39;, 4791)\n(&#39;piweba5y.prodigy.com&#39;, 4607)\n(&#39;piweba3y.prodigy.com&#39;, 4416)\n(&#39;www-d1.proxy.aol.com&#39;, 3889)\n(&#39;www-b2.proxy.aol.com&#39;, 3534)\n(&#39;www-b3.proxy.aol.com&#39;, 3463)\n(&#39;www-c5.proxy.aol.com&#39;, 3423)\n(&#39;www-b5.proxy.aol.com&#39;, 3411)\n</div>",
       "datasetInfos": [],
       "metadata": {},
       "removedWidgets": [],
       "type": "html"
      }
     },
     "output_type": "display_data"
    }
   ],
   "source": [
    "# count servers\n",
    "count_by_origin = (\n",
    "  nasa\n",
    "  # transform -> (origin_server, 1)\n",
    "  .map(lambda x: (x[0],1))\n",
    "  # get count of servers\n",
    "  .reduceByKey(lambda x,y : x + y)\n",
    "  # sort by count desc\n",
    "  .sortBy(lambda x : x[1], ascending = False)\n",
    ")\n",
    "\n",
    "# output first 10 elements\n",
    "for row in count_by_origin.take(10):\n",
    "  print(row)"
   ]
  },
  {
   "cell_type": "markdown",
   "metadata": {
    "application/vnd.databricks.v1+cell": {
     "cellMetadata": {},
     "inputWidgets": {},
     "nuid": "292c3b22-c1d1-4d68-ae6e-30fa0ac22fc1",
     "showTitle": false,
     "title": ""
    }
   },
   "source": [
    "## Part E: Request Types\n",
    "Analyze records based on their request type. Get the number of requests and the average number of bytes returned to the client for each request type. Start by confirming that there are three different request types."
   ]
  },
  {
   "cell_type": "code",
   "execution_count": 0,
   "metadata": {
    "application/vnd.databricks.v1+cell": {
     "cellMetadata": {},
     "inputWidgets": {},
     "nuid": "2f82e4a5-5e50-4032-b831-274ae7caf1e1",
     "showTitle": false,
     "title": ""
    }
   },
   "outputs": [
    {
     "output_type": "display_data",
     "data": {
      "text/html": [
       "<style scoped>\n  .ansiout {\n    display: block;\n    unicode-bidi: embed;\n    white-space: pre-wrap;\n    word-wrap: break-word;\n    word-break: break-all;\n    font-family: \"Source Code Pro\", \"Menlo\", monospace;;\n    font-size: 13px;\n    color: #555;\n    margin-left: 4px;\n    line-height: 19px;\n  }\n</style>\n<div class=\"ansiout\">1. GET\n2. HEAD\n3. POST\n</div>"
      ]
     },
     "metadata": {
      "application/vnd.databricks.v1+output": {
       "addedWidgets": {},
       "arguments": {},
       "data": "<div class=\"ansiout\">1. GET\n2. HEAD\n3. POST\n</div>",
       "datasetInfos": [],
       "metadata": {},
       "removedWidgets": [],
       "type": "html"
      }
     },
     "output_type": "display_data"
    }
   ],
   "source": [
    "# get request types\n",
    "req_types = (\n",
    "  nasa\n",
    "  .map(lambda x : x[2])\n",
    "  # determine unique request types\n",
    "  .distinct()\n",
    "  # make list\n",
    "  .collect()\n",
    ")\n",
    "\n",
    "# output list\n",
    "n = 0\n",
    "for row in req_types:\n",
    "  n += 1\n",
    "  print(f'{n}. {row}')"
   ]
  },
  {
   "cell_type": "markdown",
   "metadata": {
    "application/vnd.databricks.v1+cell": {
     "cellMetadata": {},
     "inputWidgets": {},
     "nuid": "46099cb9-499d-4dac-9ddc-f6565cfb04fc",
     "showTitle": false,
     "title": ""
    }
   },
   "source": [
    "Count the number of requests of each type."
   ]
  },
  {
   "cell_type": "code",
   "execution_count": 0,
   "metadata": {
    "application/vnd.databricks.v1+cell": {
     "cellMetadata": {},
     "inputWidgets": {},
     "nuid": "990a005b-f641-4387-bbab-40084471278f",
     "showTitle": false,
     "title": ""
    }
   },
   "outputs": [
    {
     "output_type": "display_data",
     "data": {
      "text/html": [
       "<style scoped>\n  .ansiout {\n    display: block;\n    unicode-bidi: embed;\n    white-space: pre-wrap;\n    word-wrap: break-word;\n    word-break: break-all;\n    font-family: \"Source Code Pro\", \"Menlo\", monospace;;\n    font-size: 13px;\n    color: #555;\n    margin-left: 4px;\n    line-height: 19px;\n  }\n</style>\n<div class=\"ansiout\">There were 1565812 GET requests.\nThere were 3965 HEAD requests.\nThere were 111 POST requests.\n</div>"
      ]
     },
     "metadata": {
      "application/vnd.databricks.v1+output": {
       "addedWidgets": {},
       "arguments": {},
       "data": "<div class=\"ansiout\">There were 1565812 GET requests.\nThere were 3965 HEAD requests.\nThere were 111 POST requests.\n</div>",
       "datasetInfos": [],
       "metadata": {},
       "removedWidgets": [],
       "type": "html"
      }
     },
     "output_type": "display_data"
    }
   ],
   "source": [
    "# get count of each request type\n",
    "for row in req_types:\n",
    "  n = nasa.filter(lambda x : x[2] == row).count()\n",
    "  print(f'There were {n} {row} requests.')"
   ]
  },
  {
   "cell_type": "markdown",
   "metadata": {
    "application/vnd.databricks.v1+cell": {
     "cellMetadata": {},
     "inputWidgets": {},
     "nuid": "3b3dee2e-9fc1-4e93-b719-a8fda74185ca",
     "showTitle": false,
     "title": ""
    }
   },
   "source": [
    "Determine the average number of bytes returned to the client for each request type."
   ]
  },
  {
   "cell_type": "code",
   "execution_count": 0,
   "metadata": {
    "application/vnd.databricks.v1+cell": {
     "cellMetadata": {},
     "inputWidgets": {},
     "nuid": "63c7ebc7-e3d9-4085-b2b1-4d2fc94c965b",
     "showTitle": false,
     "title": ""
    }
   },
   "outputs": [
    {
     "output_type": "display_data",
     "data": {
      "text/html": [
       "<style scoped>\n  .ansiout {\n    display: block;\n    unicode-bidi: embed;\n    white-space: pre-wrap;\n    word-wrap: break-word;\n    word-break: break-all;\n    font-family: \"Source Code Pro\", \"Menlo\", monospace;;\n    font-size: 13px;\n    color: #555;\n    margin-left: 4px;\n    line-height: 19px;\n  }\n</style>\n<div class=\"ansiout\">(&#39;GET&#39;, 17134)\n(&#39;HEAD&#39;, 0)\n(&#39;POST&#39;, 495)\n</div>"
      ]
     },
     "metadata": {
      "application/vnd.databricks.v1+output": {
       "addedWidgets": {},
       "arguments": {},
       "data": "<div class=\"ansiout\">(&#39;GET&#39;, 17134)\n(&#39;HEAD&#39;, 0)\n(&#39;POST&#39;, 495)\n</div>",
       "datasetInfos": [],
       "metadata": {},
       "removedWidgets": [],
       "type": "html"
      }
     },
     "output_type": "display_data"
    }
   ],
   "source": [
    "# get average # of bytes for each request type\n",
    "avg_bytes = (\n",
    "  nasa\n",
    "  # transform -> (request_type, (bytes, 1))\n",
    "  .map(lambda x : (x[2], (x[5], 1)))\n",
    "  # get total bytes and count\n",
    "  .reduceByKey(lambda x,y : (x[0] + y[0], x[1] + y[1]))\n",
    "  # calc avg bytes\n",
    "  .map(lambda x : (x[0], int(round(x[1][0]/x[1][1], 0))))\n",
    ")\n",
    "\n",
    "# output each element\n",
    "for row in avg_bytes.take(3):\n",
    "  print(row)"
   ]
  },
  {
   "cell_type": "markdown",
   "metadata": {
    "application/vnd.databricks.v1+cell": {
     "cellMetadata": {},
     "inputWidgets": {},
     "nuid": "8b431569-cc65-4317-992c-7803e4ebb7f9",
     "showTitle": false,
     "title": ""
    }
   },
   "source": [
    "## Part F: Status Codes\n",
    "Analyze the status codes returned by the server. Get the status codes resulting from each request type and visualize the results. Start by creating a list containing one occurance of each status code."
   ]
  },
  {
   "cell_type": "code",
   "execution_count": 0,
   "metadata": {
    "application/vnd.databricks.v1+cell": {
     "cellMetadata": {},
     "inputWidgets": {},
     "nuid": "aa676a97-127a-4041-b613-d4e3831cfa25",
     "showTitle": false,
     "title": ""
    }
   },
   "outputs": [
    {
     "output_type": "display_data",
     "data": {
      "text/html": [
       "<style scoped>\n  .ansiout {\n    display: block;\n    unicode-bidi: embed;\n    white-space: pre-wrap;\n    word-wrap: break-word;\n    word-break: break-all;\n    font-family: \"Source Code Pro\", \"Menlo\", monospace;;\n    font-size: 13px;\n    color: #555;\n    margin-left: 4px;\n    line-height: 19px;\n  }\n</style>\n<div class=\"ansiout\">[&#39;200&#39;, &#39;302&#39;, &#39;304&#39;, &#39;403&#39;, &#39;404&#39;, &#39;500&#39;, &#39;501&#39;]\n</div>"
      ]
     },
     "metadata": {
      "application/vnd.databricks.v1+output": {
       "addedWidgets": {},
       "arguments": {},
       "data": "<div class=\"ansiout\">[&#39;200&#39;, &#39;302&#39;, &#39;304&#39;, &#39;403&#39;, &#39;404&#39;, &#39;500&#39;, &#39;501&#39;]\n</div>",
       "datasetInfos": [],
       "metadata": {},
       "removedWidgets": [],
       "type": "html"
      }
     },
     "output_type": "display_data"
    }
   ],
   "source": [
    "# get status codes\n",
    "status_codes = (\n",
    "  nasa\n",
    "  # get list of status codes\n",
    "  .map(lambda x : x[4])\n",
    "  .distinct()\n",
    "  # convert to int and sort asc\n",
    "  .sortBy(lambda x : int(x))\n",
    "  # make list\n",
    "  .collect()\n",
    ")\n",
    "\n",
    "# output list\n",
    "print(status_codes)"
   ]
  },
  {
   "cell_type": "markdown",
   "metadata": {
    "application/vnd.databricks.v1+cell": {
     "cellMetadata": {},
     "inputWidgets": {},
     "nuid": "2ec15830-90f2-45b6-85cb-26170722e35f",
     "showTitle": false,
     "title": ""
    }
   },
   "source": [
    "Determine which status codes appear for each request type."
   ]
  },
  {
   "cell_type": "code",
   "execution_count": 0,
   "metadata": {
    "application/vnd.databricks.v1+cell": {
     "cellMetadata": {},
     "inputWidgets": {},
     "nuid": "f9d95d79-77e2-4ab5-960f-584d94888760",
     "showTitle": false,
     "title": ""
    }
   },
   "outputs": [
    {
     "output_type": "display_data",
     "data": {
      "text/html": [
       "<style scoped>\n  .ansiout {\n    display: block;\n    unicode-bidi: embed;\n    white-space: pre-wrap;\n    word-wrap: break-word;\n    word-break: break-all;\n    font-family: \"Source Code Pro\", \"Menlo\", monospace;;\n    font-size: 13px;\n    color: #555;\n    margin-left: 4px;\n    line-height: 19px;\n  }\n</style>\n<div class=\"ansiout\">Status codes for GET requests:  [&#39;200&#39;, &#39;302&#39;, &#39;304&#39;, &#39;403&#39;, &#39;404&#39;, &#39;500&#39;]\nStatus codes for HEAD requests: [&#39;200&#39;, &#39;302&#39;, &#39;404&#39;]\nStatus codes for POST requests: [&#39;200&#39;, &#39;404&#39;, &#39;501&#39;]\n</div>"
      ]
     },
     "metadata": {
      "application/vnd.databricks.v1+output": {
       "addedWidgets": {},
       "arguments": {},
       "data": "<div class=\"ansiout\">Status codes for GET requests:  [&#39;200&#39;, &#39;302&#39;, &#39;304&#39;, &#39;403&#39;, &#39;404&#39;, &#39;500&#39;]\nStatus codes for HEAD requests: [&#39;200&#39;, &#39;302&#39;, &#39;404&#39;]\nStatus codes for POST requests: [&#39;200&#39;, &#39;404&#39;, &#39;501&#39;]\n</div>",
       "datasetInfos": [],
       "metadata": {},
       "removedWidgets": [],
       "type": "html"
      }
     },
     "output_type": "display_data"
    }
   ],
   "source": [
    "# get count of status codes for each request type\n",
    "for row in req_types:\n",
    "  # get current request type\n",
    "  n = nasa.filter(lambda x : x[2] == row)\n",
    "  # extract status codes for these records\n",
    "  status_codes_unique = (\n",
    "    n\n",
    "    .map(lambda x : x[4])\n",
    "    .distinct()\n",
    "    # sort asc\n",
    "    .sortBy(lambda x : int(x))\n",
    "    # make list\n",
    "    .collect()\n",
    "  )\n",
    "  \n",
    "  # output results\n",
    "  header = str('Status codes for ' + row + ' requests: ')\n",
    "  print(f'{header:<32}{status_codes_unique}')"
   ]
  },
  {
   "cell_type": "markdown",
   "metadata": {
    "application/vnd.databricks.v1+cell": {
     "cellMetadata": {},
     "inputWidgets": {},
     "nuid": "9980b94a-9700-4101-b55c-cce475237858",
     "showTitle": false,
     "title": ""
    }
   },
   "source": [
    "Count the number of requests resulting in each status code and create a bar chart."
   ]
  },
  {
   "cell_type": "code",
   "execution_count": 0,
   "metadata": {
    "application/vnd.databricks.v1+cell": {
     "cellMetadata": {},
     "inputWidgets": {},
     "nuid": "467dd03f-89fa-4550-abe1-977afe7a926b",
     "showTitle": false,
     "title": ""
    }
   },
   "outputs": [
    {
     "output_type": "display_data",
     "data": {
      "image/png": "[encoded data removed]"
     },
     "metadata": {
      "application/vnd.databricks.v1+output": {
       "addedWidgets": {},
       "arguments": {},
       "data": "data:image/png;base64,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",
       "datasetInfos": [],
       "metadata": {
        "imageDimensions": {
         "height": 278,
         "width": 612
        }
       },
       "removedWidgets": [],
       "type": "image"
      },
      "image/png": {
       "height": 278,
       "width": 612
      }
     },
     "output_type": "display_data"
    }
   ],
   "source": [
    "# empty list to hold code counts\n",
    "code_counts = []\n",
    "\n",
    "# count occurances of status codes\n",
    "for code in status_codes:\n",
    "  n = nasa.filter(lambda x : x[4] == code).count()\n",
    "  # append to list\n",
    "  code_counts.append(n)\n",
    "\n",
    "# construct a bar chart\n",
    "plt.figure(figsize = [10,4])\n",
    "plt.bar(\n",
    "  status_codes, \n",
    "  code_counts, \n",
    "  color='deeppink', \n",
    "  edgecolor='k'\n",
    ")\n",
    "\n",
    "# add labels\n",
    "plt.title('Distribution of Status Codes')\n",
    "plt.xlabel('Status Code')\n",
    "plt.ylabel('Count')\n",
    "\n",
    "# change y to log scale\n",
    "plt.yscale('log')\n",
    "\n",
    "# display chart\n",
    "plt.show()"
   ]
  },
  {
   "cell_type": "markdown",
   "metadata": {
    "application/vnd.databricks.v1+cell": {
     "cellMetadata": {},
     "inputWidgets": {},
     "nuid": "dcaf4da5-ba99-4b65-8c78-144ce6a6dbaa",
     "showTitle": false,
     "title": ""
    }
   },
   "source": [
    "## Part G: Request Volume by Day\n",
    "Determine the number of requests received by the server during each day in August 1995 and visualize the results."
   ]
  },
  {
   "cell_type": "code",
   "execution_count": 0,
   "metadata": {
    "application/vnd.databricks.v1+cell": {
     "cellMetadata": {},
     "inputWidgets": {},
     "nuid": "6f74f483-6b7a-4432-9d01-b94c69ddee15",
     "showTitle": false,
     "title": ""
    }
   },
   "outputs": [
    {
     "output_type": "display_data",
     "data": {
      "text/html": [
       "<style scoped>\n  .ansiout {\n    display: block;\n    unicode-bidi: embed;\n    white-space: pre-wrap;\n    word-wrap: break-word;\n    word-break: break-all;\n    font-family: \"Source Code Pro\", \"Menlo\", monospace;;\n    font-size: 13px;\n    color: #555;\n    margin-left: 4px;\n    line-height: 19px;\n  }\n</style>\n<div class=\"ansiout\">(&#39;01&#39;, 33996)\n(&#39;03&#39;, 41388)\n(&#39;04&#39;, 59557)\n(&#39;05&#39;, 31893)\n(&#39;06&#39;, 32420)\n</div>"
      ]
     },
     "metadata": {
      "application/vnd.databricks.v1+output": {
       "addedWidgets": {},
       "arguments": {},
       "data": "<div class=\"ansiout\">(&#39;01&#39;, 33996)\n(&#39;03&#39;, 41388)\n(&#39;04&#39;, 59557)\n(&#39;05&#39;, 31893)\n(&#39;06&#39;, 32420)\n</div>",
       "datasetInfos": [],
       "metadata": {},
       "removedWidgets": [],
       "type": "html"
      }
     },
     "output_type": "display_data"
    }
   ],
   "source": [
    "# count # of requests for each day of Aug 1995\n",
    "counts_by_day = (\n",
    "  nasa\n",
    "  # transform -> (day_of_month, 1)\n",
    "  .map(lambda x : (x[1][1:3], 1))\n",
    "  # transform -> (day_of_month, count_of_requests)\n",
    "  .reduceByKey(lambda x,y : x + y)\n",
    "  # sort by key values\n",
    "  .sortBy(lambda x : x[0])\n",
    "  # make list\n",
    "  .collect()\n",
    ")\n",
    "\n",
    "# output first five elements\n",
    "for row in counts_by_day[:5]:\n",
    "  print(row)"
   ]
  },
  {
   "cell_type": "markdown",
   "metadata": {
    "application/vnd.databricks.v1+cell": {
     "cellMetadata": {},
     "inputWidgets": {},
     "nuid": "42d73b42-1c63-4448-bf55-d1cd06fcaf56",
     "showTitle": false,
     "title": ""
    }
   },
   "source": [
    "Create a bar chart to display the distribution of requests by the day of the month."
   ]
  },
  {
   "cell_type": "code",
   "execution_count": 0,
   "metadata": {
    "application/vnd.databricks.v1+cell": {
     "cellMetadata": {},
     "inputWidgets": {},
     "nuid": "0503823a-cf9d-4d40-ac41-87710ed4a0d8",
     "showTitle": false,
     "title": ""
    }
   },
   "outputs": [
    {
     "output_type": "display_data",
     "data": {
      "image/png": "[encoded data removed]"
     },
     "metadata": {
      "application/vnd.databricks.v1+output": {
       "addedWidgets": {},
       "arguments": {},
       "data": "data:image/png;base64,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",
       "datasetInfos": [],
       "metadata": {
        "imageDimensions": {
         "height": 278,
         "width": 624
        }
       },
       "removedWidgets": [],
       "type": "image"
      },
      "image/png": {
       "height": 278,
       "width": 624
      }
     },
     "output_type": "display_data"
    }
   ],
   "source": [
    "# split into two lists\n",
    "day_list, count_list = zip(*counts_by_day)\n",
    "\n",
    "# construct a bar chart\n",
    "plt.figure(figsize = [10,4])\n",
    "plt.bar(\n",
    "  day_list, \n",
    "  count_list, \n",
    "  color='c', \n",
    "  edgecolor='k'\n",
    ")\n",
    "\n",
    "# add labels\n",
    "plt.title('Number of Requests by Day (Aug 1995)')\n",
    "plt.xlabel('Day of Month')\n",
    "plt.ylabel('Count')\n",
    "\n",
    "# display bar chart\n",
    "plt.show()"
   ]
  }
 ],
 "metadata": {
  "application/vnd.databricks.v1+notebook": {
   "dashboards": [],
   "language": "python",
   "notebookMetadata": {
    "pythonIndentUnit": 2
   },
   "notebookName": "Project_01",
   "notebookOrigID": 4160810168804445,
   "widgets": {}
  }
 },
 "nbformat": 4,
 "nbformat_minor": 0
}
