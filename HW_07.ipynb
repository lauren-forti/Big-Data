{
 "cells": [
  {
   "cell_type": "markdown",
   "metadata": {
    "application/vnd.databricks.v1+cell": {
     "cellMetadata": {},
     "inputWidgets": {},
     "nuid": "67629dcd-4933-4ae4-8bdf-910cdde71541",
     "showTitle": false,
     "title": ""
    }
   },
   "source": [
    "# DSCI 417 - Homework 07\n",
    "**Lauren Forti**"
   ]
  },
  {
   "cell_type": "code",
   "execution_count": 0,
   "metadata": {
    "application/vnd.databricks.v1+cell": {
     "cellMetadata": {},
     "inputWidgets": {},
     "nuid": "5719884d-db78-4859-bdd4-ede7b7f88d8a",
     "showTitle": false,
     "title": ""
    }
   },
   "outputs": [
    {
     "output_type": "display_data",
     "data": {
      "text/html": [
       "<style scoped>\n  .ansiout {\n    display: block;\n    unicode-bidi: embed;\n    white-space: pre-wrap;\n    word-wrap: break-word;\n    word-break: break-all;\n    font-family: \"Source Code Pro\", \"Menlo\", monospace;;\n    font-size: 13px;\n    color: #555;\n    margin-left: 4px;\n    line-height: 19px;\n  }\n</style>\n<div class=\"ansiout\"></div>"
      ]
     },
     "metadata": {
      "application/vnd.databricks.v1+output": {
       "addedWidgets": {},
       "arguments": {},
       "data": "<div class=\"ansiout\"></div>",
       "datasetInfos": [],
       "metadata": {},
       "removedWidgets": [],
       "type": "html"
      }
     },
     "output_type": "display_data"
    }
   ],
   "source": [
    "# setup\n",
    "import pandas as pd\n",
    "import matplotlib.pyplot as plt\n",
    "\n",
    "from pyspark.sql import SparkSession\n",
    "from pyspark.sql.functions import col, expr\n",
    "\n",
    "from pyspark.ml.feature import VectorAssembler, StringIndexer\n",
    "from pyspark.ml.classification import DecisionTreeClassifier\n",
    "from pyspark.ml.evaluation import MulticlassClassificationEvaluator\n",
    "from pyspark.ml import Pipeline\n",
    "from pyspark.ml.tuning import CrossValidator, ParamGridBuilder\n",
    "\n",
    "spark = SparkSession.builder.getOrCreate()"
   ]
  },
  {
   "cell_type": "markdown",
   "metadata": {
    "application/vnd.databricks.v1+cell": {
     "cellMetadata": {},
     "inputWidgets": {},
     "nuid": "84097a47-b19c-45dd-8fee-6cbba08dee94",
     "showTitle": false,
     "title": ""
    }
   },
   "source": [
    "## Problem 1: Decision Tree Classification"
   ]
  },
  {
   "cell_type": "markdown",
   "metadata": {
    "application/vnd.databricks.v1+cell": {
     "cellMetadata": {},
     "inputWidgets": {},
     "nuid": "7e353a66-c975-49d8-a47e-0111b801dc87",
     "showTitle": false,
     "title": ""
    }
   },
   "source": [
    "<pre>\n",
    "+----+----+----+----+----+-----------+\n",
    "| x0 | x1 | x2 | x3 | x4 | prediction| Leaf Node\n",
    "+----+----+----+----+----+-----------+ ---------\n",
    "| 3.7| 5.6| 3.6| 2.0| 1.0|    0      |     3\n",
    "| 8.2| 4.2| 2.1| 2.0| 0.0|    0      |     7\n",
    "| 5.4| 3.9| 4.9| 1.0| 1.0|    1      |     6\n",
    "| 2.8| 6.1| 8.1| 0.0| 0.0|    2      |     2\n",
    "+----+----+----+----+----+-----------+\n",
    "</pre>"
   ]
  },
  {
   "cell_type": "markdown",
   "metadata": {
    "application/vnd.databricks.v1+cell": {
     "cellMetadata": {},
     "inputWidgets": {},
     "nuid": "bb45c886-76c8-4656-84c9-a2e9c1ecfdf5",
     "showTitle": false,
     "title": ""
    }
   },
   "source": [
    "## Problem 2: Random Forest Classification"
   ]
  },
  {
   "cell_type": "markdown",
   "metadata": {
    "application/vnd.databricks.v1+cell": {
     "cellMetadata": {},
     "inputWidgets": {},
     "nuid": "b7226b54-cd0b-4c0d-ba87-9dd4685fbf76",
     "showTitle": false,
     "title": ""
    }
   },
   "source": [
    "<pre>\n",
    "Tree Model 1 Prediction:  0.0\n",
    "Tree Model 2 Prediction:  0.0\n",
    "Tree Model 3 Prediction:  1.0\n",
    "Random Forest Prediction: 0.0\n",
    "</pre>"
   ]
  },
  {
   "cell_type": "markdown",
   "metadata": {
    "application/vnd.databricks.v1+cell": {
     "cellMetadata": {},
     "inputWidgets": {},
     "nuid": "07693f96-0323-460a-be83-430c4c178177",
     "showTitle": false,
     "title": ""
    }
   },
   "source": [
    "## Problem 3: Load and Process Stroke Data"
   ]
  },
  {
   "cell_type": "code",
   "execution_count": 0,
   "metadata": {
    "application/vnd.databricks.v1+cell": {
     "cellMetadata": {},
     "inputWidgets": {},
     "nuid": "027cc657-4d59-461c-a91a-b0461df45628",
     "showTitle": false,
     "title": ""
    }
   },
   "outputs": [
    {
     "output_type": "display_data",
     "data": {
      "text/html": [
       "<style scoped>\n  .ansiout {\n    display: block;\n    unicode-bidi: embed;\n    white-space: pre-wrap;\n    word-wrap: break-word;\n    word-break: break-all;\n    font-family: \"Source Code Pro\", \"Menlo\", monospace;;\n    font-size: 13px;\n    color: #555;\n    margin-left: 4px;\n    line-height: 19px;\n  }\n</style>\n<div class=\"ansiout\">root\n-- gender: string (nullable = true)\n-- age: double (nullable = true)\n-- hyptertension: integer (nullable = true)\n-- heart_disease: integer (nullable = true)\n-- ever_married: string (nullable = true)\n-- work_type: string (nullable = true)\n-- residence_type: string (nullable = true)\n-- avg_glucose_level: double (nullable = true)\n-- bmi: double (nullable = true)\n-- smoking_status: string (nullable = true)\n-- stroke: integer (nullable = true)\n\n</div>"
      ]
     },
     "metadata": {
      "application/vnd.databricks.v1+output": {
       "addedWidgets": {},
       "arguments": {},
       "data": "<div class=\"ansiout\">root\n |-- gender: string (nullable = true)\n |-- age: double (nullable = true)\n |-- hyptertension: integer (nullable = true)\n |-- heart_disease: integer (nullable = true)\n |-- ever_married: string (nullable = true)\n |-- work_type: string (nullable = true)\n |-- residence_type: string (nullable = true)\n |-- avg_glucose_level: double (nullable = true)\n |-- bmi: double (nullable = true)\n |-- smoking_status: string (nullable = true)\n |-- stroke: integer (nullable = true)\n\n</div>",
       "datasetInfos": [],
       "metadata": {},
       "removedWidgets": [],
       "type": "html"
      }
     },
     "output_type": "display_data"
    }
   ],
   "source": [
    "# read file into df\n",
    "stroke_df = (\n",
    "    spark.read\n",
    "    .option('delimiter', ',')\n",
    "    .option('header', True)\n",
    "    .schema('gender STRING, age DOUBLE, hyptertension INTEGER, heart_disease INTEGER, ever_married STRING, work_type STRING, residence_type STRING, avg_glucose_level DOUBLE, bmi DOUBLE, smoking_status STRING, stroke INTEGER')\n",
    "    .csv('/FileStore/tables/stroke_data.csv')\n",
    ")\n",
    "\n",
    "# display schema\n",
    "stroke_df.printSchema()"
   ]
  },
  {
   "cell_type": "code",
   "execution_count": 0,
   "metadata": {
    "application/vnd.databricks.v1+cell": {
     "cellMetadata": {},
     "inputWidgets": {},
     "nuid": "4419f92c-2a2f-4bb7-8d70-e1d7c514c903",
     "showTitle": false,
     "title": ""
    }
   },
   "outputs": [
    {
     "output_type": "display_data",
     "data": {
      "text/html": [
       "<style scoped>\n  .ansiout {\n    display: block;\n    unicode-bidi: embed;\n    white-space: pre-wrap;\n    word-wrap: break-word;\n    word-break: break-all;\n    font-family: \"Source Code Pro\", \"Menlo\", monospace;;\n    font-size: 13px;\n    color: #555;\n    margin-left: 4px;\n    line-height: 19px;\n  }\n</style>\n<div class=\"ansiout\"></div>"
      ]
     },
     "metadata": {
      "application/vnd.databricks.v1+output": {
       "addedWidgets": {},
       "arguments": {},
       "data": "<div class=\"ansiout\"></div>",
       "datasetInfos": [],
       "metadata": {},
       "removedWidgets": [],
       "type": "html"
      }
     },
     "output_type": "display_data"
    }
   ],
   "source": [
    "# lists to store names of cols for features\n",
    "num_features = ['age', 'avg_glucose_level', 'bmi']\n",
    "cat_features = [c for c in stroke_df.columns[:-1] if c not in num_features]\n",
    "\n",
    "# lists to store int encoded cat cols\n",
    "ix_features = [c + '_ix' for c in cat_features]\n",
    "\n",
    "# use cols in cat_features to create cols in ix_features\n",
    "feature_indexer = StringIndexer(inputCols=cat_features, outputCols=ix_features)\n",
    "\n",
    "# combine num features and one-hot encoded features\n",
    "assembler = VectorAssembler(inputCols=num_features + ix_features, outputCol='features')"
   ]
  },
  {
   "cell_type": "code",
   "execution_count": 0,
   "metadata": {
    "application/vnd.databricks.v1+cell": {
     "cellMetadata": {},
     "inputWidgets": {},
     "nuid": "060627a3-f09b-42c6-be59-917cf0c588bc",
     "showTitle": false,
     "title": ""
    }
   },
   "outputs": [
    {
     "output_type": "display_data",
     "data": {
      "text/html": [
       "<style scoped>\n  .ansiout {\n    display: block;\n    unicode-bidi: embed;\n    white-space: pre-wrap;\n    word-wrap: break-word;\n    word-break: break-all;\n    font-family: \"Source Code Pro\", \"Menlo\", monospace;;\n    font-size: 13px;\n    color: #555;\n    margin-left: 4px;\n    line-height: 19px;\n  }\n</style>\n<div class=\"ansiout\">+----------------------------------------------+------+\nfeatures                                      |stroke|\n+----------------------------------------------+------+\n(10,[0,1,2,6],[13.0,77.63,31.7,1.0])          |0     |\n[10.0,84.02,18.7,1.0,0.0,0.0,1.0,3.0,1.0,0.0] |0     |\n[82.0,88.6,32.5,0.0,0.0,1.0,0.0,1.0,1.0,1.0]  |0     |\n[3.0,57.33,16.8,0.0,0.0,0.0,1.0,3.0,0.0,1.0]  |0     |\n[65.0,220.52,37.2,0.0,0.0,0.0,0.0,1.0,1.0,3.0]|0     |\n(10,[0,1,2,7,8],[65.0,100.65,31.0,1.0,1.0])   |1     |\n[65.0,56.64,28.4,1.0,0.0,0.0,0.0,0.0,1.0,2.0] |1     |\n(10,[0,1,2,8],[28.0,64.64,22.1,1.0])          |0     |\n(10,[0,1,2,7,9],[80.0,84.86,29.3,2.0,1.0])    |0     |\n(10,[0,1,2,3,9],[78.0,60.22,29.7,1.0,2.0])    |0     |\n+----------------------------------------------+------+\nonly showing top 10 rows\n\n</div>"
      ]
     },
     "metadata": {
      "application/vnd.databricks.v1+output": {
       "addedWidgets": {},
       "arguments": {},
       "data": "<div class=\"ansiout\">+----------------------------------------------+------+\n|features                                      |stroke|\n+----------------------------------------------+------+\n|(10,[0,1,2,6],[13.0,77.63,31.7,1.0])          |0     |\n|[10.0,84.02,18.7,1.0,0.0,0.0,1.0,3.0,1.0,0.0] |0     |\n|[82.0,88.6,32.5,0.0,0.0,1.0,0.0,1.0,1.0,1.0]  |0     |\n|[3.0,57.33,16.8,0.0,0.0,0.0,1.0,3.0,0.0,1.0]  |0     |\n|[65.0,220.52,37.2,0.0,0.0,0.0,0.0,1.0,1.0,3.0]|0     |\n|(10,[0,1,2,7,8],[65.0,100.65,31.0,1.0,1.0])   |1     |\n|[65.0,56.64,28.4,1.0,0.0,0.0,0.0,0.0,1.0,2.0] |1     |\n|(10,[0,1,2,8],[28.0,64.64,22.1,1.0])          |0     |\n|(10,[0,1,2,7,9],[80.0,84.86,29.3,2.0,1.0])    |0     |\n|(10,[0,1,2,3,9],[78.0,60.22,29.7,1.0,2.0])    |0     |\n+----------------------------------------------+------+\nonly showing top 10 rows\n\n</div>",
       "datasetInfos": [],
       "metadata": {},
       "removedWidgets": [],
       "type": "html"
      }
     },
     "output_type": "display_data"
    }
   ],
   "source": [
    "# create pipeline w/ previously created objs then fit to df\n",
    "pre_pipe = Pipeline(stages=[feature_indexer, assembler]).fit(stroke_df)\n",
    "\n",
    "# store processed df\n",
    "train = pre_pipe.transform(stroke_df)\n",
    "\n",
    "# persist the train df\n",
    "train.persist()\n",
    "\n",
    "# display df\n",
    "train.select(['features', 'stroke']).show(10, truncate=False)"
   ]
  },
  {
   "cell_type": "markdown",
   "metadata": {
    "application/vnd.databricks.v1+cell": {
     "cellMetadata": {},
     "inputWidgets": {},
     "nuid": "c8aaa4a7-5f4e-49c9-832c-11ee15c9d8ba",
     "showTitle": false,
     "title": ""
    }
   },
   "source": [
    "## Problem 4: Hyperparameter Tuning for Decision Trees"
   ]
  },
  {
   "cell_type": "code",
   "execution_count": 0,
   "metadata": {
    "application/vnd.databricks.v1+cell": {
     "cellMetadata": {},
     "inputWidgets": {},
     "nuid": "d3f4a05d-066d-460f-9e4a-87dce062b390",
     "showTitle": false,
     "title": ""
    }
   },
   "outputs": [
    {
     "output_type": "display_data",
     "data": {
      "text/html": [
       "<style scoped>\n  .ansiout {\n    display: block;\n    unicode-bidi: embed;\n    white-space: pre-wrap;\n    word-wrap: break-word;\n    word-break: break-all;\n    font-family: \"Source Code Pro\", \"Menlo\", monospace;;\n    font-size: 13px;\n    color: #555;\n    margin-left: 4px;\n    line-height: 19px;\n  }\n</style>\n<div class=\"ansiout\"></div>"
      ]
     },
     "metadata": {
      "application/vnd.databricks.v1+output": {
       "addedWidgets": {},
       "arguments": {},
       "data": "<div class=\"ansiout\"></div>",
       "datasetInfos": [],
       "metadata": {},
       "removedWidgets": [],
       "type": "html"
      }
     },
     "output_type": "display_data"
    }
   ],
   "source": [
    "# calc accuracy\n",
    "accuracy_eval = MulticlassClassificationEvaluator(\n",
    "    predictionCol='prediction', labelCol='stroke', metricName='accuracy')\n",
    "\n",
    "# create decision tree\n",
    "dtree = DecisionTreeClassifier(featuresCol='features', labelCol='stroke', seed=1)\n",
    "\n",
    "# set params\n",
    "param_grid = (ParamGridBuilder()\n",
    "              .addGrid(dtree.maxDepth, [2, 4, 6, 8, 10, 12, 14, 16] )\n",
    "              .addGrid(dtree.minInstancesPerNode, [4, 8, 16, 32])\n",
    "             ).build()\n",
    "\n",
    "# create object to perform grid search\n",
    "cv = CrossValidator(estimator=dtree, estimatorParamMaps=param_grid, numFolds=5, \n",
    "                    evaluator=accuracy_eval, seed=1)\n",
    "\n",
    "# fit object to df\n",
    "cv_model = cv.fit(train)"
   ]
  },
  {
   "cell_type": "code",
   "execution_count": 0,
   "metadata": {
    "application/vnd.databricks.v1+cell": {
     "cellMetadata": {},
     "inputWidgets": {},
     "nuid": "2660abaf-9365-4a7e-95c5-11535bfe1e6d",
     "showTitle": false,
     "title": ""
    }
   },
   "outputs": [
    {
     "output_type": "display_data",
     "data": {
      "text/html": [
       "<style scoped>\n  .ansiout {\n    display: block;\n    unicode-bidi: embed;\n    white-space: pre-wrap;\n    word-wrap: break-word;\n    word-break: break-all;\n    font-family: \"Source Code Pro\", \"Menlo\", monospace;;\n    font-size: 13px;\n    color: #555;\n    margin-left: 4px;\n    line-height: 19px;\n  }\n</style>\n<div class=\"ansiout\">Max CV Score:    0.7895\nOptimal Depth:   6\nOptimal MinInst: 16\n</div>"
      ]
     },
     "metadata": {
      "application/vnd.databricks.v1+output": {
       "addedWidgets": {},
       "arguments": {},
       "data": "<div class=\"ansiout\">Max CV Score:    0.7895\nOptimal Depth:   6\nOptimal MinInst: 16\n</div>",
       "datasetInfos": [],
       "metadata": {},
       "removedWidgets": [],
       "type": "html"
      }
     },
     "output_type": "display_data"
    }
   ],
   "source": [
    "model = cv_model.bestModel\n",
    "\n",
    "# get best params\n",
    "maxDepth = model.getMaxDepth()\n",
    "minInstancesPerNode = model.getMinInstancesPerNode()\n",
    "\n",
    "# output results\n",
    "print('Max CV Score:   ', round(max(cv_model.avgMetrics),4))\n",
    "print('Optimal Depth:  ', maxDepth)\n",
    "print('Optimal MinInst:', minInstancesPerNode)"
   ]
  },
  {
   "cell_type": "code",
   "execution_count": 0,
   "metadata": {
    "application/vnd.databricks.v1+cell": {
     "cellMetadata": {},
     "inputWidgets": {},
     "nuid": "de37c67d-0fc1-4140-8e2f-d669aecc27f1",
     "showTitle": false,
     "title": ""
    }
   },
   "outputs": [
    {
     "output_type": "display_data",
     "data": {
      "image/png": "[encoded data removed]"
     },
     "metadata": {
      "application/vnd.databricks.v1+output": {
       "addedWidgets": {},
       "arguments": {},
       "data": "data:image/png;base64,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",
       "datasetInfos": [],
       "metadata": {
        "imageDimensions": {
         "height": 262,
         "width": 398
        }
       },
       "removedWidgets": [],
       "type": "image"
      },
      "image/png": {
       "height": 262,
       "width": 398
      }
     },
     "output_type": "display_data"
    }
   ],
   "source": [
    "# plot\n",
    "model_params = cv_model.getEstimatorParamMaps()\n",
    "\n",
    "dt_cv_summary_list = []\n",
    "for param_set, acc in zip(model_params, cv_model.avgMetrics):\n",
    "  new_set = list(param_set.values()) + [acc]\n",
    "  dt_cv_summary_list.append(new_set)\n",
    "\n",
    "cv_summary = pd.DataFrame(dt_cv_summary_list,\n",
    "                          columns=['maxDepth', 'minInst', 'acc'])\n",
    "\n",
    "for mi in cv_summary.minInst.unique():\n",
    "  sel = cv_summary.minInst == mi\n",
    "  plt.plot(cv_summary.maxDepth[sel], cv_summary.acc[sel], label=mi)\n",
    "  plt.scatter(cv_summary.maxDepth[sel], cv_summary.acc[sel])\n",
    "\n",
    "plt.legend()\n",
    "plt.grid()\n",
    "plt.xticks(range(2,18,2))\n",
    "plt.xlabel('Max Depth')\n",
    "plt.ylabel('Cross-Validation Score')\n",
    "\n",
    "plt.show()"
   ]
  },
  {
   "cell_type": "markdown",
   "metadata": {
    "application/vnd.databricks.v1+cell": {
     "cellMetadata": {},
     "inputWidgets": {},
     "nuid": "ffd471cf-15f7-4919-9469-a5bf532f5ef3",
     "showTitle": false,
     "title": ""
    }
   },
   "source": [
    "## Problem 5: Structure of Final Model"
   ]
  },
  {
   "cell_type": "code",
   "execution_count": 0,
   "metadata": {
    "application/vnd.databricks.v1+cell": {
     "cellMetadata": {},
     "inputWidgets": {},
     "nuid": "f658b8db-e67c-4035-aaa3-6e2df4b01c6d",
     "showTitle": false,
     "title": ""
    }
   },
   "outputs": [
    {
     "output_type": "display_data",
     "data": {
      "text/html": [
       "<style scoped>\n  .ansiout {\n    display: block;\n    unicode-bidi: embed;\n    white-space: pre-wrap;\n    word-wrap: break-word;\n    word-break: break-all;\n    font-family: \"Source Code Pro\", \"Menlo\", monospace;;\n    font-size: 13px;\n    color: #555;\n    margin-left: 4px;\n    line-height: 19px;\n  }\n</style>\n<div class=\"ansiout\">DecisionTreeClassificationModel: uid=DecisionTreeClassifier_79dfe75261ac, depth=6, numNodes=53, numClasses=2, numFeatures=10\n  If (feature 0 &lt;= 56.5)\n   If (feature 5 in {1.0})\n    If (feature 9 in {3.0})\n     Predict: 0.0\n    Else (feature 9 not in {3.0})\n     If (feature 4 in {1.0})\n      Predict: 1.0\n     Else (feature 4 not in {1.0})\n      If (feature 2 &lt;= 27.15)\n       Predict: 1.0\n      Else (feature 2 &gt; 27.15)\n       If (feature 3 in {1.0})\n        Predict: 0.0\n       Else (feature 3 not in {1.0})\n        Predict: 1.0\n   Else (feature 5 not in {1.0})\n    If (feature 0 &lt;= 43.5)\n     If (feature 4 in {1.0})\n      If (feature 2 &lt;= 28.15)\n       Predict: 1.0\n      Else (feature 2 &gt; 28.15)\n       Predict: 0.0\n     Else (feature 4 not in {1.0})\n      Predict: 0.0\n    Else (feature 0 &gt; 43.5)\n     If (feature 1 &lt;= 156.44)\n      If (feature 4 in {1.0})\n       If (feature 9 in {0.0,2.0,3.0})\n        Predict: 0.0\n       Else (feature 9 not in {0.0,2.0,3.0})\n        Predict: 1.0\n      Else (feature 4 not in {1.0})\n       Predict: 0.0\n     Else (feature 1 &gt; 156.44)\n      If (feature 1 &lt;= 236.815)\n       Predict: 0.0\n      Else (feature 1 &gt; 236.815)\n       Predict: 1.0\n  Else (feature 0 &gt; 56.5)\n   If (feature 0 &lt;= 81.5)\n    If (feature 1 &lt;= 118.485)\n     If (feature 5 in {1.0})\n      If (feature 0 &lt;= 77.5)\n       Predict: 1.0\n      Else (feature 0 &gt; 77.5)\n       If (feature 1 &lt;= 79.625)\n        Predict: 1.0\n       Else (feature 1 &gt; 79.625)\n        Predict: 0.0\n     Else (feature 5 not in {1.0})\n      If (feature 4 in {1.0})\n       If (feature 2 &lt;= 26.05)\n        Predict: 1.0\n       Else (feature 2 &gt; 26.05)\n        Predict: 0.0\n      Else (feature 4 not in {1.0})\n       Predict: 0.0\n    Else (feature 1 &gt; 118.485)\n     If (feature 1 &lt;= 236.815)\n      If (feature 0 &lt;= 62.5)\n       If (feature 3 in {1.0})\n        Predict: 0.0\n       Else (feature 3 not in {1.0})\n        Predict: 1.0\n      Else (feature 0 &gt; 62.5)\n       If (feature 0 &lt;= 77.5)\n        Predict: 1.0\n       Else (feature 0 &gt; 77.5)\n        Predict: 0.0\n     Else (feature 1 &gt; 236.815)\n      If (feature 2 &lt;= 29.35)\n       If (feature 2 &lt;= 26.05)\n        Predict: 1.0\n       Else (feature 2 &gt; 26.05)\n        Predict: 0.0\n      Else (feature 2 &gt; 29.35)\n       Predict: 1.0\n   Else (feature 0 &gt; 81.5)\n    Predict: 1.0\n\n</div>"
      ]
     },
     "metadata": {
      "application/vnd.databricks.v1+output": {
       "addedWidgets": {},
       "arguments": {},
       "data": "<div class=\"ansiout\">DecisionTreeClassificationModel: uid=DecisionTreeClassifier_79dfe75261ac, depth=6, numNodes=53, numClasses=2, numFeatures=10\n  If (feature 0 &lt;= 56.5)\n   If (feature 5 in {1.0})\n    If (feature 9 in {3.0})\n     Predict: 0.0\n    Else (feature 9 not in {3.0})\n     If (feature 4 in {1.0})\n      Predict: 1.0\n     Else (feature 4 not in {1.0})\n      If (feature 2 &lt;= 27.15)\n       Predict: 1.0\n      Else (feature 2 &gt; 27.15)\n       If (feature 3 in {1.0})\n        Predict: 0.0\n       Else (feature 3 not in {1.0})\n        Predict: 1.0\n   Else (feature 5 not in {1.0})\n    If (feature 0 &lt;= 43.5)\n     If (feature 4 in {1.0})\n      If (feature 2 &lt;= 28.15)\n       Predict: 1.0\n      Else (feature 2 &gt; 28.15)\n       Predict: 0.0\n     Else (feature 4 not in {1.0})\n      Predict: 0.0\n    Else (feature 0 &gt; 43.5)\n     If (feature 1 &lt;= 156.44)\n      If (feature 4 in {1.0})\n       If (feature 9 in {0.0,2.0,3.0})\n        Predict: 0.0\n       Else (feature 9 not in {0.0,2.0,3.0})\n        Predict: 1.0\n      Else (feature 4 not in {1.0})\n       Predict: 0.0\n     Else (feature 1 &gt; 156.44)\n      If (feature 1 &lt;= 236.815)\n       Predict: 0.0\n      Else (feature 1 &gt; 236.815)\n       Predict: 1.0\n  Else (feature 0 &gt; 56.5)\n   If (feature 0 &lt;= 81.5)\n    If (feature 1 &lt;= 118.485)\n     If (feature 5 in {1.0})\n      If (feature 0 &lt;= 77.5)\n       Predict: 1.0\n      Else (feature 0 &gt; 77.5)\n       If (feature 1 &lt;= 79.625)\n        Predict: 1.0\n       Else (feature 1 &gt; 79.625)\n        Predict: 0.0\n     Else (feature 5 not in {1.0})\n      If (feature 4 in {1.0})\n       If (feature 2 &lt;= 26.05)\n        Predict: 1.0\n       Else (feature 2 &gt; 26.05)\n        Predict: 0.0\n      Else (feature 4 not in {1.0})\n       Predict: 0.0\n    Else (feature 1 &gt; 118.485)\n     If (feature 1 &lt;= 236.815)\n      If (feature 0 &lt;= 62.5)\n       If (feature 3 in {1.0})\n        Predict: 0.0\n       Else (feature 3 not in {1.0})\n        Predict: 1.0\n      Else (feature 0 &gt; 62.5)\n       If (feature 0 &lt;= 77.5)\n        Predict: 1.0\n       Else (feature 0 &gt; 77.5)\n        Predict: 0.0\n     Else (feature 1 &gt; 236.815)\n      If (feature 2 &lt;= 29.35)\n       If (feature 2 &lt;= 26.05)\n        Predict: 1.0\n       Else (feature 2 &gt; 26.05)\n        Predict: 0.0\n      Else (feature 2 &gt; 29.35)\n       Predict: 1.0\n   Else (feature 0 &gt; 81.5)\n    Predict: 1.0\n\n</div>",
       "datasetInfos": [],
       "metadata": {},
       "removedWidgets": [],
       "type": "html"
      }
     },
     "output_type": "display_data"
    }
   ],
   "source": [
    "# visualize tree\n",
    "print(model.toDebugString)"
   ]
  },
  {
   "cell_type": "code",
   "execution_count": 0,
   "metadata": {
    "application/vnd.databricks.v1+cell": {
     "cellMetadata": {},
     "inputWidgets": {},
     "nuid": "4aa5343d-44c3-45ce-9a7c-78c7eed6457f",
     "showTitle": false,
     "title": ""
    }
   },
   "outputs": [
    {
     "output_type": "display_data",
     "data": {
      "text/html": [
       "<style scoped>\n  .ansiout {\n    display: block;\n    unicode-bidi: embed;\n    white-space: pre-wrap;\n    word-wrap: break-word;\n    word-break: break-all;\n    font-family: \"Source Code Pro\", \"Menlo\", monospace;;\n    font-size: 13px;\n    color: #555;\n    margin-left: 4px;\n    line-height: 19px;\n  }\n</style>\n<div class=\"ansiout\">[&#39;age&#39;, &#39;avg_glucose_level&#39;, &#39;bmi&#39;, &#39;gender&#39;, &#39;hyptertension&#39;, &#39;heart_disease&#39;, &#39;ever_married&#39;, &#39;work_type&#39;, &#39;residence_type&#39;, &#39;smoking_status&#39;]\n</div>"
      ]
     },
     "metadata": {
      "application/vnd.databricks.v1+output": {
       "addedWidgets": {},
       "arguments": {},
       "data": "<div class=\"ansiout\">[&#39;age&#39;, &#39;avg_glucose_level&#39;, &#39;bmi&#39;, &#39;gender&#39;, &#39;hyptertension&#39;, &#39;heart_disease&#39;, &#39;ever_married&#39;, &#39;work_type&#39;, &#39;residence_type&#39;, &#39;smoking_status&#39;]\n</div>",
       "datasetInfos": [],
       "metadata": {},
       "removedWidgets": [],
       "type": "html"
      }
     },
     "output_type": "display_data"
    }
   ],
   "source": [
    "# get names and order of features in df\n",
    "features = num_features + cat_features\n",
    "\n",
    "# output results\n",
    "print(features)"
   ]
  },
  {
   "cell_type": "markdown",
   "metadata": {
    "application/vnd.databricks.v1+cell": {
     "cellMetadata": {},
     "inputWidgets": {},
     "nuid": "c9fa6d6d-5dd7-4e48-8135-725dba8a9617",
     "showTitle": false,
     "title": ""
    }
   },
   "source": [
    "First Feature Used in Tree: age\n",
    "\n",
    "Features Unused in Tree: ever_married, residence_type, work_type"
   ]
  },
  {
   "cell_type": "code",
   "execution_count": 0,
   "metadata": {
    "application/vnd.databricks.v1+cell": {
     "cellMetadata": {},
     "inputWidgets": {},
     "nuid": "de151e3d-fe33-4b70-ad29-e8e6d65051aa",
     "showTitle": false,
     "title": ""
    }
   },
   "outputs": [
    {
     "output_type": "display_data",
     "data": {
      "text/html": [
       "<style scoped>\n  .ansiout {\n    display: block;\n    unicode-bidi: embed;\n    white-space: pre-wrap;\n    word-wrap: break-word;\n    word-break: break-all;\n    font-family: \"Source Code Pro\", \"Menlo\", monospace;;\n    font-size: 13px;\n    color: #555;\n    margin-left: 4px;\n    line-height: 19px;\n  }\n</style>\n<div class=\"ansiout\">Out[10]: </div>"
      ]
     },
     "metadata": {
      "application/vnd.databricks.v1+output": {
       "addedWidgets": {},
       "arguments": {},
       "data": "<div class=\"ansiout\">Out[10]: </div>",
       "datasetInfos": [],
       "metadata": {},
       "removedWidgets": [],
       "type": "html"
      }
     },
     "output_type": "display_data"
    },
    {
     "output_type": "display_data",
     "data": {
      "text/html": [
       "<div>\n<style scoped>\n    .dataframe tbody tr th:only-of-type {\n        vertical-align: middle;\n    }\n\n    .dataframe tbody tr th {\n        vertical-align: top;\n    }\n\n    .dataframe thead th {\n        text-align: right;\n    }\n</style>\n<table border=\"1\" class=\"dataframe\">\n  <thead>\n    <tr style=\"text-align: right;\">\n      <th></th>\n      <th>feature</th>\n      <th>importance</th>\n    </tr>\n  </thead>\n  <tbody>\n    <tr>\n      <th>0</th>\n      <td>age</td>\n      <td>0.780537</td>\n    </tr>\n    <tr>\n      <th>1</th>\n      <td>avg_glucose_level</td>\n      <td>0.064422</td>\n    </tr>\n    <tr>\n      <th>2</th>\n      <td>bmi</td>\n      <td>0.022221</td>\n    </tr>\n    <tr>\n      <th>3</th>\n      <td>gender</td>\n      <td>0.004708</td>\n    </tr>\n    <tr>\n      <th>4</th>\n      <td>hyptertension</td>\n      <td>0.030844</td>\n    </tr>\n    <tr>\n      <th>5</th>\n      <td>heart_disease</td>\n      <td>0.088194</td>\n    </tr>\n    <tr>\n      <th>6</th>\n      <td>ever_married</td>\n      <td>0.000000</td>\n    </tr>\n    <tr>\n      <th>7</th>\n      <td>work_type</td>\n      <td>0.000000</td>\n    </tr>\n    <tr>\n      <th>8</th>\n      <td>residence_type</td>\n      <td>0.000000</td>\n    </tr>\n    <tr>\n      <th>9</th>\n      <td>smoking_status</td>\n      <td>0.009074</td>\n    </tr>\n  </tbody>\n</table>\n</div>"
      ]
     },
     "metadata": {
      "application/vnd.databricks.v1+output": {
       "addedWidgets": {},
       "arguments": {},
       "data": "<div>\n<style scoped>\n    .dataframe tbody tr th:only-of-type {\n        vertical-align: middle;\n    }\n\n    .dataframe tbody tr th {\n        vertical-align: top;\n    }\n\n    .dataframe thead th {\n        text-align: right;\n    }\n</style>\n<table border=\"1\" class=\"dataframe\">\n  <thead>\n    <tr style=\"text-align: right;\">\n      <th></th>\n      <th>feature</th>\n      <th>importance</th>\n    </tr>\n  </thead>\n  <tbody>\n    <tr>\n      <th>0</th>\n      <td>age</td>\n      <td>0.780537</td>\n    </tr>\n    <tr>\n      <th>1</th>\n      <td>avg_glucose_level</td>\n      <td>0.064422</td>\n    </tr>\n    <tr>\n      <th>2</th>\n      <td>bmi</td>\n      <td>0.022221</td>\n    </tr>\n    <tr>\n      <th>3</th>\n      <td>gender</td>\n      <td>0.004708</td>\n    </tr>\n    <tr>\n      <th>4</th>\n      <td>hyptertension</td>\n      <td>0.030844</td>\n    </tr>\n    <tr>\n      <th>5</th>\n      <td>heart_disease</td>\n      <td>0.088194</td>\n    </tr>\n    <tr>\n      <th>6</th>\n      <td>ever_married</td>\n      <td>0.000000</td>\n    </tr>\n    <tr>\n      <th>7</th>\n      <td>work_type</td>\n      <td>0.000000</td>\n    </tr>\n    <tr>\n      <th>8</th>\n      <td>residence_type</td>\n      <td>0.000000</td>\n    </tr>\n    <tr>\n      <th>9</th>\n      <td>smoking_status</td>\n      <td>0.009074</td>\n    </tr>\n  </tbody>\n</table>\n</div>",
       "datasetInfos": [],
       "metadata": {},
       "removedWidgets": [],
       "textData": null,
       "type": "htmlSandbox"
      }
     },
     "output_type": "display_data"
    }
   ],
   "source": [
    "pd.DataFrame({\n",
    "    'feature':features,\n",
    "    'importance':model.featureImportances\n",
    "})"
   ]
  },
  {
   "cell_type": "markdown",
   "metadata": {
    "application/vnd.databricks.v1+cell": {
     "cellMetadata": {},
     "inputWidgets": {},
     "nuid": "182fdd9f-2052-46e2-91ac-02ebdd7294d2",
     "showTitle": false,
     "title": ""
    }
   },
   "source": [
    "## Problem 6: Applying the Model to New Data"
   ]
  },
  {
   "cell_type": "code",
   "execution_count": 0,
   "metadata": {
    "application/vnd.databricks.v1+cell": {
     "cellMetadata": {},
     "inputWidgets": {},
     "nuid": "a954b2ff-1c32-4f12-a2dc-e7b0ff8336b9",
     "showTitle": false,
     "title": ""
    }
   },
   "outputs": [
    {
     "output_type": "display_data",
     "data": {
      "text/html": [
       "<style scoped>\n  .ansiout {\n    display: block;\n    unicode-bidi: embed;\n    white-space: pre-wrap;\n    word-wrap: break-word;\n    word-break: break-all;\n    font-family: \"Source Code Pro\", \"Menlo\", monospace;;\n    font-size: 13px;\n    color: #555;\n    margin-left: 4px;\n    line-height: 19px;\n  }\n</style>\n<div class=\"ansiout\">+------+----+-------------+-------------+------------+-------------+--------------+-----------------+----+---------------+\ngender| age|hyptertension|heart_disease|ever_married|    work_type|residence_type|avg_glucose_level| bmi| smoking_status|\n+------+----+-------------+-------------+------------+-------------+--------------+-----------------+----+---------------+\nFemale|42.0|            1|            0|          No|      Private|         Urban|            182.1|26.8|         smokes|\nFemale|64.0|            1|            1|         Yes|Self-employed|         Rural|            171.5|32.5|formerly smoked|\n  Male|37.0|            0|            0|         Yes|      Private|         Rural|             79.2|18.4|        Unknown|\n  Male|72.0|            0|            1|          No|     Govt_job|         Urban|            125.7|19.4|   never smoked|\n+------+----+-------------+-------------+------------+-------------+--------------+-----------------+----+---------------+\n\n</div>"
      ]
     },
     "metadata": {
      "application/vnd.databricks.v1+output": {
       "addedWidgets": {},
       "arguments": {},
       "data": "<div class=\"ansiout\">+------+----+-------------+-------------+------------+-------------+--------------+-----------------+----+---------------+\n|gender| age|hyptertension|heart_disease|ever_married|    work_type|residence_type|avg_glucose_level| bmi| smoking_status|\n+------+----+-------------+-------------+------------+-------------+--------------+-----------------+----+---------------+\n|Female|42.0|            1|            0|          No|      Private|         Urban|            182.1|26.8|         smokes|\n|Female|64.0|            1|            1|         Yes|Self-employed|         Rural|            171.5|32.5|formerly smoked|\n|  Male|37.0|            0|            0|         Yes|      Private|         Rural|             79.2|18.4|        Unknown|\n|  Male|72.0|            0|            1|          No|     Govt_job|         Urban|            125.7|19.4|   never smoked|\n+------+----+-------------+-------------+------------+-------------+--------------+-----------------+----+---------------+\n\n</div>",
       "datasetInfos": [],
       "metadata": {},
       "removedWidgets": [],
       "type": "html"
      }
     },
     "output_type": "display_data"
    }
   ],
   "source": [
    "# new data\n",
    "data = [\n",
    "  ['Female', 42.0, 1, 0, 'No', 'Private', 'Urban', 182.1, 26.8, 'smokes'],\n",
    "  ['Female', 64.0, 1, 1, 'Yes', 'Self-employed', 'Rural', 171.5, 32.5, 'formerly smoked'],\n",
    "  ['Male', 37.0, 0, 0, 'Yes', 'Private', 'Rural', 79.2, 18.4, 'Unknown'],\n",
    "  ['Male', 72.0, 0, 1, 'No', 'Govt_job', 'Urban', 125.7, 19.4, 'never smoked']\n",
    "]\n",
    "\n",
    "# make new data df\n",
    "new_data = spark.createDataFrame(\n",
    "  data,\n",
    "  schema = ('gender STRING, age DOUBLE, hyptertension INTEGER, heart_disease INTEGER, ever_married STRING, work_type STRING, residence_type STRING, avg_glucose_level DOUBLE, bmi DOUBLE, smoking_status STRING')\n",
    ")\n",
    "\n",
    "# display new df\n",
    "new_data.show()"
   ]
  },
  {
   "cell_type": "code",
   "execution_count": 0,
   "metadata": {
    "application/vnd.databricks.v1+cell": {
     "cellMetadata": {},
     "inputWidgets": {},
     "nuid": "88117ac6-45fa-4189-944e-163900720c7b",
     "showTitle": false,
     "title": ""
    }
   },
   "outputs": [
    {
     "output_type": "display_data",
     "data": {
      "text/html": [
       "<style scoped>\n  .ansiout {\n    display: block;\n    unicode-bidi: embed;\n    white-space: pre-wrap;\n    word-wrap: break-word;\n    word-break: break-all;\n    font-family: \"Source Code Pro\", \"Menlo\", monospace;;\n    font-size: 13px;\n    color: #555;\n    margin-left: 4px;\n    line-height: 19px;\n  }\n</style>\n<div class=\"ansiout\">+-----------------------------------------+----------+\nprobability                              |prediction|\n+-----------------------------------------+----------+\n[0.3125,0.6875]                          |1.0       |\n[0.3755020080321285,0.6244979919678715]  |1.0       |\n[0.9767441860465116,0.023255813953488372]|0.0       |\n[0.3755020080321285,0.6244979919678715]  |1.0       |\n+-----------------------------------------+----------+\n\n</div>"
      ]
     },
     "metadata": {
      "application/vnd.databricks.v1+output": {
       "addedWidgets": {},
       "arguments": {},
       "data": "<div class=\"ansiout\">+-----------------------------------------+----------+\n|probability                              |prediction|\n+-----------------------------------------+----------+\n|[0.3125,0.6875]                          |1.0       |\n|[0.3755020080321285,0.6244979919678715]  |1.0       |\n|[0.9767441860465116,0.023255813953488372]|0.0       |\n|[0.3755020080321285,0.6244979919678715]  |1.0       |\n+-----------------------------------------+----------+\n\n</div>",
       "datasetInfos": [],
       "metadata": {},
       "removedWidgets": [],
       "type": "html"
      }
     },
     "output_type": "display_data"
    }
   ],
   "source": [
    "# apply processing pipeine\n",
    "new_data_pcd = pre_pipe.transform(new_data)\n",
    "\n",
    "# apply model\n",
    "new_data_pred = model.transform(new_data_pcd)\n",
    "\n",
    "# display results\n",
    "new_data_pred.select('probability', 'prediction').show(truncate=False)"
   ]
  }
 ],
 "metadata": {
  "application/vnd.databricks.v1+notebook": {
   "dashboards": [],
   "language": "python",
   "notebookMetadata": {
    "pythonIndentUnit": 2
   },
   "notebookName": "HW_07",
   "notebookOrigID": 43099290565482,
   "widgets": {}
  }
 },
 "nbformat": 4,
 "nbformat_minor": 0
}
