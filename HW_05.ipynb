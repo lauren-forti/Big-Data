{
 "cells": [
  {
   "cell_type": "markdown",
   "metadata": {
    "application/vnd.databricks.v1+cell": {
     "cellMetadata": {},
     "inputWidgets": {},
     "nuid": "aa2ff94e-fb76-4d51-9bd0-f59c40f3870d",
     "showTitle": false,
     "title": ""
    }
   },
   "source": [
    "# DSCI 417 – Homework 05\n",
    "**Lauren Forti**"
   ]
  },
  {
   "cell_type": "markdown",
   "metadata": {
    "application/vnd.databricks.v1+cell": {
     "cellMetadata": {},
     "inputWidgets": {},
     "nuid": "6ba5c44a-f435-41f2-943e-9820cf53f492",
     "showTitle": false,
     "title": ""
    }
   },
   "source": [
    "## Problem 1: Sparse Vector Representation"
   ]
  },
  {
   "cell_type": "markdown",
   "metadata": {
    "application/vnd.databricks.v1+cell": {
     "cellMetadata": {},
     "inputWidgets": {},
     "nuid": "c22954da-2a60-478c-a27d-580327861a4c",
     "showTitle": false,
     "title": ""
    }
   },
   "source": [
    "1. `[8, [0, 3, 4], [1, 1, 1]]`\n",
    "2. `[10, [2, 4, 8], [4, 7, 2]]`\n",
    "3. `[10, [2, 8], [1, 1]]`\n",
    "4. `[3, [0, 1, 2], [4, 1, 8]]`\n",
    "5. `[6, [], []]`"
   ]
  },
  {
   "cell_type": "markdown",
   "metadata": {
    "application/vnd.databricks.v1+cell": {
     "cellMetadata": {},
     "inputWidgets": {},
     "nuid": "54dfa58f-d08b-4039-b5ad-ce18437bb57d",
     "showTitle": false,
     "title": ""
    }
   },
   "source": [
    "1. `[0, 0, 1, 0, 0, 3, 0, 9]`\n",
    "2. `[0, 0, 0, 0]`\n",
    "3. `[0, 2, 3, 1]`\n",
    "4. `[0, 1, 0, 0, 0, 1, 0, 0]`\n",
    "5. `[0, 0, 0, 0, 2, 0]`"
   ]
  },
  {
   "cell_type": "markdown",
   "metadata": {
    "application/vnd.databricks.v1+cell": {
     "cellMetadata": {},
     "inputWidgets": {},
     "nuid": "00d2386a-c7c4-4d13-8dcd-ec358413ead5",
     "showTitle": false,
     "title": ""
    }
   },
   "source": [
    "## Problem 2: One-Hot Encoding"
   ]
  },
  {
   "cell_type": "markdown",
   "metadata": {
    "application/vnd.databricks.v1+cell": {
     "cellMetadata": {},
     "inputWidgets": {},
     "nuid": "dfb10a75-b121-4503-9119-99e950b6b1d2",
     "showTitle": false,
     "title": ""
    }
   },
   "source": [
    "<pre>\n",
    "+-----+--------+--------------+\n",
    "|Group|Group_ix| Group_vec    |\n",
    "+-----+--------+--------------+\n",
    "| C   |  1.0   |(8,[1],[1.0]) |\n",
    "| E   |  2.0   |(8,[2],[1.0]) |\n",
    "| G   |  4.0   |(8,[4],[1.0]) |\n",
    "| F   |  0.0   |(8,[0],[1.0]) |\n",
    "| A   |  6.0   |(8,[6],[1.0]) |\n",
    "| D   |  7.0   |(8,[7],[1.0]) |\n",
    "+-----+--------+--------------+\n",
    "</pre>"
   ]
  },
  {
   "cell_type": "markdown",
   "metadata": {
    "application/vnd.databricks.v1+cell": {
     "cellMetadata": {},
     "inputWidgets": {},
     "nuid": "c04e58bd-74b0-4f79-85af-6d5aebaaf566",
     "showTitle": false,
     "title": ""
    }
   },
   "source": [
    "## Problem 3: Vector Assembler (Part 1)"
   ]
  },
  {
   "cell_type": "markdown",
   "metadata": {
    "application/vnd.databricks.v1+cell": {
     "cellMetadata": {},
     "inputWidgets": {},
     "nuid": "9c0eab3f-3065-418c-bdb2-03411c07cbef",
     "showTitle": false,
     "title": ""
    }
   },
   "source": [
    "<pre>\n",
    "+---+---+---+--------------------+\n",
    "| c1| c2| c3| features           |\n",
    "+---+---+---+--------------------+\n",
    "| 3 | B | Y | (8,[0,7],[3,1])    |\n",
    "| 6 | C | X | (8,[0,4,6],[6,1,1])|\n",
    "| 2 | D | X | (8,[0,3,6],[2,1,1])|\n",
    "| 5 | A | Y | (8,[0,2,6],[5,1,1])|\n",
    "| 1 | A | Z | (8,[0,2],[1,1])    |\n",
    "+---+---+---+--------------------+\n",
    "</pre>"
   ]
  },
  {
   "cell_type": "markdown",
   "metadata": {
    "application/vnd.databricks.v1+cell": {
     "cellMetadata": {},
     "inputWidgets": {},
     "nuid": "3e8bcf39-3f2b-4ac8-8289-13396ee1c588",
     "showTitle": false,
     "title": ""
    }
   },
   "source": [
    "## Problem 4: Vector Assembler (Part 2)"
   ]
  },
  {
   "cell_type": "markdown",
   "metadata": {
    "application/vnd.databricks.v1+cell": {
     "cellMetadata": {},
     "inputWidgets": {},
     "nuid": "a1960e3d-90a3-43b9-9c5a-9750866a0cc6",
     "showTitle": false,
     "title": ""
    }
   },
   "source": [
    "<pre>\n",
    "+---+---+---+-------------------+\n",
    "| c1| c2| c3|features           |\n",
    "+---+---+---+-------------------+\n",
    "| 1 | A | X |(8,[0,2,6],[1,1,1])|\n",
    "| 4 | D | Y |(8,[0,3,7],[4,1,1])|\n",
    "| 5 | B | X |(8,[0,1,6],[5,1,1])|\n",
    "| 7 | C | Z |(8,[0,4,5],[7,1,1])|\n",
    "| 1 | C | Y |(8,[0,4,7],[1,1,1])|\n",
    "+---+---+---+-------------------+\n",
    "</pre>"
   ]
  }
 ],
 "metadata": {
  "application/vnd.databricks.v1+notebook": {
   "dashboards": [],
   "language": "python",
   "notebookMetadata": {
    "pythonIndentUnit": 2
   },
   "notebookName": "HW_05",
   "notebookOrigID": 3098280099200886,
   "widgets": {}
  }
 },
 "nbformat": 4,
 "nbformat_minor": 0
}
